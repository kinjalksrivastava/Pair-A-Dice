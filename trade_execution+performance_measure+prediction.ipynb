{
  "cells": [
    {
      "cell_type": "markdown",
      "metadata": {
        "id": "6g1_pjsTx5ww"
      },
      "source": [
        "For Oil_and_Energy Tickers\n"
      ]
    },
    {
      "cell_type": "code",
      "execution_count": 1,
      "metadata": {
        "colab": {
          "base_uri": "https://localhost:8080/"
        },
        "id": "0aQJUKsUyBWT",
        "outputId": "01f58301-700a-4607-f53d-8086651d3ac6"
      },
      "outputs": [
        {
          "name": "stdout",
          "output_type": "stream",
          "text": [
            "Requirement already satisfied: yfinance in /opt/anaconda3/lib/python3.11/site-packages (0.2.37)\n",
            "Requirement already satisfied: pandas>=1.3.0 in /opt/anaconda3/lib/python3.11/site-packages (from yfinance) (2.1.4)\n",
            "Requirement already satisfied: numpy>=1.16.5 in /opt/anaconda3/lib/python3.11/site-packages (from yfinance) (1.26.4)\n",
            "Requirement already satisfied: requests>=2.31 in /opt/anaconda3/lib/python3.11/site-packages (from yfinance) (2.31.0)\n",
            "Requirement already satisfied: multitasking>=0.0.7 in /opt/anaconda3/lib/python3.11/site-packages (from yfinance) (0.0.11)\n",
            "Requirement already satisfied: lxml>=4.9.1 in /opt/anaconda3/lib/python3.11/site-packages (from yfinance) (5.2.1)\n",
            "Requirement already satisfied: appdirs>=1.4.4 in /opt/anaconda3/lib/python3.11/site-packages (from yfinance) (1.4.4)\n",
            "Requirement already satisfied: pytz>=2022.5 in /opt/anaconda3/lib/python3.11/site-packages (from yfinance) (2023.3.post1)\n",
            "Requirement already satisfied: frozendict>=2.3.4 in /opt/anaconda3/lib/python3.11/site-packages (from yfinance) (2.4.1)\n",
            "Requirement already satisfied: peewee>=3.16.2 in /opt/anaconda3/lib/python3.11/site-packages (from yfinance) (3.17.1)\n",
            "Requirement already satisfied: beautifulsoup4>=4.11.1 in /opt/anaconda3/lib/python3.11/site-packages (from yfinance) (4.12.2)\n",
            "Requirement already satisfied: html5lib>=1.1 in /opt/anaconda3/lib/python3.11/site-packages (from yfinance) (1.1)\n",
            "Requirement already satisfied: soupsieve>1.2 in /opt/anaconda3/lib/python3.11/site-packages (from beautifulsoup4>=4.11.1->yfinance) (2.5)\n",
            "Requirement already satisfied: six>=1.9 in /opt/anaconda3/lib/python3.11/site-packages (from html5lib>=1.1->yfinance) (1.16.0)\n",
            "Requirement already satisfied: webencodings in /opt/anaconda3/lib/python3.11/site-packages (from html5lib>=1.1->yfinance) (0.5.1)\n",
            "Requirement already satisfied: python-dateutil>=2.8.2 in /opt/anaconda3/lib/python3.11/site-packages (from pandas>=1.3.0->yfinance) (2.8.2)\n",
            "Requirement already satisfied: tzdata>=2022.1 in /opt/anaconda3/lib/python3.11/site-packages (from pandas>=1.3.0->yfinance) (2023.3)\n",
            "Requirement already satisfied: charset-normalizer<4,>=2 in /opt/anaconda3/lib/python3.11/site-packages (from requests>=2.31->yfinance) (2.0.4)\n",
            "Requirement already satisfied: idna<4,>=2.5 in /opt/anaconda3/lib/python3.11/site-packages (from requests>=2.31->yfinance) (3.4)\n",
            "Requirement already satisfied: urllib3<3,>=1.21.1 in /opt/anaconda3/lib/python3.11/site-packages (from requests>=2.31->yfinance) (2.0.7)\n",
            "Requirement already satisfied: certifi>=2017.4.17 in /opt/anaconda3/lib/python3.11/site-packages (from requests>=2.31->yfinance) (2024.2.2)\n",
            "Note: you may need to restart the kernel to use updated packages.\n"
          ]
        }
      ],
      "source": [
        "pip install yfinance"
      ]
    },
    {
      "cell_type": "code",
      "execution_count": 2,
      "metadata": {
        "colab": {
          "base_uri": "https://localhost:8080/"
        },
        "id": "RuF10o_MyUaI",
        "outputId": "51bb23aa-1bee-4ee6-ac77-92c3a24b0f67"
      },
      "outputs": [
        {
          "ename": "OSError",
          "evalue": "[Errno 30] Read-only file system: '/content'",
          "output_type": "error",
          "traceback": [
            "\u001b[0;31m---------------------------------------------------------------------------\u001b[0m",
            "\u001b[0;31mOSError\u001b[0m                                   Traceback (most recent call last)",
            "Cell \u001b[0;32mIn[2], line 20\u001b[0m\n\u001b[1;32m     18\u001b[0m s_date \u001b[38;5;241m=\u001b[39m e_date \u001b[38;5;241m-\u001b[39m datetime\u001b[38;5;241m.\u001b[39mtimedelta(days\u001b[38;5;241m=\u001b[39m\u001b[38;5;241m365\u001b[39m\u001b[38;5;241m*\u001b[39m\u001b[38;5;241m10\u001b[39m)\n\u001b[1;32m     19\u001b[0m output_dir \u001b[38;5;241m=\u001b[39m \u001b[38;5;124m\"\u001b[39m\u001b[38;5;124m/content/stock_data\u001b[39m\u001b[38;5;124m\"\u001b[39m\n\u001b[0;32m---> 20\u001b[0m os\u001b[38;5;241m.\u001b[39mmakedirs(output_dir, exist_ok\u001b[38;5;241m=\u001b[39m\u001b[38;5;28;01mTrue\u001b[39;00m)\n\u001b[1;32m     22\u001b[0m \u001b[38;5;28;01mfor\u001b[39;00m company, ticker \u001b[38;5;129;01min\u001b[39;00m oe_tickers\u001b[38;5;241m.\u001b[39mitems():\n\u001b[1;32m     23\u001b[0m     data \u001b[38;5;241m=\u001b[39m yf\u001b[38;5;241m.\u001b[39mdownload(ticker, start\u001b[38;5;241m=\u001b[39ms_date, end\u001b[38;5;241m=\u001b[39me_date)\n",
            "File \u001b[0;32m<frozen os>:215\u001b[0m, in \u001b[0;36mmakedirs\u001b[0;34m(name, mode, exist_ok)\u001b[0m\n",
            "File \u001b[0;32m<frozen os>:225\u001b[0m, in \u001b[0;36mmakedirs\u001b[0;34m(name, mode, exist_ok)\u001b[0m\n",
            "\u001b[0;31mOSError\u001b[0m: [Errno 30] Read-only file system: '/content'"
          ]
        }
      ],
      "source": [
        "import yfinance as yf\n",
        "import datetime\n",
        "import os\n",
        "oe_tickers = {\n",
        "    \"ExxonMobil\": \"XOM\",\n",
        "    \"Chevron Corporation\": \"CVX\",\n",
        "    \"ConocoPhillips\": \"COP\",\n",
        "    \"Occidental Petroleum Corporation\": \"OXY\",\n",
        "    \"Marathon Oil Corporation\": \"MRO\",\n",
        "    \"Devon Energy Corporation\": \"DVN\",\n",
        "    \"EOG Resources, Inc.\": \"EOG\",\n",
        "    \"Hess Corporation\": \"HES\",\n",
        "    \"Pioneer Natural Resources Company\": \"PXD\",\n",
        "    \"Valero Energy Corporation\": \"VLO\"\n",
        "}\n",
        "\n",
        "e_date = datetime.datetime.today()\n",
        "s_date = e_date - datetime.timedelta(days=365*10)\n",
        "output_dir = \"/content/stock_data\"\n",
        "os.makedirs(output_dir, exist_ok=True)\n",
        "\n",
        "for company, ticker in oe_tickers.items():\n",
        "    data = yf.download(ticker, start=s_date, end=e_date)\n",
        "    filename = f\"{output_dir}/{company}_stock_data.csv\"\n",
        "    data.to_csv(filename)\n",
        "    print(f\"Data for {company} saved at {filename}.\")\n",
        "\n",
        "print(\"done\")\n"
      ]
    },
    {
      "cell_type": "code",
      "execution_count": null,
      "metadata": {
        "colab": {
          "base_uri": "https://localhost:8080/",
          "height": 17
        },
        "id": "tZnC7lUzzSFz",
        "outputId": "65c157f6-8aca-4b9c-c856-5233ba2924eb"
      },
      "outputs": [
        {
          "data": {
            "application/javascript": "\n    async function download(id, filename, size) {\n      if (!google.colab.kernel.accessAllowed) {\n        return;\n      }\n      const div = document.createElement('div');\n      const label = document.createElement('label');\n      label.textContent = `Downloading \"${filename}\": `;\n      div.appendChild(label);\n      const progress = document.createElement('progress');\n      progress.max = size;\n      div.appendChild(progress);\n      document.body.appendChild(div);\n\n      const buffers = [];\n      let downloaded = 0;\n\n      const channel = await google.colab.kernel.comms.open(id);\n      // Send a message to notify the kernel that we're ready.\n      channel.send({})\n\n      for await (const message of channel.messages) {\n        // Send a message to notify the kernel that we're ready.\n        channel.send({})\n        if (message.buffers) {\n          for (const buffer of message.buffers) {\n            buffers.push(buffer);\n            downloaded += buffer.byteLength;\n            progress.value = downloaded;\n          }\n        }\n      }\n      const blob = new Blob(buffers, {type: 'application/binary'});\n      const a = document.createElement('a');\n      a.href = window.URL.createObjectURL(blob);\n      a.download = filename;\n      div.appendChild(a);\n      a.click();\n      div.remove();\n    }\n  ",
            "text/plain": [
              "<IPython.core.display.Javascript object>"
            ]
          },
          "metadata": {},
          "output_type": "display_data"
        },
        {
          "data": {
            "application/javascript": "download(\"download_4366f412-2fae-4c74-b3f1-565f8b4a7fcf\", \"stock_data.zip\", 2713967)",
            "text/plain": [
              "<IPython.core.display.Javascript object>"
            ]
          },
          "metadata": {},
          "output_type": "display_data"
        }
      ],
      "source": [
        "import os\n",
        "import zipfile\n",
        "\n",
        "# Path where the files are stored\n",
        "output_dir = \"/content/stock_data\"\n",
        "\n",
        "# Create a Zip file\n",
        "zip_path = \"/content/stock_data.zip\"\n",
        "with zipfile.ZipFile(zip_path, 'w') as zipf:\n",
        "    for filename in os.listdir(output_dir):\n",
        "        file_path = os.path.join(output_dir, filename)\n",
        "        zipf.write(file_path, os.path.basename(file_path))\n",
        "\n",
        "# Download the zip file\n",
        "files.download(zip_path)\n"
      ]
    },
    {
      "cell_type": "code",
      "execution_count": null,
      "metadata": {
        "colab": {
          "base_uri": "https://localhost:8080/"
        },
        "id": "Qf_Oc7eAzSkL",
        "outputId": "267977ff-36a6-4007-ade9-58c18a4d362f"
      },
      "outputs": [
        {
          "name": "stdout",
          "output_type": "stream",
          "text": [
            "Requirement already satisfied: pandas in /usr/local/lib/python3.10/dist-packages (2.0.3)\n",
            "Requirement already satisfied: statsmodels in /usr/local/lib/python3.10/dist-packages (0.14.1)\n",
            "Requirement already satisfied: python-dateutil>=2.8.2 in /usr/local/lib/python3.10/dist-packages (from pandas) (2.8.2)\n",
            "Requirement already satisfied: pytz>=2020.1 in /usr/local/lib/python3.10/dist-packages (from pandas) (2023.4)\n",
            "Requirement already satisfied: tzdata>=2022.1 in /usr/local/lib/python3.10/dist-packages (from pandas) (2024.1)\n",
            "Requirement already satisfied: numpy>=1.21.0 in /usr/local/lib/python3.10/dist-packages (from pandas) (1.25.2)\n",
            "Requirement already satisfied: scipy!=1.9.2,>=1.4 in /usr/local/lib/python3.10/dist-packages (from statsmodels) (1.11.4)\n",
            "Requirement already satisfied: patsy>=0.5.4 in /usr/local/lib/python3.10/dist-packages (from statsmodels) (0.5.6)\n",
            "Requirement already satisfied: packaging>=21.3 in /usr/local/lib/python3.10/dist-packages (from statsmodels) (24.0)\n",
            "Requirement already satisfied: six in /usr/local/lib/python3.10/dist-packages (from patsy>=0.5.4->statsmodels) (1.16.0)\n"
          ]
        }
      ],
      "source": [
        "!pip install pandas statsmodels\n"
      ]
    },
    {
      "cell_type": "code",
      "execution_count": null,
      "metadata": {
        "colab": {
          "base_uri": "https://localhost:8080/"
        },
        "id": "Zl8lTNxj1DV2",
        "outputId": "0b302fdc-085d-4b30-85db-41b3b5cd013b"
      },
      "outputs": [
        {
          "name": "stdout",
          "output_type": "stream",
          "text": [
            "Data loaded into dataframes.\n"
          ]
        }
      ],
      "source": [
        "import pandas as pd\n",
        "import os\n",
        "\n",
        "dataframes = {}\n",
        "output_dir = \"/content/stock_data\"  # Path to your CSV files\n",
        "\n",
        "for filename in os.listdir(output_dir):\n",
        "    if filename.endswith(\".csv\"):\n",
        "        company_name = filename.split('_')[0]  # Assumes format is Company_stock_data.csv\n",
        "        df = pd.read_csv(os.path.join(output_dir, filename), usecols=['Date', 'Close'])\n",
        "        df['Date'] = pd.to_datetime(df['Date'])  # Convert Date to datetime object\n",
        "        dataframes[company_name] = df.set_index('Date')\n",
        "\n",
        "print(\"Data loaded into dataframes.\")\n"
      ]
    },
    {
      "cell_type": "markdown",
      "metadata": {
        "id": "tq4SN0If2gJh"
      },
      "source": [
        "Dickey-Fuller Tests for All the Combinations"
      ]
    },
    {
      "cell_type": "code",
      "execution_count": null,
      "metadata": {
        "colab": {
          "base_uri": "https://localhost:8080/"
        },
        "id": "pTuJKeBX1WWF",
        "outputId": "7bbe4ee7-9075-48ab-ba81-80fc46a83f30"
      },
      "outputs": [
        {
          "name": "stdout",
          "output_type": "stream",
          "text": [
            "Results for ('EOG Resources, Inc.', 'Occidental Petroleum Corporation'):\n",
            "{'ADF Statistic EOG Resources, Inc.': -1.9006876696072226, 'p-value EOG Resources, Inc.': 0.331737678416013, 'ADF Statistic Occidental Petroleum Corporation': -1.7753749504324319, 'p-value Occidental Petroleum Corporation': 0.39275404770355327}\n",
            "\n",
            "Results for ('EOG Resources, Inc.', 'Chevron Corporation'):\n",
            "{'ADF Statistic EOG Resources, Inc.': -1.9006876696072226, 'p-value EOG Resources, Inc.': 0.331737678416013, 'ADF Statistic Chevron Corporation': -1.3009643438502807, 'p-value Chevron Corporation': 0.6287310097873975}\n",
            "\n",
            "Results for ('EOG Resources, Inc.', 'Marathon Oil Corporation'):\n",
            "{'ADF Statistic EOG Resources, Inc.': -1.9006876696072226, 'p-value EOG Resources, Inc.': 0.331737678416013, 'ADF Statistic Marathon Oil Corporation': -1.9662895078185572, 'p-value Marathon Oil Corporation': 0.3015466972046812}\n",
            "\n",
            "Results for ('EOG Resources, Inc.', 'ConocoPhillips'):\n",
            "{'ADF Statistic EOG Resources, Inc.': -1.9006876696072226, 'p-value EOG Resources, Inc.': 0.331737678416013, 'ADF Statistic ConocoPhillips': -0.42816646145467513, 'p-value ConocoPhillips': 0.9052887055934218}\n",
            "\n",
            "Results for ('EOG Resources, Inc.', 'Valero Energy Corporation'):\n",
            "{'ADF Statistic EOG Resources, Inc.': -1.9006876696072226, 'p-value EOG Resources, Inc.': 0.331737678416013, 'ADF Statistic Valero Energy Corporation': -0.3217595883878787, 'p-value Valero Energy Corporation': 0.9223654854269043}\n",
            "\n",
            "Results for ('EOG Resources, Inc.', 'ExxonMobil'):\n",
            "{'ADF Statistic EOG Resources, Inc.': -1.9006876696072226, 'p-value EOG Resources, Inc.': 0.331737678416013, 'ADF Statistic ExxonMobil': -1.10346025189033, 'p-value ExxonMobil': 0.7136900257804488}\n",
            "\n",
            "Results for ('EOG Resources, Inc.', 'Hess Corporation'):\n",
            "{'ADF Statistic EOG Resources, Inc.': -1.9006876696072226, 'p-value EOG Resources, Inc.': 0.331737678416013, 'ADF Statistic Hess Corporation': -0.5243506359370944, 'p-value Hess Corporation': 0.8871764012527805}\n",
            "\n",
            "Results for ('EOG Resources, Inc.', 'Devon Energy Corporation'):\n",
            "{'ADF Statistic EOG Resources, Inc.': -1.9006876696072226, 'p-value EOG Resources, Inc.': 0.331737678416013, 'ADF Statistic Devon Energy Corporation': -1.953557788395813, 'p-value Devon Energy Corporation': 0.3073000180931067}\n",
            "\n",
            "Results for ('EOG Resources, Inc.', 'Pioneer Natural Resources Company'):\n",
            "{'ADF Statistic EOG Resources, Inc.': -1.9006876696072226, 'p-value EOG Resources, Inc.': 0.331737678416013, 'ADF Statistic Pioneer Natural Resources Company': -1.6675141513354008, 'p-value Pioneer Natural Resources Company': 0.44792306143467464}\n",
            "\n",
            "Results for ('Occidental Petroleum Corporation', 'Chevron Corporation'):\n",
            "{'ADF Statistic Occidental Petroleum Corporation': -1.7753749504324319, 'p-value Occidental Petroleum Corporation': 0.39275404770355327, 'ADF Statistic Chevron Corporation': -1.3009643438502807, 'p-value Chevron Corporation': 0.6287310097873975}\n",
            "\n",
            "Results for ('Occidental Petroleum Corporation', 'Marathon Oil Corporation'):\n",
            "{'ADF Statistic Occidental Petroleum Corporation': -1.7753749504324319, 'p-value Occidental Petroleum Corporation': 0.39275404770355327, 'ADF Statistic Marathon Oil Corporation': -1.9662895078185572, 'p-value Marathon Oil Corporation': 0.3015466972046812}\n",
            "\n",
            "Results for ('Occidental Petroleum Corporation', 'ConocoPhillips'):\n",
            "{'ADF Statistic Occidental Petroleum Corporation': -1.7753749504324319, 'p-value Occidental Petroleum Corporation': 0.39275404770355327, 'ADF Statistic ConocoPhillips': -0.42816646145467513, 'p-value ConocoPhillips': 0.9052887055934218}\n",
            "\n",
            "Results for ('Occidental Petroleum Corporation', 'Valero Energy Corporation'):\n",
            "{'ADF Statistic Occidental Petroleum Corporation': -1.7753749504324319, 'p-value Occidental Petroleum Corporation': 0.39275404770355327, 'ADF Statistic Valero Energy Corporation': -0.3217595883878787, 'p-value Valero Energy Corporation': 0.9223654854269043}\n",
            "\n",
            "Results for ('Occidental Petroleum Corporation', 'ExxonMobil'):\n",
            "{'ADF Statistic Occidental Petroleum Corporation': -1.7753749504324319, 'p-value Occidental Petroleum Corporation': 0.39275404770355327, 'ADF Statistic ExxonMobil': -1.10346025189033, 'p-value ExxonMobil': 0.7136900257804488}\n",
            "\n",
            "Results for ('Occidental Petroleum Corporation', 'Hess Corporation'):\n",
            "{'ADF Statistic Occidental Petroleum Corporation': -1.7753749504324319, 'p-value Occidental Petroleum Corporation': 0.39275404770355327, 'ADF Statistic Hess Corporation': -0.5243506359370944, 'p-value Hess Corporation': 0.8871764012527805}\n",
            "\n",
            "Results for ('Occidental Petroleum Corporation', 'Devon Energy Corporation'):\n",
            "{'ADF Statistic Occidental Petroleum Corporation': -1.7753749504324319, 'p-value Occidental Petroleum Corporation': 0.39275404770355327, 'ADF Statistic Devon Energy Corporation': -1.953557788395813, 'p-value Devon Energy Corporation': 0.3073000180931067}\n",
            "\n",
            "Results for ('Occidental Petroleum Corporation', 'Pioneer Natural Resources Company'):\n",
            "{'ADF Statistic Occidental Petroleum Corporation': -1.7753749504324319, 'p-value Occidental Petroleum Corporation': 0.39275404770355327, 'ADF Statistic Pioneer Natural Resources Company': -1.6675141513354008, 'p-value Pioneer Natural Resources Company': 0.44792306143467464}\n",
            "\n",
            "Results for ('Chevron Corporation', 'Marathon Oil Corporation'):\n",
            "{'ADF Statistic Chevron Corporation': -1.3009643438502807, 'p-value Chevron Corporation': 0.6287310097873975, 'ADF Statistic Marathon Oil Corporation': -1.9662895078185572, 'p-value Marathon Oil Corporation': 0.3015466972046812}\n",
            "\n",
            "Results for ('Chevron Corporation', 'ConocoPhillips'):\n",
            "{'ADF Statistic Chevron Corporation': -1.3009643438502807, 'p-value Chevron Corporation': 0.6287310097873975, 'ADF Statistic ConocoPhillips': -0.42816646145467513, 'p-value ConocoPhillips': 0.9052887055934218}\n",
            "\n",
            "Results for ('Chevron Corporation', 'Valero Energy Corporation'):\n",
            "{'ADF Statistic Chevron Corporation': -1.3009643438502807, 'p-value Chevron Corporation': 0.6287310097873975, 'ADF Statistic Valero Energy Corporation': -0.3217595883878787, 'p-value Valero Energy Corporation': 0.9223654854269043}\n",
            "\n",
            "Results for ('Chevron Corporation', 'ExxonMobil'):\n",
            "{'ADF Statistic Chevron Corporation': -1.3009643438502807, 'p-value Chevron Corporation': 0.6287310097873975, 'ADF Statistic ExxonMobil': -1.10346025189033, 'p-value ExxonMobil': 0.7136900257804488}\n",
            "\n",
            "Results for ('Chevron Corporation', 'Hess Corporation'):\n",
            "{'ADF Statistic Chevron Corporation': -1.3009643438502807, 'p-value Chevron Corporation': 0.6287310097873975, 'ADF Statistic Hess Corporation': -0.5243506359370944, 'p-value Hess Corporation': 0.8871764012527805}\n",
            "\n",
            "Results for ('Chevron Corporation', 'Devon Energy Corporation'):\n",
            "{'ADF Statistic Chevron Corporation': -1.3009643438502807, 'p-value Chevron Corporation': 0.6287310097873975, 'ADF Statistic Devon Energy Corporation': -1.953557788395813, 'p-value Devon Energy Corporation': 0.3073000180931067}\n",
            "\n",
            "Results for ('Chevron Corporation', 'Pioneer Natural Resources Company'):\n",
            "{'ADF Statistic Chevron Corporation': -1.3009643438502807, 'p-value Chevron Corporation': 0.6287310097873975, 'ADF Statistic Pioneer Natural Resources Company': -1.6675141513354008, 'p-value Pioneer Natural Resources Company': 0.44792306143467464}\n",
            "\n",
            "Results for ('Marathon Oil Corporation', 'ConocoPhillips'):\n",
            "{'ADF Statistic Marathon Oil Corporation': -1.9662895078185572, 'p-value Marathon Oil Corporation': 0.3015466972046812, 'ADF Statistic ConocoPhillips': -0.42816646145467513, 'p-value ConocoPhillips': 0.9052887055934218}\n",
            "\n",
            "Results for ('Marathon Oil Corporation', 'Valero Energy Corporation'):\n",
            "{'ADF Statistic Marathon Oil Corporation': -1.9662895078185572, 'p-value Marathon Oil Corporation': 0.3015466972046812, 'ADF Statistic Valero Energy Corporation': -0.3217595883878787, 'p-value Valero Energy Corporation': 0.9223654854269043}\n",
            "\n",
            "Results for ('Marathon Oil Corporation', 'ExxonMobil'):\n",
            "{'ADF Statistic Marathon Oil Corporation': -1.9662895078185572, 'p-value Marathon Oil Corporation': 0.3015466972046812, 'ADF Statistic ExxonMobil': -1.10346025189033, 'p-value ExxonMobil': 0.7136900257804488}\n",
            "\n",
            "Results for ('Marathon Oil Corporation', 'Hess Corporation'):\n",
            "{'ADF Statistic Marathon Oil Corporation': -1.9662895078185572, 'p-value Marathon Oil Corporation': 0.3015466972046812, 'ADF Statistic Hess Corporation': -0.5243506359370944, 'p-value Hess Corporation': 0.8871764012527805}\n",
            "\n",
            "Results for ('Marathon Oil Corporation', 'Devon Energy Corporation'):\n",
            "{'ADF Statistic Marathon Oil Corporation': -1.9662895078185572, 'p-value Marathon Oil Corporation': 0.3015466972046812, 'ADF Statistic Devon Energy Corporation': -1.953557788395813, 'p-value Devon Energy Corporation': 0.3073000180931067}\n",
            "\n",
            "Results for ('Marathon Oil Corporation', 'Pioneer Natural Resources Company'):\n",
            "{'ADF Statistic Marathon Oil Corporation': -1.9662895078185572, 'p-value Marathon Oil Corporation': 0.3015466972046812, 'ADF Statistic Pioneer Natural Resources Company': -1.6675141513354008, 'p-value Pioneer Natural Resources Company': 0.44792306143467464}\n",
            "\n",
            "Results for ('ConocoPhillips', 'Valero Energy Corporation'):\n",
            "{'ADF Statistic ConocoPhillips': -0.42816646145467513, 'p-value ConocoPhillips': 0.9052887055934218, 'ADF Statistic Valero Energy Corporation': -0.3217595883878787, 'p-value Valero Energy Corporation': 0.9223654854269043}\n",
            "\n",
            "Results for ('ConocoPhillips', 'ExxonMobil'):\n",
            "{'ADF Statistic ConocoPhillips': -0.42816646145467513, 'p-value ConocoPhillips': 0.9052887055934218, 'ADF Statistic ExxonMobil': -1.10346025189033, 'p-value ExxonMobil': 0.7136900257804488}\n",
            "\n",
            "Results for ('ConocoPhillips', 'Hess Corporation'):\n",
            "{'ADF Statistic ConocoPhillips': -0.42816646145467513, 'p-value ConocoPhillips': 0.9052887055934218, 'ADF Statistic Hess Corporation': -0.5243506359370944, 'p-value Hess Corporation': 0.8871764012527805}\n",
            "\n",
            "Results for ('ConocoPhillips', 'Devon Energy Corporation'):\n",
            "{'ADF Statistic ConocoPhillips': -0.42816646145467513, 'p-value ConocoPhillips': 0.9052887055934218, 'ADF Statistic Devon Energy Corporation': -1.953557788395813, 'p-value Devon Energy Corporation': 0.3073000180931067}\n",
            "\n",
            "Results for ('ConocoPhillips', 'Pioneer Natural Resources Company'):\n",
            "{'ADF Statistic ConocoPhillips': -0.42816646145467513, 'p-value ConocoPhillips': 0.9052887055934218, 'ADF Statistic Pioneer Natural Resources Company': -1.6675141513354008, 'p-value Pioneer Natural Resources Company': 0.44792306143467464}\n",
            "\n",
            "Results for ('Valero Energy Corporation', 'ExxonMobil'):\n",
            "{'ADF Statistic Valero Energy Corporation': -0.3217595883878787, 'p-value Valero Energy Corporation': 0.9223654854269043, 'ADF Statistic ExxonMobil': -1.10346025189033, 'p-value ExxonMobil': 0.7136900257804488}\n",
            "\n",
            "Results for ('Valero Energy Corporation', 'Hess Corporation'):\n",
            "{'ADF Statistic Valero Energy Corporation': -0.3217595883878787, 'p-value Valero Energy Corporation': 0.9223654854269043, 'ADF Statistic Hess Corporation': -0.5243506359370944, 'p-value Hess Corporation': 0.8871764012527805}\n",
            "\n",
            "Results for ('Valero Energy Corporation', 'Devon Energy Corporation'):\n",
            "{'ADF Statistic Valero Energy Corporation': -0.3217595883878787, 'p-value Valero Energy Corporation': 0.9223654854269043, 'ADF Statistic Devon Energy Corporation': -1.953557788395813, 'p-value Devon Energy Corporation': 0.3073000180931067}\n",
            "\n",
            "Results for ('Valero Energy Corporation', 'Pioneer Natural Resources Company'):\n",
            "{'ADF Statistic Valero Energy Corporation': -0.3217595883878787, 'p-value Valero Energy Corporation': 0.9223654854269043, 'ADF Statistic Pioneer Natural Resources Company': -1.6675141513354008, 'p-value Pioneer Natural Resources Company': 0.44792306143467464}\n",
            "\n",
            "Results for ('ExxonMobil', 'Hess Corporation'):\n",
            "{'ADF Statistic ExxonMobil': -1.10346025189033, 'p-value ExxonMobil': 0.7136900257804488, 'ADF Statistic Hess Corporation': -0.5243506359370944, 'p-value Hess Corporation': 0.8871764012527805}\n",
            "\n",
            "Results for ('ExxonMobil', 'Devon Energy Corporation'):\n",
            "{'ADF Statistic ExxonMobil': -1.10346025189033, 'p-value ExxonMobil': 0.7136900257804488, 'ADF Statistic Devon Energy Corporation': -1.953557788395813, 'p-value Devon Energy Corporation': 0.3073000180931067}\n",
            "\n",
            "Results for ('ExxonMobil', 'Pioneer Natural Resources Company'):\n",
            "{'ADF Statistic ExxonMobil': -1.10346025189033, 'p-value ExxonMobil': 0.7136900257804488, 'ADF Statistic Pioneer Natural Resources Company': -1.6675141513354008, 'p-value Pioneer Natural Resources Company': 0.44792306143467464}\n",
            "\n",
            "Results for ('Hess Corporation', 'Devon Energy Corporation'):\n",
            "{'ADF Statistic Hess Corporation': -0.5243506359370944, 'p-value Hess Corporation': 0.8871764012527805, 'ADF Statistic Devon Energy Corporation': -1.953557788395813, 'p-value Devon Energy Corporation': 0.3073000180931067}\n",
            "\n",
            "Results for ('Hess Corporation', 'Pioneer Natural Resources Company'):\n",
            "{'ADF Statistic Hess Corporation': -0.5243506359370944, 'p-value Hess Corporation': 0.8871764012527805, 'ADF Statistic Pioneer Natural Resources Company': -1.6675141513354008, 'p-value Pioneer Natural Resources Company': 0.44792306143467464}\n",
            "\n",
            "Results for ('Devon Energy Corporation', 'Pioneer Natural Resources Company'):\n",
            "{'ADF Statistic Devon Energy Corporation': -1.953557788395813, 'p-value Devon Energy Corporation': 0.3073000180931067, 'ADF Statistic Pioneer Natural Resources Company': -1.6675141513354008, 'p-value Pioneer Natural Resources Company': 0.44792306143467464}\n",
            "\n"
          ]
        }
      ],
      "source": [
        "from statsmodels.tsa.stattools import adfuller\n",
        "import itertools\n",
        "results = {}\n",
        "pairs = list(itertools.combinations(dataframes.keys(), 2)  # Create all possible pairs\n",
        "for company1, company2 in pairs:\n",
        "    series1 = dataframes[company1]['Close']\n",
        "    series2 = dataframes[company2]['Close']\n",
        "    result1 = adfuller(series1.dropna(), autolag='AIC')\n",
        "    result2 = adfuller(series2.dropna(), autolag='AIC')\n",
        "    results[(company1, company2)] = {\n",
        "        f\"ADF Statistic {company1}\": result1[0],\n",
        "        f\"p-value {company1}\": result1[1],\n",
        "        f\"ADF Statistic {company2}\": result2[0],\n",
        "        f\"p-value {company2}\": result2[1]\n",
        "    }\n",
        "for pair, res in results.items():\n",
        "    print(f\"Results for {pair}:\\n{res}\\n\")\n"
      ]
    },
    {
      "cell_type": "code",
      "execution_count": null,
      "metadata": {
        "id": "W1tk9WCN2l5-"
      },
      "outputs": [],
      "source": [
        "from statsmodels.tsa.vector_ar.var_model import VAR\n",
        "from itertools import combinations"
      ]
    },
    {
      "cell_type": "code",
      "execution_count": null,
      "metadata": {
        "colab": {
          "base_uri": "https://localhost:8080/"
        },
        "id": "uZymTOyg2op0",
        "outputId": "14d09cd2-007f-450f-b1a9-77127016b89d"
      },
      "outputs": [
        {
          "name": "stdout",
          "output_type": "stream",
          "text": [
            "Analyzing pair: EOG Resources, Inc., Occidental Petroleum Corporation\n",
            "Analyzing pair: EOG Resources, Inc., Chevron Corporation\n",
            "Analyzing pair: EOG Resources, Inc., Marathon Oil Corporation\n",
            "Analyzing pair: EOG Resources, Inc., ConocoPhillips\n",
            "Analyzing pair: EOG Resources, Inc., Valero Energy Corporation\n",
            "Analyzing pair: EOG Resources, Inc., ExxonMobil\n",
            "Analyzing pair: EOG Resources, Inc., Hess Corporation\n",
            "Analyzing pair: EOG Resources, Inc., Devon Energy Corporation\n",
            "Analyzing pair: EOG Resources, Inc., Pioneer Natural Resources Company\n",
            "Analyzing pair: Occidental Petroleum Corporation, Chevron Corporation\n",
            "Analyzing pair: Occidental Petroleum Corporation, Marathon Oil Corporation\n",
            "Analyzing pair: Occidental Petroleum Corporation, ConocoPhillips\n",
            "Analyzing pair: Occidental Petroleum Corporation, Valero Energy Corporation\n",
            "Analyzing pair: Occidental Petroleum Corporation, ExxonMobil\n",
            "Analyzing pair: Occidental Petroleum Corporation, Hess Corporation\n",
            "Analyzing pair: Occidental Petroleum Corporation, Devon Energy Corporation\n",
            "Analyzing pair: Occidental Petroleum Corporation, Pioneer Natural Resources Company\n",
            "Analyzing pair: Chevron Corporation, Marathon Oil Corporation\n",
            "Analyzing pair: Chevron Corporation, ConocoPhillips\n",
            "Analyzing pair: Chevron Corporation, Valero Energy Corporation\n",
            "Analyzing pair: Chevron Corporation, ExxonMobil\n",
            "Analyzing pair: Chevron Corporation, Hess Corporation\n",
            "Analyzing pair: Chevron Corporation, Devon Energy Corporation\n",
            "Analyzing pair: Chevron Corporation, Pioneer Natural Resources Company\n",
            "Analyzing pair: Marathon Oil Corporation, ConocoPhillips\n",
            "Analyzing pair: Marathon Oil Corporation, Valero Energy Corporation\n",
            "Analyzing pair: Marathon Oil Corporation, ExxonMobil\n",
            "Analyzing pair: Marathon Oil Corporation, Hess Corporation\n",
            "Analyzing pair: Marathon Oil Corporation, Devon Energy Corporation\n",
            "Analyzing pair: Marathon Oil Corporation, Pioneer Natural Resources Company\n",
            "Analyzing pair: ConocoPhillips, Valero Energy Corporation\n",
            "Analyzing pair: ConocoPhillips, ExxonMobil\n",
            "Analyzing pair: ConocoPhillips, Hess Corporation\n",
            "Analyzing pair: ConocoPhillips, Devon Energy Corporation\n",
            "Analyzing pair: ConocoPhillips, Pioneer Natural Resources Company\n",
            "Analyzing pair: Valero Energy Corporation, ExxonMobil\n",
            "Analyzing pair: Valero Energy Corporation, Hess Corporation\n",
            "Analyzing pair: Valero Energy Corporation, Devon Energy Corporation\n",
            "Analyzing pair: Valero Energy Corporation, Pioneer Natural Resources Company\n",
            "Analyzing pair: ExxonMobil, Hess Corporation\n",
            "Analyzing pair: ExxonMobil, Devon Energy Corporation\n",
            "Analyzing pair: ExxonMobil, Pioneer Natural Resources Company\n",
            "Analyzing pair: Hess Corporation, Devon Energy Corporation\n",
            "Analyzing pair: Hess Corporation, Pioneer Natural Resources Company\n",
            "Analyzing pair: Devon Energy Corporation, Pioneer Natural Resources Company\n"
          ]
        }
      ],
      "source": [
        "import os\n",
        "def perform_var_analysis(df1, df2):\n",
        "    df1.index = pd.DatetimeIndex(df1.index).to_period('D')\n",
        "    df2.index = pd.DatetimeIndex(df2.index).to_period('D')\n",
        "    combined_df = pd.concat([df1, df2], axis=1)\n",
        "    model = VAR(combined_df.dropna())\n",
        "    results = model.fit(maxlags=15, ic='aic')\n",
        "    return results.summary()\n",
        "\n",
        "\n",
        "dataframes = {}\n",
        "output_dir = \"/content/stock_data\"\n",
        "for filename in os.listdir(output_dir):\n",
        "    if filename.endswith(\".csv\"):\n",
        "        company_name = filename.split('_')[0]\n",
        "        df = pd.read_csv(os.path.join(output_dir, filename), usecols=['Date', 'Close'])\n",
        "        df['Date'] = pd.to_datetime(df['Date'])\n",
        "        dataframes[company_name] = df.set_index('Date')\n",
        "company_pairs = list(itertools.combinations(dataframes.keys(), 2))\n",
        "var_results = {}\n",
        "for company1, company2 in company_pairs:\n",
        "    print(f\"Analyzing pair: {company1}, {company2}\")\n",
        "    df1 = dataframes[company1].copy()\n",
        "    df2 = dataframes[company2].copy()\n",
        "    var_summary = perform_var_analysis(df1, df2)\n",
        "    var_results[(company1, company2)] = var_summary\n",
        "\n"
      ]
    },
    {
      "cell_type": "code",
      "execution_count": null,
      "metadata": {
        "colab": {
          "base_uri": "https://localhost:8080/"
        },
        "id": "Uqz-APOC3vb1",
        "outputId": "4d78b95d-465c-45fe-d024-a14e9c4a3e2d"
      },
      "outputs": [
        {
          "name": "stdout",
          "output_type": "stream",
          "text": [
            "{('EOG Resources, Inc.', 'Occidental Petroleum Corporation'):   Summary of Regression Results   \n",
            "==================================\n",
            "Model:                         VAR\n",
            "Method:                        OLS\n",
            "Date:           Tue, 09, Apr, 2024\n",
            "Time:                     21:57:47\n",
            "--------------------------------------------------------------------\n",
            "No. of Equations:         2.00000    BIC:                    1.11846\n",
            "Nobs:                     2513.00    HQIC:                   1.10960\n",
            "Log likelihood:          -8513.45    FPE:                    3.01786\n",
            "AIC:                      1.10455    Det(Omega_mle):         3.01066\n",
            "--------------------------------------------------------------------\n",
            "Results for equation Close\n",
            "===========================================================================\n",
            "              coefficient       std. error           t-stat            prob\n",
            "---------------------------------------------------------------------------\n",
            "const            0.338050         0.174584            1.936           0.053\n",
            "L1.Close         0.996910         0.002370          420.724           0.000\n",
            "L1.Close        -0.000568         0.002601           -0.218           0.827\n",
            "===========================================================================\n",
            "\n",
            "Results for equation Close\n",
            "===========================================================================\n",
            "              coefficient       std. error           t-stat            prob\n",
            "---------------------------------------------------------------------------\n",
            "const            0.095978         0.100515            0.955           0.340\n",
            "L1.Close         0.000272         0.001364            0.199           0.842\n",
            "L1.Close         0.997784         0.001497          666.386           0.000\n",
            "===========================================================================\n",
            "\n",
            "Correlation matrix of residuals\n",
            "            Close     Close\n",
            "Close    1.000000  0.744867\n",
            "Close    0.744867  1.000000\n",
            "\n",
            "\n",
            ", ('EOG Resources, Inc.', 'Chevron Corporation'):   Summary of Regression Results   \n",
            "==================================\n",
            "Model:                         VAR\n",
            "Method:                        OLS\n",
            "Date:           Tue, 09, Apr, 2024\n",
            "Time:                     21:57:47\n",
            "--------------------------------------------------------------------\n",
            "No. of Equations:         2.00000    BIC:                    2.25299\n",
            "Nobs:                     2506.00    HQIC:                   2.20263\n",
            "Log likelihood:          -9801.66    FPE:                    8.79283\n",
            "AIC:                      2.17394    Det(Omega_mle):         8.67474\n",
            "--------------------------------------------------------------------\n",
            "Results for equation Close\n",
            "===========================================================================\n",
            "              coefficient       std. error           t-stat            prob\n",
            "---------------------------------------------------------------------------\n",
            "const            0.205953         0.202281            1.018           0.309\n",
            "L1.Close         1.003400         0.029145           34.428           0.000\n",
            "L1.Close        -0.023447         0.030662           -0.765           0.444\n",
            "L2.Close         0.041759         0.040425            1.033           0.302\n",
            "L2.Close        -0.020808         0.042078           -0.495           0.621\n",
            "L3.Close        -0.029064         0.040403           -0.719           0.472\n",
            "L3.Close         0.006770         0.042096            0.161           0.872\n",
            "L4.Close         0.008095         0.040419            0.200           0.841\n",
            "L4.Close         0.006005         0.042151            0.142           0.887\n",
            "L5.Close        -0.044583         0.040417           -1.103           0.270\n",
            "L5.Close         0.024243         0.042146            0.575           0.565\n",
            "L6.Close         0.013745         0.040396            0.340           0.734\n",
            "L6.Close         0.022258         0.042093            0.529           0.597\n",
            "L7.Close        -0.036221         0.040335           -0.898           0.369\n",
            "L7.Close         0.044140         0.042054            1.050           0.294\n",
            "L8.Close         0.035513         0.029124            1.219           0.223\n",
            "L8.Close        -0.054971         0.030640           -1.794           0.073\n",
            "===========================================================================\n",
            "\n",
            "Results for equation Close\n",
            "===========================================================================\n",
            "              coefficient       std. error           t-stat            prob\n",
            "---------------------------------------------------------------------------\n",
            "const            0.341051         0.191757            1.779           0.075\n",
            "L1.Close         0.050704         0.027629            1.835           0.066\n",
            "L1.Close         0.931930         0.029066           32.062           0.000\n",
            "L2.Close        -0.032268         0.038321           -0.842           0.400\n",
            "L2.Close         0.078147         0.039888            1.959           0.050\n",
            "L3.Close         0.023530         0.038300            0.614           0.539\n",
            "L3.Close        -0.066392         0.039906           -1.664           0.096\n",
            "L4.Close        -0.008484         0.038316           -0.221           0.825\n",
            "L4.Close         0.039779         0.039958            0.996           0.319\n",
            "L5.Close        -0.016656         0.038314           -0.435           0.664\n",
            "L5.Close         0.003336         0.039954            0.084           0.933\n",
            "L6.Close         0.034226         0.038294            0.894           0.371\n",
            "L6.Close        -0.057537         0.039903           -1.442           0.149\n",
            "L7.Close        -0.075639         0.038236           -1.978           0.048\n",
            "L7.Close         0.166657         0.039866            4.180           0.000\n",
            "L8.Close         0.023733         0.027609            0.860           0.390\n",
            "L8.Close        -0.097997         0.029045           -3.374           0.001\n",
            "===========================================================================\n",
            "\n",
            "Correlation matrix of residuals\n",
            "            Close     Close\n",
            "Close    1.000000  0.726752\n",
            "Close    0.726752  1.000000\n",
            "\n",
            "\n",
            ", ('EOG Resources, Inc.', 'Marathon Oil Corporation'):   Summary of Regression Results   \n",
            "==================================\n",
            "Model:                         VAR\n",
            "Method:                        OLS\n",
            "Date:           Tue, 09, Apr, 2024\n",
            "Time:                     21:57:47\n",
            "--------------------------------------------------------------------\n",
            "No. of Equations:         2.00000    BIC:                  -0.833965\n",
            "Nobs:                     2513.00    HQIC:                 -0.842831\n",
            "Log likelihood:          -6060.22    FPE:                   0.428321\n",
            "AIC:                    -0.847883    Det(Omega_mle):        0.427300\n",
            "--------------------------------------------------------------------\n",
            "Results for equation Close\n",
            "===========================================================================\n",
            "              coefficient       std. error           t-stat            prob\n",
            "---------------------------------------------------------------------------\n",
            "const            0.340995         0.180936            1.885           0.059\n",
            "L1.Close         0.996371         0.002724          365.760           0.000\n",
            "L1.Close         0.000769         0.007732            0.100           0.921\n",
            "===========================================================================\n",
            "\n",
            "Results for equation Close\n",
            "===========================================================================\n",
            "              coefficient       std. error           t-stat            prob\n",
            "---------------------------------------------------------------------------\n",
            "const            0.020781         0.043897            0.473           0.636\n",
            "L1.Close         0.000404         0.000661            0.612           0.541\n",
            "L1.Close         0.996699         0.001876          531.304           0.000\n",
            "===========================================================================\n",
            "\n",
            "Correlation matrix of residuals\n",
            "            Close     Close\n",
            "Close    1.000000  0.802614\n",
            "Close    0.802614  1.000000\n",
            "\n",
            "\n",
            ", ('EOG Resources, Inc.', 'ConocoPhillips'):   Summary of Regression Results   \n",
            "==================================\n",
            "Model:                         VAR\n",
            "Method:                        OLS\n",
            "Date:           Tue, 09, Apr, 2024\n",
            "Time:                     21:57:48\n",
            "--------------------------------------------------------------------\n",
            "No. of Equations:         2.00000    BIC:                    1.22079\n",
            "Nobs:                     2512.00    HQIC:                   1.20601\n",
            "Log likelihood:          -8622.92    FPE:                    3.31213\n",
            "AIC:                      1.19759    Det(Omega_mle):         3.29898\n",
            "--------------------------------------------------------------------\n",
            "Results for equation Close\n",
            "===========================================================================\n",
            "              coefficient       std. error           t-stat            prob\n",
            "---------------------------------------------------------------------------\n",
            "const            0.382176         0.179452            2.130           0.033\n",
            "L1.Close         0.987717         0.035488           27.833           0.000\n",
            "L1.Close         0.001063         0.049625            0.021           0.983\n",
            "L2.Close         0.005901         0.035485            0.166           0.868\n",
            "L2.Close         0.002346         0.049666            0.047           0.962\n",
            "===========================================================================\n",
            "\n",
            "Results for equation Close\n",
            "===========================================================================\n",
            "              coefficient       std. error           t-stat            prob\n",
            "---------------------------------------------------------------------------\n",
            "const            0.151232         0.128239            1.179           0.238\n",
            "L1.Close         0.029897         0.025360            1.179           0.238\n",
            "L1.Close         0.945056         0.035463           26.649           0.000\n",
            "L2.Close        -0.032172         0.025358           -1.269           0.205\n",
            "L2.Close         0.056224         0.035492            1.584           0.113\n",
            "===========================================================================\n",
            "\n",
            "Correlation matrix of residuals\n",
            "            Close     Close\n",
            "Close    1.000000  0.826836\n",
            "Close    0.826836  1.000000\n",
            "\n",
            "\n",
            ", ('EOG Resources, Inc.', 'Valero Energy Corporation'):   Summary of Regression Results   \n",
            "==================================\n",
            "Model:                         VAR\n",
            "Method:                        OLS\n",
            "Date:           Tue, 09, Apr, 2024\n",
            "Time:                     21:57:48\n",
            "--------------------------------------------------------------------\n",
            "No. of Equations:         2.00000    BIC:                    2.53244\n",
            "Nobs:                     2511.00    HQIC:                   2.51174\n",
            "Log likelihood:          -10250.6    FPE:                    12.1818\n",
            "AIC:                      2.49995    Det(Omega_mle):         12.1142\n",
            "--------------------------------------------------------------------\n",
            "Results for equation Close\n",
            "===========================================================================\n",
            "              coefficient       std. error           t-stat            prob\n",
            "---------------------------------------------------------------------------\n",
            "const            0.348353         0.174778            1.993           0.046\n",
            "L1.Close         0.970869         0.023944           40.547           0.000\n",
            "L1.Close         0.032501         0.025882            1.256           0.209\n",
            "L2.Close         0.019299         0.033602            0.574           0.566\n",
            "L2.Close         0.019288         0.036281            0.532           0.595\n",
            "L3.Close         0.003763         0.023937            0.157           0.875\n",
            "L3.Close        -0.048971         0.025939           -1.888           0.059\n",
            "===========================================================================\n",
            "\n",
            "Results for equation Close\n",
            "===========================================================================\n",
            "              coefficient       std. error           t-stat            prob\n",
            "---------------------------------------------------------------------------\n",
            "const            0.092949         0.161583            0.575           0.565\n",
            "L1.Close        -0.022189         0.022137           -1.002           0.316\n",
            "L1.Close         1.001362         0.023928           41.849           0.000\n",
            "L2.Close         0.090087         0.031065            2.900           0.004\n",
            "L2.Close        -0.011840         0.033542           -0.353           0.724\n",
            "L3.Close        -0.068084         0.022130           -3.077           0.002\n",
            "L3.Close         0.010140         0.023981            0.423           0.672\n",
            "===========================================================================\n",
            "\n",
            "Correlation matrix of residuals\n",
            "            Close     Close\n",
            "Close    1.000000  0.551328\n",
            "Close    0.551328  1.000000\n",
            "\n",
            "\n",
            ", ('EOG Resources, Inc.', 'ExxonMobil'):   Summary of Regression Results   \n",
            "==================================\n",
            "Model:                         VAR\n",
            "Method:                        OLS\n",
            "Date:           Tue, 09, Apr, 2024\n",
            "Time:                     21:57:48\n",
            "--------------------------------------------------------------------\n",
            "No. of Equations:         2.00000    BIC:                    1.18195\n",
            "Nobs:                     2513.00    HQIC:                   1.17309\n",
            "Log likelihood:          -8593.22    FPE:                    3.21567\n",
            "AIC:                      1.16804    Det(Omega_mle):         3.20801\n",
            "--------------------------------------------------------------------\n",
            "Results for equation Close\n",
            "===========================================================================\n",
            "              coefficient       std. error           t-stat            prob\n",
            "---------------------------------------------------------------------------\n",
            "const            0.286641         0.187723            1.527           0.127\n",
            "L1.Close         0.994520         0.003401          292.401           0.000\n",
            "L1.Close         0.003004         0.004217            0.712           0.476\n",
            "===========================================================================\n",
            "\n",
            "Results for equation Close\n",
            "===========================================================================\n",
            "              coefficient       std. error           t-stat            prob\n",
            "---------------------------------------------------------------------------\n",
            "const            0.115012         0.111335            1.033           0.302\n",
            "L1.Close         0.001359         0.002017            0.674           0.501\n",
            "L1.Close         0.997109         0.002501          398.721           0.000\n",
            "===========================================================================\n",
            "\n",
            "Correlation matrix of residuals\n",
            "            Close     Close\n",
            "Close    1.000000  0.743514\n",
            "Close    0.743514  1.000000\n",
            "\n",
            "\n",
            ", ('EOG Resources, Inc.', 'Hess Corporation'):   Summary of Regression Results   \n",
            "==================================\n",
            "Model:                         VAR\n",
            "Method:                        OLS\n",
            "Date:           Tue, 09, Apr, 2024\n",
            "Time:                     21:57:48\n",
            "--------------------------------------------------------------------\n",
            "No. of Equations:         2.00000    BIC:                    1.86099\n",
            "Nobs:                     2513.00    HQIC:                   1.85212\n",
            "Log likelihood:          -9446.43    FPE:                    6.34121\n",
            "AIC:                      1.84707    Det(Omega_mle):         6.32609\n",
            "--------------------------------------------------------------------\n",
            "Results for equation Close\n",
            "===========================================================================\n",
            "              coefficient       std. error           t-stat            prob\n",
            "---------------------------------------------------------------------------\n",
            "const            0.354863         0.176340            2.012           0.044\n",
            "L1.Close         0.995360         0.002487          400.179           0.000\n",
            "L1.Close         0.001242         0.001753            0.709           0.479\n",
            "===========================================================================\n",
            "\n",
            "Results for equation Close\n",
            "===========================================================================\n",
            "              coefficient       std. error           t-stat            prob\n",
            "---------------------------------------------------------------------------\n",
            "const            0.179130         0.163289            1.097           0.273\n",
            "L1.Close        -0.001828         0.002303           -0.794           0.427\n",
            "L1.Close         1.000271         0.001623          616.281           0.000\n",
            "===========================================================================\n",
            "\n",
            "Correlation matrix of residuals\n",
            "            Close     Close\n",
            "Close    1.000000  0.798906\n",
            "Close    0.798906  1.000000\n",
            "\n",
            "\n",
            ", ('EOG Resources, Inc.', 'Devon Energy Corporation'):   Summary of Regression Results   \n",
            "==================================\n",
            "Model:                         VAR\n",
            "Method:                        OLS\n",
            "Date:           Tue, 09, Apr, 2024\n",
            "Time:                     21:57:49\n",
            "--------------------------------------------------------------------\n",
            "No. of Equations:         2.00000    BIC:                   0.868524\n",
            "Nobs:                     2513.00    HQIC:                  0.859658\n",
            "Log likelihood:          -8199.40    FPE:                    2.35045\n",
            "AIC:                     0.854606    Det(Omega_mle):         2.34485\n",
            "--------------------------------------------------------------------\n",
            "Results for equation Close\n",
            "===========================================================================\n",
            "              coefficient       std. error           t-stat            prob\n",
            "---------------------------------------------------------------------------\n",
            "const            0.367356         0.178582            2.057           0.040\n",
            "L1.Close         0.994945         0.002707          367.607           0.000\n",
            "L1.Close         0.002984         0.003699            0.807           0.420\n",
            "===========================================================================\n",
            "\n",
            "Results for equation Close\n",
            "===========================================================================\n",
            "              coefficient       std. error           t-stat            prob\n",
            "---------------------------------------------------------------------------\n",
            "const            0.167322         0.096628            1.732           0.083\n",
            "L1.Close        -0.001274         0.001464           -0.870           0.384\n",
            "L1.Close         0.998695         0.002001          499.035           0.000\n",
            "===========================================================================\n",
            "\n",
            "Correlation matrix of residuals\n",
            "            Close     Close\n",
            "Close    1.000000  0.779260\n",
            "Close    0.779260  1.000000\n",
            "\n",
            "\n",
            ", ('EOG Resources, Inc.', 'Pioneer Natural Resources Company'):   Summary of Regression Results   \n",
            "==================================\n",
            "Model:                         VAR\n",
            "Method:                        OLS\n",
            "Date:           Tue, 09, Apr, 2024\n",
            "Time:                     21:57:49\n",
            "--------------------------------------------------------------------\n",
            "No. of Equations:         2.00000    BIC:                    3.16095\n",
            "Nobs:                     2513.00    HQIC:                   3.15209\n",
            "Log likelihood:          -11079.8    FPE:                    23.2669\n",
            "AIC:                      3.14703    Det(Omega_mle):         23.2115\n",
            "--------------------------------------------------------------------\n",
            "Results for equation Close\n",
            "===========================================================================\n",
            "              coefficient       std. error           t-stat            prob\n",
            "---------------------------------------------------------------------------\n",
            "const            0.268790         0.176296            1.525           0.127\n",
            "L1.Close         0.987348         0.004150          237.915           0.000\n",
            "L1.Close         0.005474         0.002219            2.467           0.014\n",
            "===========================================================================\n",
            "\n",
            "Results for equation Close\n",
            "===========================================================================\n",
            "              coefficient       std. error           t-stat            prob\n",
            "---------------------------------------------------------------------------\n",
            "const            0.668998         0.326511            2.049           0.040\n",
            "L1.Close        -0.011066         0.007686           -1.440           0.150\n",
            "L1.Close         1.002357         0.004109          243.943           0.000\n",
            "===========================================================================\n",
            "\n",
            "Correlation matrix of residuals\n",
            "            Close     Close\n",
            "Close    1.000000  0.816532\n",
            "Close    0.816532  1.000000\n",
            "\n",
            "\n",
            ", ('Occidental Petroleum Corporation', 'Chevron Corporation'):   Summary of Regression Results   \n",
            "==================================\n",
            "Model:                         VAR\n",
            "Method:                        OLS\n",
            "Date:           Tue, 09, Apr, 2024\n",
            "Time:                     21:57:49\n",
            "--------------------------------------------------------------------\n",
            "No. of Equations:         2.00000    BIC:                    1.26675\n",
            "Nobs:                     2505.00    HQIC:                   1.21045\n",
            "Log likelihood:          -8546.79    FPE:                    3.24908\n",
            "AIC:                      1.17837    Det(Omega_mle):         3.20035\n",
            "--------------------------------------------------------------------\n",
            "Results for equation Close\n",
            "===========================================================================\n",
            "              coefficient       std. error           t-stat            prob\n",
            "---------------------------------------------------------------------------\n",
            "const            0.093650         0.121180            0.773           0.440\n",
            "L1.Close         0.978660         0.027545           35.529           0.000\n",
            "L1.Close         0.006618         0.016726            0.396           0.692\n",
            "L2.Close         0.035271         0.037723            0.935           0.350\n",
            "L2.Close        -0.008539         0.022718           -0.376           0.707\n",
            "L3.Close        -0.023790         0.037786           -0.630           0.529\n",
            "L3.Close        -0.015830         0.022698           -0.697           0.486\n",
            "L4.Close         0.044953         0.037722            1.192           0.233\n",
            "L4.Close        -0.013302         0.022688           -0.586           0.558\n",
            "L5.Close        -0.073910         0.037672           -1.962           0.050\n",
            "L5.Close         0.040460         0.022671            1.785           0.074\n",
            "L6.Close         0.105743         0.037717            2.804           0.005\n",
            "L6.Close        -0.034260         0.022687           -1.510           0.131\n",
            "L7.Close        -0.120841         0.037777           -3.199           0.001\n",
            "L7.Close         0.059753         0.022692            2.633           0.008\n",
            "L8.Close         0.083013         0.037760            2.198           0.028\n",
            "L8.Close        -0.040766         0.022713           -1.795           0.073\n",
            "L9.Close        -0.031284         0.027562           -1.135           0.256\n",
            "L9.Close         0.006083         0.016686            0.365           0.715\n",
            "===========================================================================\n",
            "\n",
            "Results for equation Close\n",
            "===========================================================================\n",
            "              coefficient       std. error           t-stat            prob\n",
            "---------------------------------------------------------------------------\n",
            "const            0.420845         0.199345            2.111           0.035\n",
            "L1.Close         0.099132         0.045313            2.188           0.029\n",
            "L1.Close         0.934002         0.027515           33.945           0.000\n",
            "L2.Close        -0.142870         0.062055           -2.302           0.021\n",
            "L2.Close         0.106207         0.037372            2.842           0.004\n",
            "L3.Close         0.024347         0.062160            0.392           0.695\n",
            "L3.Close        -0.056301         0.037339           -1.508           0.132\n",
            "L4.Close         0.090354         0.062053            1.456           0.145\n",
            "L4.Close        -0.006005         0.037323           -0.161           0.872\n",
            "L5.Close        -0.011323         0.061971           -0.183           0.855\n",
            "L5.Close        -0.006419         0.037295           -0.172           0.863\n",
            "L6.Close         0.058420         0.062045            0.942           0.346\n",
            "L6.Close        -0.054485         0.037322           -1.460           0.144\n",
            "L7.Close        -0.172187         0.062145           -2.771           0.006\n",
            "L7.Close         0.177135         0.037330            4.745           0.000\n",
            "L8.Close         0.165269         0.062117            2.661           0.008\n",
            "L8.Close        -0.164520         0.037364           -4.403           0.000\n",
            "L9.Close        -0.113490         0.045340           -2.503           0.012\n",
            "L9.Close         0.068178         0.027448            2.484           0.013\n",
            "===========================================================================\n",
            "\n",
            "Correlation matrix of residuals\n",
            "            Close     Close\n",
            "Close    1.000000  0.686037\n",
            "Close    0.686037  1.000000\n",
            "\n",
            "\n",
            ", ('Occidental Petroleum Corporation', 'Marathon Oil Corporation'):   Summary of Regression Results   \n",
            "==================================\n",
            "Model:                         VAR\n",
            "Method:                        OLS\n",
            "Date:           Tue, 09, Apr, 2024\n",
            "Time:                     21:57:49\n",
            "--------------------------------------------------------------------\n",
            "No. of Equations:         2.00000    BIC:                   -1.75723\n",
            "Nobs:                     2513.00    HQIC:                  -1.76610\n",
            "Log likelihood:          -4900.13    FPE:                   0.170137\n",
            "AIC:                     -1.77115    Det(Omega_mle):        0.169732\n",
            "--------------------------------------------------------------------\n",
            "Results for equation Close\n",
            "===========================================================================\n",
            "              coefficient       std. error           t-stat            prob\n",
            "---------------------------------------------------------------------------\n",
            "const            0.107462         0.071817            1.496           0.135\n",
            "L1.Close         0.997629         0.001647          605.680           0.000\n",
            "L1.Close         0.001249         0.004260            0.293           0.769\n",
            "===========================================================================\n",
            "\n",
            "Results for equation Close\n",
            "===========================================================================\n",
            "              coefficient       std. error           t-stat            prob\n",
            "---------------------------------------------------------------------------\n",
            "const            0.055805         0.030262            1.844           0.065\n",
            "L1.Close        -0.000541         0.000694           -0.779           0.436\n",
            "L1.Close         0.998570         0.001795          556.315           0.000\n",
            "===========================================================================\n",
            "\n",
            "Correlation matrix of residuals\n",
            "            Close     Close\n",
            "Close    1.000000  0.757345\n",
            "Close    0.757345  1.000000\n",
            "\n",
            "\n",
            ", ('Occidental Petroleum Corporation', 'ConocoPhillips'):   Summary of Regression Results   \n",
            "==================================\n",
            "Model:                         VAR\n",
            "Method:                        OLS\n",
            "Date:           Tue, 09, Apr, 2024\n",
            "Time:                     21:57:49\n",
            "--------------------------------------------------------------------\n",
            "No. of Equations:         2.00000    BIC:                   0.541948\n",
            "Nobs:                     2507.00    HQIC:                  0.497532\n",
            "Log likelihood:          -7676.49    FPE:                    1.60355\n",
            "AIC:                     0.472221    Det(Omega_mle):         1.58453\n",
            "--------------------------------------------------------------------\n",
            "Results for equation Close\n",
            "===========================================================================\n",
            "              coefficient       std. error           t-stat            prob\n",
            "---------------------------------------------------------------------------\n",
            "const            0.095768         0.086283            1.110           0.267\n",
            "L1.Close         0.997806         0.029421           33.915           0.000\n",
            "L1.Close        -0.013884         0.023730           -0.585           0.558\n",
            "L2.Close         0.012902         0.040957            0.315           0.753\n",
            "L2.Close         0.017462         0.033040            0.529           0.597\n",
            "L3.Close        -0.035889         0.040947           -0.876           0.381\n",
            "L3.Close        -0.012832         0.033015           -0.389           0.698\n",
            "L4.Close         0.067598         0.040941            1.651           0.099\n",
            "L4.Close        -0.036794         0.032947           -1.117           0.264\n",
            "L5.Close        -0.099584         0.041018           -2.428           0.015\n",
            "L5.Close         0.076819         0.032966            2.330           0.020\n",
            "L6.Close         0.151813         0.041078            3.696           0.000\n",
            "L6.Close        -0.090963         0.032983           -2.758           0.006\n",
            "L7.Close        -0.096917         0.029418           -3.295           0.001\n",
            "L7.Close         0.060649         0.023684            2.561           0.010\n",
            "===========================================================================\n",
            "\n",
            "Results for equation Close\n",
            "===========================================================================\n",
            "              coefficient       std. error           t-stat            prob\n",
            "---------------------------------------------------------------------------\n",
            "const            0.163185         0.107116            1.523           0.128\n",
            "L1.Close         0.045492         0.036524            1.246           0.213\n",
            "L1.Close         0.956592         0.029459           32.472           0.000\n",
            "L2.Close        -0.054773         0.050846           -1.077           0.281\n",
            "L2.Close         0.066355         0.041017            1.618           0.106\n",
            "L3.Close        -0.049556         0.050833           -0.975           0.330\n",
            "L3.Close         0.011285         0.040987            0.275           0.783\n",
            "L4.Close         0.173626         0.050826            3.416           0.001\n",
            "L4.Close        -0.079734         0.040901           -1.949           0.051\n",
            "L5.Close        -0.158554         0.050921           -3.114           0.002\n",
            "L5.Close         0.074404         0.040925            1.818           0.069\n",
            "L6.Close         0.101708         0.050996            1.994           0.046\n",
            "L6.Close        -0.089808         0.040946           -2.193           0.028\n",
            "L7.Close        -0.060309         0.036521           -1.651           0.099\n",
            "L7.Close         0.060928         0.029402            2.072           0.038\n",
            "===========================================================================\n",
            "\n",
            "Correlation matrix of residuals\n",
            "            Close     Close\n",
            "Close    1.000000  0.733712\n",
            "Close    0.733712  1.000000\n",
            "\n",
            "\n",
            ", ('Occidental Petroleum Corporation', 'Valero Energy Corporation'):   Summary of Regression Results   \n",
            "==================================\n",
            "Model:                         VAR\n",
            "Method:                        OLS\n",
            "Date:           Tue, 09, Apr, 2024\n",
            "Time:                     21:57:50\n",
            "--------------------------------------------------------------------\n",
            "No. of Equations:         2.00000    BIC:                    1.48180\n",
            "Nobs:                     2513.00    HQIC:                   1.47293\n",
            "Log likelihood:          -8969.97    FPE:                    4.34001\n",
            "AIC:                      1.46788    Det(Omega_mle):         4.32967\n",
            "--------------------------------------------------------------------\n",
            "Results for equation Close\n",
            "===========================================================================\n",
            "              coefficient       std. error           t-stat            prob\n",
            "---------------------------------------------------------------------------\n",
            "const            0.093038         0.095375            0.976           0.329\n",
            "L1.Close         0.997939         0.001148          868.975           0.000\n",
            "L1.Close         0.000236         0.000876            0.269           0.788\n",
            "===========================================================================\n",
            "\n",
            "Results for equation Close\n",
            "===========================================================================\n",
            "              coefficient       std. error           t-stat            prob\n",
            "---------------------------------------------------------------------------\n",
            "const            0.137876         0.153346            0.899           0.369\n",
            "L1.Close        -0.001014         0.001846           -0.549           0.583\n",
            "L1.Close         0.999649         0.001408          709.960           0.000\n",
            "===========================================================================\n",
            "\n",
            "Correlation matrix of residuals\n",
            "            Close     Close\n",
            "Close    1.000000  0.502864\n",
            "Close    0.502864  1.000000\n",
            "\n",
            "\n",
            ", ('Occidental Petroleum Corporation', 'ExxonMobil'):   Summary of Regression Results   \n",
            "==================================\n",
            "Model:                         VAR\n",
            "Method:                        OLS\n",
            "Date:           Tue, 09, Apr, 2024\n",
            "Time:                     21:57:50\n",
            "--------------------------------------------------------------------\n",
            "No. of Equations:         2.00000    BIC:                   0.217558\n",
            "Nobs:                     2513.00    HQIC:                  0.208692\n",
            "Log likelihood:          -7381.46    FPE:                    1.22586\n",
            "AIC:                     0.203641    Det(Omega_mle):         1.22294\n",
            "--------------------------------------------------------------------\n",
            "Results for equation Close\n",
            "===========================================================================\n",
            "              coefficient       std. error           t-stat            prob\n",
            "---------------------------------------------------------------------------\n",
            "const            0.059193         0.108839            0.544           0.587\n",
            "L1.Close         0.997108         0.001809          551.079           0.000\n",
            "L1.Close         0.001265         0.002044            0.619           0.536\n",
            "===========================================================================\n",
            "\n",
            "Results for equation Close\n",
            "===========================================================================\n",
            "              coefficient       std. error           t-stat            prob\n",
            "---------------------------------------------------------------------------\n",
            "const            0.113156         0.112116            1.009           0.313\n",
            "L1.Close        -0.001170         0.001864           -0.628           0.530\n",
            "L1.Close         0.999565         0.002105          474.789           0.000\n",
            "===========================================================================\n",
            "\n",
            "Correlation matrix of residuals\n",
            "            Close     Close\n",
            "Close    1.000000  0.696962\n",
            "Close    0.696962  1.000000\n",
            "\n",
            "\n",
            ", ('Occidental Petroleum Corporation', 'Hess Corporation'):   Summary of Regression Results   \n",
            "==================================\n",
            "Model:                         VAR\n",
            "Method:                        OLS\n",
            "Date:           Tue, 09, Apr, 2024\n",
            "Time:                     21:57:50\n",
            "--------------------------------------------------------------------\n",
            "No. of Equations:         2.00000    BIC:                    1.05236\n",
            "Nobs:                     2513.00    HQIC:                   1.04349\n",
            "Log likelihood:          -8430.38    FPE:                    2.82480\n",
            "AIC:                      1.03844    Det(Omega_mle):         2.81807\n",
            "--------------------------------------------------------------------\n",
            "Results for equation Close\n",
            "===========================================================================\n",
            "              coefficient       std. error           t-stat            prob\n",
            "---------------------------------------------------------------------------\n",
            "const            0.110750         0.084236            1.315           0.189\n",
            "L1.Close         0.997981         0.001157          862.189           0.000\n",
            "L1.Close        -0.000010         0.000743           -0.014           0.989\n",
            "===========================================================================\n",
            "\n",
            "Results for equation Close\n",
            "===========================================================================\n",
            "              coefficient       std. error           t-stat            prob\n",
            "---------------------------------------------------------------------------\n",
            "const            0.207588         0.135429            1.533           0.125\n",
            "L1.Close        -0.002636         0.001861           -1.417           0.157\n",
            "L1.Close         0.999684         0.001195          836.649           0.000\n",
            "===========================================================================\n",
            "\n",
            "Correlation matrix of residuals\n",
            "            Close     Close\n",
            "Close    1.000000  0.716718\n",
            "Close    0.716718  1.000000\n",
            "\n",
            "\n",
            ", ('Occidental Petroleum Corporation', 'Devon Energy Corporation'):   Summary of Regression Results   \n",
            "==================================\n",
            "Model:                         VAR\n",
            "Method:                        OLS\n",
            "Date:           Tue, 09, Apr, 2024\n",
            "Time:                     21:57:50\n",
            "--------------------------------------------------------------------\n",
            "No. of Equations:         2.00000    BIC:                 -0.0437942\n",
            "Nobs:                     2513.00    HQIC:                -0.0526605\n",
            "Log likelihood:          -7053.07    FPE:                   0.943922\n",
            "AIC:                   -0.0577120    Det(Omega_mle):        0.941672\n",
            "--------------------------------------------------------------------\n",
            "Results for equation Close\n",
            "===========================================================================\n",
            "              coefficient       std. error           t-stat            prob\n",
            "---------------------------------------------------------------------------\n",
            "const            0.093881         0.072580            1.293           0.196\n",
            "L1.Close         0.996607         0.001639          608.112           0.000\n",
            "L1.Close         0.002374         0.002041            1.163           0.245\n",
            "===========================================================================\n",
            "\n",
            "Results for equation Close\n",
            "===========================================================================\n",
            "              coefficient       std. error           t-stat            prob\n",
            "---------------------------------------------------------------------------\n",
            "const            0.142795         0.068210            2.093           0.036\n",
            "L1.Close        -0.001891         0.001540           -1.228           0.220\n",
            "L1.Close         0.999089         0.001918          520.995           0.000\n",
            "===========================================================================\n",
            "\n",
            "Correlation matrix of residuals\n",
            "            Close     Close\n",
            "Close    1.000000  0.723808\n",
            "Close    0.723808  1.000000\n",
            "\n",
            "\n",
            ", ('Occidental Petroleum Corporation', 'Pioneer Natural Resources Company'):   Summary of Regression Results   \n",
            "==================================\n",
            "Model:                         VAR\n",
            "Method:                        OLS\n",
            "Date:           Tue, 09, Apr, 2024\n",
            "Time:                     21:57:51\n",
            "--------------------------------------------------------------------\n",
            "No. of Equations:         2.00000    BIC:                    2.47746\n",
            "Nobs:                     2513.00    HQIC:                   2.46859\n",
            "Log likelihood:          -10221.0    FPE:                    11.7463\n",
            "AIC:                      2.46354    Det(Omega_mle):         11.7183\n",
            "--------------------------------------------------------------------\n",
            "Results for equation Close\n",
            "===========================================================================\n",
            "              coefficient       std. error           t-stat            prob\n",
            "---------------------------------------------------------------------------\n",
            "const            0.044210         0.100841            0.438           0.661\n",
            "L1.Close         0.997413         0.001293          771.353           0.000\n",
            "L1.Close         0.000582         0.000630            0.923           0.356\n",
            "===========================================================================\n",
            "\n",
            "Results for equation Close\n",
            "===========================================================================\n",
            "              coefficient       std. error           t-stat            prob\n",
            "---------------------------------------------------------------------------\n",
            "const            0.642027         0.324079            1.981           0.048\n",
            "L1.Close        -0.005289         0.004156           -1.273           0.203\n",
            "L1.Close         0.998246         0.002024          493.167           0.000\n",
            "===========================================================================\n",
            "\n",
            "Correlation matrix of residuals\n",
            "            Close     Close\n",
            "Close    1.000000  0.702539\n",
            "Close    0.702539  1.000000\n",
            "\n",
            "\n",
            ", ('Chevron Corporation', 'Marathon Oil Corporation'):   Summary of Regression Results   \n",
            "==================================\n",
            "Model:                         VAR\n",
            "Method:                        OLS\n",
            "Date:           Tue, 09, Apr, 2024\n",
            "Time:                     21:57:51\n",
            "--------------------------------------------------------------------\n",
            "No. of Equations:         2.00000    BIC:                  -0.489574\n",
            "Nobs:                     2505.00    HQIC:                 -0.545871\n",
            "Log likelihood:          -6347.00    FPE:                   0.561046\n",
            "AIC:                    -0.577953    Det(Omega_mle):        0.552631\n",
            "--------------------------------------------------------------------\n",
            "Results for equation Close\n",
            "===========================================================================\n",
            "              coefficient       std. error           t-stat            prob\n",
            "---------------------------------------------------------------------------\n",
            "const            0.346301         0.196100            1.766           0.077\n",
            "L1.Close         0.902534         0.027974           32.263           0.000\n",
            "L1.Close         0.413949         0.108926            3.800           0.000\n",
            "L2.Close         0.138647         0.037787            3.669           0.000\n",
            "L2.Close        -0.528380         0.150084           -3.521           0.000\n",
            "L3.Close        -0.081714         0.037846           -2.159           0.031\n",
            "L3.Close         0.212096         0.150709            1.407           0.159\n",
            "L4.Close         0.023432         0.037897            0.618           0.536\n",
            "L4.Close         0.037204         0.150822            0.247           0.805\n",
            "L5.Close         0.004487         0.037902            0.118           0.906\n",
            "L5.Close        -0.096039         0.150890           -0.636           0.524\n",
            "L6.Close        -0.043003         0.037905           -1.134           0.257\n",
            "L6.Close         0.105079         0.150900            0.696           0.486\n",
            "L7.Close         0.135287         0.037854            3.574           0.000\n",
            "L7.Close        -0.203485         0.150769           -1.350           0.177\n",
            "L8.Close        -0.149862         0.037731           -3.972           0.000\n",
            "L8.Close         0.325368         0.150278            2.165           0.030\n",
            "L9.Close         0.068103         0.027886            2.442           0.015\n",
            "L9.Close        -0.270003         0.108955           -2.478           0.013\n",
            "===========================================================================\n",
            "\n",
            "Results for equation Close\n",
            "===========================================================================\n",
            "              coefficient       std. error           t-stat            prob\n",
            "---------------------------------------------------------------------------\n",
            "const           -0.011596         0.050428           -0.230           0.818\n",
            "L1.Close        -0.005486         0.007194           -0.763           0.446\n",
            "L1.Close         1.022902         0.028011           36.518           0.000\n",
            "L2.Close        -0.004260         0.009717           -0.438           0.661\n",
            "L2.Close         0.013997         0.038595            0.363           0.717\n",
            "L3.Close         0.000536         0.009732            0.055           0.956\n",
            "L3.Close        -0.013741         0.038756           -0.355           0.723\n",
            "L4.Close         0.010585         0.009745            1.086           0.277\n",
            "L4.Close        -0.024274         0.038785           -0.626           0.531\n",
            "L5.Close        -0.005776         0.009747           -0.593           0.553\n",
            "L5.Close        -0.001501         0.038802           -0.039           0.969\n",
            "L6.Close         0.000275         0.009747            0.028           0.977\n",
            "L6.Close         0.022854         0.038805            0.589           0.556\n",
            "L7.Close         0.007229         0.009734            0.743           0.458\n",
            "L7.Close        -0.024422         0.038771           -0.630           0.529\n",
            "L8.Close        -0.004447         0.009703           -0.458           0.647\n",
            "L8.Close         0.017449         0.038645            0.452           0.652\n",
            "L9.Close         0.002059         0.007171            0.287           0.774\n",
            "L9.Close        -0.017327         0.028018           -0.618           0.536\n",
            "===========================================================================\n",
            "\n",
            "Correlation matrix of residuals\n",
            "            Close     Close\n",
            "Close    1.000000  0.698584\n",
            "Close    0.698584  1.000000\n",
            "\n",
            "\n",
            ", ('Chevron Corporation', 'ConocoPhillips'):   Summary of Regression Results   \n",
            "==================================\n",
            "Model:                         VAR\n",
            "Method:                        OLS\n",
            "Date:           Tue, 09, Apr, 2024\n",
            "Time:                     21:57:51\n",
            "--------------------------------------------------------------------\n",
            "No. of Equations:         2.00000    BIC:                    1.27601\n",
            "Nobs:                     2512.00    HQIC:                   1.26123\n",
            "Log likelihood:          -8692.27    FPE:                    3.50015\n",
            "AIC:                      1.25281    Det(Omega_mle):         3.48626\n",
            "--------------------------------------------------------------------\n",
            "Results for equation Close\n",
            "===========================================================================\n",
            "              coefficient       std. error           t-stat            prob\n",
            "---------------------------------------------------------------------------\n",
            "const            0.588848         0.257262            2.289           0.022\n",
            "L1.Close         0.916290         0.032796           27.939           0.000\n",
            "L1.Close         0.084955         0.043652            1.946           0.052\n",
            "L2.Close         0.075065         0.032819            2.287           0.022\n",
            "L2.Close        -0.078250         0.043716           -1.790           0.073\n",
            "===========================================================================\n",
            "\n",
            "Results for equation Close\n",
            "===========================================================================\n",
            "              coefficient       std. error           t-stat            prob\n",
            "---------------------------------------------------------------------------\n",
            "const            0.147771         0.193416            0.764           0.445\n",
            "L1.Close        -0.018858         0.024657           -0.765           0.444\n",
            "L1.Close         0.999851         0.032819           30.466           0.000\n",
            "L2.Close         0.017199         0.024674            0.697           0.486\n",
            "L2.Close         0.001231         0.032867            0.037           0.970\n",
            "===========================================================================\n",
            "\n",
            "Correlation matrix of residuals\n",
            "            Close     Close\n",
            "Close    1.000000  0.794032\n",
            "Close    0.794032  1.000000\n",
            "\n",
            "\n",
            ", ('Chevron Corporation', 'Valero Energy Corporation'):   Summary of Regression Results   \n",
            "==================================\n",
            "Model:                         VAR\n",
            "Method:                        OLS\n",
            "Date:           Tue, 09, Apr, 2024\n",
            "Time:                     21:57:51\n",
            "--------------------------------------------------------------------\n",
            "No. of Equations:         2.00000    BIC:                    2.28422\n",
            "Nobs:                     2513.00    HQIC:                   2.27536\n",
            "Log likelihood:          -9978.22    FPE:                    9.68236\n",
            "AIC:                      2.27031    Det(Omega_mle):         9.65928\n",
            "--------------------------------------------------------------------\n",
            "Results for equation Close\n",
            "===========================================================================\n",
            "              coefficient       std. error           t-stat            prob\n",
            "---------------------------------------------------------------------------\n",
            "const            0.362925         0.201592            1.800           0.072\n",
            "L1.Close         0.995901         0.002783          357.796           0.000\n",
            "L1.Close         0.001721         0.002543            0.677           0.499\n",
            "===========================================================================\n",
            "\n",
            "Results for equation Close\n",
            "===========================================================================\n",
            "              coefficient       std. error           t-stat            prob\n",
            "---------------------------------------------------------------------------\n",
            "const           -0.043077         0.195986           -0.220           0.826\n",
            "L1.Close         0.002275         0.002706            0.841           0.400\n",
            "L1.Close         0.997835         0.002472          403.641           0.000\n",
            "===========================================================================\n",
            "\n",
            "Correlation matrix of residuals\n",
            "            Close     Close\n",
            "Close    1.000000  0.624817\n",
            "Close    0.624817  1.000000\n",
            "\n",
            "\n",
            ", ('Chevron Corporation', 'ExxonMobil'):   Summary of Regression Results   \n",
            "==================================\n",
            "Model:                         VAR\n",
            "Method:                        OLS\n",
            "Date:           Tue, 09, Apr, 2024\n",
            "Time:                     21:57:52\n",
            "--------------------------------------------------------------------\n",
            "No. of Equations:         2.00000    BIC:                   0.824158\n",
            "Nobs:                     2506.00    HQIC:                  0.773803\n",
            "Log likelihood:          -8011.34    FPE:                    2.10667\n",
            "AIC:                     0.745108    Det(Omega_mle):         2.07838\n",
            "--------------------------------------------------------------------\n",
            "Results for equation Close\n",
            "===========================================================================\n",
            "              coefficient       std. error           t-stat            prob\n",
            "---------------------------------------------------------------------------\n",
            "const            0.366397         0.198576            1.845           0.065\n",
            "L1.Close         0.909240         0.035113           25.895           0.000\n",
            "L1.Close         0.122843         0.056282            2.183           0.029\n",
            "L2.Close         0.155119         0.048766            3.181           0.001\n",
            "L2.Close        -0.193348         0.079461           -2.433           0.015\n",
            "L3.Close        -0.089551         0.048844           -1.833           0.067\n",
            "L3.Close         0.078468         0.079549            0.986           0.324\n",
            "L4.Close        -0.014823         0.048883           -0.303           0.762\n",
            "L4.Close         0.082934         0.079559            1.042           0.297\n",
            "L5.Close         0.014603         0.048868            0.299           0.765\n",
            "L5.Close        -0.045002         0.079572           -0.566           0.572\n",
            "L6.Close         0.004542         0.048840            0.093           0.926\n",
            "L6.Close        -0.066053         0.079623           -0.830           0.407\n",
            "L7.Close         0.171956         0.048817            3.522           0.000\n",
            "L7.Close        -0.126077         0.079645           -1.583           0.113\n",
            "L8.Close        -0.152766         0.035072           -4.356           0.000\n",
            "L8.Close         0.144343         0.056359            2.561           0.010\n",
            "===========================================================================\n",
            "\n",
            "Results for equation Close\n",
            "===========================================================================\n",
            "              coefficient       std. error           t-stat            prob\n",
            "---------------------------------------------------------------------------\n",
            "const            0.066272         0.124331            0.533           0.594\n",
            "L1.Close        -0.045141         0.021985           -2.053           0.040\n",
            "L1.Close         1.061422         0.035239           30.121           0.000\n",
            "L2.Close         0.066715         0.030533            2.185           0.029\n",
            "L2.Close        -0.110178         0.049751           -2.215           0.027\n",
            "L3.Close        -0.020961         0.030582           -0.685           0.493\n",
            "L3.Close         0.021320         0.049806            0.428           0.669\n",
            "L4.Close        -0.013516         0.030607           -0.442           0.659\n",
            "L4.Close         0.042245         0.049813            0.848           0.396\n",
            "L5.Close        -0.006065         0.030597           -0.198           0.843\n",
            "L5.Close         0.006569         0.049821            0.132           0.895\n",
            "L6.Close         0.033775         0.030580            1.104           0.269\n",
            "L6.Close        -0.061797         0.049853           -1.240           0.215\n",
            "L7.Close         0.031175         0.030565            1.020           0.308\n",
            "L7.Close        -0.013279         0.049867           -0.266           0.790\n",
            "L8.Close        -0.044608         0.021959           -2.031           0.042\n",
            "L8.Close         0.050960         0.035287            1.444           0.149\n",
            "===========================================================================\n",
            "\n",
            "Correlation matrix of residuals\n",
            "            Close     Close\n",
            "Close    1.000000  0.823341\n",
            "Close    0.823341  1.000000\n",
            "\n",
            "\n",
            ", ('Chevron Corporation', 'Hess Corporation'):   Summary of Regression Results   \n",
            "==================================\n",
            "Model:                         VAR\n",
            "Method:                        OLS\n",
            "Date:           Tue, 09, Apr, 2024\n",
            "Time:                     21:57:52\n",
            "--------------------------------------------------------------------\n",
            "No. of Equations:         2.00000    BIC:                    2.04851\n",
            "Nobs:                     2506.00    HQIC:                   1.99816\n",
            "Log likelihood:          -9545.46    FPE:                    7.16683\n",
            "AIC:                      1.96946    Det(Omega_mle):         7.07057\n",
            "--------------------------------------------------------------------\n",
            "Results for equation Close\n",
            "===========================================================================\n",
            "              coefficient       std. error           t-stat            prob\n",
            "---------------------------------------------------------------------------\n",
            "const            0.425741         0.234187            1.818           0.069\n",
            "L1.Close         0.925679         0.029758           31.107           0.000\n",
            "L1.Close         0.066189         0.030479            2.172           0.030\n",
            "L2.Close         0.106923         0.040670            2.629           0.009\n",
            "L2.Close        -0.077127         0.042699           -1.806           0.071\n",
            "L3.Close        -0.085874         0.040739           -2.108           0.035\n",
            "L3.Close         0.051482         0.042729            1.205           0.228\n",
            "L4.Close         0.066755         0.040747            1.638           0.101\n",
            "L4.Close        -0.048478         0.042733           -1.134           0.257\n",
            "L5.Close        -0.054867         0.040753           -1.346           0.178\n",
            "L5.Close         0.061943         0.042740            1.449           0.147\n",
            "L6.Close        -0.048625         0.040745           -1.193           0.233\n",
            "L6.Close         0.023738         0.042767            0.555           0.579\n",
            "L7.Close         0.208147         0.040657            5.120           0.000\n",
            "L7.Close        -0.137836         0.042716           -3.227           0.001\n",
            "L8.Close        -0.122383         0.029735           -4.116           0.000\n",
            "L8.Close         0.061269         0.030527            2.007           0.045\n",
            "===========================================================================\n",
            "\n",
            "Results for equation Close\n",
            "===========================================================================\n",
            "              coefficient       std. error           t-stat            prob\n",
            "---------------------------------------------------------------------------\n",
            "const           -0.066266         0.229269           -0.289           0.773\n",
            "L1.Close        -0.018690         0.029133           -0.642           0.521\n",
            "L1.Close         1.030096         0.029838           34.522           0.000\n",
            "L2.Close         0.009963         0.039815            0.250           0.802\n",
            "L2.Close        -0.010724         0.041802           -0.257           0.798\n",
            "L3.Close        -0.045189         0.039883           -1.133           0.257\n",
            "L3.Close         0.021600         0.041832            0.516           0.606\n",
            "L4.Close         0.049730         0.039891            1.247           0.213\n",
            "L4.Close        -0.049792         0.041836           -1.190           0.234\n",
            "L5.Close        -0.011727         0.039897           -0.294           0.769\n",
            "L5.Close         0.010309         0.041842            0.246           0.805\n",
            "L6.Close        -0.001988         0.039889           -0.050           0.960\n",
            "L6.Close         0.022816         0.041869            0.545           0.586\n",
            "L7.Close         0.084959         0.039803            2.134           0.033\n",
            "L7.Close        -0.093187         0.041819           -2.228           0.026\n",
            "L8.Close        -0.064920         0.029110           -2.230           0.026\n",
            "L8.Close         0.066779         0.029886            2.234           0.025\n",
            "===========================================================================\n",
            "\n",
            "Correlation matrix of residuals\n",
            "            Close     Close\n",
            "Close    1.000000  0.742069\n",
            "Close    0.742069  1.000000\n",
            "\n",
            "\n",
            ", ('Chevron Corporation', 'Devon Energy Corporation'):   Summary of Regression Results   \n",
            "==================================\n",
            "Model:                         VAR\n",
            "Method:                        OLS\n",
            "Date:           Tue, 09, Apr, 2024\n",
            "Time:                     21:57:53\n",
            "--------------------------------------------------------------------\n",
            "No. of Equations:         2.00000    BIC:                    1.16172\n",
            "Nobs:                     2506.00    HQIC:                   1.11137\n",
            "Log likelihood:          -8434.31    FPE:                    2.95255\n",
            "AIC:                      1.08267    Det(Omega_mle):         2.91290\n",
            "--------------------------------------------------------------------\n",
            "Results for equation Close\n",
            "===========================================================================\n",
            "              coefficient       std. error           t-stat            prob\n",
            "---------------------------------------------------------------------------\n",
            "const            0.332310         0.192969            1.722           0.085\n",
            "L1.Close         0.903099         0.027055           33.380           0.000\n",
            "L1.Close         0.183288         0.047428            3.865           0.000\n",
            "L2.Close         0.127447         0.036208            3.520           0.000\n",
            "L2.Close        -0.207622         0.064815           -3.203           0.001\n",
            "L3.Close        -0.070400         0.036527           -1.927           0.054\n",
            "L3.Close         0.073410         0.065209            1.126           0.260\n",
            "L4.Close         0.014913         0.036563            0.408           0.683\n",
            "L4.Close         0.042956         0.065264            0.658           0.510\n",
            "L5.Close         0.012497         0.036569            0.342           0.733\n",
            "L5.Close        -0.068198         0.065269           -1.045           0.296\n",
            "L6.Close        -0.038721         0.036523           -1.060           0.289\n",
            "L6.Close         0.032716         0.065233            0.502           0.616\n",
            "L7.Close         0.159372         0.036210            4.401           0.000\n",
            "L7.Close        -0.141000         0.064822           -2.175           0.030\n",
            "L8.Close        -0.110757         0.027060           -4.093           0.000\n",
            "L8.Close         0.084170         0.047422            1.775           0.076\n",
            "===========================================================================\n",
            "\n",
            "Results for equation Close\n",
            "===========================================================================\n",
            "              coefficient       std. error           t-stat            prob\n",
            "---------------------------------------------------------------------------\n",
            "const            0.086501         0.110446            0.783           0.434\n",
            "L1.Close         0.005768         0.015485            0.372           0.710\n",
            "L1.Close         1.000731         0.027145           36.866           0.000\n",
            "L2.Close        -0.039990         0.020723           -1.930           0.054\n",
            "L2.Close         0.045013         0.037097            1.213           0.225\n",
            "L3.Close        -0.000107         0.020906           -0.005           0.996\n",
            "L3.Close        -0.024498         0.037322           -0.656           0.512\n",
            "L4.Close         0.016809         0.020927            0.803           0.422\n",
            "L4.Close         0.013466         0.037354            0.360           0.718\n",
            "L5.Close         0.014668         0.020930            0.701           0.483\n",
            "L5.Close        -0.033432         0.037357           -0.895           0.371\n",
            "L6.Close         0.003063         0.020904            0.147           0.884\n",
            "L6.Close         0.001837         0.037336            0.049           0.961\n",
            "L7.Close         0.020017         0.020725            0.966           0.334\n",
            "L7.Close        -0.023173         0.037101           -0.625           0.532\n",
            "L8.Close        -0.019961         0.015488           -1.289           0.197\n",
            "L8.Close         0.017019         0.027142            0.627           0.531\n",
            "===========================================================================\n",
            "\n",
            "Correlation matrix of residuals\n",
            "            Close     Close\n",
            "Close    1.000000  0.675222\n",
            "Close    0.675222  1.000000\n",
            "\n",
            "\n",
            ", ('Chevron Corporation', 'Pioneer Natural Resources Company'):   Summary of Regression Results   \n",
            "==================================\n",
            "Model:                         VAR\n",
            "Method:                        OLS\n",
            "Date:           Tue, 09, Apr, 2024\n",
            "Time:                     21:57:53\n",
            "--------------------------------------------------------------------\n",
            "No. of Equations:         2.00000    BIC:                    3.61338\n",
            "Nobs:                     2506.00    HQIC:                   3.56302\n",
            "Log likelihood:          -11506.2    FPE:                    34.2720\n",
            "AIC:                      3.53433    Det(Omega_mle):         33.8117\n",
            "--------------------------------------------------------------------\n",
            "Results for equation Close\n",
            "===========================================================================\n",
            "              coefficient       std. error           t-stat            prob\n",
            "---------------------------------------------------------------------------\n",
            "const            0.344245         0.192236            1.791           0.073\n",
            "L1.Close         0.933862         0.027250           34.270           0.000\n",
            "L1.Close         0.027124         0.014002            1.937           0.053\n",
            "L2.Close         0.093722         0.037737            2.484           0.013\n",
            "L2.Close        -0.028819         0.019578           -1.472           0.141\n",
            "L3.Close        -0.064693         0.037738           -1.714           0.086\n",
            "L3.Close         0.010143         0.019572            0.518           0.604\n",
            "L4.Close         0.015635         0.037760            0.414           0.679\n",
            "L4.Close         0.013822         0.019572            0.706           0.480\n",
            "L5.Close        -0.007513         0.037742           -0.199           0.842\n",
            "L5.Close        -0.001226         0.019570           -0.063           0.950\n",
            "L6.Close        -0.029843         0.037741           -0.791           0.429\n",
            "L6.Close        -0.002430         0.019573           -0.124           0.901\n",
            "L7.Close         0.124639         0.037722            3.304           0.001\n",
            "L7.Close        -0.010267         0.019575           -0.524           0.600\n",
            "L8.Close        -0.072304         0.027203           -2.658           0.008\n",
            "L8.Close        -0.005756         0.014001           -0.411           0.681\n",
            "===========================================================================\n",
            "\n",
            "Results for equation Close\n",
            "===========================================================================\n",
            "              coefficient       std. error           t-stat            prob\n",
            "---------------------------------------------------------------------------\n",
            "const            0.433107         0.375269            1.154           0.248\n",
            "L1.Close        -0.084400         0.053195           -1.587           0.113\n",
            "L1.Close         1.014644         0.027333           37.122           0.000\n",
            "L2.Close         0.090138         0.073667            1.224           0.221\n",
            "L2.Close        -0.006568         0.038219           -0.172           0.864\n",
            "L3.Close        -0.121405         0.073670           -1.648           0.099\n",
            "L3.Close         0.025037         0.038207            0.655           0.512\n",
            "L4.Close         0.073632         0.073713            0.999           0.318\n",
            "L4.Close        -0.028569         0.038208           -0.748           0.455\n",
            "L5.Close         0.006920         0.073677            0.094           0.925\n",
            "L5.Close        -0.012050         0.038203           -0.315           0.752\n",
            "L6.Close         0.025333         0.073674            0.344           0.731\n",
            "L6.Close         0.018323         0.038209            0.480           0.632\n",
            "L7.Close         0.038476         0.073637            0.523           0.601\n",
            "L7.Close        -0.004786         0.038213           -0.125           0.900\n",
            "L8.Close        -0.025886         0.053104           -0.487           0.626\n",
            "L8.Close        -0.010350         0.027332           -0.379           0.705\n",
            "===========================================================================\n",
            "\n",
            "Correlation matrix of residuals\n",
            "            Close     Close\n",
            "Close    1.000000  0.680718\n",
            "Close    0.680718  1.000000\n",
            "\n",
            "\n",
            ", ('Marathon Oil Corporation', 'ConocoPhillips'):   Summary of Regression Results   \n",
            "==================================\n",
            "Model:                         VAR\n",
            "Method:                        OLS\n",
            "Date:           Tue, 09, Apr, 2024\n",
            "Time:                     21:57:54\n",
            "--------------------------------------------------------------------\n",
            "No. of Equations:         2.00000    BIC:                   -1.53805\n",
            "Nobs:                     2512.00    HQIC:                  -1.55283\n",
            "Log likelihood:          -5157.82    FPE:                   0.209873\n",
            "AIC:                     -1.56125    Det(Omega_mle):        0.209040\n",
            "--------------------------------------------------------------------\n",
            "Results for equation Close\n",
            "===========================================================================\n",
            "              coefficient       std. error           t-stat            prob\n",
            "---------------------------------------------------------------------------\n",
            "const            0.019801         0.029707            0.667           0.505\n",
            "L1.Close         1.053763         0.034103           30.900           0.000\n",
            "L1.Close        -0.018454         0.011571           -1.595           0.111\n",
            "L2.Close        -0.058170         0.034060           -1.708           0.088\n",
            "L2.Close         0.019337         0.011573            1.671           0.095\n",
            "===========================================================================\n",
            "\n",
            "Results for equation Close\n",
            "===========================================================================\n",
            "              coefficient       std. error           t-stat            prob\n",
            "---------------------------------------------------------------------------\n",
            "const            0.075648         0.087380            0.866           0.387\n",
            "L1.Close         0.336873         0.100310            3.358           0.001\n",
            "L1.Close         0.886689         0.034035           26.053           0.000\n",
            "L2.Close        -0.343467         0.100184           -3.428           0.001\n",
            "L2.Close         0.114399         0.034040            3.361           0.001\n",
            "===========================================================================\n",
            "\n",
            "Correlation matrix of residuals\n",
            "            Close     Close\n",
            "Close    1.000000  0.810848\n",
            "Close    0.810848  1.000000\n",
            "\n",
            "\n",
            ", ('Marathon Oil Corporation', 'Valero Energy Corporation'):   Summary of Regression Results   \n",
            "==================================\n",
            "Model:                         VAR\n",
            "Method:                        OLS\n",
            "Date:           Tue, 09, Apr, 2024\n",
            "Time:                     21:57:54\n",
            "--------------------------------------------------------------------\n",
            "No. of Equations:         2.00000    BIC:                  -0.295928\n",
            "Nobs:                     2513.00    HQIC:                 -0.304794\n",
            "Log likelihood:          -6736.26    FPE:                   0.733560\n",
            "AIC:                    -0.309846    Det(Omega_mle):        0.731812\n",
            "--------------------------------------------------------------------\n",
            "Results for equation Close\n",
            "===========================================================================\n",
            "              coefficient       std. error           t-stat            prob\n",
            "---------------------------------------------------------------------------\n",
            "const            0.020187         0.034719            0.581           0.561\n",
            "L1.Close         0.997154         0.001313          759.235           0.000\n",
            "L1.Close         0.000366         0.000387            0.945           0.344\n",
            "===========================================================================\n",
            "\n",
            "Results for equation Close\n",
            "===========================================================================\n",
            "              coefficient       std. error           t-stat            prob\n",
            "---------------------------------------------------------------------------\n",
            "const            0.082326         0.132491            0.621           0.534\n",
            "L1.Close         0.000380         0.005012            0.076           0.940\n",
            "L1.Close         0.999514         0.001478          676.342           0.000\n",
            "===========================================================================\n",
            "\n",
            "Correlation matrix of residuals\n",
            "            Close     Close\n",
            "Close    1.000000  0.537390\n",
            "Close    0.537390  1.000000\n",
            "\n",
            "\n",
            ", ('Marathon Oil Corporation', 'ExxonMobil'):   Summary of Regression Results   \n",
            "==================================\n",
            "Model:                         VAR\n",
            "Method:                        OLS\n",
            "Date:           Tue, 09, Apr, 2024\n",
            "Time:                     21:57:54\n",
            "--------------------------------------------------------------------\n",
            "No. of Equations:         2.00000    BIC:                   -1.57419\n",
            "Nobs:                     2513.00    HQIC:                  -1.58305\n",
            "Log likelihood:          -5130.13    FPE:                   0.204313\n",
            "AIC:                     -1.58810    Det(Omega_mle):        0.203826\n",
            "--------------------------------------------------------------------\n",
            "Results for equation Close\n",
            "===========================================================================\n",
            "              coefficient       std. error           t-stat            prob\n",
            "---------------------------------------------------------------------------\n",
            "const            0.036176         0.048984            0.739           0.460\n",
            "L1.Close         0.997304         0.002050          486.380           0.000\n",
            "L1.Close         0.000140         0.000896            0.157           0.875\n",
            "===========================================================================\n",
            "\n",
            "Results for equation Close\n",
            "===========================================================================\n",
            "              coefficient       std. error           t-stat            prob\n",
            "---------------------------------------------------------------------------\n",
            "const            0.149670         0.119730            1.250           0.211\n",
            "L1.Close         0.002358         0.005012            0.471           0.638\n",
            "L1.Close         0.997718         0.002189          455.792           0.000\n",
            "===========================================================================\n",
            "\n",
            "Correlation matrix of residuals\n",
            "            Close     Close\n",
            "Close    1.000000  0.719372\n",
            "Close    0.719372  1.000000\n",
            "\n",
            "\n",
            ", ('Marathon Oil Corporation', 'Hess Corporation'):   Summary of Regression Results   \n",
            "==================================\n",
            "Model:                         VAR\n",
            "Method:                        OLS\n",
            "Date:           Tue, 09, Apr, 2024\n",
            "Time:                     21:57:54\n",
            "--------------------------------------------------------------------\n",
            "No. of Equations:         2.00000    BIC:                  -0.912490\n",
            "Nobs:                     2513.00    HQIC:                 -0.921356\n",
            "Log likelihood:          -5961.55    FPE:                   0.395974\n",
            "AIC:                    -0.926408    Det(Omega_mle):        0.395030\n",
            "--------------------------------------------------------------------\n",
            "Results for equation Close\n",
            "===========================================================================\n",
            "              coefficient       std. error           t-stat            prob\n",
            "---------------------------------------------------------------------------\n",
            "const            0.029299         0.027634            1.060           0.289\n",
            "L1.Close         0.996280         0.001643          606.230           0.000\n",
            "L1.Close         0.000485         0.000408            1.188           0.235\n",
            "===========================================================================\n",
            "\n",
            "Results for equation Close\n",
            "===========================================================================\n",
            "              coefficient       std. error           t-stat            prob\n",
            "---------------------------------------------------------------------------\n",
            "const            0.116753         0.105471            1.107           0.268\n",
            "L1.Close        -0.006773         0.006272           -1.080           0.280\n",
            "L1.Close         1.000486         0.001557          642.465           0.000\n",
            "===========================================================================\n",
            "\n",
            "Correlation matrix of residuals\n",
            "            Close     Close\n",
            "Close    1.000000  0.784895\n",
            "Close    0.784895  1.000000\n",
            "\n",
            "\n",
            ", ('Marathon Oil Corporation', 'Devon Energy Corporation'):   Summary of Regression Results   \n",
            "==================================\n",
            "Model:                         VAR\n",
            "Method:                        OLS\n",
            "Date:           Tue, 09, Apr, 2024\n",
            "Time:                     21:57:55\n",
            "--------------------------------------------------------------------\n",
            "No. of Equations:         2.00000    BIC:                   -2.21292\n",
            "Nobs:                     2513.00    HQIC:                  -2.22178\n",
            "Log likelihood:          -4327.57    FPE:                   0.107869\n",
            "AIC:                     -2.22683    Det(Omega_mle):        0.107612\n",
            "--------------------------------------------------------------------\n",
            "Results for equation Close\n",
            "===========================================================================\n",
            "              coefficient       std. error           t-stat            prob\n",
            "---------------------------------------------------------------------------\n",
            "const            0.031293         0.026448            1.183           0.237\n",
            "L1.Close         0.992755         0.003584          277.013           0.000\n",
            "L1.Close         0.002466         0.001725            1.429           0.153\n",
            "===========================================================================\n",
            "\n",
            "Results for equation Close\n",
            "===========================================================================\n",
            "              coefficient       std. error           t-stat            prob\n",
            "---------------------------------------------------------------------------\n",
            "const            0.101217         0.059004            1.715           0.086\n",
            "L1.Close        -0.003935         0.007995           -0.492           0.623\n",
            "L1.Close         0.999174         0.003849          259.583           0.000\n",
            "===========================================================================\n",
            "\n",
            "Correlation matrix of residuals\n",
            "            Close     Close\n",
            "Close    1.000000  0.832893\n",
            "Close    0.832893  1.000000\n",
            "\n",
            "\n",
            ", ('Marathon Oil Corporation', 'Pioneer Natural Resources Company'):   Summary of Regression Results   \n",
            "==================================\n",
            "Model:                         VAR\n",
            "Method:                        OLS\n",
            "Date:           Tue, 09, Apr, 2024\n",
            "Time:                     21:57:55\n",
            "--------------------------------------------------------------------\n",
            "No. of Equations:         2.00000    BIC:                   0.597372\n",
            "Nobs:                     2513.00    HQIC:                  0.588506\n",
            "Log likelihood:          -7858.70    FPE:                    1.79222\n",
            "AIC:                     0.583454    Det(Omega_mle):         1.78795\n",
            "--------------------------------------------------------------------\n",
            "Results for equation Close\n",
            "===========================================================================\n",
            "              coefficient       std. error           t-stat            prob\n",
            "---------------------------------------------------------------------------\n",
            "const           -0.037452         0.042274           -0.886           0.376\n",
            "L1.Close         0.994309         0.001852          536.764           0.000\n",
            "L1.Close         0.000824         0.000349            2.362           0.018\n",
            "===========================================================================\n",
            "\n",
            "Results for equation Close\n",
            "===========================================================================\n",
            "              coefficient       std. error           t-stat            prob\n",
            "---------------------------------------------------------------------------\n",
            "const            0.457416         0.322716            1.417           0.156\n",
            "L1.Close        -0.015407         0.014141           -1.090           0.276\n",
            "L1.Close         0.999182         0.002663          375.159           0.000\n",
            "===========================================================================\n",
            "\n",
            "Correlation matrix of residuals\n",
            "            Close     Close\n",
            "Close    1.000000  0.751107\n",
            "Close    0.751107  1.000000\n",
            "\n",
            "\n",
            ", ('ConocoPhillips', 'Valero Energy Corporation'):   Summary of Regression Results   \n",
            "==================================\n",
            "Model:                         VAR\n",
            "Method:                        OLS\n",
            "Date:           Tue, 09, Apr, 2024\n",
            "Time:                     21:57:55\n",
            "--------------------------------------------------------------------\n",
            "No. of Equations:         2.00000    BIC:                    1.74159\n",
            "Nobs:                     2511.00    HQIC:                   1.72089\n",
            "Log likelihood:          -9257.68    FPE:                    5.52396\n",
            "AIC:                      1.70909    Det(Omega_mle):         5.49329\n",
            "--------------------------------------------------------------------\n",
            "Results for equation Close\n",
            "===========================================================================\n",
            "              coefficient       std. error           t-stat            prob\n",
            "---------------------------------------------------------------------------\n",
            "const            0.032952         0.095253            0.346           0.729\n",
            "L1.Close         0.971515         0.025380           38.278           0.000\n",
            "L1.Close         0.010098         0.019632            0.514           0.607\n",
            "L2.Close         0.011893         0.035795            0.332           0.740\n",
            "L2.Close         0.035805         0.027755            1.290           0.197\n",
            "L3.Close         0.014798         0.025383            0.583           0.560\n",
            "L3.Close        -0.044562         0.019643           -2.269           0.023\n",
            "===========================================================================\n",
            "\n",
            "Results for equation Close\n",
            "===========================================================================\n",
            "              coefficient       std. error           t-stat            prob\n",
            "---------------------------------------------------------------------------\n",
            "const            0.063134         0.123178            0.513           0.608\n",
            "L1.Close        -0.047091         0.032821           -1.435           0.151\n",
            "L1.Close         1.010389         0.025388           39.799           0.000\n",
            "L2.Close         0.137807         0.046289            2.977           0.003\n",
            "L2.Close        -0.024650         0.035892           -0.687           0.492\n",
            "L3.Close        -0.087582         0.032825           -2.668           0.008\n",
            "L3.Close         0.011478         0.025401            0.452           0.651\n",
            "===========================================================================\n",
            "\n",
            "Correlation matrix of residuals\n",
            "            Close     Close\n",
            "Close    1.000000  0.618246\n",
            "Close    0.618246  1.000000\n",
            "\n",
            "\n",
            ", ('ConocoPhillips', 'ExxonMobil'):   Summary of Regression Results   \n",
            "==================================\n",
            "Model:                         VAR\n",
            "Method:                        OLS\n",
            "Date:           Tue, 09, Apr, 2024\n",
            "Time:                     21:57:55\n",
            "--------------------------------------------------------------------\n",
            "No. of Equations:         2.00000    BIC:                   0.318618\n",
            "Nobs:                     2513.00    HQIC:                  0.309752\n",
            "Log likelihood:          -7508.44    FPE:                    1.35622\n",
            "AIC:                     0.304701    Det(Omega_mle):         1.35299\n",
            "--------------------------------------------------------------------\n",
            "Results for equation Close\n",
            "===========================================================================\n",
            "              coefficient       std. error           t-stat            prob\n",
            "---------------------------------------------------------------------------\n",
            "const            0.207863         0.133425            1.558           0.119\n",
            "L1.Close         1.001289         0.001711          585.084           0.000\n",
            "L1.Close        -0.003360         0.002293           -1.465           0.143\n",
            "===========================================================================\n",
            "\n",
            "Results for equation Close\n",
            "===========================================================================\n",
            "              coefficient       std. error           t-stat            prob\n",
            "---------------------------------------------------------------------------\n",
            "const            0.151040         0.110660            1.365           0.172\n",
            "L1.Close         0.002433         0.001419            1.714           0.086\n",
            "L1.Close         0.996198         0.001902          523.779           0.000\n",
            "===========================================================================\n",
            "\n",
            "Correlation matrix of residuals\n",
            "            Close     Close\n",
            "Close    1.000000  0.794001\n",
            "Close    0.794001  1.000000\n",
            "\n",
            "\n",
            ", ('ConocoPhillips', 'Hess Corporation'):   Summary of Regression Results   \n",
            "==================================\n",
            "Model:                         VAR\n",
            "Method:                        OLS\n",
            "Date:           Tue, 09, Apr, 2024\n",
            "Time:                     21:57:56\n",
            "--------------------------------------------------------------------\n",
            "No. of Equations:         2.00000    BIC:                    1.06917\n",
            "Nobs:                     2513.00    HQIC:                   1.06030\n",
            "Log likelihood:          -8451.51    FPE:                    2.87270\n",
            "AIC:                      1.05525    Det(Omega_mle):         2.86585\n",
            "--------------------------------------------------------------------\n",
            "Results for equation Close\n",
            "===========================================================================\n",
            "              coefficient       std. error           t-stat            prob\n",
            "---------------------------------------------------------------------------\n",
            "const            0.068130         0.089494            0.761           0.446\n",
            "L1.Close         0.998026         0.003873          257.670           0.000\n",
            "L1.Close         0.001172         0.002950            0.397           0.691\n",
            "===========================================================================\n",
            "\n",
            "Results for equation Close\n",
            "===========================================================================\n",
            "              coefficient       std. error           t-stat            prob\n",
            "---------------------------------------------------------------------------\n",
            "const            0.005048         0.115883            0.044           0.965\n",
            "L1.Close         0.005790         0.005015            1.154           0.248\n",
            "L1.Close         0.995187         0.003820          260.503           0.000\n",
            "===========================================================================\n",
            "\n",
            "Correlation matrix of residuals\n",
            "            Close     Close\n",
            "Close    1.000000  0.824234\n",
            "Close    0.824234  1.000000\n",
            "\n",
            "\n",
            ", ('ConocoPhillips', 'Devon Energy Corporation'):   Summary of Regression Results   \n",
            "==================================\n",
            "Model:                         VAR\n",
            "Method:                        OLS\n",
            "Date:           Tue, 09, Apr, 2024\n",
            "Time:                     21:57:56\n",
            "--------------------------------------------------------------------\n",
            "No. of Equations:         2.00000    BIC:                   0.241144\n",
            "Nobs:                     2512.00    HQIC:                  0.226362\n",
            "Log likelihood:          -7392.48    FPE:                    1.24351\n",
            "AIC:                     0.217940    Det(Omega_mle):         1.23858\n",
            "--------------------------------------------------------------------\n",
            "Results for equation Close\n",
            "===========================================================================\n",
            "              coefficient       std. error           t-stat            prob\n",
            "---------------------------------------------------------------------------\n",
            "const            0.066560         0.089808            0.741           0.459\n",
            "L1.Close         0.911849         0.031237           29.192           0.000\n",
            "L1.Close         0.116765         0.041275            2.829           0.005\n",
            "L2.Close         0.088447         0.031274            2.828           0.005\n",
            "L2.Close        -0.118241         0.041258           -2.866           0.004\n",
            "===========================================================================\n",
            "\n",
            "Results for equation Close\n",
            "===========================================================================\n",
            "              coefficient       std. error           t-stat            prob\n",
            "---------------------------------------------------------------------------\n",
            "const            0.095869         0.068087            1.408           0.159\n",
            "L1.Close        -0.014030         0.023682           -0.592           0.554\n",
            "L1.Close         1.024747         0.031292           32.748           0.000\n",
            "L2.Close         0.014262         0.023710            0.602           0.547\n",
            "L2.Close        -0.027615         0.031279           -0.883           0.377\n",
            "===========================================================================\n",
            "\n",
            "Correlation matrix of residuals\n",
            "            Close     Close\n",
            "Close    1.000000  0.770348\n",
            "Close    0.770348  1.000000\n",
            "\n",
            "\n",
            ", ('ConocoPhillips', 'Pioneer Natural Resources Company'):   Summary of Regression Results   \n",
            "==================================\n",
            "Model:                         VAR\n",
            "Method:                        OLS\n",
            "Date:           Tue, 09, Apr, 2024\n",
            "Time:                     21:57:56\n",
            "--------------------------------------------------------------------\n",
            "No. of Equations:         2.00000    BIC:                    2.75811\n",
            "Nobs:                     2511.00    HQIC:                   2.73741\n",
            "Log likelihood:          -10533.9    FPE:                    15.2658\n",
            "AIC:                      2.72562    Det(Omega_mle):         15.1811\n",
            "--------------------------------------------------------------------\n",
            "Results for equation Close\n",
            "===========================================================================\n",
            "              coefficient       std. error           t-stat            prob\n",
            "---------------------------------------------------------------------------\n",
            "const           -0.014897         0.127623           -0.117           0.907\n",
            "L1.Close         0.925915         0.030583           30.275           0.000\n",
            "L1.Close         0.027804         0.011804            2.355           0.019\n",
            "L2.Close         0.100145         0.041871            2.392           0.017\n",
            "L2.Close        -0.030904         0.016233           -1.904           0.057\n",
            "L3.Close        -0.028006         0.030550           -0.917           0.359\n",
            "L3.Close         0.004100         0.011802            0.347           0.728\n",
            "===========================================================================\n",
            "\n",
            "Results for equation Close\n",
            "===========================================================================\n",
            "              coefficient       std. error           t-stat            prob\n",
            "---------------------------------------------------------------------------\n",
            "const            0.646948         0.330176            1.959           0.050\n",
            "L1.Close        -0.033450         0.079123           -0.423           0.672\n",
            "L1.Close         0.996452         0.030539           32.629           0.000\n",
            "L2.Close         0.245460         0.108326            2.266           0.023\n",
            "L2.Close        -0.047372         0.041996           -1.128           0.259\n",
            "L3.Close        -0.207440         0.079035           -2.625           0.009\n",
            "L3.Close         0.045457         0.030532            1.489           0.137\n",
            "===========================================================================\n",
            "\n",
            "Correlation matrix of residuals\n",
            "            Close     Close\n",
            "Close    1.000000  0.757268\n",
            "Close    0.757268  1.000000\n",
            "\n",
            "\n",
            ", ('Valero Energy Corporation', 'ExxonMobil'):   Summary of Regression Results   \n",
            "==================================\n",
            "Model:                         VAR\n",
            "Method:                        OLS\n",
            "Date:           Tue, 09, Apr, 2024\n",
            "Time:                     21:57:56\n",
            "--------------------------------------------------------------------\n",
            "No. of Equations:         2.00000    BIC:                    1.34301\n",
            "Nobs:                     2513.00    HQIC:                   1.33414\n",
            "Log likelihood:          -8795.59    FPE:                    3.77760\n",
            "AIC:                      1.32909    Det(Omega_mle):         3.76860\n",
            "--------------------------------------------------------------------\n",
            "Results for equation Close\n",
            "===========================================================================\n",
            "              coefficient       std. error           t-stat            prob\n",
            "---------------------------------------------------------------------------\n",
            "const            0.102474         0.173885            0.589           0.556\n",
            "L1.Close         0.999667         0.001662          601.318           0.000\n",
            "L1.Close        -0.000319         0.002462           -0.129           0.897\n",
            "===========================================================================\n",
            "\n",
            "Results for equation Close\n",
            "===========================================================================\n",
            "              coefficient       std. error           t-stat            prob\n",
            "---------------------------------------------------------------------------\n",
            "const            0.101832         0.111358            0.914           0.360\n",
            "L1.Close         0.001463         0.001065            1.374           0.169\n",
            "L1.Close         0.997363         0.001577          632.436           0.000\n",
            "===========================================================================\n",
            "\n",
            "Correlation matrix of residuals\n",
            "            Close     Close\n",
            "Close    1.000000  0.621911\n",
            "Close    0.621911  1.000000\n",
            "\n",
            "\n",
            ", ('Valero Energy Corporation', 'Hess Corporation'):   Summary of Regression Results   \n",
            "==================================\n",
            "Model:                         VAR\n",
            "Method:                        OLS\n",
            "Date:           Tue, 09, Apr, 2024\n",
            "Time:                     21:57:56\n",
            "--------------------------------------------------------------------\n",
            "No. of Equations:         2.00000    BIC:                    2.30866\n",
            "Nobs:                     2513.00    HQIC:                   2.29980\n",
            "Log likelihood:          -10008.9    FPE:                    9.92191\n",
            "AIC:                      2.29475    Det(Omega_mle):         9.89827\n",
            "--------------------------------------------------------------------\n",
            "Results for equation Close\n",
            "===========================================================================\n",
            "              coefficient       std. error           t-stat            prob\n",
            "---------------------------------------------------------------------------\n",
            "const            0.080364         0.121536            0.661           0.508\n",
            "L1.Close         0.998296         0.002086          478.673           0.000\n",
            "L1.Close         0.001423         0.001756            0.810           0.418\n",
            "===========================================================================\n",
            "\n",
            "Results for equation Close\n",
            "===========================================================================\n",
            "              coefficient       std. error           t-stat            prob\n",
            "---------------------------------------------------------------------------\n",
            "const           -0.007319         0.121555           -0.060           0.952\n",
            "L1.Close         0.002427         0.002086            1.163           0.245\n",
            "L1.Close         0.997866         0.001756          568.167           0.000\n",
            "===========================================================================\n",
            "\n",
            "Correlation matrix of residuals\n",
            "            Close     Close\n",
            "Close    1.000000  0.582490\n",
            "Close    0.582490  1.000000\n",
            "\n",
            "\n",
            ", ('Valero Energy Corporation', 'Devon Energy Corporation'):   Summary of Regression Results   \n",
            "==================================\n",
            "Model:                         VAR\n",
            "Method:                        OLS\n",
            "Date:           Tue, 09, Apr, 2024\n",
            "Time:                     21:57:57\n",
            "--------------------------------------------------------------------\n",
            "No. of Equations:         2.00000    BIC:                    1.34816\n",
            "Nobs:                     2513.00    HQIC:                   1.33930\n",
            "Log likelihood:          -8802.06    FPE:                    3.79713\n",
            "AIC:                      1.33424    Det(Omega_mle):         3.78808\n",
            "--------------------------------------------------------------------\n",
            "Results for equation Close\n",
            "===========================================================================\n",
            "              coefficient       std. error           t-stat            prob\n",
            "---------------------------------------------------------------------------\n",
            "const            0.062723         0.137135            0.457           0.647\n",
            "L1.Close         0.999403         0.001453          688.053           0.000\n",
            "L1.Close         0.000877         0.002372            0.370           0.712\n",
            "===========================================================================\n",
            "\n",
            "Results for equation Close\n",
            "===========================================================================\n",
            "              coefficient       std. error           t-stat            prob\n",
            "---------------------------------------------------------------------------\n",
            "const            0.114931         0.080156            1.434           0.152\n",
            "L1.Close        -0.000222         0.000849           -0.262           0.794\n",
            "L1.Close         0.997496         0.001386          719.580           0.000\n",
            "===========================================================================\n",
            "\n",
            "Correlation matrix of residuals\n",
            "            Close     Close\n",
            "Close    1.000000  0.509886\n",
            "Close    0.509886  1.000000\n",
            "\n",
            "\n",
            ", ('Valero Energy Corporation', 'Pioneer Natural Resources Company'):   Summary of Regression Results   \n",
            "==================================\n",
            "Model:                         VAR\n",
            "Method:                        OLS\n",
            "Date:           Tue, 09, Apr, 2024\n",
            "Time:                     21:57:57\n",
            "--------------------------------------------------------------------\n",
            "No. of Equations:         2.00000    BIC:                    3.79968\n",
            "Nobs:                     2513.00    HQIC:                   3.79081\n",
            "Log likelihood:          -11882.4    FPE:                    44.0691\n",
            "AIC:                      3.78576    Det(Omega_mle):         43.9641\n",
            "--------------------------------------------------------------------\n",
            "Results for equation Close\n",
            "===========================================================================\n",
            "              coefficient       std. error           t-stat            prob\n",
            "---------------------------------------------------------------------------\n",
            "const           -0.008820         0.157885           -0.056           0.955\n",
            "L1.Close         0.998348         0.001892          527.579           0.000\n",
            "L1.Close         0.001138         0.001209            0.942           0.346\n",
            "===========================================================================\n",
            "\n",
            "Results for equation Close\n",
            "===========================================================================\n",
            "              coefficient       std. error           t-stat            prob\n",
            "---------------------------------------------------------------------------\n",
            "const            0.503928         0.315602            1.597           0.110\n",
            "L1.Close         0.004041         0.003783            1.068           0.285\n",
            "L1.Close         0.995285         0.002416          411.930           0.000\n",
            "===========================================================================\n",
            "\n",
            "Correlation matrix of residuals\n",
            "            Close     Close\n",
            "Close    1.000000  0.514986\n",
            "Close    0.514986  1.000000\n",
            "\n",
            "\n",
            ", ('ExxonMobil', 'Hess Corporation'):   Summary of Regression Results   \n",
            "==================================\n",
            "Model:                         VAR\n",
            "Method:                        OLS\n",
            "Date:           Tue, 09, Apr, 2024\n",
            "Time:                     21:57:57\n",
            "--------------------------------------------------------------------\n",
            "No. of Equations:         2.00000    BIC:                   0.995943\n",
            "Nobs:                     2513.00    HQIC:                  0.987077\n",
            "Log likelihood:          -8359.50    FPE:                    2.66986\n",
            "AIC:                     0.982025    Det(Omega_mle):         2.66350\n",
            "--------------------------------------------------------------------\n",
            "Results for equation Close\n",
            "===========================================================================\n",
            "              coefficient       std. error           t-stat            prob\n",
            "---------------------------------------------------------------------------\n",
            "const            0.160173         0.111935            1.431           0.152\n",
            "L1.Close         0.996636         0.001826          545.834           0.000\n",
            "L1.Close         0.001571         0.001038            1.514           0.130\n",
            "===========================================================================\n",
            "\n",
            "Results for equation Close\n",
            "===========================================================================\n",
            "              coefficient       std. error           t-stat            prob\n",
            "---------------------------------------------------------------------------\n",
            "const            0.250648         0.174800            1.434           0.152\n",
            "L1.Close        -0.003452         0.002851           -1.211           0.226\n",
            "L1.Close         1.000734         0.001621          617.421           0.000\n",
            "===========================================================================\n",
            "\n",
            "Correlation matrix of residuals\n",
            "            Close     Close\n",
            "Close    1.000000  0.752683\n",
            "Close    0.752683  1.000000\n",
            "\n",
            "\n",
            ", ('ExxonMobil', 'Devon Energy Corporation'):   Summary of Regression Results   \n",
            "==================================\n",
            "Model:                         VAR\n",
            "Method:                        OLS\n",
            "Date:           Tue, 09, Apr, 2024\n",
            "Time:                     21:57:57\n",
            "--------------------------------------------------------------------\n",
            "No. of Equations:         2.00000    BIC:                   0.111274\n",
            "Nobs:                     2513.00    HQIC:                  0.102408\n",
            "Log likelihood:          -7247.91    FPE:                    1.10225\n",
            "AIC:                    0.0973562    Det(Omega_mle):         1.09963\n",
            "--------------------------------------------------------------------\n",
            "Results for equation Close\n",
            "===========================================================================\n",
            "              coefficient       std. error           t-stat            prob\n",
            "---------------------------------------------------------------------------\n",
            "const            0.172915         0.117000            1.478           0.139\n",
            "L1.Close         0.996612         0.002157          462.086           0.000\n",
            "L1.Close         0.002690         0.002377            1.132           0.258\n",
            "===========================================================================\n",
            "\n",
            "Results for equation Close\n",
            "===========================================================================\n",
            "              coefficient       std. error           t-stat            prob\n",
            "---------------------------------------------------------------------------\n",
            "const            0.174768         0.106758            1.637           0.102\n",
            "L1.Close        -0.001637         0.001968           -0.832           0.405\n",
            "L1.Close         0.998821         0.002169          460.440           0.000\n",
            "===========================================================================\n",
            "\n",
            "Correlation matrix of residuals\n",
            "            Close     Close\n",
            "Close    1.000000  0.690105\n",
            "Close    0.690105  1.000000\n",
            "\n",
            "\n",
            ", ('ExxonMobil', 'Pioneer Natural Resources Company'):   Summary of Regression Results   \n",
            "==================================\n",
            "Model:                         VAR\n",
            "Method:                        OLS\n",
            "Date:           Tue, 09, Apr, 2024\n",
            "Time:                     21:57:58\n",
            "--------------------------------------------------------------------\n",
            "No. of Equations:         2.00000    BIC:                    2.61198\n",
            "Nobs:                     2513.00    HQIC:                   2.60312\n",
            "Log likelihood:          -10390.1    FPE:                    13.4377\n",
            "AIC:                      2.59807    Det(Omega_mle):         13.4057\n",
            "--------------------------------------------------------------------\n",
            "Results for equation Close\n",
            "===========================================================================\n",
            "              coefficient       std. error           t-stat            prob\n",
            "---------------------------------------------------------------------------\n",
            "const            0.079598         0.111908            0.711           0.477\n",
            "L1.Close         0.994898         0.002132          466.562           0.000\n",
            "L1.Close         0.002003         0.000920            2.178           0.029\n",
            "===========================================================================\n",
            "\n",
            "Results for equation Close\n",
            "===========================================================================\n",
            "              coefficient       std. error           t-stat            prob\n",
            "---------------------------------------------------------------------------\n",
            "const            0.609597         0.349504            1.744           0.081\n",
            "L1.Close        -0.003053         0.006660           -0.458           0.647\n",
            "L1.Close         0.998059         0.002872          347.528           0.000\n",
            "===========================================================================\n",
            "\n",
            "Correlation matrix of residuals\n",
            "            Close     Close\n",
            "Close    1.000000  0.673401\n",
            "Close    0.673401  1.000000\n",
            "\n",
            "\n",
            ", ('Hess Corporation', 'Devon Energy Corporation'):   Summary of Regression Results   \n",
            "==================================\n",
            "Model:                         VAR\n",
            "Method:                        OLS\n",
            "Date:           Tue, 09, Apr, 2024\n",
            "Time:                     21:57:58\n",
            "--------------------------------------------------------------------\n",
            "No. of Equations:         2.00000    BIC:                   0.827236\n",
            "Nobs:                     2512.00    HQIC:                  0.812454\n",
            "Log likelihood:          -8128.61    FPE:                    2.23453\n",
            "AIC:                     0.804032    Det(Omega_mle):         2.22566\n",
            "--------------------------------------------------------------------\n",
            "Results for equation Close\n",
            "===========================================================================\n",
            "              coefficient       std. error           t-stat            prob\n",
            "---------------------------------------------------------------------------\n",
            "const            0.107247         0.109939            0.976           0.329\n",
            "L1.Close         0.967673         0.030246           31.994           0.000\n",
            "L1.Close         0.110350         0.051762            2.132           0.033\n",
            "L2.Close         0.032263         0.030275            1.066           0.287\n",
            "L2.Close        -0.112136         0.051738           -2.167           0.030\n",
            "===========================================================================\n",
            "\n",
            "Results for equation Close\n",
            "===========================================================================\n",
            "              coefficient       std. error           t-stat            prob\n",
            "---------------------------------------------------------------------------\n",
            "const            0.100648         0.064304            1.565           0.118\n",
            "L1.Close        -0.003531         0.017691           -0.200           0.842\n",
            "L1.Close         1.015023         0.030275           33.526           0.000\n",
            "L2.Close         0.003602         0.017708            0.203           0.839\n",
            "L2.Close        -0.017762         0.030262           -0.587           0.557\n",
            "===========================================================================\n",
            "\n",
            "Correlation matrix of residuals\n",
            "            Close     Close\n",
            "Close    1.000000  0.751848\n",
            "Close    0.751848  1.000000\n",
            "\n",
            "\n",
            ", ('Hess Corporation', 'Pioneer Natural Resources Company'):   Summary of Regression Results   \n",
            "==================================\n",
            "Model:                         VAR\n",
            "Method:                        OLS\n",
            "Date:           Tue, 09, Apr, 2024\n",
            "Time:                     21:57:58\n",
            "--------------------------------------------------------------------\n",
            "No. of Equations:         2.00000    BIC:                    3.26656\n",
            "Nobs:                     2513.00    HQIC:                   3.25769\n",
            "Log likelihood:          -11212.5    FPE:                    25.8586\n",
            "AIC:                      3.25264    Det(Omega_mle):         25.7969\n",
            "--------------------------------------------------------------------\n",
            "Results for equation Close\n",
            "===========================================================================\n",
            "              coefficient       std. error           t-stat            prob\n",
            "---------------------------------------------------------------------------\n",
            "const            0.028366         0.166302            0.171           0.865\n",
            "L1.Close         0.998818         0.001986          502.816           0.000\n",
            "L1.Close         0.000532         0.001507            0.353           0.724\n",
            "===========================================================================\n",
            "\n",
            "Results for equation Close\n",
            "===========================================================================\n",
            "              coefficient       std. error           t-stat            prob\n",
            "---------------------------------------------------------------------------\n",
            "const            0.624472         0.332315            1.879           0.060\n",
            "L1.Close         0.003104         0.003969            0.782           0.434\n",
            "L1.Close         0.995129         0.003011          330.468           0.000\n",
            "===========================================================================\n",
            "\n",
            "Correlation matrix of residuals\n",
            "            Close     Close\n",
            "Close    1.000000  0.754534\n",
            "Close    0.754534  1.000000\n",
            "\n",
            "\n",
            ", ('Devon Energy Corporation', 'Pioneer Natural Resources Company'):   Summary of Regression Results   \n",
            "==================================\n",
            "Model:                         VAR\n",
            "Method:                        OLS\n",
            "Date:           Tue, 09, Apr, 2024\n",
            "Time:                     21:57:58\n",
            "--------------------------------------------------------------------\n",
            "No. of Equations:         2.00000    BIC:                    2.23630\n",
            "Nobs:                     2513.00    HQIC:                   2.22743\n",
            "Log likelihood:          -9918.01    FPE:                    9.22929\n",
            "AIC:                      2.22238    Det(Omega_mle):         9.20730\n",
            "--------------------------------------------------------------------\n",
            "Results for equation Close\n",
            "===========================================================================\n",
            "              coefficient       std. error           t-stat            prob\n",
            "---------------------------------------------------------------------------\n",
            "const            0.019401         0.094437            0.205           0.837\n",
            "L1.Close         0.995616         0.002093          475.633           0.000\n",
            "L1.Close         0.000903         0.000819            1.103           0.270\n",
            "===========================================================================\n",
            "\n",
            "Results for equation Close\n",
            "===========================================================================\n",
            "              coefficient       std. error           t-stat            prob\n",
            "---------------------------------------------------------------------------\n",
            "const            0.496325         0.323041            1.536           0.124\n",
            "L1.Close        -0.004026         0.007160           -0.562           0.574\n",
            "L1.Close         0.998241         0.002801          356.364           0.000\n",
            "===========================================================================\n",
            "\n",
            "Correlation matrix of residuals\n",
            "            Close     Close\n",
            "Close    1.000000  0.741390\n",
            "Close    0.741390  1.000000\n",
            "\n",
            "\n",
            "}\n"
          ]
        }
      ],
      "source": [
        "print(var_results)"
      ]
    },
    {
      "cell_type": "markdown",
      "metadata": {
        "id": "YtFif6754Nkc"
      },
      "source": [
        "## Creating the Pair Trading Strategy Taught in Class\n"
      ]
    },
    {
      "cell_type": "code",
      "execution_count": 1,
      "metadata": {},
      "outputs": [],
      "source": [
        "import pandas as pd\n",
        "import os\n",
        "\n",
        "path = \"/Users/caleb/Library/CloudStorage/OneDrive-Personal/文档/Curriculum/NYU Y1S2/Robo/project/proj1.csv\""
      ]
    },
    {
      "cell_type": "code",
      "execution_count": 2,
      "metadata": {},
      "outputs": [
        {
          "name": "stderr",
          "output_type": "stream",
          "text": [
            "/var/folders/ns/t6s7rdfx5dv4t9gqq57nmf1r0000gn/T/ipykernel_54951/2740972116.py:1: DtypeWarning: Columns (5,7) have mixed types. Specify dtype option on import or set low_memory=False.\n",
            "  all_stock_price = pd.read_csv(path)\n"
          ]
        }
      ],
      "source": [
        "all_stock_price = pd.read_csv(path)\n",
        "all_stock_price.head()\n",
        "\n",
        "# price time series data imputation\n",
        "all_stock_price[\"PRC\"] = all_stock_price.groupby('PERMNO')[\"PRC\"].transform(lambda x: x.fillna(x.mean()))\n",
        "\n",
        "\n",
        "import datetime\n",
        "\n",
        "all_stock_price['date'] = pd.to_datetime(all_stock_price['date'])\n",
        "cutoff_date = pd.to_datetime('2020-01-01')\n",
        "\n",
        "price_test = all_stock_price.loc[all_stock_price['date'] >= cutoff_date]\n",
        "price_train = all_stock_price.loc[all_stock_price['date'] < cutoff_date]"
      ]
    },
    {
      "cell_type": "code",
      "execution_count": 99,
      "metadata": {},
      "outputs": [
        {
          "data": {
            "text/plain": [
              "1259    414\n",
              "421       2\n",
              "797       2\n",
              "126       2\n",
              "20        2\n",
              "       ... \n",
              "1009      1\n",
              "692       1\n",
              "717       1\n",
              "1071      1\n",
              "1164      1\n",
              "Name: count, Length: 89, dtype: int64"
            ]
          },
          "execution_count": 99,
          "metadata": {},
          "output_type": "execute_result"
        }
      ],
      "source": [
        "all_stock_price.groupby('PERMNO').size().value_counts()"
      ]
    },
    {
      "cell_type": "code",
      "execution_count": 32,
      "metadata": {},
      "outputs": [],
      "source": [
        "sample_pair_HDBSCAN_CORRELATION=((25081, 35554), (35554, 42906), (11674, 23229), (11674, 23931), (11674, 24985), (23229, 23536), (23229, 23931), (23229, 24010), (23229, 24109), (23229, 24205), (23229, 24985), (23229, 44206), (23536, 23931), (23536, 24010), (23536, 24109), (23536, 44206), (23931, 24010), (23931, 24109), (23931, 24205), (23931, 24985), (23931, 44206), (24010, 24109), (24010, 44206), (24109, 24985), (24109, 44206), (24205, 24985))\n",
        "sample_pair_HDBSCAN_COINTEGRATION=([23229, 24109],\n",
        " [23931, 44206],\n",
        " [23536, 24010],\n",
        " [27959, 38762],\n",
        " [23229, 44206],\n",
        " [23931, 24109],\n",
        " [24109, 44206],\n",
        " [23536, 44206],\n",
        " [11404, 38762],\n",
        " [21776, 23712],\n",
        " [21792, 27991])\n",
        "sample_pair_DBSCAN_COINTEGRATION=([42906, 58246],\n",
        " [35554, 58246],\n",
        " [17830, 22103],\n",
        " [12062, 22103],\n",
        " [35554, 42906],\n",
        " [34746, 58246],\n",
        " [28222, 49680],\n",
        " [22752, 26403],\n",
        " [64311, 64390],\n",
        " [48725, 64311],\n",
        " [41080, 58683])\n",
        "\n",
        "sample_pair_OPTICS_Cointegration = ([23229, 24109], [35554, 42906], [23931, 24109], [10145, 14008])\n",
        "sample_pair_OPTICS_Correlation = [(35554, 42906),\n",
        "(42906, 60442),\n",
        "(23229, 23536),\n",
        "(23229, 23931),\n",
        "(23229, 24109),\n",
        "(23229, 24205),\n",
        "(23229, 24985),\n",
        "(23536, 23931),\n",
        "(23536, 24109),\n",
        "(23931, 24109),\n",
        "(23931, 24205),\n",
        "(23931, 24985),\n",
        "(24109, 24985),\n",
        "(24205, 24985)]"
      ]
    },
    {
      "cell_type": "code",
      "execution_count": 6,
      "metadata": {
        "colab": {
          "base_uri": "https://localhost:8080/"
        },
        "id": "3S3HEShf4UNG",
        "outputId": "a8f14225-677b-4caa-dc3c-3076c6f5b8aa"
      },
      "outputs": [],
      "source": [
        "import pandas as pd\n",
        "import numpy as np\n",
        "import os\n",
        "from itertools import combinations\n",
        "\n",
        "# Define helper functions\n",
        "def calculate_returns(df, days):\n",
        "    \"\"\"Calculate percentage returns over specified number of days.\"\"\"\n",
        "    return df['PRC'].pct_change(days)\n",
        "\n",
        "def calculate_z_scores(df):\n",
        "    \"\"\"Calculate rolling z-scores of returns over specified window.\"\"\"\n",
        "    return df / df.rolling(window=60).std().shift(1) # the logic of better version solution\n",
        "    # return (df - df.rolling(window=days+60).mean()) / df.rolling(window=days+60).std()\n",
        "\n",
        "def calculate_volatility(df):\n",
        "    \"\"\"Calculate rolling standard deviation of returns over 20 days.\"\"\"\n",
        "    return df['ret1'].rolling(window=20).std()\n",
        "\n",
        "# Constants\n",
        "LongEntryThreshold = -1\n",
        "ShortEntryThreshold = 1\n",
        "LongCap = 1\n",
        "ShortCap = -1"
      ]
    },
    {
      "cell_type": "code",
      "execution_count": 21,
      "metadata": {},
      "outputs": [],
      "source": [
        "import pandas as pd\n",
        "import numpy as np\n",
        "\n",
        "def calculate_age_and_position(row, previous_row, hold_period, days):\n",
        "    if previous_row is None:\n",
        "        previous_position = 0\n",
        "        previous_age = 0\n",
        "    else:\n",
        "        previous_position = previous_row[f'position{days}']\n",
        "        previous_age = previous_row[f'age{days}']\n",
        "\n",
        "    if (\n",
        "        (previous_position == 0 and row[f'signal{days}'] != 0) or\n",
        "        (previous_position * row[f'signal{days}'] == -1) or\n",
        "        (previous_age >= hold_period and row[f'signal{days}'] != 0)\n",
        "    ):\n",
        "        age = 1\n",
        "        position = row[f'signal{days}']\n",
        "    elif (\n",
        "        (row[f'signal{days}'] == 0 and previous_position == 0) or\n",
        "        (row[f'LCap{days}'] or row[f'SCap{days}']) or\n",
        "        (previous_age >= hold_period)\n",
        "    ):\n",
        "        age = 0\n",
        "        position = 0\n",
        "    else:\n",
        "        age = previous_age + 1\n",
        "        position = previous_position\n",
        "\n",
        "    return age, position\n",
        "\n",
        "def generate_age_and_position_columns(df):\n",
        "    for days, zdiff, hold_period in [('5', 'zdiff5', 5), ('10', 'zdiff10', 10), ('20', 'zdiff20', 20)]:\n",
        "        df[[f'age{days}', f'position{days}']] = df.apply(\n",
        "            lambda x: pd.Series(calculate_age_and_position(x, None, hold_period, days)), axis=1\n",
        "        )\n",
        "\n",
        "        for i in range(1, len(df)):\n",
        "            df.loc[i, [f'age{days}', f'position{days}']] = calculate_age_and_position(\n",
        "                df.iloc[i], df.iloc[i-1], hold_period, days\n",
        "            )\n",
        "\n",
        "    return df\n",
        "\n",
        "def calculate_max_drawdown(returns):\n",
        "    cumulative_returns = (1 + returns).cumprod()\n",
        "    peak = cumulative_returns.expanding(min_periods=1).max()\n",
        "    drawdown = (cumulative_returns / peak) - 1\n",
        "    max_drawdown = drawdown.min()\n",
        "    return max_drawdown\n",
        "\n",
        "def calculate_sortino_ratio(returns, risk_free_rate=0, target_return=0):\n",
        "    downside_returns = returns[returns < target_return]\n",
        "    downside_deviation = np.std(downside_returns)\n",
        "    excess_return = np.mean(returns) - risk_free_rate\n",
        "    sortino_ratio = np.sqrt(252) * excess_return / downside_deviation\n",
        "    return sortino_ratio\n",
        "\n",
        "def calculate_sharpe_ratio(returns, risk_free_rate=0):\n",
        "    excess_return = returns - risk_free_rate\n",
        "    sharpe_ratio = np.sqrt(252) * np.mean(excess_return) / np.std(excess_return)\n",
        "    return sharpe_ratio\n",
        "\n",
        "def calculate_alpha_beta(returns, benchmark_returns):\n",
        "    ret_df = pd.DataFrame({'returns': returns, 'benchmark_returns': benchmark_returns})\n",
        "    covariance = ret_df.cov().iloc[0, 1]\n",
        "    benchmark_variance = ret_df['benchmark_returns'].var()\n",
        "    beta = covariance / benchmark_variance\n",
        "    alpha = np.mean(returns) - beta * np.mean(benchmark_returns)\n",
        "    return alpha, beta\n",
        "\n",
        "\n",
        "def calculate_metrics(merged_df, company1, company2):\n",
        "    merged_df[\"ComboRet\"] = (merged_df['fret_z5'] + merged_df['fret_z10'] + merged_df['fret_z20']) / 3\n",
        "    sharpe_ratio = calculate_sharpe_ratio(merged_df[\"ComboRet\"])\n",
        "    sortino_ratio = calculate_sortino_ratio(merged_df[\"ComboRet\"])\n",
        "    maximum_drawdown = calculate_max_drawdown(merged_df[\"ComboRet\"])\n",
        "    \n",
        "    # Calculate the percentage of time the strategy has a position\n",
        "    position_threshold = 0  # Adjust this value according to your position criteria\n",
        "    merged_df[\"Position\"] = (merged_df[\"ComboRet\"].abs() > position_threshold).astype(int)\n",
        "    pct_time_in_position = merged_df[\"Position\"].mean() \n",
        "    \n",
        "    metrics_df = pd.DataFrame({\n",
        "        'Company1': [company1],\n",
        "        'Company2': [company2],\n",
        "        'Sharpe Ratio': [sharpe_ratio],\n",
        "        'Sortino Ratio': [sortino_ratio],\n",
        "        'Maximum Drawdown': [maximum_drawdown],\n",
        "        'Percentage of Time in Position': [pct_time_in_position]\n",
        "    })\n",
        "    \n",
        "    return metrics_df"
      ]
    },
    {
      "cell_type": "code",
      "execution_count": 8,
      "metadata": {},
      "outputs": [],
      "source": [
        "# Set directories\n",
        "input_dir = \"/content/stock_data\"\n",
        "output_dir = \"/Users/caleb/Library/CloudStorage/OneDrive-Personal/文档/Curriculum/NYU Y1S2/Robo/project/content\"\n",
        "os.makedirs(output_dir, exist_ok=True)\n",
        "\n",
        "# Load CSV files into DataFrames\n",
        "# dataframes = {filename.split('_')[0]: pd.read_csv(os.path.join(input_dir, filename), parse_dates=['Date'], index_col='Date')\n",
        "#               for filename in os.listdir(input_dir) if filename.endswith(\".csv\")}"
      ]
    },
    {
      "cell_type": "code",
      "execution_count": 12,
      "metadata": {},
      "outputs": [
        {
          "data": {
            "text/plain": [
              "409253   2020-01-02\n",
              "409254   2020-01-03\n",
              "409255   2020-01-06\n",
              "409256   2020-01-07\n",
              "409257   2020-01-08\n",
              "            ...    \n",
              "409501   2020-12-24\n",
              "409502   2020-12-28\n",
              "409503   2020-12-29\n",
              "409504   2020-12-30\n",
              "409505   2020-12-31\n",
              "Name: date, Length: 253, dtype: datetime64[ns]"
            ]
          },
          "execution_count": 12,
          "metadata": {},
          "output_type": "execute_result"
        }
      ],
      "source": [
        "all_stock_price.loc[(all_stock_price.PERMNO==79323)&(all_stock_price['date']>'20200101'),\"date\"]"
      ]
    },
    {
      "cell_type": "code",
      "execution_count": null,
      "metadata": {},
      "outputs": [],
      "source": [
        "metrics_dfs = []\n",
        "\n",
        "\n",
        "\n",
        "# Process each pair of companies\n",
        "for pair in sample_pair:\n",
        "    df1 = all_stock_price.loc[all_stock_price.PERMNO==pair[0],[\"PRC\",'date']].reset_index(drop=True)\n",
        "    df2 = all_stock_price.loc[all_stock_price.PERMNO==pair[1],[\"PRC\",'date']].reset_index(drop=True)\n",
        "\n",
        "    company1 = all_stock_price.loc[all_stock_price.PERMNO==pair[0],\"TICKER\"].iloc[0]\n",
        "    company2 = all_stock_price.loc[all_stock_price.PERMNO==pair[1],\"TICKER\"].iloc[0]\n",
        "\n",
        "    # Calculate returns, z-scores, and volatility for both companies\n",
        "    for days in [1, 5, 10, 20]:\n",
        "        df1[f'ret{days}'] = calculate_returns(df1[[\"PRC\"]], days)\n",
        "        df2[f'ret{days}'] = calculate_returns(df2[[\"PRC\"]], days)\n",
        "        if days > 1:\n",
        "            df1[f'z{days}'] = calculate_z_scores(df1[f'ret{days}'])\n",
        "            df2[f'z{days}'] = calculate_z_scores(df2[f'ret{days}'])\n",
        "\n",
        "    df1['vol20'] = calculate_volatility(df1)\n",
        "    df2['vol20'] = calculate_volatility(df2)\n",
        "\n",
        "    # Merge dataframes\n",
        "    merged_df = pd.merge(df1,df2,on='date', how='outer')\n",
        "\n",
        "\n",
        "    # Trading signals and position management\n",
        "    for days, zdiff, hold_period in [('5', 'zdiff5', 5), ('10', 'zdiff10', 10), ('20', 'zdiff20', 20)]:\n",
        "        merged_df[zdiff] = merged_df[f'z{days}_x'] - merged_df[f'z{days}_y']\n",
        "\n",
        "        merged_df[f'signal{days}'] = np.where(merged_df[zdiff] < LongEntryThreshold, 1,\n",
        "                                               np.where(merged_df[zdiff] > ShortEntryThreshold, -1, 0))\n",
        "\n",
        "        merged_df[f'LCap{days}'] = np.where((merged_df[f'signal{days}'].shift(1) == 1) & (merged_df[zdiff] > LongCap), 1, 0)\n",
        "        merged_df[f'SCap{days}'] = np.where((merged_df[f'signal{days}'].shift(1) == -1) & (merged_df[zdiff] < ShortCap), 1, 0)\n",
        "    \n",
        "    merged_df = generate_age_and_position_columns(merged_df)\n",
        "\n",
        "\n",
        "    for days, zdiff, hold_period in [('5', 'zdiff5', 5), ('10', 'zdiff10', 10), ('20', 'zdiff20', 20)]:\n",
        "\n",
        "        # merged_df[f'age{days}'] = (merged_df[f'signal{days}'] != 0).astype(int).cumsum()\n",
        "        # merged_df[f'aged{days}?'] = (merged_df[f'age{days}'] == hold_period).astype(int)\n",
        "\n",
        "        # position should be \n",
        "        # merged_df[f'position{days}'] = np.where(merged_df[f'aged{days}?'] == 1, 0, merged_df[f'signal{days}'])\n",
        "        merged_df[f'fret_z{days}'] = merged_df[f'position{days}'] * merged_df[f'ret1_x'].shift(-1) - merged_df[f'position{days}'] * merged_df[f'ret1_y'].shift(-1)\n",
        "\n",
        "    merged_df[\"ComboRet\"] = (merged_df['fret_z5']+merged_df['fret_z10']+merged_df['fret_z20'])/3 \n",
        "    \n",
        "    metrics_df = calculate_metrics(merged_df, company1, company2)\n",
        "\n",
        "    metrics_dfs.append(metrics_df)\n",
        "    \n",
        "    # Save the results to CSV\n",
        "    merged_df.to_csv(os.path.join(output_dir, f'{company1}_{company2}_processed.csv'))\n",
        "print(\"All processing complete. Data saved in 'processed_data' directory.\")\n",
        "\n",
        "all_metrics_df = pd.concat(metrics_dfs, ignore_index=True)\n"
      ]
    },
    {
      "cell_type": "code",
      "execution_count": 10,
      "metadata": {},
      "outputs": [],
      "source": [
        "# # explore the size of price time series of each stock\n",
        "\n",
        "# for pair in sample_pair:\n",
        "#     df1 = all_stock_price.loc[all_stock_price.PERMNO==pair[0],[\"PRC\",'date']].reset_index(drop=True)\n",
        "#     df2 = all_stock_price.loc[all_stock_price.PERMNO==pair[1],[\"PRC\",'date']].reset_index(drop=True)\n",
        "#     print(df1.shape,df2.shape)"
      ]
    },
    {
      "cell_type": "code",
      "execution_count": 64,
      "metadata": {
        "colab": {
          "base_uri": "https://localhost:8080/",
          "height": 34
        },
        "id": "pV-MCjZUOX6W",
        "outputId": "fe916dcf-29c6-4d5b-bf45-7a4688c571aa"
      },
      "outputs": [],
      "source": [
        "from sklearn import preprocessing\n",
        "\n",
        "def hw_model(all_stock_price, sample_pair):\n",
        "  metrics_dfs = []\n",
        "\n",
        "  # Process each pair of companies\n",
        "  for pair in sample_pair:\n",
        "      df1 = all_stock_price.loc[all_stock_price.PERMNO==pair[0],[\"PRC\",'date']].reset_index(drop=True)\n",
        "      df2 = all_stock_price.loc[all_stock_price.PERMNO==pair[1],[\"PRC\",'date']].reset_index(drop=True)\n",
        "        \n",
        "\n",
        "\n",
        "      company1 = all_stock_price.loc[all_stock_price.PERMNO==pair[0],\"PERMNO\"].iloc[0]\n",
        "      company2 = all_stock_price.loc[all_stock_price.PERMNO==pair[1],\"PERMNO\"].iloc[0]\n",
        "\n",
        "      # Calculate returns, z-scores, and volatility for both companies\n",
        "      for days in [1, 5, 10, 20]:\n",
        "          df1[f'ret{days}'] = calculate_returns(df1[[\"PRC\"]], days)\n",
        "          df2[f'ret{days}'] = calculate_returns(df2[[\"PRC\"]], days)\n",
        "          if days > 1:\n",
        "              df1[f'z{days}'] = calculate_z_scores(df1[f'ret{days}'])\n",
        "              df2[f'z{days}'] = calculate_z_scores(df2[f'ret{days}'])\n",
        "\n",
        "      df1['vol20'] = calculate_volatility(df1)\n",
        "      df2['vol20'] = calculate_volatility(df2)\n",
        "\n",
        "      # Merge dataframes\n",
        "      merged_df = pd.merge(df1,df2,on='date', how='outer')\n",
        "\n",
        "\n",
        "      # Trading signals and position management\n",
        "      for days, zdiff, hold_period in [('5', 'zdiff5', 5), ('10', 'zdiff10', 10), ('20', 'zdiff20', 20)]:\n",
        "          merged_df[zdiff] = merged_df[f'z{days}_x'] - merged_df[f'z{days}_y']\n",
        "\n",
        "          merged_df[f'signal{days}'] = np.where(merged_df[zdiff] < LongEntryThreshold, 1,\n",
        "                                                np.where(merged_df[zdiff] > ShortEntryThreshold, -1, 0))\n",
        "\n",
        "          merged_df[f'LCap{days}'] = np.where((merged_df[f'signal{days}'].shift(1) == 1) & (merged_df[zdiff] > LongCap), 1, 0)\n",
        "          merged_df[f'SCap{days}'] = np.where((merged_df[f'signal{days}'].shift(1) == -1) & (merged_df[zdiff] < ShortCap), 1, 0)\n",
        "\n",
        "      merged_df = generate_age_and_position_columns(merged_df)\n",
        "\n",
        "\n",
        "      for days, zdiff, hold_period in [('5', 'zdiff5', 5), ('10', 'zdiff10', 10), ('20', 'zdiff20', 20)]:\n",
        "\n",
        "          # merged_df[f'age{days}'] = (merged_df[f'signal{days}'] != 0).astype(int).cumsum()\n",
        "          # merged_df[f'aged{days}?'] = (merged_df[f'age{days}'] == hold_period).astype(int)\n",
        "\n",
        "          # position should be\n",
        "          # merged_df[f'position{days}'] = np.where(merged_df[f'aged{days}?'] == 1, 0, merged_df[f'signal{days}'])\n",
        "          merged_df[f'fret_z{days}'] = merged_df[f'position{days}'] * merged_df[f'ret1_x'].shift(-1) - merged_df[f'position{days}'] * merged_df[f'ret1_y'].shift(-1)\n",
        "\n",
        "      merged_df[\"ComboRet\"] = (merged_df['fret_z5']+merged_df['fret_z10']+merged_df['fret_z20'])/3\n",
        "\n",
        "      metrics_df = calculate_metrics(merged_df, company1, company2)\n",
        "\n",
        "      metrics_dfs.append(metrics_df)\n",
        "\n",
        "      # Save the results to CSV\n",
        "      # merged_df.to_csv(os.path.join(output_dir, f'{company1}_{company2}_processed.csv'))\n",
        "  print(\"All processing complete. Data saved in 'processed_data' directory.\")\n",
        "\n",
        "  all_metrics_df = pd.concat(metrics_dfs, ignore_index=True)\n",
        "  return all_metrics_df"
      ]
    },
    {
      "cell_type": "code",
      "execution_count": 53,
      "metadata": {},
      "outputs": [],
      "source": [
        "data = {\n",
        "    'OPTICS_Cointegration': [\n",
        "        [23229, 24109],\n",
        "        [35554, 42906],\n",
        "        [23931, 24109],\n",
        "        [10145, 14008]\n",
        "    ],\n",
        "    'OPTICS_Correlation': [\n",
        "        (35554, 42906), (42906, 60442), (23229, 23536), (23229, 23931),\n",
        "        (23229, 24109), (23229, 24205), (23229, 24985), (23536, 23931),\n",
        "        (23536, 24109), (23931, 24109), (23931, 24205), (23931, 24985),\n",
        "        (24109, 24985), (24205, 24985)\n",
        "    ],\n",
        "    'HDBSCAN_Correlation': [\n",
        "        (11674, 23229), (11674, 23931), (11674, 24985), (23229, 23536),\n",
        "        (23229, 23931), (23229, 24010), (23229, 24109), (23229, 24205),\n",
        "        (23229, 24985), (23229, 44206), (23536, 23931), (23536, 24010),\n",
        "        (23536, 24109), (23536, 44206), (23931, 24010), (23931, 24109),\n",
        "        (23931, 24205), (23931, 24985), (23931, 44206), (24010, 24109),\n",
        "        (24010, 44206), (24109, 24985), (24109, 44206), (24205, 24985)\n",
        "    ],\n",
        "    'HDBSCAN_Cointegration': [\n",
        "        [23229, 24109], [23931, 44206], [23536, 24010], [27959, 38762],\n",
        "        [23229, 44206], [23931, 24109], [24109, 44206], [23536, 44206],\n",
        "        [11404, 38762], [21776, 23712], [21792, 27991]\n",
        "    ],\n",
        "    'DBSCAN_Cointegration': [\n",
        "        [42906, 58246], [25953, 56573], [23229, 24109], [58246, 71563],\n",
        "        [35554, 58246], [23931, 44206], [54148, 77661], [71563, 81055],\n",
        "        [70519, 79323], [60442, 70519], [23536, 24010], [62308, 79323],\n",
        "        [35554, 42906], [34746, 58246], [42906, 81055], [27959, 38762],\n",
        "        [58246, 81055], [64995, 69032], [23229, 44206], [23931, 24109]\n",
        "    ],\n",
        "    'DBSCAN_Correlation': [\n",
        "        (11674, 23229), (11674, 23931), (11674, 24985), (23229, 23536),\n",
        "        (23229, 23931), (23229, 24010), (23229, 24109), (23229, 24205),\n",
        "        (23229, 24985), (23229, 44206), (23536, 23931), (23536, 24010),\n",
        "        (23536, 24109), (23536, 44206), (23931, 24010), (23931, 24109),\n",
        "        (23931, 24205), (23931, 24985), (23931, 44206), (24010, 24109),\n",
        "        (24010, 44206), (24109, 24985), (24109, 44206), (24205, 24985),\n",
        "        (25081, 35044), (25081, 35554), (34746, 35044), (34746, 35554),\n",
        "        (34746, 42906), (34746, 58246), (34746, 60442), (34746, 64995),\n",
        "        (34746, 69032), (34746, 71563), (35044, 35554), (35044, 42906),\n",
        "        (35044, 58246), (35044, 60442), (35044, 64995), (35044, 69032),\n",
        "        (35044, 71563), (35554, 42906), (35554, 64995), (35554, 69032),\n",
        "        (42906, 58246), (42906, 60442), (42906, 64995), (42906, 71563),\n",
        "        (42906, 81055), (47896, 59408), (47896, 62308), (47896, 71563),\n",
        "        (58246, 60442), (58246, 64995), (59408, 60442), (59408, 62308),\n",
        "        (59408, 71563), (60442, 69032), (60442, 70519), (60442, 71563),\n",
        "        (62308, 79323), (64995, 69032), (48725, 62148), (48725, 64311),\n",
        "        (62148, 64311), (54148, 77661)\n",
        "    ]\n",
        "}"
      ]
    },
    {
      "cell_type": "code",
      "execution_count": 61,
      "metadata": {},
      "outputs": [],
      "source": [
        "import pandas as pd\n",
        "import matplotlib.pyplot as plt\n",
        "import seaborn as sns\n",
        "\n",
        "def plot_performance_distribution(df):\n",
        "    # Melt the DataFrame to convert metrics into a single column\n",
        "    melted_df = pd.melt(df, id_vars=['Company1', 'Company2'], var_name='Metric', value_name='Value')\n",
        "\n",
        "    # Create a figure with subplots\n",
        "    fig, ax = plt.subplots(figsize=(10, 6))\n",
        "\n",
        "    # Create the violin plot\n",
        "    sns.violinplot(x='Metric', y='Value', data=melted_df, ax=ax)\n",
        "\n",
        "    # Set plot title and labels\n",
        "    ax.set_title('Distribution of Performance Metrics')\n",
        "    ax.set_xlabel('Metric')\n",
        "    ax.set_ylabel('Value')\n",
        "\n",
        "    # Display the plot\n",
        "    plt.tight_layout()\n",
        "    plt.show()\n",
        "\n",
        "    # Calculate summary statistics\n",
        "    summary_stats = melted_df.groupby('Metric')['Value'].describe()\n",
        "\n",
        "    return summary_stats"
      ]
    },
    {
      "cell_type": "code",
      "execution_count": 27,
      "metadata": {},
      "outputs": [
        {
          "name": "stdout",
          "output_type": "stream",
          "text": [
            "All processing complete. Data saved in 'processed_data' directory.\n",
            "All processing complete. Data saved in 'processed_data' directory.\n"
          ]
        }
      ],
      "source": [
        "result_OI = hw_model(all_stock_price,sample_pair_OPTICS_Cointegration)\n",
        "result_OC = hw_model(all_stock_price,sample_pair_OPTICS_Correlation)"
      ]
    },
    {
      "cell_type": "code",
      "execution_count": 51,
      "metadata": {},
      "outputs": [],
      "source": [
        "def find_shared_elements(*lists):\n",
        "    if len(lists) == 0:\n",
        "        return []\n",
        "\n",
        "    shared_elements = set(map(tuple, lists[0]))\n",
        "    for lst in lists[1:]:\n",
        "        shared_elements &= set(map(tuple, lst))\n",
        "\n",
        "    return list(map(list, shared_elements))\n",
        "\n",
        "O_shared = find_shared_elements(sample_pair_DBSCAN_COINTEGRATION,sample_pair_HDBSCAN_CORRELATION)"
      ]
    },
    {
      "cell_type": "code",
      "execution_count": 56,
      "metadata": {},
      "outputs": [
        {
          "name": "stdout",
          "output_type": "stream",
          "text": [
            "All processing complete. Data saved in 'processed_data' directory.\n"
          ]
        },
        {
          "data": {
            "image/png": "[encoded data removed]",
            "text/plain": [
              "<Figure size 1000x600 with 1 Axes>"
            ]
          },
          "metadata": {},
          "output_type": "display_data"
        }
      ],
      "source": [
        "plot_performance_distribution(hw_model(price_test,O_shared)).to_clipboard()\n"
      ]
    },
    {
      "cell_type": "code",
      "execution_count": 63,
      "metadata": {},
      "outputs": [
        {
          "data": {
            "text/plain": [
              "[['CMS', 'AEP'], ['MTB', 'HBAN']]"
            ]
          },
          "execution_count": 63,
          "metadata": {},
          "output_type": "execute_result"
        }
      ],
      "source": [
        "filtered_pairs[['Company1', 'Company2']].values.tolist()"
      ]
    },
    {
      "cell_type": "code",
      "execution_count": null,
      "metadata": {},
      "outputs": [],
      "source": [
        "# performance by filtering out bad pairs in trainset    \n",
        "import pandas as pd\n",
        "\n",
        "final_results = []\n",
        "\n",
        "for algorithm in ['OPTICS', 'HDBSCAN', 'DBSCAN']:\n",
        "    for relationship in ['Cointegration', 'Correlation']:\n",
        "        key = f\"{algorithm}_{relationship}\"\n",
        "        sample_pairs = data[key]\n",
        "        \n",
        "        # Call hw_model(price_train, sample_pairs) and filter by Sharpe Ratio > 0.3\n",
        "        train_results = hw_model(price_train, sample_pairs)\n",
        "        filtered_pairs = train_results[train_results['Sharpe Ratio'] > 0.5]\n",
        "        \n",
        "        if not filtered_pairs.empty:\n",
        "            # Run plot_performance_distribution(hw_model(price_test, sample_pairs))\n",
        "            test_results = plot_performance_distribution(hw_model(price_test, filtered_pairs[['Company1', 'Company2']].values.tolist()))\n",
        "            \n",
        "            # Melt the test_results dataframe to long format\n",
        "            test_results_melted = pd.melt(test_results.reset_index(), id_vars=['Metric'], \n",
        "                                          value_vars=['count', 'mean', 'std'], \n",
        "                                          var_name='Statistic', value_name='Value')\n",
        "            \n",
        "            # Add Clustering and Test columns\n",
        "            test_results_melted['Clustering'] = algorithm\n",
        "            test_results_melted['Test'] = relationship\n",
        "            \n",
        "            final_results.append(test_results_melted)\n",
        "\n",
        "# Concatenate the final results into a single dataframe\n",
        "final_df = pd.concat(final_results, ignore_index=True)\n",
        "\n",
        "# Pivot the final dataframe to the desired format\n",
        "final_df_pivot = final_df.pivot_table(index=['Clustering', 'Test', 'Metric'], \n",
        "                                      columns='Statistic', values='Value', \n",
        "                                      aggfunc='first').reset_index()\n",
        "\n",
        "print(final_df_pivot)"
      ]
    },
    {
      "cell_type": "code",
      "execution_count": null,
      "metadata": {},
      "outputs": [],
      "source": [
        "final_df_pivot.to_clipboard()"
      ]
    },
    {
      "cell_type": "code",
      "execution_count": 72,
      "metadata": {},
      "outputs": [],
      "source": [
        "# output the percentage of out of industry clusters\n",
        "\n",
        "stock_info =pd.read_excel('proj3.xlsx')\n",
        "def check_pairs(pair_list, stock_info):\n",
        "    \"\"\"\n",
        "    Check if pairs in the list have the same 'Company Name' or 'North American Industry Classification System' value in the stock_info dataframe.\n",
        "\n",
        "    Args:\n",
        "        pair_list (list): A list of tuples, where each tuple contains two PERMNO values.\n",
        "        stock_info (pandas.DataFrame): A DataFrame containing stock information with columns 'PERMNO', 'Company Name', and 'North American Industry Classification System'.\n",
        "\n",
        "    Returns:\n",
        "        pandas.DataFrame: A DataFrame with columns 'Pair', 'Same_Company_Name', and 'Same_NAICS'. 'Pair' contains the input tuple, 'Same_Company_Name' contains the common 'Company Name' if the pair has the same 'Company Name', otherwise None, and 'Same_NAICS' contains the common 'North American Industry Classification System' value if the pair has the same value, otherwise None.\n",
        "    \"\"\"\n",
        "    result = []\n",
        "    for pair in pair_list:\n",
        "        permno1, permno2 = pair\n",
        "        row1 = stock_info.loc[stock_info['PERMNO'] == permno1]\n",
        "        row2 = stock_info.loc[stock_info['PERMNO'] == permno2]\n",
        "        if not row1.empty and not row2.empty:\n",
        "            company_name1 = row1['Company Name'].values[0]\n",
        "            company_name2 = row2['Company Name'].values[0]\n",
        "            naics1 = row1['North American Industry Classification System'].values[0]\n",
        "            naics2 = row2['North American Industry Classification System'].values[0]\n",
        "            same_company_name = company_name1 == company_name2\n",
        "            same_naics = naics1 == naics2\n",
        "            result.append({\n",
        "                'Pair': pair,\n",
        "                'Same_Company_Name': same_company_name,\n",
        "                'Same_NAICS': naics1 if same_naics else None\n",
        "            })\n",
        "        else:\n",
        "            print(\"error\")\n",
        "    result_df = pd.DataFrame(result)\n",
        "    return result_df\n",
        "\n",
        "def calculate_different_industry_percentage(result_df):\n",
        "    \"\"\"\n",
        "    Calculate the percentage of pairs that are not in the same industry.\n",
        "\n",
        "    Args:\n",
        "        result_df (pandas.DataFrame): The DataFrame returned by the check_pairs function.\n",
        "\n",
        "    Returns:\n",
        "        float: The percentage of pairs that are not in the same industry.\n",
        "    \"\"\"\n",
        "    total_pairs = len(result_df)\n",
        "    different_industry_pairs = result_df['Same_NAICS'].isna().sum()\n",
        "    percentage = (different_industry_pairs / total_pairs) * 100\n",
        "    return percentage\n",
        "\n",
        "def analyze_naics(result_df):\n",
        "    \"\"\"\n",
        "    Analyze the 'Same_NAICS' column in the result DataFrame from check_pairs.\n",
        "\n",
        "    Args:\n",
        "        result_df (pandas.DataFrame): The DataFrame returned by the check_pairs function.\n",
        "\n",
        "    Returns:\n",
        "        tuple: A tuple containing:\n",
        "            - The percentage of rows where 'Same_NAICS' is None\n",
        "            - A pandas.Series with the value counts for 'Same_NAICS' where it has a value\n",
        "    \"\"\"\n",
        "    # Calculate the percentage of rows where 'Same_NAICS' is None\n",
        "    none_percentage = (result_df['Same_NAICS'].isna().sum() / len(result_df)) * 100\n",
        "    # Get the value counts for 'Same_NAICS' where it has a value\n",
        "    value_counts = result_df['Same_NAICS'].value_counts(dropna=True)\n",
        "    return none_percentage, value_counts\n"
      ]
    },
    {
      "cell_type": "code",
      "execution_count": 52,
      "metadata": {},
      "outputs": [
        {
          "name": "stdout",
          "output_type": "stream",
          "text": [
            "All processing complete. Data saved in 'processed_data' directory.\n"
          ]
        },
        {
          "data": {
            "image/png": "[encoded data removed]",
            "text/plain": [
              "<Figure size 1000x600 with 1 Axes>"
            ]
          },
          "metadata": {},
          "output_type": "display_data"
        }
      ],
      "source": [
        "# performance for Optics\n",
        "df = plot_performance_distribution(hw_model(price_test,O_shared))\n",
        "df.to_clipboard()"
      ]
    },
    {
      "cell_type": "code",
      "execution_count": 81,
      "metadata": {},
      "outputs": [
        {
          "data": {
            "text/html": [
              "<div>\n",
              "<style scoped>\n",
              "    .dataframe tbody tr th:only-of-type {\n",
              "        vertical-align: middle;\n",
              "    }\n",
              "\n",
              "    .dataframe tbody tr th {\n",
              "        vertical-align: top;\n",
              "    }\n",
              "\n",
              "    .dataframe thead th {\n",
              "        text-align: right;\n",
              "    }\n",
              "</style>\n",
              "<table border=\"1\" class=\"dataframe\">\n",
              "  <thead>\n",
              "    <tr style=\"text-align: right;\">\n",
              "      <th></th>\n",
              "      <th>Pair</th>\n",
              "      <th>Same_Company_Name</th>\n",
              "      <th>Same_NAICS</th>\n",
              "    </tr>\n",
              "  </thead>\n",
              "  <tbody>\n",
              "    <tr>\n",
              "      <th>0</th>\n",
              "      <td>(11674, 23229)</td>\n",
              "      <td>False</td>\n",
              "      <td>221118.0</td>\n",
              "    </tr>\n",
              "    <tr>\n",
              "      <th>1</th>\n",
              "      <td>(11674, 23931)</td>\n",
              "      <td>False</td>\n",
              "      <td>221118.0</td>\n",
              "    </tr>\n",
              "    <tr>\n",
              "      <th>2</th>\n",
              "      <td>(11674, 24985)</td>\n",
              "      <td>False</td>\n",
              "      <td>221118.0</td>\n",
              "    </tr>\n",
              "    <tr>\n",
              "      <th>3</th>\n",
              "      <td>(23229, 23536)</td>\n",
              "      <td>False</td>\n",
              "      <td>221118.0</td>\n",
              "    </tr>\n",
              "    <tr>\n",
              "      <th>4</th>\n",
              "      <td>(23229, 23931)</td>\n",
              "      <td>False</td>\n",
              "      <td>221118.0</td>\n",
              "    </tr>\n",
              "    <tr>\n",
              "      <th>...</th>\n",
              "      <td>...</td>\n",
              "      <td>...</td>\n",
              "      <td>...</td>\n",
              "    </tr>\n",
              "    <tr>\n",
              "      <th>61</th>\n",
              "      <td>(64995, 69032)</td>\n",
              "      <td>False</td>\n",
              "      <td>NaN</td>\n",
              "    </tr>\n",
              "    <tr>\n",
              "      <th>62</th>\n",
              "      <td>(48725, 62148)</td>\n",
              "      <td>False</td>\n",
              "      <td>482111.0</td>\n",
              "    </tr>\n",
              "    <tr>\n",
              "      <th>63</th>\n",
              "      <td>(48725, 64311)</td>\n",
              "      <td>False</td>\n",
              "      <td>482111.0</td>\n",
              "    </tr>\n",
              "    <tr>\n",
              "      <th>64</th>\n",
              "      <td>(62148, 64311)</td>\n",
              "      <td>False</td>\n",
              "      <td>482111.0</td>\n",
              "    </tr>\n",
              "    <tr>\n",
              "      <th>65</th>\n",
              "      <td>(54148, 77661)</td>\n",
              "      <td>False</td>\n",
              "      <td>236117.0</td>\n",
              "    </tr>\n",
              "  </tbody>\n",
              "</table>\n",
              "<p>66 rows × 3 columns</p>\n",
              "</div>"
            ],
            "text/plain": [
              "              Pair  Same_Company_Name  Same_NAICS\n",
              "0   (11674, 23229)              False    221118.0\n",
              "1   (11674, 23931)              False    221118.0\n",
              "2   (11674, 24985)              False    221118.0\n",
              "3   (23229, 23536)              False    221118.0\n",
              "4   (23229, 23931)              False    221118.0\n",
              "..             ...                ...         ...\n",
              "61  (64995, 69032)              False         NaN\n",
              "62  (48725, 62148)              False    482111.0\n",
              "63  (48725, 64311)              False    482111.0\n",
              "64  (62148, 64311)              False    482111.0\n",
              "65  (54148, 77661)              False    236117.0\n",
              "\n",
              "[66 rows x 3 columns]"
            ]
          },
          "execution_count": 81,
          "metadata": {},
          "output_type": "execute_result"
        }
      ],
      "source": [
        "check_pairs(sample_pairs, stock_info)"
      ]
    },
    {
      "cell_type": "code",
      "execution_count": 73,
      "metadata": {},
      "outputs": [
        {
          "name": "stdout",
          "output_type": "stream",
          "text": [
            "  Clustering           Test  Different_Industry_Percentage\n",
            "0     OPTICS  Cointegration                      25.000000\n",
            "1     OPTICS    Correlation                       0.000000\n",
            "2    HDBSCAN  Cointegration                      36.363636\n",
            "3    HDBSCAN    Correlation                      20.833333\n",
            "4     DBSCAN  Cointegration                      45.000000\n",
            "5     DBSCAN    Correlation                      21.212121\n"
          ]
        }
      ],
      "source": [
        "# percentage of pairs out of industry\n",
        "\n",
        "final_results = []\n",
        "\n",
        "for algorithm in ['OPTICS', 'HDBSCAN', 'DBSCAN']:\n",
        "    for relationship in ['Cointegration', 'Correlation']:\n",
        "        key = f\"{algorithm}_{relationship}\"\n",
        "        sample_pairs = data[key]\n",
        "        \n",
        "        # Check pairs and calculate the percentage of pairs not in the same industry\n",
        "        result_df = check_pairs(sample_pairs, stock_info)\n",
        "        different_industry_percentage = calculate_different_industry_percentage(result_df)\n",
        "        \n",
        "        final_results.append({\n",
        "            'Clustering': algorithm,\n",
        "            'Test': relationship,\n",
        "            'Different_Industry_Percentage': different_industry_percentage\n",
        "        })\n",
        "\n",
        "# Create the final dataframe\n",
        "final_df = pd.DataFrame(final_results)\n",
        "\n",
        "print(final_df)"
      ]
    },
    {
      "cell_type": "code",
      "execution_count": 74,
      "metadata": {},
      "outputs": [],
      "source": [
        "final_df.to_clipboard()"
      ]
    },
    {
      "cell_type": "code",
      "execution_count": 102,
      "metadata": {},
      "outputs": [
        {
          "name": "stdout",
          "output_type": "stream",
          "text": [
            "                                     Industry_Name_1  \\\n",
            "0                   Depository Credit Intermediation   \n",
            "1                   Depository Credit Intermediation   \n",
            "2                   Depository Credit Intermediation   \n",
            "3                   Depository Credit Intermediation   \n",
            "4  Electric Power Generation, Transmission and Di...   \n",
            "5  Electric Power Generation, Transmission and Di...   \n",
            "6                                 Insurance Carriers   \n",
            "7                  Other Miscellaneous Manufacturing   \n",
            "8                  Residential Building Construction   \n",
            "\n",
            "                                     Industry_Name_2  Value_Count  \n",
            "0                   Depository Credit Intermediation            7  \n",
            "1                                 Insurance Carriers            1  \n",
            "2            Management of Companies and Enterprises            3  \n",
            "3  Securities and Commodity Contracts Intermediat...            1  \n",
            "4  Electric Power Generation, Transmission and Di...           13  \n",
            "5                           Natural Gas Distribution            6  \n",
            "6                                 Insurance Carriers            1  \n",
            "7      Other General-Purpose Machinery Manufacturing            1  \n",
            "8                  Residential Building Construction            1  \n"
          ]
        }
      ],
      "source": [
        "naics_df = pd.read_csv(\"/Users/caleb/Library/CloudStorage/OneDrive-Personal/文档/Curriculum/NYU Y1S2/Robo/project/naics.csv\")\n",
        "\n",
        "import pandas as pd\n",
        "\n",
        "def get_industry_pair_value_counts(data, stock_info, naics_df):\n",
        "    \"\"\"\n",
        "    Calculate the value count of industry pairs, aggregated across clustering methods and tests.\n",
        "\n",
        "    Args:\n",
        "        data (dict): A dictionary containing sample pairs for each combination of clustering algorithm and relationship type.\n",
        "        stock_info (pandas.DataFrame): A DataFrame containing stock information with columns 'PERMNO', 'Company Name', and 'North American Industry Classification System'.\n",
        "        naics_df (pandas.DataFrame): A DataFrame containing NAICS codes and their corresponding industry names, with columns 'code', 'name', 'level', and 'notes'.\n",
        "\n",
        "    Returns:\n",
        "        pandas.DataFrame: A DataFrame with columns 'Industry_1', 'Industry_2', and 'Value_Count'.\n",
        "    \"\"\"\n",
        "    # Filter naics_df to include only rows where level equals 4\n",
        "    naics_df = naics_df[naics_df['level'] == 4]\n",
        "    \n",
        "    final_results = []\n",
        "\n",
        "    for algorithm in ['OPTICS', 'HDBSCAN', 'DBSCAN']:\n",
        "        for relationship in ['Cointegration']:\n",
        "            key = f\"{algorithm}_{relationship}\"\n",
        "            sample_pairs = data[key]\n",
        "            \n",
        "            industry_pairs = []\n",
        "            for pair in sample_pairs:\n",
        "                permno1, permno2 = pair\n",
        "                industry1 = int(str(stock_info.loc[stock_info['PERMNO'] == permno1, 'North American Industry Classification System'].values[0])[:4])\n",
        "                industry2 = int(str(stock_info.loc[stock_info['PERMNO'] == permno2, 'North American Industry Classification System'].values[0])[:4])\n",
        "                industry_pairs.append((industry1, industry2))\n",
        "            \n",
        "            # Create a DataFrame with industry pairs\n",
        "            industry_pairs_df = pd.DataFrame(industry_pairs, columns=['Industry_1', 'Industry_2'])\n",
        "            \n",
        "            # Merge with naics_df to get industry names\n",
        "            industry_pairs_df = pd.merge(industry_pairs_df, naics_df, left_on='Industry_1', right_on='code', how='left')\n",
        "            industry_pairs_df = pd.merge(industry_pairs_df, naics_df, left_on='Industry_2', right_on='code', how='left')\n",
        "            industry_pairs_df.rename(columns={'name_x': 'Industry_Name_1', 'name_y': 'Industry_Name_2'}, inplace=True)\n",
        "            \n",
        "            # Calculate the value count of industry pairs\n",
        "            value_counts = industry_pairs_df.groupby(['Industry_Name_1', 'Industry_Name_2']).size().reset_index(name='Value_Count')\n",
        "            \n",
        "            # Append the results to the final_results list\n",
        "            final_results.append(value_counts)\n",
        "\n",
        "    # Concatenate the final_results into a single DataFrame\n",
        "    final_df = pd.concat(final_results, ignore_index=True)\n",
        "\n",
        "    # Aggregate the results by summing the value counts for each industry pair\n",
        "    aggregated_df = final_df.groupby(['Industry_Name_1', 'Industry_Name_2'], as_index=False)['Value_Count'].sum()\n",
        "\n",
        "    return aggregated_df\n",
        "\n",
        "industry_pair_value_counts_df = get_industry_pair_value_counts(data, stock_info, naics_df)\n",
        "print(industry_pair_value_counts_df)"
      ]
    },
    {
      "cell_type": "code",
      "execution_count": 103,
      "metadata": {},
      "outputs": [],
      "source": [
        "industry_pair_value_counts_df.to_clipboard()"
      ]
    },
    {
      "cell_type": "code",
      "execution_count": 95,
      "metadata": {},
      "outputs": [
        {
          "data": {
            "text/plain": [
              "Index(['level', 'code', 'name', 'notes'], dtype='object')"
            ]
          },
          "execution_count": 95,
          "metadata": {},
          "output_type": "execute_result"
        }
      ],
      "source": [
        "naics_df.columns"
      ]
    },
    {
      "cell_type": "markdown",
      "metadata": {},
      "source": [
        "## Trade execution"
      ]
    },
    {
      "cell_type": "code",
      "execution_count": 11,
      "metadata": {},
      "outputs": [],
      "source": [
        "from statsmodels.tsa.stattools import adfuller\n",
        "\n",
        "def calculate_spread(data0, data1):\n",
        "    \"\"\"\n",
        "    Calculate the spread between two price series based on the cointegration assumption.\n",
        "\n",
        "    Parameters:\n",
        "        data0 (pd.Series): Price series of the first asset.\n",
        "        data1 (pd.Series): Price series of the second asset.\n",
        "\n",
        "    Returns:\n",
        "        spread (pd.Series): The calculated spread series with zero mean.\n",
        "        beta (float): The cointegration coefficient.\n",
        "    \"\"\"\n",
        "    # Perform the Augmented Dickey-Fuller test for cointegration\n",
        "    residuals = data0 - data1\n",
        "    adf_result = adfuller(residuals)\n",
        "    pvalue = adf_result[1]\n",
        "\n",
        "    # Check if the p-value is below the significance level (e.g., 0.05)\n",
        "    if pvalue < 0.05:\n",
        "        # Estimate the cointegration coefficient using OLS regression\n",
        "        beta = np.polyfit(data1, data0, deg=1)[0]\n",
        "        spread = data0 - beta * data1\n",
        "    else:\n",
        "        # If the series are not cointegrated, use a simple spread calculation\n",
        "        spread = data0 - data1\n",
        "        beta = 1\n",
        "\n",
        "    # Subtract the mean of the spread to obtain a zero-mean series\n",
        "    spread = spread - spread.mean()\n",
        "\n",
        "    return spread, beta"
      ]
    },
    {
      "cell_type": "code",
      "execution_count": 18,
      "metadata": {},
      "outputs": [
        {
          "name": "stdout",
          "output_type": "stream",
          "text": [
            "Error\n"
          ]
        },
        {
          "data": {
            "text/plain": [
              "<Axes: >"
            ]
          },
          "execution_count": 18,
          "metadata": {},
          "output_type": "execute_result"
        },
        {
          "data": {
            "image/png": "[encoded data removed]",
            "text/plain": [
              "<Figure size 640x480 with 1 Axes>"
            ]
          },
          "metadata": {},
          "output_type": "display_data"
        }
      ],
      "source": [
        "pair = [23931, 44206]\n",
        "\n",
        "df1 = all_stock_price.loc[all_stock_price.PERMNO==pair[0],[\"PRC\",'date']].reset_index(drop=True)\n",
        "df2 = all_stock_price.loc[all_stock_price.PERMNO==pair[1],[\"PRC\",'date']].reset_index(drop=True)\n",
        "\n",
        "# merged_df = pd.merge(df1,df2,on='date', how='outer')\n",
        "\n",
        "calculate_spread(df1['PRC'],df2['PRC']).plot()\n"
      ]
    },
    {
      "cell_type": "code",
      "execution_count": null,
      "metadata": {},
      "outputs": [],
      "source": [
        "class PairTradingStrategy(bt.Strategy):\n",
        "    params = (\n",
        "        ('model', None),\n",
        "        ('long_percentile', 80),\n",
        "        ('short_percentile', 20),\n",
        "        ('max_holding_period', 50),  # Maximum holding period in terms of data points\n",
        "    )\n",
        "\n",
        "    def __init__(self):\n",
        "        self.spread, self.beta = calculate_spread(self.data0.close, self.data1.close)\n",
        "        self.holding_period = 0\n",
        "        self.prev_predicted_change = None\n",
        "        self.long_threshold = None\n",
        "        self.short_threshold = None\n",
        "        self.spread_changes = []\n",
        "\n",
        "    def next(self):\n",
        "        current_spread = self.spread[0]\n",
        "        prev_spread = self.spread[-1]\n",
        "        spread_change = (current_spread - prev_spread) / prev_spread\n",
        "\n",
        "        predicted_change = generate_predicted_spread_change(self.params.model, current_spread)\n",
        "\n",
        "        if self.position:\n",
        "            self.holding_period += 1\n",
        "\n",
        "            if self.position.size > 0:  # Long position\n",
        "                if current_spread <= 0 or predicted_change < 0 or self.holding_period >= self.params.max_holding_period:\n",
        "                    self.close()\n",
        "                    self.holding_period = 0\n",
        "                    self.prev_predicted_change = None\n",
        "            elif self.position.size < 0:  # Short position\n",
        "                if current_spread >= 0 or predicted_change > 0 or self.holding_period >= self.params.max_holding_period:\n",
        "                    self.close()\n",
        "                    self.holding_period = 0\n",
        "                    self.prev_predicted_change = None\n",
        "        else:\n",
        "            self.calculate_thresholds(spread_change)\n",
        "\n",
        "            if predicted_change > self.long_threshold and (self.prev_predicted_change is None or predicted_change > self.prev_predicted_change):\n",
        "                self.buy(size=1)\n",
        "                self.holding_period = 0\n",
        "                self.prev_predicted_change = predicted_change\n",
        "            elif predicted_change < self.short_threshold and (self.prev_predicted_change is None or predicted_change < self.prev_predicted_change):\n",
        "                self.sell(size=1)\n",
        "                self.holding_period = 0\n",
        "                self.prev_predicted_change = predicted_change\n",
        "\n",
        "    def calculate_thresholds(self, spread_change):\n",
        "        self.spread_changes.append(spread_change)\n",
        "\n",
        "        if len(self.spread_changes) > 0:\n",
        "            long_percentile = np.percentile(self.spread_changes, self.params.long_percentile)\n",
        "            short_percentile = np.percentile(self.spread_changes, self.params.short_percentile)\n",
        "            self.long_threshold = max(self.long_threshold or long_percentile, long_percentile)\n",
        "            self.short_threshold = min(self.short_threshold or short_percentile, short_percentile)"
      ]
    },
    {
      "cell_type": "markdown",
      "metadata": {},
      "source": [
        "## Trade execution based on predicted spread"
      ]
    },
    {
      "cell_type": "code",
      "execution_count": 13,
      "metadata": {},
      "outputs": [
        {
          "name": "stdout",
          "output_type": "stream",
          "text": [
            "\u001b[31mERROR: Could not find a version that satisfies the requirement convert_to_numpy (from versions: none)\u001b[0m\u001b[31m\n",
            "\u001b[0m\u001b[31mERROR: No matching distribution found for convert_to_numpy\u001b[0m\u001b[31m\n",
            "\u001b[0mNote: you may need to restart the kernel to use updated packages.\n"
          ]
        }
      ],
      "source": [
        "pip install convert_to_numpy"
      ]
    },
    {
      "cell_type": "code",
      "execution_count": 43,
      "metadata": {},
      "outputs": [
        {
          "name": "stdout",
          "output_type": "stream",
          "text": [
            "          date     ret_1     ret_2       z_1       z_2  zret_days\n",
            "248 2020-12-24  0.021223  0.015176  0.701482  0.411558   0.289924\n",
            "249 2020-12-28 -0.002920  0.029141 -0.096384  0.798760  -0.895144\n",
            "250 2020-12-29 -0.000310  0.007008 -0.010227  0.193375  -0.203601\n",
            "251 2020-12-30 -0.011512 -0.010092 -0.381342 -0.278803  -0.102538\n",
            "252 2020-12-31 -0.009342  0.006334 -0.308570  0.174701  -0.483271\n"
          ]
        }
      ],
      "source": [
        "import pandas as pd\n",
        "\n",
        "def calculate_returns_new(df, days):\n",
        "    \"\"\"Calculate percentage returns over specified number of days.\"\"\"\n",
        "    return df['PRC'].pct_change(days)\n",
        "\n",
        "def calculate_z_scores_new(df):\n",
        "    \"\"\"Calculate rolling z-scores of returns over specified window.\"\"\"\n",
        "    return df / df.rolling(window=60).std().shift(1)\n",
        "\n",
        "def analyze_permno_pairs(df, permno1, permno2, days):\n",
        "    \"\"\"\n",
        "    Analyze two PERMNOs in the DataFrame, calculating returns, z-scores, and differences of z-scores.\n",
        "\n",
        "    Parameters:\n",
        "    df (pd.DataFrame): Input DataFrame with columns 'PERMNO' and 'PRC'.\n",
        "    permno1 (int): First PERMNO identifier.\n",
        "    permno2 (int): Second PERMNO identifier.\n",
        "    days (int): Number of days for calculating returns.\n",
        "\n",
        "    Returns:\n",
        "    pd.DataFrame: DataFrame with the calculated metrics.\n",
        "    \"\"\"\n",
        "    # Filter data for each PERMNO\n",
        "    df1 = df[df['PERMNO'] == permno1].copy()\n",
        "    df2 = df[df['PERMNO'] == permno2].copy()\n",
        "\n",
        "    # Calculate returns for each PERMNO\n",
        "    df1.loc[:, 'ret_1'] = calculate_returns_new(df1, days)\n",
        "    df2.loc[:, 'ret_2'] = calculate_returns_new(df2, days)\n",
        "\n",
        "    # Calculate z-scores for each PERMNO's returns\n",
        "    df1.loc[:, 'z_1'] = calculate_z_scores_new(df1['ret_1'])\n",
        "    df2.loc[:, 'z_2'] = calculate_z_scores_new(df2['ret_2'])\n",
        "\n",
        "    # Ensure that both data frames are aligned by date before merging\n",
        "    df1 = df1.reset_index(drop=True)\n",
        "    df2 = df2.reset_index(drop=True)\n",
        "\n",
        "    # Create a DataFrame to store the results\n",
        "    result_df = pd.DataFrame({\n",
        "        'date': pd.to_datetime(df1['date']),  # Assuming 'date' column exists and is common\n",
        "        'ret_1': df1['ret_1'],\n",
        "        'ret_2': df2['ret_2'],\n",
        "        'z_1': df1['z_1'],\n",
        "        'z_2': df2['z_2']\n",
        "    })\n",
        "\n",
        "    # Calculate the difference between z-scores\n",
        "    result_df['zret_days'] = result_df['z_1'] - result_df['z_2']\n",
        "\n",
        "    return result_df\n",
        "\n",
        "def create_lookback_features_new(dataset, look_back):\n",
        "    \"\"\"Generate features and labels from the dataset.\"\"\"\n",
        "    dataX, dataY = [], []\n",
        "    for i in range(len(dataset) - look_back):\n",
        "        a = dataset[i:(i + look_back), 0]\n",
        "        dataX.append(a)\n",
        "        dataY.append(dataset[i + look_back, 0])\n",
        "    return np.array(dataX), np.array(dataY)\n",
        "\n",
        "\n",
        "# Example Usage\n",
        "#Assuming 'df' is your DataFrame containing the data including 'PERMNO', 'PRC', and 'date'\n",
        "results = analyze_permno_pairs(price_test, 10104, 10107, 5)\n",
        "print(results.tail())"
      ]
    },
    {
      "cell_type": "code",
      "execution_count": 85,
      "metadata": {},
      "outputs": [],
      "source": [
        "from keras.models import Sequential\n",
        "from keras.layers import LSTM, Dense, Dropout\n",
        "import matplotlib.pyplot as plt\n",
        "import numpy as np\n",
        "\n",
        "def train_and_forecast(price_train, price_test, look_back=3, epochs=10):\n",
        "    \"\"\" Train the LSTM model on price_train and forecast using price_test. \"\"\"\n",
        "    # Prepare training data\n",
        "    train_X, train_y = create_lookback_features(price_train['zret_days'].values.reshape(-1,1), look_back)\n",
        "\n",
        "    # Reshape input for LSTM [samples, time steps, features]\n",
        "    train_X = train_X.reshape((train_X.shape[0], train_X.shape[1], 1))\n",
        "\n",
        "    # Define LSTM model\n",
        "    model = Sequential([\n",
        "        LSTM(50, input_shape=(look_back, 1)),\n",
        "        Dropout(0.2),\n",
        "        Dense(1)\n",
        "    ])\n",
        "    model.compile(loss='mean_squared_error', optimizer='adam')\n",
        "    model.fit(train_X, train_y, epochs=epochs, batch_size=1, verbose=0)\n",
        "\n",
        "    # Prepare test data (to forecast 2021)\n",
        "    test_X, _ = create_lookback_features(price_test['zret_days'].values.reshape(-1,1), look_back)\n",
        "    test_X = test_X.reshape((test_X.shape[0], test_X.shape[1], 1))\n",
        "\n",
        "    # Forecast future values\n",
        "    predictions = model.predict(test_X)\n",
        "    # Assuming price_test includes a 'date' column that correctly indexes days\n",
        "# Aligning dates correctly for plotting\n",
        "    actual_dates = price_test['date'].iloc[look_back:]  # Skip the first 'look_back' days\n",
        "    predicted_dates = actual_dates  # Predictions correspond to the actual dates after look_back\n",
        "\n",
        "    # plt.figure(figsize=(15, 7))\n",
        "    # plt.plot(actual_dates, price_test['zret_days'].iloc[look_back:], label='Actual ZDiff', color='blue')\n",
        "    # plt.plot(predicted_dates, predictions.flatten(), label='Predicted ZDiff', color='orange', alpha=0.7)\n",
        "    # plt.title('Actual vs Predicted ZDiffs for 2021')\n",
        "    # plt.xlabel('Date')\n",
        "    # plt.ylabel('Zdiff')\n",
        "    # plt.legend()\n",
        "    # plt.show()\n",
        "\n",
        "\n",
        "    return predictions\n",
        "\n",
        "# predictions = train_and_forecast(new_price_train, new_price_test, look_back=3, epochs=10)\n"
      ]
    },
    {
      "cell_type": "code",
      "execution_count": 86,
      "metadata": {},
      "outputs": [],
      "source": [
        "import pandas as pd\n",
        "import numpy as np\n",
        "\n",
        "def join_and_predict_new(df1, df2, permno1, permno2, days, look_back=3, epochs=10):\n",
        "    \"\"\"\n",
        "    This function joins two stocks using their PERMNO identifiers, calculates the actual and predicted z-scores difference,\n",
        "    and returns a DataFrame with these values.\n",
        "    \"\"\"\n",
        "    # Extract and preprocess data using analyze_permno_pairs function\n",
        "    to_train = analyze_permno_pairs(df1, permno1, permno2, days)\n",
        "    to_train = to_train.dropna()\n",
        "    to_test = analyze_permno_pairs(df2, permno1, permno2, days)\n",
        "    to_test = to_test.dropna()\n",
        "\n",
        "    # Predict the spread using the LSTM model\n",
        "    predicted_spread = train_and_forecast(to_train, to_test, look_back=look_back, epochs=epochs)\n",
        "\n",
        "    # Convert predicted_spread to a NumPy array if it's a list\n",
        "    if isinstance(predicted_spread, list):\n",
        "        predicted_spread = np.array(predicted_spread)\n",
        "\n",
        "    # Ensure predicted_spread is a 1-dimensional array\n",
        "    if predicted_spread.ndim != 1:\n",
        "        predicted_spread = predicted_spread.flatten()  # Flatten if necessary\n",
        "\n",
        "    # Adjust the dates to match the predicted spread length\n",
        "    # Use the dates up to the second-to-last date in the test data\n",
        "    aligned_dates = to_test['date'].iloc[look_back:-1].reset_index(drop=True)\n",
        "\n",
        "    # Create a final DataFrame to return\n",
        "    result_df = pd.DataFrame({\n",
        "        'date': aligned_dates,  # Dates aligned with the predictions\n",
        "        'PERMNO1': np.repeat(permno1, len(aligned_dates)),\n",
        "        'PERMNO2': np.repeat(permno2, len(aligned_dates)),\n",
        "        f'zdiff{days}': predicted_spread[1:]  # Use predictions starting from the second element\n",
        "    })\n",
        "\n",
        "    return result_df"
      ]
    },
    {
      "cell_type": "code",
      "execution_count": 87,
      "metadata": {},
      "outputs": [],
      "source": [
        "def predicted_spread_model(all_stock_price, sample_pair):\n",
        "    metrics_dfs = []\n",
        "    \n",
        "    # Process each pair of companies\n",
        "    for pair in sample_pair:\n",
        "        df1 = all_stock_price.loc[all_stock_price.PERMNO==pair[0],[\"PRC\",'date']].reset_index(drop=True)\n",
        "        df2 = all_stock_price.loc[all_stock_price.PERMNO==pair[1],[\"PRC\",'date']].reset_index(drop=True)\n",
        "        company1 = all_stock_price.loc[all_stock_price.PERMNO==pair[0],\"TICKER\"].iloc[0]\n",
        "        company2 = all_stock_price.loc[all_stock_price.PERMNO==pair[1],\"TICKER\"].iloc[0]\n",
        "        \n",
        "        # Calculate ret1 for both companies\n",
        "        df1['ret1'] = calculate_returns(df1[[\"PRC\"]], 1)\n",
        "        df2['ret1'] = calculate_returns(df2[[\"PRC\"]], 1)\n",
        "        \n",
        "        df1['vol20'] = calculate_volatility(df1)\n",
        "        df2['vol20'] = calculate_volatility(df2)\n",
        "    \n",
        "\n",
        "        # get predicted spread\n",
        "        merged_spread_df = None\n",
        "        for window in [5, 10, 20]:\n",
        "            spread_df = join_and_predict_new(price_train, price_test, pair[0],pair[1], window, look_back=20, epochs=15)\n",
        "            \n",
        "            if merged_spread_df is None:\n",
        "                merged_spread_df = spread_df\n",
        "            else:\n",
        "                merged_spread_df = pd.merge(merged_spread_df, spread_df, on='date',how=\"left\")\n",
        "\n",
        "        # Filter out the useful columns\n",
        "        useful_columns = ['date'] + [f'zdiff{window}' for window in [5, 10, 20]]\n",
        "        merged_spread_df = merged_spread_df[useful_columns]\n",
        "\n",
        "        # merged_spread_df.head()        \n",
        "        \n",
        "        \n",
        "        # Merge dataframes\n",
        "        merged_df = pd.merge(df1, df2, on='date', how='outer')\n",
        "\n",
        "        merged_df = pd.merge(merged_df, merged_spread_df, on='date', how='left')\n",
        "\n",
        "        # Trading signals and position management\n",
        "        for days, zdiff, hold_period in [('5', 'zdiff5', 5), ('10', 'zdiff10', 10), ('20', 'zdiff20', 20)]:\n",
        "            # Calculate signals based on zdiff{5,10,20} returned by predict_spread\n",
        "            merged_df[f'signal{days}'] = np.where(merged_df[zdiff] < LongEntryThreshold, 1,\n",
        "                                                  np.where(merged_df[zdiff] > ShortEntryThreshold, -1, 0))\n",
        "            \n",
        "            merged_df[f'LCap{days}'] = np.where((merged_df[f'signal{days}'].shift(1) == 1) & (merged_df[zdiff] > LongCap), 1, 0)\n",
        "            merged_df[f'SCap{days}'] = np.where((merged_df[f'signal{days}'].shift(1) == -1) & (merged_df[zdiff] < ShortCap), 1, 0)\n",
        "        \n",
        "        merged_df = generate_age_and_position_columns(merged_df)\n",
        "\n",
        "        for days, zdiff, hold_period in [('5', 'zdiff5', 5), ('10', 'zdiff10', 10), ('20', 'zdiff20', 20)]:\n",
        "\n",
        "            # merged_df[f'age{days}'] = (merged_df[f'signal{days}'] != 0).astype(int).cumsum()\n",
        "            # merged_df[f'aged{days}?'] = (merged_df[f'age{days}'] == hold_period).astype(int)\n",
        "\n",
        "            # position should be \n",
        "            # merged_df[f'position{days}'] = np.where(merged_df[f'aged{days}?'] == 1, 0, merged_df[f'signal{days}'])\n",
        "            merged_df[f'fret_z{days}'] = merged_df[f'position{days}'] * merged_df[f'ret1_x'].shift(-1) - merged_df[f'position{days}'] * merged_df[f'ret1_y'].shift(-1)    \n",
        "                \n",
        "        \n",
        "        merged_df[\"ComboRet\"] = (merged_df['fret_z5'] + merged_df['fret_z10'] + merged_df['fret_z20']) / 3\n",
        "        metrics_df = calculate_metrics(merged_df, company1, company2)\n",
        "        metrics_dfs.append(metrics_df)\n",
        "    \n",
        "    all_metrics_df = pd.concat(metrics_dfs, ignore_index=True)\n",
        "    return all_metrics_df"
      ]
    },
    {
      "cell_type": "markdown",
      "metadata": {},
      "source": [
        "### test run"
      ]
    },
    {
      "cell_type": "code",
      "execution_count": 42,
      "metadata": {},
      "outputs": [],
      "source": [
        "sample_pair_HDBSCAN_CORRELATION=[(11674, 23229),\n",
        "(11674, 23931),\n",
        "(11674, 24985),\n",
        "(23229, 23536),\n",
        "(23229, 23931),\n",
        "(23229, 24010),\n",
        "(23229, 24109),\n",
        "(23229, 24205),\n",
        "(23229, 24985),\n",
        "(23229, 44206),\n",
        "(23536, 23931),\n",
        "(23536, 24010),\n",
        "(23536, 24109),\n",
        "(23536, 44206),\n",
        "(23931, 24010),\n",
        "(23931, 24109),\n",
        "(23931, 24205),\n",
        "(23931, 24985),\n",
        "(23931, 44206),\n",
        "(24010, 24109),\n",
        "(24010, 44206),\n",
        "(24109, 24985),\n",
        "(24109, 44206),\n",
        "(24205, 24985)]\n",
        "sample_pair_HDBSCAN_COINTEGRATION=([23229, 24109],\n",
        " [23931, 44206],\n",
        " [23536, 24010],\n",
        " [27959, 38762],\n",
        " [23229, 44206],\n",
        " [23931, 24109],\n",
        " [24109, 44206],\n",
        " [23536, 44206],\n",
        " [11404, 38762],\n",
        " [21776, 23712],\n",
        " [21792, 27991])\n",
        "sample_pair_DBSCAN_COINTEGRATION=([42906, 58246],\n",
        " [25953, 56573],\n",
        " [23229, 24109],\n",
        " [58246, 71563],\n",
        " [35554, 58246],\n",
        " [23931, 44206],\n",
        " [54148, 77661],\n",
        " [71563, 81055],\n",
        " [70519, 79323],\n",
        " [60442, 70519],\n",
        " [23536, 24010],\n",
        " [62308, 79323],\n",
        " [35554, 42906],\n",
        " [34746, 58246],\n",
        " [42906, 81055],\n",
        " [27959, 38762],\n",
        " [58246, 81055],\n",
        " [64995, 69032],\n",
        " [23229, 44206],\n",
        " [23931, 24109])\n",
        "\n",
        "sample_pair_DBSCAN_CORR= [(11674, 23229),\n",
        "(11674, 23931),\n",
        "(11674, 24985),\n",
        "(23229, 23536),\n",
        "(23229, 23931),\n",
        "(23229, 24010),\n",
        "(23229, 24109),\n",
        "(23229, 24205),\n",
        "(23229, 24985),\n",
        "(23229, 44206),\n",
        "(23536, 23931),\n",
        "(23536, 24010),\n",
        "(23536, 24109),\n",
        "(23536, 44206),\n",
        "(23931, 24010),\n",
        "(23931, 24109),\n",
        "(23931, 24205),\n",
        "(23931, 24985),\n",
        "(23931, 44206),\n",
        "(24010, 24109),\n",
        "(24010, 44206),\n",
        "(24109, 24985),\n",
        "(24109, 44206),\n",
        "(24205, 24985),\n",
        "(25081, 35044),\n",
        "(25081, 35554),\n",
        "(34746, 35044),\n",
        "(34746, 35554),\n",
        "(34746, 42906),\n",
        "(34746, 58246),\n",
        "(34746, 60442),\n",
        "(34746, 64995),\n",
        "(34746, 69032),\n",
        "(34746, 71563),\n",
        "(35044, 35554),\n",
        "(35044, 42906),\n",
        "(35044, 58246),\n",
        "(35044, 60442),\n",
        "(35044, 64995),\n",
        "(35044, 69032),\n",
        "(35044, 71563),\n",
        "(35554, 42906),\n",
        "(35554, 64995),\n",
        "(35554, 69032),\n",
        "(42906, 58246),\n",
        "(42906, 60442),\n",
        "(42906, 64995),\n",
        "(42906, 71563),\n",
        "(42906, 81055),\n",
        "(47896, 59408),\n",
        "(47896, 62308),\n",
        "(47896, 71563),\n",
        "(58246, 60442),\n",
        "(58246, 64995),\n",
        "(59408, 60442),\n",
        "(59408, 62308),\n",
        "(59408, 71563),\n",
        "(60442, 69032),\n",
        "(60442, 70519),\n",
        "(60442, 71563),\n",
        "(62308, 79323),\n",
        "(64995, 69032),\n",
        "(48725, 62148),\n",
        "(48725, 64311),\n",
        "(62148, 64311),\n",
        "(54148, 77661)]\n",
        "\n"
      ]
    },
    {
      "cell_type": "code",
      "execution_count": null,
      "metadata": {},
      "outputs": [],
      "source": [
        "outcome_df = predicted_value_model(price_test,sample_pair_HDBSCAN_COINTEGRATION)\n",
        "plot_performance_distribution(outcome_df)"
      ]
    },
    {
      "cell_type": "code",
      "execution_count": null,
      "metadata": {},
      "outputs": [],
      "source": []
    },
    {
      "cell_type": "markdown",
      "metadata": {},
      "source": [
        "### HDBSCAN_CORRELATION"
      ]
    },
    {
      "cell_type": "code",
      "execution_count": 100,
      "metadata": {},
      "outputs": [
        {
          "name": "stderr",
          "output_type": "stream",
          "text": [
            "/opt/anaconda3/lib/python3.11/site-packages/keras/src/layers/rnn/rnn.py:204: UserWarning: Do not pass an `input_shape`/`input_dim` argument to a layer. When using Sequential models, prefer using an `Input(shape)` object as the first layer in the model instead.\n",
            "  super().__init__(**kwargs)\n"
          ]
        },
        {
          "name": "stdout",
          "output_type": "stream",
          "text": [
            "\u001b[1m6/6\u001b[0m \u001b[32m━━━━━━━━━━━━━━━━━━━━\u001b[0m\u001b[37m\u001b[0m \u001b[1m0s\u001b[0m 23ms/step\n"
          ]
        },
        {
          "name": "stderr",
          "output_type": "stream",
          "text": [
            "/opt/anaconda3/lib/python3.11/site-packages/keras/src/layers/rnn/rnn.py:204: UserWarning: Do not pass an `input_shape`/`input_dim` argument to a layer. When using Sequential models, prefer using an `Input(shape)` object as the first layer in the model instead.\n",
            "  super().__init__(**kwargs)\n"
          ]
        },
        {
          "name": "stdout",
          "output_type": "stream",
          "text": [
            "\u001b[1m6/6\u001b[0m \u001b[32m━━━━━━━━━━━━━━━━━━━━\u001b[0m\u001b[37m\u001b[0m \u001b[1m0s\u001b[0m 19ms/step\n"
          ]
        },
        {
          "name": "stderr",
          "output_type": "stream",
          "text": [
            "/opt/anaconda3/lib/python3.11/site-packages/keras/src/layers/rnn/rnn.py:204: UserWarning: Do not pass an `input_shape`/`input_dim` argument to a layer. When using Sequential models, prefer using an `Input(shape)` object as the first layer in the model instead.\n",
            "  super().__init__(**kwargs)\n"
          ]
        },
        {
          "name": "stdout",
          "output_type": "stream",
          "text": [
            "\u001b[1m6/6\u001b[0m \u001b[32m━━━━━━━━━━━━━━━━━━━━\u001b[0m\u001b[37m\u001b[0m \u001b[1m0s\u001b[0m 26ms/step\n"
          ]
        },
        {
          "name": "stderr",
          "output_type": "stream",
          "text": [
            "/opt/anaconda3/lib/python3.11/site-packages/keras/src/layers/rnn/rnn.py:204: UserWarning: Do not pass an `input_shape`/`input_dim` argument to a layer. When using Sequential models, prefer using an `Input(shape)` object as the first layer in the model instead.\n",
            "  super().__init__(**kwargs)\n"
          ]
        },
        {
          "name": "stdout",
          "output_type": "stream",
          "text": [
            "\u001b[1m6/6\u001b[0m \u001b[32m━━━━━━━━━━━━━━━━━━━━\u001b[0m\u001b[37m\u001b[0m \u001b[1m0s\u001b[0m 20ms/step\n"
          ]
        },
        {
          "name": "stderr",
          "output_type": "stream",
          "text": [
            "/opt/anaconda3/lib/python3.11/site-packages/keras/src/layers/rnn/rnn.py:204: UserWarning: Do not pass an `input_shape`/`input_dim` argument to a layer. When using Sequential models, prefer using an `Input(shape)` object as the first layer in the model instead.\n",
            "  super().__init__(**kwargs)\n"
          ]
        },
        {
          "name": "stdout",
          "output_type": "stream",
          "text": [
            "\u001b[1m6/6\u001b[0m \u001b[32m━━━━━━━━━━━━━━━━━━━━\u001b[0m\u001b[37m\u001b[0m \u001b[1m0s\u001b[0m 18ms/step\n"
          ]
        },
        {
          "name": "stderr",
          "output_type": "stream",
          "text": [
            "/opt/anaconda3/lib/python3.11/site-packages/keras/src/layers/rnn/rnn.py:204: UserWarning: Do not pass an `input_shape`/`input_dim` argument to a layer. When using Sequential models, prefer using an `Input(shape)` object as the first layer in the model instead.\n",
            "  super().__init__(**kwargs)\n"
          ]
        },
        {
          "name": "stdout",
          "output_type": "stream",
          "text": [
            "\u001b[1m6/6\u001b[0m \u001b[32m━━━━━━━━━━━━━━━━━━━━\u001b[0m\u001b[37m\u001b[0m \u001b[1m0s\u001b[0m 18ms/step\n"
          ]
        },
        {
          "name": "stderr",
          "output_type": "stream",
          "text": [
            "/opt/anaconda3/lib/python3.11/site-packages/keras/src/layers/rnn/rnn.py:204: UserWarning: Do not pass an `input_shape`/`input_dim` argument to a layer. When using Sequential models, prefer using an `Input(shape)` object as the first layer in the model instead.\n",
            "  super().__init__(**kwargs)\n"
          ]
        },
        {
          "name": "stdout",
          "output_type": "stream",
          "text": [
            "\u001b[1m6/6\u001b[0m \u001b[32m━━━━━━━━━━━━━━━━━━━━\u001b[0m\u001b[37m\u001b[0m \u001b[1m0s\u001b[0m 18ms/step\n"
          ]
        },
        {
          "name": "stderr",
          "output_type": "stream",
          "text": [
            "/opt/anaconda3/lib/python3.11/site-packages/keras/src/layers/rnn/rnn.py:204: UserWarning: Do not pass an `input_shape`/`input_dim` argument to a layer. When using Sequential models, prefer using an `Input(shape)` object as the first layer in the model instead.\n",
            "  super().__init__(**kwargs)\n"
          ]
        },
        {
          "name": "stdout",
          "output_type": "stream",
          "text": [
            "\u001b[1m6/6\u001b[0m \u001b[32m━━━━━━━━━━━━━━━━━━━━\u001b[0m\u001b[37m\u001b[0m \u001b[1m0s\u001b[0m 19ms/step\n"
          ]
        },
        {
          "name": "stderr",
          "output_type": "stream",
          "text": [
            "/opt/anaconda3/lib/python3.11/site-packages/keras/src/layers/rnn/rnn.py:204: UserWarning: Do not pass an `input_shape`/`input_dim` argument to a layer. When using Sequential models, prefer using an `Input(shape)` object as the first layer in the model instead.\n",
            "  super().__init__(**kwargs)\n"
          ]
        },
        {
          "name": "stdout",
          "output_type": "stream",
          "text": [
            "\u001b[1m6/6\u001b[0m \u001b[32m━━━━━━━━━━━━━━━━━━━━\u001b[0m\u001b[37m\u001b[0m \u001b[1m0s\u001b[0m 18ms/step\n"
          ]
        },
        {
          "name": "stderr",
          "output_type": "stream",
          "text": [
            "/opt/anaconda3/lib/python3.11/site-packages/keras/src/layers/rnn/rnn.py:204: UserWarning: Do not pass an `input_shape`/`input_dim` argument to a layer. When using Sequential models, prefer using an `Input(shape)` object as the first layer in the model instead.\n",
            "  super().__init__(**kwargs)\n"
          ]
        },
        {
          "name": "stdout",
          "output_type": "stream",
          "text": [
            "\u001b[1m6/6\u001b[0m \u001b[32m━━━━━━━━━━━━━━━━━━━━\u001b[0m\u001b[37m\u001b[0m \u001b[1m0s\u001b[0m 20ms/step\n"
          ]
        },
        {
          "name": "stderr",
          "output_type": "stream",
          "text": [
            "/opt/anaconda3/lib/python3.11/site-packages/keras/src/layers/rnn/rnn.py:204: UserWarning: Do not pass an `input_shape`/`input_dim` argument to a layer. When using Sequential models, prefer using an `Input(shape)` object as the first layer in the model instead.\n",
            "  super().__init__(**kwargs)\n"
          ]
        },
        {
          "name": "stdout",
          "output_type": "stream",
          "text": [
            "\u001b[1m6/6\u001b[0m \u001b[32m━━━━━━━━━━━━━━━━━━━━\u001b[0m\u001b[37m\u001b[0m \u001b[1m0s\u001b[0m 24ms/step\n"
          ]
        },
        {
          "name": "stderr",
          "output_type": "stream",
          "text": [
            "/opt/anaconda3/lib/python3.11/site-packages/keras/src/layers/rnn/rnn.py:204: UserWarning: Do not pass an `input_shape`/`input_dim` argument to a layer. When using Sequential models, prefer using an `Input(shape)` object as the first layer in the model instead.\n",
            "  super().__init__(**kwargs)\n"
          ]
        },
        {
          "name": "stdout",
          "output_type": "stream",
          "text": [
            "\u001b[1m6/6\u001b[0m \u001b[32m━━━━━━━━━━━━━━━━━━━━\u001b[0m\u001b[37m\u001b[0m \u001b[1m0s\u001b[0m 23ms/step\n"
          ]
        },
        {
          "name": "stderr",
          "output_type": "stream",
          "text": [
            "/opt/anaconda3/lib/python3.11/site-packages/keras/src/layers/rnn/rnn.py:204: UserWarning: Do not pass an `input_shape`/`input_dim` argument to a layer. When using Sequential models, prefer using an `Input(shape)` object as the first layer in the model instead.\n",
            "  super().__init__(**kwargs)\n"
          ]
        },
        {
          "name": "stdout",
          "output_type": "stream",
          "text": [
            "\u001b[1m6/6\u001b[0m \u001b[32m━━━━━━━━━━━━━━━━━━━━\u001b[0m\u001b[37m\u001b[0m \u001b[1m0s\u001b[0m 20ms/step\n"
          ]
        },
        {
          "name": "stderr",
          "output_type": "stream",
          "text": [
            "/opt/anaconda3/lib/python3.11/site-packages/keras/src/layers/rnn/rnn.py:204: UserWarning: Do not pass an `input_shape`/`input_dim` argument to a layer. When using Sequential models, prefer using an `Input(shape)` object as the first layer in the model instead.\n",
            "  super().__init__(**kwargs)\n"
          ]
        },
        {
          "name": "stdout",
          "output_type": "stream",
          "text": [
            "\u001b[1m6/6\u001b[0m \u001b[32m━━━━━━━━━━━━━━━━━━━━\u001b[0m\u001b[37m\u001b[0m \u001b[1m0s\u001b[0m 19ms/step\n"
          ]
        },
        {
          "name": "stderr",
          "output_type": "stream",
          "text": [
            "/opt/anaconda3/lib/python3.11/site-packages/keras/src/layers/rnn/rnn.py:204: UserWarning: Do not pass an `input_shape`/`input_dim` argument to a layer. When using Sequential models, prefer using an `Input(shape)` object as the first layer in the model instead.\n",
            "  super().__init__(**kwargs)\n"
          ]
        },
        {
          "name": "stdout",
          "output_type": "stream",
          "text": [
            "\u001b[1m6/6\u001b[0m \u001b[32m━━━━━━━━━━━━━━━━━━━━\u001b[0m\u001b[37m\u001b[0m \u001b[1m0s\u001b[0m 25ms/step\n"
          ]
        },
        {
          "name": "stderr",
          "output_type": "stream",
          "text": [
            "/opt/anaconda3/lib/python3.11/site-packages/keras/src/layers/rnn/rnn.py:204: UserWarning: Do not pass an `input_shape`/`input_dim` argument to a layer. When using Sequential models, prefer using an `Input(shape)` object as the first layer in the model instead.\n",
            "  super().__init__(**kwargs)\n"
          ]
        },
        {
          "name": "stdout",
          "output_type": "stream",
          "text": [
            "\u001b[1m6/6\u001b[0m \u001b[32m━━━━━━━━━━━━━━━━━━━━\u001b[0m\u001b[37m\u001b[0m \u001b[1m0s\u001b[0m 34ms/step\n"
          ]
        },
        {
          "name": "stderr",
          "output_type": "stream",
          "text": [
            "/opt/anaconda3/lib/python3.11/site-packages/keras/src/layers/rnn/rnn.py:204: UserWarning: Do not pass an `input_shape`/`input_dim` argument to a layer. When using Sequential models, prefer using an `Input(shape)` object as the first layer in the model instead.\n",
            "  super().__init__(**kwargs)\n"
          ]
        },
        {
          "name": "stdout",
          "output_type": "stream",
          "text": [
            "\u001b[1m6/6\u001b[0m \u001b[32m━━━━━━━━━━━━━━━━━━━━\u001b[0m\u001b[37m\u001b[0m \u001b[1m0s\u001b[0m 36ms/step\n"
          ]
        },
        {
          "name": "stderr",
          "output_type": "stream",
          "text": [
            "/opt/anaconda3/lib/python3.11/site-packages/keras/src/layers/rnn/rnn.py:204: UserWarning: Do not pass an `input_shape`/`input_dim` argument to a layer. When using Sequential models, prefer using an `Input(shape)` object as the first layer in the model instead.\n",
            "  super().__init__(**kwargs)\n"
          ]
        },
        {
          "name": "stdout",
          "output_type": "stream",
          "text": [
            "\u001b[1m6/6\u001b[0m \u001b[32m━━━━━━━━━━━━━━━━━━━━\u001b[0m\u001b[37m\u001b[0m \u001b[1m0s\u001b[0m 33ms/step\n"
          ]
        },
        {
          "name": "stderr",
          "output_type": "stream",
          "text": [
            "/opt/anaconda3/lib/python3.11/site-packages/keras/src/layers/rnn/rnn.py:204: UserWarning: Do not pass an `input_shape`/`input_dim` argument to a layer. When using Sequential models, prefer using an `Input(shape)` object as the first layer in the model instead.\n",
            "  super().__init__(**kwargs)\n"
          ]
        },
        {
          "name": "stdout",
          "output_type": "stream",
          "text": [
            "\u001b[1m6/6\u001b[0m \u001b[32m━━━━━━━━━━━━━━━━━━━━\u001b[0m\u001b[37m\u001b[0m \u001b[1m0s\u001b[0m 19ms/step\n"
          ]
        },
        {
          "name": "stderr",
          "output_type": "stream",
          "text": [
            "/opt/anaconda3/lib/python3.11/site-packages/keras/src/layers/rnn/rnn.py:204: UserWarning: Do not pass an `input_shape`/`input_dim` argument to a layer. When using Sequential models, prefer using an `Input(shape)` object as the first layer in the model instead.\n",
            "  super().__init__(**kwargs)\n"
          ]
        },
        {
          "name": "stdout",
          "output_type": "stream",
          "text": [
            "\u001b[1m6/6\u001b[0m \u001b[32m━━━━━━━━━━━━━━━━━━━━\u001b[0m\u001b[37m\u001b[0m \u001b[1m0s\u001b[0m 19ms/step\n"
          ]
        },
        {
          "name": "stderr",
          "output_type": "stream",
          "text": [
            "/opt/anaconda3/lib/python3.11/site-packages/keras/src/layers/rnn/rnn.py:204: UserWarning: Do not pass an `input_shape`/`input_dim` argument to a layer. When using Sequential models, prefer using an `Input(shape)` object as the first layer in the model instead.\n",
            "  super().__init__(**kwargs)\n"
          ]
        },
        {
          "name": "stdout",
          "output_type": "stream",
          "text": [
            "\u001b[1m6/6\u001b[0m \u001b[32m━━━━━━━━━━━━━━━━━━━━\u001b[0m\u001b[37m\u001b[0m \u001b[1m0s\u001b[0m 19ms/step\n"
          ]
        },
        {
          "name": "stderr",
          "output_type": "stream",
          "text": [
            "/opt/anaconda3/lib/python3.11/site-packages/keras/src/layers/rnn/rnn.py:204: UserWarning: Do not pass an `input_shape`/`input_dim` argument to a layer. When using Sequential models, prefer using an `Input(shape)` object as the first layer in the model instead.\n",
            "  super().__init__(**kwargs)\n"
          ]
        },
        {
          "name": "stdout",
          "output_type": "stream",
          "text": [
            "\u001b[1m6/6\u001b[0m \u001b[32m━━━━━━━━━━━━━━━━━━━━\u001b[0m\u001b[37m\u001b[0m \u001b[1m0s\u001b[0m 19ms/step\n"
          ]
        },
        {
          "name": "stderr",
          "output_type": "stream",
          "text": [
            "/opt/anaconda3/lib/python3.11/site-packages/keras/src/layers/rnn/rnn.py:204: UserWarning: Do not pass an `input_shape`/`input_dim` argument to a layer. When using Sequential models, prefer using an `Input(shape)` object as the first layer in the model instead.\n",
            "  super().__init__(**kwargs)\n"
          ]
        },
        {
          "name": "stdout",
          "output_type": "stream",
          "text": [
            "\u001b[1m6/6\u001b[0m \u001b[32m━━━━━━━━━━━━━━━━━━━━\u001b[0m\u001b[37m\u001b[0m \u001b[1m0s\u001b[0m 27ms/step\n"
          ]
        },
        {
          "name": "stderr",
          "output_type": "stream",
          "text": [
            "/opt/anaconda3/lib/python3.11/site-packages/keras/src/layers/rnn/rnn.py:204: UserWarning: Do not pass an `input_shape`/`input_dim` argument to a layer. When using Sequential models, prefer using an `Input(shape)` object as the first layer in the model instead.\n",
            "  super().__init__(**kwargs)\n"
          ]
        },
        {
          "name": "stdout",
          "output_type": "stream",
          "text": [
            "\u001b[1m6/6\u001b[0m \u001b[32m━━━━━━━━━━━━━━━━━━━━\u001b[0m\u001b[37m\u001b[0m \u001b[1m0s\u001b[0m 18ms/step\n"
          ]
        },
        {
          "name": "stderr",
          "output_type": "stream",
          "text": [
            "/opt/anaconda3/lib/python3.11/site-packages/keras/src/layers/rnn/rnn.py:204: UserWarning: Do not pass an `input_shape`/`input_dim` argument to a layer. When using Sequential models, prefer using an `Input(shape)` object as the first layer in the model instead.\n",
            "  super().__init__(**kwargs)\n"
          ]
        },
        {
          "name": "stdout",
          "output_type": "stream",
          "text": [
            "\u001b[1m6/6\u001b[0m \u001b[32m━━━━━━━━━━━━━━━━━━━━\u001b[0m\u001b[37m\u001b[0m \u001b[1m0s\u001b[0m 18ms/step\n"
          ]
        },
        {
          "name": "stderr",
          "output_type": "stream",
          "text": [
            "/opt/anaconda3/lib/python3.11/site-packages/keras/src/layers/rnn/rnn.py:204: UserWarning: Do not pass an `input_shape`/`input_dim` argument to a layer. When using Sequential models, prefer using an `Input(shape)` object as the first layer in the model instead.\n",
            "  super().__init__(**kwargs)\n"
          ]
        },
        {
          "name": "stdout",
          "output_type": "stream",
          "text": [
            "\u001b[1m6/6\u001b[0m \u001b[32m━━━━━━━━━━━━━━━━━━━━\u001b[0m\u001b[37m\u001b[0m \u001b[1m0s\u001b[0m 19ms/step\n"
          ]
        },
        {
          "name": "stderr",
          "output_type": "stream",
          "text": [
            "/opt/anaconda3/lib/python3.11/site-packages/keras/src/layers/rnn/rnn.py:204: UserWarning: Do not pass an `input_shape`/`input_dim` argument to a layer. When using Sequential models, prefer using an `Input(shape)` object as the first layer in the model instead.\n",
            "  super().__init__(**kwargs)\n"
          ]
        },
        {
          "name": "stdout",
          "output_type": "stream",
          "text": [
            "\u001b[1m6/6\u001b[0m \u001b[32m━━━━━━━━━━━━━━━━━━━━\u001b[0m\u001b[37m\u001b[0m \u001b[1m0s\u001b[0m 18ms/step\n"
          ]
        },
        {
          "name": "stderr",
          "output_type": "stream",
          "text": [
            "/opt/anaconda3/lib/python3.11/site-packages/keras/src/layers/rnn/rnn.py:204: UserWarning: Do not pass an `input_shape`/`input_dim` argument to a layer. When using Sequential models, prefer using an `Input(shape)` object as the first layer in the model instead.\n",
            "  super().__init__(**kwargs)\n"
          ]
        },
        {
          "name": "stdout",
          "output_type": "stream",
          "text": [
            "\u001b[1m6/6\u001b[0m \u001b[32m━━━━━━━━━━━━━━━━━━━━\u001b[0m\u001b[37m\u001b[0m \u001b[1m0s\u001b[0m 19ms/step\n"
          ]
        },
        {
          "name": "stderr",
          "output_type": "stream",
          "text": [
            "/opt/anaconda3/lib/python3.11/site-packages/keras/src/layers/rnn/rnn.py:204: UserWarning: Do not pass an `input_shape`/`input_dim` argument to a layer. When using Sequential models, prefer using an `Input(shape)` object as the first layer in the model instead.\n",
            "  super().__init__(**kwargs)\n"
          ]
        },
        {
          "name": "stdout",
          "output_type": "stream",
          "text": [
            "\u001b[1m6/6\u001b[0m \u001b[32m━━━━━━━━━━━━━━━━━━━━\u001b[0m\u001b[37m\u001b[0m \u001b[1m0s\u001b[0m 18ms/step\n"
          ]
        },
        {
          "name": "stderr",
          "output_type": "stream",
          "text": [
            "/opt/anaconda3/lib/python3.11/site-packages/keras/src/layers/rnn/rnn.py:204: UserWarning: Do not pass an `input_shape`/`input_dim` argument to a layer. When using Sequential models, prefer using an `Input(shape)` object as the first layer in the model instead.\n",
            "  super().__init__(**kwargs)\n"
          ]
        },
        {
          "name": "stdout",
          "output_type": "stream",
          "text": [
            "\u001b[1m6/6\u001b[0m \u001b[32m━━━━━━━━━━━━━━━━━━━━\u001b[0m\u001b[37m\u001b[0m \u001b[1m0s\u001b[0m 19ms/step\n"
          ]
        },
        {
          "name": "stderr",
          "output_type": "stream",
          "text": [
            "/opt/anaconda3/lib/python3.11/site-packages/keras/src/layers/rnn/rnn.py:204: UserWarning: Do not pass an `input_shape`/`input_dim` argument to a layer. When using Sequential models, prefer using an `Input(shape)` object as the first layer in the model instead.\n",
            "  super().__init__(**kwargs)\n"
          ]
        },
        {
          "name": "stdout",
          "output_type": "stream",
          "text": [
            "\u001b[1m6/6\u001b[0m \u001b[32m━━━━━━━━━━━━━━━━━━━━\u001b[0m\u001b[37m\u001b[0m \u001b[1m0s\u001b[0m 20ms/step\n"
          ]
        },
        {
          "name": "stderr",
          "output_type": "stream",
          "text": [
            "/opt/anaconda3/lib/python3.11/site-packages/keras/src/layers/rnn/rnn.py:204: UserWarning: Do not pass an `input_shape`/`input_dim` argument to a layer. When using Sequential models, prefer using an `Input(shape)` object as the first layer in the model instead.\n",
            "  super().__init__(**kwargs)\n"
          ]
        },
        {
          "name": "stdout",
          "output_type": "stream",
          "text": [
            "\u001b[1m6/6\u001b[0m \u001b[32m━━━━━━━━━━━━━━━━━━━━\u001b[0m\u001b[37m\u001b[0m \u001b[1m0s\u001b[0m 18ms/step\n"
          ]
        },
        {
          "name": "stderr",
          "output_type": "stream",
          "text": [
            "/opt/anaconda3/lib/python3.11/site-packages/keras/src/layers/rnn/rnn.py:204: UserWarning: Do not pass an `input_shape`/`input_dim` argument to a layer. When using Sequential models, prefer using an `Input(shape)` object as the first layer in the model instead.\n",
            "  super().__init__(**kwargs)\n"
          ]
        },
        {
          "name": "stdout",
          "output_type": "stream",
          "text": [
            "\u001b[1m6/6\u001b[0m \u001b[32m━━━━━━━━━━━━━━━━━━━━\u001b[0m\u001b[37m\u001b[0m \u001b[1m0s\u001b[0m 20ms/step\n"
          ]
        },
        {
          "name": "stderr",
          "output_type": "stream",
          "text": [
            "/opt/anaconda3/lib/python3.11/site-packages/keras/src/layers/rnn/rnn.py:204: UserWarning: Do not pass an `input_shape`/`input_dim` argument to a layer. When using Sequential models, prefer using an `Input(shape)` object as the first layer in the model instead.\n",
            "  super().__init__(**kwargs)\n"
          ]
        },
        {
          "name": "stdout",
          "output_type": "stream",
          "text": [
            "\u001b[1m6/6\u001b[0m \u001b[32m━━━━━━━━━━━━━━━━━━━━\u001b[0m\u001b[37m\u001b[0m \u001b[1m0s\u001b[0m 18ms/step\n"
          ]
        },
        {
          "name": "stderr",
          "output_type": "stream",
          "text": [
            "/opt/anaconda3/lib/python3.11/site-packages/keras/src/layers/rnn/rnn.py:204: UserWarning: Do not pass an `input_shape`/`input_dim` argument to a layer. When using Sequential models, prefer using an `Input(shape)` object as the first layer in the model instead.\n",
            "  super().__init__(**kwargs)\n"
          ]
        },
        {
          "name": "stdout",
          "output_type": "stream",
          "text": [
            "\u001b[1m6/6\u001b[0m \u001b[32m━━━━━━━━━━━━━━━━━━━━\u001b[0m\u001b[37m\u001b[0m \u001b[1m0s\u001b[0m 19ms/step\n"
          ]
        },
        {
          "name": "stderr",
          "output_type": "stream",
          "text": [
            "/opt/anaconda3/lib/python3.11/site-packages/keras/src/layers/rnn/rnn.py:204: UserWarning: Do not pass an `input_shape`/`input_dim` argument to a layer. When using Sequential models, prefer using an `Input(shape)` object as the first layer in the model instead.\n",
            "  super().__init__(**kwargs)\n"
          ]
        },
        {
          "name": "stdout",
          "output_type": "stream",
          "text": [
            "\u001b[1m6/6\u001b[0m \u001b[32m━━━━━━━━━━━━━━━━━━━━\u001b[0m\u001b[37m\u001b[0m \u001b[1m0s\u001b[0m 19ms/step\n"
          ]
        },
        {
          "name": "stderr",
          "output_type": "stream",
          "text": [
            "/opt/anaconda3/lib/python3.11/site-packages/keras/src/layers/rnn/rnn.py:204: UserWarning: Do not pass an `input_shape`/`input_dim` argument to a layer. When using Sequential models, prefer using an `Input(shape)` object as the first layer in the model instead.\n",
            "  super().__init__(**kwargs)\n"
          ]
        },
        {
          "name": "stdout",
          "output_type": "stream",
          "text": [
            "\u001b[1m6/6\u001b[0m \u001b[32m━━━━━━━━━━━━━━━━━━━━\u001b[0m\u001b[37m\u001b[0m \u001b[1m0s\u001b[0m 18ms/step\n"
          ]
        },
        {
          "name": "stderr",
          "output_type": "stream",
          "text": [
            "/opt/anaconda3/lib/python3.11/site-packages/keras/src/layers/rnn/rnn.py:204: UserWarning: Do not pass an `input_shape`/`input_dim` argument to a layer. When using Sequential models, prefer using an `Input(shape)` object as the first layer in the model instead.\n",
            "  super().__init__(**kwargs)\n"
          ]
        },
        {
          "name": "stdout",
          "output_type": "stream",
          "text": [
            "\u001b[1m6/6\u001b[0m \u001b[32m━━━━━━━━━━━━━━━━━━━━\u001b[0m\u001b[37m\u001b[0m \u001b[1m0s\u001b[0m 19ms/step\n"
          ]
        },
        {
          "name": "stderr",
          "output_type": "stream",
          "text": [
            "/opt/anaconda3/lib/python3.11/site-packages/keras/src/layers/rnn/rnn.py:204: UserWarning: Do not pass an `input_shape`/`input_dim` argument to a layer. When using Sequential models, prefer using an `Input(shape)` object as the first layer in the model instead.\n",
            "  super().__init__(**kwargs)\n"
          ]
        },
        {
          "name": "stdout",
          "output_type": "stream",
          "text": [
            "\u001b[1m6/6\u001b[0m \u001b[32m━━━━━━━━━━━━━━━━━━━━\u001b[0m\u001b[37m\u001b[0m \u001b[1m0s\u001b[0m 19ms/step\n"
          ]
        },
        {
          "name": "stderr",
          "output_type": "stream",
          "text": [
            "/opt/anaconda3/lib/python3.11/site-packages/keras/src/layers/rnn/rnn.py:204: UserWarning: Do not pass an `input_shape`/`input_dim` argument to a layer. When using Sequential models, prefer using an `Input(shape)` object as the first layer in the model instead.\n",
            "  super().__init__(**kwargs)\n"
          ]
        },
        {
          "name": "stdout",
          "output_type": "stream",
          "text": [
            "\u001b[1m6/6\u001b[0m \u001b[32m━━━━━━━━━━━━━━━━━━━━\u001b[0m\u001b[37m\u001b[0m \u001b[1m0s\u001b[0m 18ms/step\n"
          ]
        },
        {
          "name": "stderr",
          "output_type": "stream",
          "text": [
            "/opt/anaconda3/lib/python3.11/site-packages/keras/src/layers/rnn/rnn.py:204: UserWarning: Do not pass an `input_shape`/`input_dim` argument to a layer. When using Sequential models, prefer using an `Input(shape)` object as the first layer in the model instead.\n",
            "  super().__init__(**kwargs)\n"
          ]
        },
        {
          "name": "stdout",
          "output_type": "stream",
          "text": [
            "\u001b[1m6/6\u001b[0m \u001b[32m━━━━━━━━━━━━━━━━━━━━\u001b[0m\u001b[37m\u001b[0m \u001b[1m0s\u001b[0m 25ms/step\n"
          ]
        },
        {
          "name": "stderr",
          "output_type": "stream",
          "text": [
            "/opt/anaconda3/lib/python3.11/site-packages/keras/src/layers/rnn/rnn.py:204: UserWarning: Do not pass an `input_shape`/`input_dim` argument to a layer. When using Sequential models, prefer using an `Input(shape)` object as the first layer in the model instead.\n",
            "  super().__init__(**kwargs)\n"
          ]
        },
        {
          "name": "stdout",
          "output_type": "stream",
          "text": [
            "\u001b[1m6/6\u001b[0m \u001b[32m━━━━━━━━━━━━━━━━━━━━\u001b[0m\u001b[37m\u001b[0m \u001b[1m0s\u001b[0m 19ms/step\n"
          ]
        },
        {
          "name": "stderr",
          "output_type": "stream",
          "text": [
            "/opt/anaconda3/lib/python3.11/site-packages/keras/src/layers/rnn/rnn.py:204: UserWarning: Do not pass an `input_shape`/`input_dim` argument to a layer. When using Sequential models, prefer using an `Input(shape)` object as the first layer in the model instead.\n",
            "  super().__init__(**kwargs)\n"
          ]
        },
        {
          "name": "stdout",
          "output_type": "stream",
          "text": [
            "\u001b[1m6/6\u001b[0m \u001b[32m━━━━━━━━━━━━━━━━━━━━\u001b[0m\u001b[37m\u001b[0m \u001b[1m0s\u001b[0m 19ms/step\n"
          ]
        },
        {
          "name": "stderr",
          "output_type": "stream",
          "text": [
            "/opt/anaconda3/lib/python3.11/site-packages/keras/src/layers/rnn/rnn.py:204: UserWarning: Do not pass an `input_shape`/`input_dim` argument to a layer. When using Sequential models, prefer using an `Input(shape)` object as the first layer in the model instead.\n",
            "  super().__init__(**kwargs)\n"
          ]
        },
        {
          "name": "stdout",
          "output_type": "stream",
          "text": [
            "\u001b[1m6/6\u001b[0m \u001b[32m━━━━━━━━━━━━━━━━━━━━\u001b[0m\u001b[37m\u001b[0m \u001b[1m0s\u001b[0m 21ms/step\n"
          ]
        },
        {
          "name": "stderr",
          "output_type": "stream",
          "text": [
            "/opt/anaconda3/lib/python3.11/site-packages/keras/src/layers/rnn/rnn.py:204: UserWarning: Do not pass an `input_shape`/`input_dim` argument to a layer. When using Sequential models, prefer using an `Input(shape)` object as the first layer in the model instead.\n",
            "  super().__init__(**kwargs)\n"
          ]
        },
        {
          "name": "stdout",
          "output_type": "stream",
          "text": [
            "\u001b[1m6/6\u001b[0m \u001b[32m━━━━━━━━━━━━━━━━━━━━\u001b[0m\u001b[37m\u001b[0m \u001b[1m0s\u001b[0m 24ms/step\n"
          ]
        },
        {
          "name": "stderr",
          "output_type": "stream",
          "text": [
            "/opt/anaconda3/lib/python3.11/site-packages/keras/src/layers/rnn/rnn.py:204: UserWarning: Do not pass an `input_shape`/`input_dim` argument to a layer. When using Sequential models, prefer using an `Input(shape)` object as the first layer in the model instead.\n",
            "  super().__init__(**kwargs)\n"
          ]
        },
        {
          "name": "stdout",
          "output_type": "stream",
          "text": [
            "\u001b[1m6/6\u001b[0m \u001b[32m━━━━━━━━━━━━━━━━━━━━\u001b[0m\u001b[37m\u001b[0m \u001b[1m0s\u001b[0m 20ms/step\n"
          ]
        },
        {
          "name": "stderr",
          "output_type": "stream",
          "text": [
            "/opt/anaconda3/lib/python3.11/site-packages/keras/src/layers/rnn/rnn.py:204: UserWarning: Do not pass an `input_shape`/`input_dim` argument to a layer. When using Sequential models, prefer using an `Input(shape)` object as the first layer in the model instead.\n",
            "  super().__init__(**kwargs)\n"
          ]
        },
        {
          "name": "stdout",
          "output_type": "stream",
          "text": [
            "\u001b[1m6/6\u001b[0m \u001b[32m━━━━━━━━━━━━━━━━━━━━\u001b[0m\u001b[37m\u001b[0m \u001b[1m0s\u001b[0m 18ms/step\n"
          ]
        },
        {
          "name": "stderr",
          "output_type": "stream",
          "text": [
            "/opt/anaconda3/lib/python3.11/site-packages/keras/src/layers/rnn/rnn.py:204: UserWarning: Do not pass an `input_shape`/`input_dim` argument to a layer. When using Sequential models, prefer using an `Input(shape)` object as the first layer in the model instead.\n",
            "  super().__init__(**kwargs)\n"
          ]
        },
        {
          "name": "stdout",
          "output_type": "stream",
          "text": [
            "\u001b[1m6/6\u001b[0m \u001b[32m━━━━━━━━━━━━━━━━━━━━\u001b[0m\u001b[37m\u001b[0m \u001b[1m0s\u001b[0m 19ms/step\n"
          ]
        },
        {
          "name": "stderr",
          "output_type": "stream",
          "text": [
            "/opt/anaconda3/lib/python3.11/site-packages/keras/src/layers/rnn/rnn.py:204: UserWarning: Do not pass an `input_shape`/`input_dim` argument to a layer. When using Sequential models, prefer using an `Input(shape)` object as the first layer in the model instead.\n",
            "  super().__init__(**kwargs)\n"
          ]
        },
        {
          "name": "stdout",
          "output_type": "stream",
          "text": [
            "\u001b[1m6/6\u001b[0m \u001b[32m━━━━━━━━━━━━━━━━━━━━\u001b[0m\u001b[37m\u001b[0m \u001b[1m0s\u001b[0m 20ms/step\n"
          ]
        },
        {
          "name": "stderr",
          "output_type": "stream",
          "text": [
            "/opt/anaconda3/lib/python3.11/site-packages/keras/src/layers/rnn/rnn.py:204: UserWarning: Do not pass an `input_shape`/`input_dim` argument to a layer. When using Sequential models, prefer using an `Input(shape)` object as the first layer in the model instead.\n",
            "  super().__init__(**kwargs)\n"
          ]
        },
        {
          "name": "stdout",
          "output_type": "stream",
          "text": [
            "\u001b[1m6/6\u001b[0m \u001b[32m━━━━━━━━━━━━━━━━━━━━\u001b[0m\u001b[37m\u001b[0m \u001b[1m0s\u001b[0m 19ms/step\n"
          ]
        },
        {
          "name": "stderr",
          "output_type": "stream",
          "text": [
            "/opt/anaconda3/lib/python3.11/site-packages/keras/src/layers/rnn/rnn.py:204: UserWarning: Do not pass an `input_shape`/`input_dim` argument to a layer. When using Sequential models, prefer using an `Input(shape)` object as the first layer in the model instead.\n",
            "  super().__init__(**kwargs)\n"
          ]
        },
        {
          "name": "stdout",
          "output_type": "stream",
          "text": [
            "\u001b[1m6/6\u001b[0m \u001b[32m━━━━━━━━━━━━━━━━━━━━\u001b[0m\u001b[37m\u001b[0m \u001b[1m0s\u001b[0m 18ms/step\n"
          ]
        },
        {
          "name": "stderr",
          "output_type": "stream",
          "text": [
            "/opt/anaconda3/lib/python3.11/site-packages/keras/src/layers/rnn/rnn.py:204: UserWarning: Do not pass an `input_shape`/`input_dim` argument to a layer. When using Sequential models, prefer using an `Input(shape)` object as the first layer in the model instead.\n",
            "  super().__init__(**kwargs)\n"
          ]
        },
        {
          "name": "stdout",
          "output_type": "stream",
          "text": [
            "\u001b[1m6/6\u001b[0m \u001b[32m━━━━━━━━━━━━━━━━━━━━\u001b[0m\u001b[37m\u001b[0m \u001b[1m0s\u001b[0m 19ms/step\n"
          ]
        },
        {
          "name": "stderr",
          "output_type": "stream",
          "text": [
            "/opt/anaconda3/lib/python3.11/site-packages/keras/src/layers/rnn/rnn.py:204: UserWarning: Do not pass an `input_shape`/`input_dim` argument to a layer. When using Sequential models, prefer using an `Input(shape)` object as the first layer in the model instead.\n",
            "  super().__init__(**kwargs)\n"
          ]
        },
        {
          "name": "stdout",
          "output_type": "stream",
          "text": [
            "\u001b[1m6/6\u001b[0m \u001b[32m━━━━━━━━━━━━━━━━━━━━\u001b[0m\u001b[37m\u001b[0m \u001b[1m0s\u001b[0m 18ms/step\n"
          ]
        },
        {
          "name": "stderr",
          "output_type": "stream",
          "text": [
            "/opt/anaconda3/lib/python3.11/site-packages/keras/src/layers/rnn/rnn.py:204: UserWarning: Do not pass an `input_shape`/`input_dim` argument to a layer. When using Sequential models, prefer using an `Input(shape)` object as the first layer in the model instead.\n",
            "  super().__init__(**kwargs)\n"
          ]
        },
        {
          "name": "stdout",
          "output_type": "stream",
          "text": [
            "\u001b[1m6/6\u001b[0m \u001b[32m━━━━━━━━━━━━━━━━━━━━\u001b[0m\u001b[37m\u001b[0m \u001b[1m0s\u001b[0m 22ms/step\n"
          ]
        },
        {
          "name": "stderr",
          "output_type": "stream",
          "text": [
            "/opt/anaconda3/lib/python3.11/site-packages/keras/src/layers/rnn/rnn.py:204: UserWarning: Do not pass an `input_shape`/`input_dim` argument to a layer. When using Sequential models, prefer using an `Input(shape)` object as the first layer in the model instead.\n",
            "  super().__init__(**kwargs)\n"
          ]
        },
        {
          "name": "stdout",
          "output_type": "stream",
          "text": [
            "\u001b[1m6/6\u001b[0m \u001b[32m━━━━━━━━━━━━━━━━━━━━\u001b[0m\u001b[37m\u001b[0m \u001b[1m0s\u001b[0m 20ms/step\n"
          ]
        },
        {
          "name": "stderr",
          "output_type": "stream",
          "text": [
            "/opt/anaconda3/lib/python3.11/site-packages/keras/src/layers/rnn/rnn.py:204: UserWarning: Do not pass an `input_shape`/`input_dim` argument to a layer. When using Sequential models, prefer using an `Input(shape)` object as the first layer in the model instead.\n",
            "  super().__init__(**kwargs)\n"
          ]
        },
        {
          "name": "stdout",
          "output_type": "stream",
          "text": [
            "\u001b[1m6/6\u001b[0m \u001b[32m━━━━━━━━━━━━━━━━━━━━\u001b[0m\u001b[37m\u001b[0m \u001b[1m0s\u001b[0m 21ms/step\n"
          ]
        },
        {
          "name": "stderr",
          "output_type": "stream",
          "text": [
            "/opt/anaconda3/lib/python3.11/site-packages/keras/src/layers/rnn/rnn.py:204: UserWarning: Do not pass an `input_shape`/`input_dim` argument to a layer. When using Sequential models, prefer using an `Input(shape)` object as the first layer in the model instead.\n",
            "  super().__init__(**kwargs)\n"
          ]
        },
        {
          "name": "stdout",
          "output_type": "stream",
          "text": [
            "\u001b[1m6/6\u001b[0m \u001b[32m━━━━━━━━━━━━━━━━━━━━\u001b[0m\u001b[37m\u001b[0m \u001b[1m0s\u001b[0m 18ms/step\n"
          ]
        },
        {
          "name": "stderr",
          "output_type": "stream",
          "text": [
            "/opt/anaconda3/lib/python3.11/site-packages/keras/src/layers/rnn/rnn.py:204: UserWarning: Do not pass an `input_shape`/`input_dim` argument to a layer. When using Sequential models, prefer using an `Input(shape)` object as the first layer in the model instead.\n",
            "  super().__init__(**kwargs)\n"
          ]
        },
        {
          "name": "stdout",
          "output_type": "stream",
          "text": [
            "\u001b[1m6/6\u001b[0m \u001b[32m━━━━━━━━━━━━━━━━━━━━\u001b[0m\u001b[37m\u001b[0m \u001b[1m0s\u001b[0m 19ms/step\n"
          ]
        },
        {
          "name": "stderr",
          "output_type": "stream",
          "text": [
            "/opt/anaconda3/lib/python3.11/site-packages/keras/src/layers/rnn/rnn.py:204: UserWarning: Do not pass an `input_shape`/`input_dim` argument to a layer. When using Sequential models, prefer using an `Input(shape)` object as the first layer in the model instead.\n",
            "  super().__init__(**kwargs)\n"
          ]
        },
        {
          "name": "stdout",
          "output_type": "stream",
          "text": [
            "\u001b[1m6/6\u001b[0m \u001b[32m━━━━━━━━━━━━━━━━━━━━\u001b[0m\u001b[37m\u001b[0m \u001b[1m0s\u001b[0m 19ms/step\n"
          ]
        },
        {
          "name": "stderr",
          "output_type": "stream",
          "text": [
            "/opt/anaconda3/lib/python3.11/site-packages/keras/src/layers/rnn/rnn.py:204: UserWarning: Do not pass an `input_shape`/`input_dim` argument to a layer. When using Sequential models, prefer using an `Input(shape)` object as the first layer in the model instead.\n",
            "  super().__init__(**kwargs)\n"
          ]
        },
        {
          "name": "stdout",
          "output_type": "stream",
          "text": [
            "\u001b[1m6/6\u001b[0m \u001b[32m━━━━━━━━━━━━━━━━━━━━\u001b[0m\u001b[37m\u001b[0m \u001b[1m0s\u001b[0m 23ms/step\n"
          ]
        },
        {
          "name": "stderr",
          "output_type": "stream",
          "text": [
            "/opt/anaconda3/lib/python3.11/site-packages/keras/src/layers/rnn/rnn.py:204: UserWarning: Do not pass an `input_shape`/`input_dim` argument to a layer. When using Sequential models, prefer using an `Input(shape)` object as the first layer in the model instead.\n",
            "  super().__init__(**kwargs)\n"
          ]
        },
        {
          "name": "stdout",
          "output_type": "stream",
          "text": [
            "\u001b[1m6/6\u001b[0m \u001b[32m━━━━━━━━━━━━━━━━━━━━\u001b[0m\u001b[37m\u001b[0m \u001b[1m0s\u001b[0m 19ms/step\n"
          ]
        },
        {
          "name": "stderr",
          "output_type": "stream",
          "text": [
            "/opt/anaconda3/lib/python3.11/site-packages/keras/src/layers/rnn/rnn.py:204: UserWarning: Do not pass an `input_shape`/`input_dim` argument to a layer. When using Sequential models, prefer using an `Input(shape)` object as the first layer in the model instead.\n",
            "  super().__init__(**kwargs)\n"
          ]
        },
        {
          "name": "stdout",
          "output_type": "stream",
          "text": [
            "\u001b[1m6/6\u001b[0m \u001b[32m━━━━━━━━━━━━━━━━━━━━\u001b[0m\u001b[37m\u001b[0m \u001b[1m0s\u001b[0m 24ms/step\n"
          ]
        },
        {
          "name": "stderr",
          "output_type": "stream",
          "text": [
            "/opt/anaconda3/lib/python3.11/site-packages/keras/src/layers/rnn/rnn.py:204: UserWarning: Do not pass an `input_shape`/`input_dim` argument to a layer. When using Sequential models, prefer using an `Input(shape)` object as the first layer in the model instead.\n",
            "  super().__init__(**kwargs)\n"
          ]
        },
        {
          "name": "stdout",
          "output_type": "stream",
          "text": [
            "\u001b[1m6/6\u001b[0m \u001b[32m━━━━━━━━━━━━━━━━━━━━\u001b[0m\u001b[37m\u001b[0m \u001b[1m0s\u001b[0m 20ms/step\n"
          ]
        },
        {
          "name": "stderr",
          "output_type": "stream",
          "text": [
            "/opt/anaconda3/lib/python3.11/site-packages/keras/src/layers/rnn/rnn.py:204: UserWarning: Do not pass an `input_shape`/`input_dim` argument to a layer. When using Sequential models, prefer using an `Input(shape)` object as the first layer in the model instead.\n",
            "  super().__init__(**kwargs)\n"
          ]
        },
        {
          "name": "stdout",
          "output_type": "stream",
          "text": [
            "\u001b[1m6/6\u001b[0m \u001b[32m━━━━━━━━━━━━━━━━━━━━\u001b[0m\u001b[37m\u001b[0m \u001b[1m0s\u001b[0m 20ms/step\n"
          ]
        },
        {
          "name": "stderr",
          "output_type": "stream",
          "text": [
            "/opt/anaconda3/lib/python3.11/site-packages/keras/src/layers/rnn/rnn.py:204: UserWarning: Do not pass an `input_shape`/`input_dim` argument to a layer. When using Sequential models, prefer using an `Input(shape)` object as the first layer in the model instead.\n",
            "  super().__init__(**kwargs)\n"
          ]
        },
        {
          "name": "stdout",
          "output_type": "stream",
          "text": [
            "\u001b[1m6/6\u001b[0m \u001b[32m━━━━━━━━━━━━━━━━━━━━\u001b[0m\u001b[37m\u001b[0m \u001b[1m0s\u001b[0m 20ms/step\n"
          ]
        },
        {
          "name": "stderr",
          "output_type": "stream",
          "text": [
            "/opt/anaconda3/lib/python3.11/site-packages/keras/src/layers/rnn/rnn.py:204: UserWarning: Do not pass an `input_shape`/`input_dim` argument to a layer. When using Sequential models, prefer using an `Input(shape)` object as the first layer in the model instead.\n",
            "  super().__init__(**kwargs)\n"
          ]
        },
        {
          "name": "stdout",
          "output_type": "stream",
          "text": [
            "\u001b[1m6/6\u001b[0m \u001b[32m━━━━━━━━━━━━━━━━━━━━\u001b[0m\u001b[37m\u001b[0m \u001b[1m0s\u001b[0m 25ms/step\n"
          ]
        },
        {
          "name": "stderr",
          "output_type": "stream",
          "text": [
            "/opt/anaconda3/lib/python3.11/site-packages/keras/src/layers/rnn/rnn.py:204: UserWarning: Do not pass an `input_shape`/`input_dim` argument to a layer. When using Sequential models, prefer using an `Input(shape)` object as the first layer in the model instead.\n",
            "  super().__init__(**kwargs)\n"
          ]
        },
        {
          "name": "stdout",
          "output_type": "stream",
          "text": [
            "\u001b[1m6/6\u001b[0m \u001b[32m━━━━━━━━━━━━━━━━━━━━\u001b[0m\u001b[37m\u001b[0m \u001b[1m0s\u001b[0m 21ms/step\n"
          ]
        },
        {
          "name": "stderr",
          "output_type": "stream",
          "text": [
            "/opt/anaconda3/lib/python3.11/site-packages/keras/src/layers/rnn/rnn.py:204: UserWarning: Do not pass an `input_shape`/`input_dim` argument to a layer. When using Sequential models, prefer using an `Input(shape)` object as the first layer in the model instead.\n",
            "  super().__init__(**kwargs)\n"
          ]
        },
        {
          "name": "stdout",
          "output_type": "stream",
          "text": [
            "\u001b[1m6/6\u001b[0m \u001b[32m━━━━━━━━━━━━━━━━━━━━\u001b[0m\u001b[37m\u001b[0m \u001b[1m0s\u001b[0m 21ms/step\n"
          ]
        },
        {
          "name": "stderr",
          "output_type": "stream",
          "text": [
            "/opt/anaconda3/lib/python3.11/site-packages/keras/src/layers/rnn/rnn.py:204: UserWarning: Do not pass an `input_shape`/`input_dim` argument to a layer. When using Sequential models, prefer using an `Input(shape)` object as the first layer in the model instead.\n",
            "  super().__init__(**kwargs)\n"
          ]
        },
        {
          "name": "stdout",
          "output_type": "stream",
          "text": [
            "\u001b[1m6/6\u001b[0m \u001b[32m━━━━━━━━━━━━━━━━━━━━\u001b[0m\u001b[37m\u001b[0m \u001b[1m0s\u001b[0m 19ms/step\n"
          ]
        },
        {
          "name": "stderr",
          "output_type": "stream",
          "text": [
            "/opt/anaconda3/lib/python3.11/site-packages/keras/src/layers/rnn/rnn.py:204: UserWarning: Do not pass an `input_shape`/`input_dim` argument to a layer. When using Sequential models, prefer using an `Input(shape)` object as the first layer in the model instead.\n",
            "  super().__init__(**kwargs)\n"
          ]
        },
        {
          "name": "stdout",
          "output_type": "stream",
          "text": [
            "\u001b[1m6/6\u001b[0m \u001b[32m━━━━━━━━━━━━━━━━━━━━\u001b[0m\u001b[37m\u001b[0m \u001b[1m0s\u001b[0m 20ms/step\n"
          ]
        },
        {
          "name": "stderr",
          "output_type": "stream",
          "text": [
            "/opt/anaconda3/lib/python3.11/site-packages/keras/src/layers/rnn/rnn.py:204: UserWarning: Do not pass an `input_shape`/`input_dim` argument to a layer. When using Sequential models, prefer using an `Input(shape)` object as the first layer in the model instead.\n",
            "  super().__init__(**kwargs)\n"
          ]
        },
        {
          "name": "stdout",
          "output_type": "stream",
          "text": [
            "\u001b[1m6/6\u001b[0m \u001b[32m━━━━━━━━━━━━━━━━━━━━\u001b[0m\u001b[37m\u001b[0m \u001b[1m0s\u001b[0m 21ms/step\n"
          ]
        },
        {
          "name": "stderr",
          "output_type": "stream",
          "text": [
            "/opt/anaconda3/lib/python3.11/site-packages/keras/src/layers/rnn/rnn.py:204: UserWarning: Do not pass an `input_shape`/`input_dim` argument to a layer. When using Sequential models, prefer using an `Input(shape)` object as the first layer in the model instead.\n",
            "  super().__init__(**kwargs)\n"
          ]
        },
        {
          "name": "stdout",
          "output_type": "stream",
          "text": [
            "\u001b[1m6/6\u001b[0m \u001b[32m━━━━━━━━━━━━━━━━━━━━\u001b[0m\u001b[37m\u001b[0m \u001b[1m0s\u001b[0m 18ms/step\n"
          ]
        }
      ],
      "source": [
        "outcome_df = predicted_value_model(price_test,sample_pair_HDBSCAN_CORRELATION)"
      ]
    },
    {
      "cell_type": "code",
      "execution_count": 102,
      "metadata": {},
      "outputs": [
        {
          "data": {
            "image/png": "[encoded data removed]",
            "text/plain": [
              "<Figure size 1000x600 with 1 Axes>"
            ]
          },
          "metadata": {},
          "output_type": "display_data"
        },
        {
          "data": {
            "text/html": [
              "<div>\n",
              "<style scoped>\n",
              "    .dataframe tbody tr th:only-of-type {\n",
              "        vertical-align: middle;\n",
              "    }\n",
              "\n",
              "    .dataframe tbody tr th {\n",
              "        vertical-align: top;\n",
              "    }\n",
              "\n",
              "    .dataframe thead th {\n",
              "        text-align: right;\n",
              "    }\n",
              "</style>\n",
              "<table border=\"1\" class=\"dataframe\">\n",
              "  <thead>\n",
              "    <tr style=\"text-align: right;\">\n",
              "      <th></th>\n",
              "      <th>count</th>\n",
              "      <th>mean</th>\n",
              "      <th>std</th>\n",
              "      <th>min</th>\n",
              "      <th>25%</th>\n",
              "      <th>50%</th>\n",
              "      <th>75%</th>\n",
              "      <th>max</th>\n",
              "    </tr>\n",
              "    <tr>\n",
              "      <th>Metric</th>\n",
              "      <th></th>\n",
              "      <th></th>\n",
              "      <th></th>\n",
              "      <th></th>\n",
              "      <th></th>\n",
              "      <th></th>\n",
              "      <th></th>\n",
              "      <th></th>\n",
              "    </tr>\n",
              "  </thead>\n",
              "  <tbody>\n",
              "    <tr>\n",
              "      <th>Maximum Drawdown</th>\n",
              "      <td>24.0</td>\n",
              "      <td>-0.046535</td>\n",
              "      <td>0.025670</td>\n",
              "      <td>-0.094344</td>\n",
              "      <td>-0.068353</td>\n",
              "      <td>-0.046685</td>\n",
              "      <td>-0.022142</td>\n",
              "      <td>-0.009874</td>\n",
              "    </tr>\n",
              "    <tr>\n",
              "      <th>Percentage of Time in Position</th>\n",
              "      <td>24.0</td>\n",
              "      <td>29.430171</td>\n",
              "      <td>7.142238</td>\n",
              "      <td>14.229249</td>\n",
              "      <td>26.976285</td>\n",
              "      <td>29.644269</td>\n",
              "      <td>34.683794</td>\n",
              "      <td>40.316206</td>\n",
              "    </tr>\n",
              "    <tr>\n",
              "      <th>Sharpe Ratio</th>\n",
              "      <td>24.0</td>\n",
              "      <td>0.643467</td>\n",
              "      <td>0.788324</td>\n",
              "      <td>-0.879513</td>\n",
              "      <td>0.033177</td>\n",
              "      <td>0.933298</td>\n",
              "      <td>1.234820</td>\n",
              "      <td>1.739062</td>\n",
              "    </tr>\n",
              "    <tr>\n",
              "      <th>Sortino Ratio</th>\n",
              "      <td>24.0</td>\n",
              "      <td>0.886354</td>\n",
              "      <td>1.378558</td>\n",
              "      <td>-0.885686</td>\n",
              "      <td>0.049819</td>\n",
              "      <td>0.754533</td>\n",
              "      <td>1.341681</td>\n",
              "      <td>5.282113</td>\n",
              "    </tr>\n",
              "  </tbody>\n",
              "</table>\n",
              "</div>"
            ],
            "text/plain": [
              "                                count       mean       std        min  \\\n",
              "Metric                                                                  \n",
              "Maximum Drawdown                 24.0  -0.046535  0.025670  -0.094344   \n",
              "Percentage of Time in Position   24.0  29.430171  7.142238  14.229249   \n",
              "Sharpe Ratio                     24.0   0.643467  0.788324  -0.879513   \n",
              "Sortino Ratio                    24.0   0.886354  1.378558  -0.885686   \n",
              "\n",
              "                                      25%        50%        75%        max  \n",
              "Metric                                                                      \n",
              "Maximum Drawdown                -0.068353  -0.046685  -0.022142  -0.009874  \n",
              "Percentage of Time in Position  26.976285  29.644269  34.683794  40.316206  \n",
              "Sharpe Ratio                     0.033177   0.933298   1.234820   1.739062  \n",
              "Sortino Ratio                    0.049819   0.754533   1.341681   5.282113  "
            ]
          },
          "execution_count": 102,
          "metadata": {},
          "output_type": "execute_result"
        }
      ],
      "source": [
        "plot_performance_distribution(outcome_df)"
      ]
    },
    {
      "cell_type": "code",
      "execution_count": 101,
      "metadata": {},
      "outputs": [
        {
          "data": {
            "text/html": [
              "<div>\n",
              "<style scoped>\n",
              "    .dataframe tbody tr th:only-of-type {\n",
              "        vertical-align: middle;\n",
              "    }\n",
              "\n",
              "    .dataframe tbody tr th {\n",
              "        vertical-align: top;\n",
              "    }\n",
              "\n",
              "    .dataframe thead th {\n",
              "        text-align: right;\n",
              "    }\n",
              "</style>\n",
              "<table border=\"1\" class=\"dataframe\">\n",
              "  <thead>\n",
              "    <tr style=\"text-align: right;\">\n",
              "      <th></th>\n",
              "      <th>Company1</th>\n",
              "      <th>Company2</th>\n",
              "      <th>Sharpe Ratio</th>\n",
              "      <th>Sortino Ratio</th>\n",
              "      <th>Maximum Drawdown</th>\n",
              "      <th>Percentage of Time in Position</th>\n",
              "    </tr>\n",
              "  </thead>\n",
              "  <tbody>\n",
              "    <tr>\n",
              "      <th>0</th>\n",
              "      <td>DTE</td>\n",
              "      <td>CMS</td>\n",
              "      <td>-0.567019</td>\n",
              "      <td>-0.523309</td>\n",
              "      <td>-0.075983</td>\n",
              "      <td>34.387352</td>\n",
              "    </tr>\n",
              "    <tr>\n",
              "      <th>1</th>\n",
              "      <td>DTE</td>\n",
              "      <td>XEL</td>\n",
              "      <td>0.079743</td>\n",
              "      <td>0.089472</td>\n",
              "      <td>-0.094344</td>\n",
              "      <td>25.296443</td>\n",
              "    </tr>\n",
              "    <tr>\n",
              "      <th>2</th>\n",
              "      <td>DTE</td>\n",
              "      <td>AEE</td>\n",
              "      <td>1.163333</td>\n",
              "      <td>1.081095</td>\n",
              "      <td>-0.070528</td>\n",
              "      <td>36.758893</td>\n",
              "    </tr>\n",
              "    <tr>\n",
              "      <th>3</th>\n",
              "      <td>CMS</td>\n",
              "      <td>WEC</td>\n",
              "      <td>1.226319</td>\n",
              "      <td>0.674574</td>\n",
              "      <td>-0.009874</td>\n",
              "      <td>14.229249</td>\n",
              "    </tr>\n",
              "    <tr>\n",
              "      <th>4</th>\n",
              "      <td>CMS</td>\n",
              "      <td>XEL</td>\n",
              "      <td>1.507659</td>\n",
              "      <td>1.617269</td>\n",
              "      <td>-0.016658</td>\n",
              "      <td>27.272727</td>\n",
              "    </tr>\n",
              "    <tr>\n",
              "      <th>5</th>\n",
              "      <td>CMS</td>\n",
              "      <td>ETR</td>\n",
              "      <td>1.116919</td>\n",
              "      <td>0.834492</td>\n",
              "      <td>-0.024501</td>\n",
              "      <td>26.086957</td>\n",
              "    </tr>\n",
              "    <tr>\n",
              "      <th>6</th>\n",
              "      <td>CMS</td>\n",
              "      <td>AEP</td>\n",
              "      <td>0.566496</td>\n",
              "      <td>0.306840</td>\n",
              "      <td>-0.021813</td>\n",
              "      <td>27.272727</td>\n",
              "    </tr>\n",
              "    <tr>\n",
              "      <th>7</th>\n",
              "      <td>CMS</td>\n",
              "      <td>NEE</td>\n",
              "      <td>0.634797</td>\n",
              "      <td>0.650745</td>\n",
              "      <td>-0.045101</td>\n",
              "      <td>39.525692</td>\n",
              "    </tr>\n",
              "    <tr>\n",
              "      <th>8</th>\n",
              "      <td>CMS</td>\n",
              "      <td>AEE</td>\n",
              "      <td>1.739062</td>\n",
              "      <td>1.787094</td>\n",
              "      <td>-0.017249</td>\n",
              "      <td>30.039526</td>\n",
              "    </tr>\n",
              "    <tr>\n",
              "      <th>9</th>\n",
              "      <td>CMS</td>\n",
              "      <td>ES</td>\n",
              "      <td>0.296888</td>\n",
              "      <td>0.123289</td>\n",
              "      <td>-0.060772</td>\n",
              "      <td>15.415020</td>\n",
              "    </tr>\n",
              "    <tr>\n",
              "      <th>10</th>\n",
              "      <td>WEC</td>\n",
              "      <td>XEL</td>\n",
              "      <td>1.483654</td>\n",
              "      <td>1.843785</td>\n",
              "      <td>-0.017973</td>\n",
              "      <td>33.596838</td>\n",
              "    </tr>\n",
              "    <tr>\n",
              "      <th>11</th>\n",
              "      <td>WEC</td>\n",
              "      <td>ETR</td>\n",
              "      <td>1.083327</td>\n",
              "      <td>0.950883</td>\n",
              "      <td>-0.048638</td>\n",
              "      <td>29.644269</td>\n",
              "    </tr>\n",
              "    <tr>\n",
              "      <th>12</th>\n",
              "      <td>WEC</td>\n",
              "      <td>AEP</td>\n",
              "      <td>-0.879513</td>\n",
              "      <td>-0.722809</td>\n",
              "      <td>-0.067791</td>\n",
              "      <td>40.316206</td>\n",
              "    </tr>\n",
              "    <tr>\n",
              "      <th>13</th>\n",
              "      <td>WEC</td>\n",
              "      <td>ES</td>\n",
              "      <td>-0.322975</td>\n",
              "      <td>-0.246217</td>\n",
              "      <td>-0.070041</td>\n",
              "      <td>28.063241</td>\n",
              "    </tr>\n",
              "    <tr>\n",
              "      <th>14</th>\n",
              "      <td>XEL</td>\n",
              "      <td>ETR</td>\n",
              "      <td>1.260322</td>\n",
              "      <td>1.421754</td>\n",
              "      <td>-0.052392</td>\n",
              "      <td>31.620553</td>\n",
              "    </tr>\n",
              "    <tr>\n",
              "      <th>15</th>\n",
              "      <td>XEL</td>\n",
              "      <td>AEP</td>\n",
              "      <td>-0.806680</td>\n",
              "      <td>-0.885686</td>\n",
              "      <td>-0.086607</td>\n",
              "      <td>38.735178</td>\n",
              "    </tr>\n",
              "    <tr>\n",
              "      <th>16</th>\n",
              "      <td>XEL</td>\n",
              "      <td>NEE</td>\n",
              "      <td>1.049536</td>\n",
              "      <td>3.809456</td>\n",
              "      <td>-0.038165</td>\n",
              "      <td>35.968379</td>\n",
              "    </tr>\n",
              "    <tr>\n",
              "      <th>17</th>\n",
              "      <td>XEL</td>\n",
              "      <td>AEE</td>\n",
              "      <td>1.478292</td>\n",
              "      <td>1.314989</td>\n",
              "      <td>-0.022252</td>\n",
              "      <td>35.573123</td>\n",
              "    </tr>\n",
              "    <tr>\n",
              "      <th>18</th>\n",
              "      <td>XEL</td>\n",
              "      <td>ES</td>\n",
              "      <td>0.913522</td>\n",
              "      <td>0.894991</td>\n",
              "      <td>-0.016804</td>\n",
              "      <td>29.644269</td>\n",
              "    </tr>\n",
              "    <tr>\n",
              "      <th>19</th>\n",
              "      <td>ETR</td>\n",
              "      <td>AEP</td>\n",
              "      <td>-0.106519</td>\n",
              "      <td>-0.069140</td>\n",
              "      <td>-0.084287</td>\n",
              "      <td>28.063241</td>\n",
              "    </tr>\n",
              "    <tr>\n",
              "      <th>20</th>\n",
              "      <td>ETR</td>\n",
              "      <td>ES</td>\n",
              "      <td>0.953075</td>\n",
              "      <td>0.893257</td>\n",
              "      <td>-0.034323</td>\n",
              "      <td>25.691700</td>\n",
              "    </tr>\n",
              "    <tr>\n",
              "      <th>21</th>\n",
              "      <td>AEP</td>\n",
              "      <td>AEE</td>\n",
              "      <td>-0.328372</td>\n",
              "      <td>-0.221529</td>\n",
              "      <td>-0.061161</td>\n",
              "      <td>30.434783</td>\n",
              "    </tr>\n",
              "    <tr>\n",
              "      <th>22</th>\n",
              "      <td>AEP</td>\n",
              "      <td>ES</td>\n",
              "      <td>0.603993</td>\n",
              "      <td>0.365078</td>\n",
              "      <td>-0.048269</td>\n",
              "      <td>15.415020</td>\n",
              "    </tr>\n",
              "    <tr>\n",
              "      <th>23</th>\n",
              "      <td>NEE</td>\n",
              "      <td>AEE</td>\n",
              "      <td>1.297359</td>\n",
              "      <td>5.282113</td>\n",
              "      <td>-0.031304</td>\n",
              "      <td>27.272727</td>\n",
              "    </tr>\n",
              "  </tbody>\n",
              "</table>\n",
              "</div>"
            ],
            "text/plain": [
              "   Company1 Company2  Sharpe Ratio  Sortino Ratio  Maximum Drawdown  \\\n",
              "0       DTE      CMS     -0.567019      -0.523309         -0.075983   \n",
              "1       DTE      XEL      0.079743       0.089472         -0.094344   \n",
              "2       DTE      AEE      1.163333       1.081095         -0.070528   \n",
              "3       CMS      WEC      1.226319       0.674574         -0.009874   \n",
              "4       CMS      XEL      1.507659       1.617269         -0.016658   \n",
              "5       CMS      ETR      1.116919       0.834492         -0.024501   \n",
              "6       CMS      AEP      0.566496       0.306840         -0.021813   \n",
              "7       CMS      NEE      0.634797       0.650745         -0.045101   \n",
              "8       CMS      AEE      1.739062       1.787094         -0.017249   \n",
              "9       CMS       ES      0.296888       0.123289         -0.060772   \n",
              "10      WEC      XEL      1.483654       1.843785         -0.017973   \n",
              "11      WEC      ETR      1.083327       0.950883         -0.048638   \n",
              "12      WEC      AEP     -0.879513      -0.722809         -0.067791   \n",
              "13      WEC       ES     -0.322975      -0.246217         -0.070041   \n",
              "14      XEL      ETR      1.260322       1.421754         -0.052392   \n",
              "15      XEL      AEP     -0.806680      -0.885686         -0.086607   \n",
              "16      XEL      NEE      1.049536       3.809456         -0.038165   \n",
              "17      XEL      AEE      1.478292       1.314989         -0.022252   \n",
              "18      XEL       ES      0.913522       0.894991         -0.016804   \n",
              "19      ETR      AEP     -0.106519      -0.069140         -0.084287   \n",
              "20      ETR       ES      0.953075       0.893257         -0.034323   \n",
              "21      AEP      AEE     -0.328372      -0.221529         -0.061161   \n",
              "22      AEP       ES      0.603993       0.365078         -0.048269   \n",
              "23      NEE      AEE      1.297359       5.282113         -0.031304   \n",
              "\n",
              "    Percentage of Time in Position  \n",
              "0                        34.387352  \n",
              "1                        25.296443  \n",
              "2                        36.758893  \n",
              "3                        14.229249  \n",
              "4                        27.272727  \n",
              "5                        26.086957  \n",
              "6                        27.272727  \n",
              "7                        39.525692  \n",
              "8                        30.039526  \n",
              "9                        15.415020  \n",
              "10                       33.596838  \n",
              "11                       29.644269  \n",
              "12                       40.316206  \n",
              "13                       28.063241  \n",
              "14                       31.620553  \n",
              "15                       38.735178  \n",
              "16                       35.968379  \n",
              "17                       35.573123  \n",
              "18                       29.644269  \n",
              "19                       28.063241  \n",
              "20                       25.691700  \n",
              "21                       30.434783  \n",
              "22                       15.415020  \n",
              "23                       27.272727  "
            ]
          },
          "execution_count": 101,
          "metadata": {},
          "output_type": "execute_result"
        }
      ],
      "source": [
        "outcome_df"
      ]
    },
    {
      "cell_type": "code",
      "execution_count": 90,
      "metadata": {},
      "outputs": [
        {
          "data": {
            "image/png": "[encoded data removed]",
            "text/plain": [
              "<Figure size 1000x600 with 1 Axes>"
            ]
          },
          "metadata": {},
          "output_type": "display_data"
        },
        {
          "data": {
            "text/html": [
              "<div>\n",
              "<style scoped>\n",
              "    .dataframe tbody tr th:only-of-type {\n",
              "        vertical-align: middle;\n",
              "    }\n",
              "\n",
              "    .dataframe tbody tr th {\n",
              "        vertical-align: top;\n",
              "    }\n",
              "\n",
              "    .dataframe thead th {\n",
              "        text-align: right;\n",
              "    }\n",
              "</style>\n",
              "<table border=\"1\" class=\"dataframe\">\n",
              "  <thead>\n",
              "    <tr style=\"text-align: right;\">\n",
              "      <th></th>\n",
              "      <th>count</th>\n",
              "      <th>mean</th>\n",
              "      <th>std</th>\n",
              "      <th>min</th>\n",
              "      <th>25%</th>\n",
              "      <th>50%</th>\n",
              "      <th>75%</th>\n",
              "      <th>max</th>\n",
              "    </tr>\n",
              "    <tr>\n",
              "      <th>Metric</th>\n",
              "      <th></th>\n",
              "      <th></th>\n",
              "      <th></th>\n",
              "      <th></th>\n",
              "      <th></th>\n",
              "      <th></th>\n",
              "      <th></th>\n",
              "      <th></th>\n",
              "    </tr>\n",
              "  </thead>\n",
              "  <tbody>\n",
              "    <tr>\n",
              "      <th>Maximum Drawdown</th>\n",
              "      <td>24.0</td>\n",
              "      <td>-0.043665</td>\n",
              "      <td>0.022772</td>\n",
              "      <td>-0.084287</td>\n",
              "      <td>-0.063802</td>\n",
              "      <td>-0.036709</td>\n",
              "      <td>-0.024007</td>\n",
              "      <td>-0.009874</td>\n",
              "    </tr>\n",
              "    <tr>\n",
              "      <th>Sharpe Ratio</th>\n",
              "      <td>24.0</td>\n",
              "      <td>0.710368</td>\n",
              "      <td>0.707917</td>\n",
              "      <td>-0.527391</td>\n",
              "      <td>0.150170</td>\n",
              "      <td>0.922185</td>\n",
              "      <td>1.109274</td>\n",
              "      <td>1.775475</td>\n",
              "    </tr>\n",
              "    <tr>\n",
              "      <th>Sortino Ratio</th>\n",
              "      <td>24.0</td>\n",
              "      <td>0.958060</td>\n",
              "      <td>1.295451</td>\n",
              "      <td>-0.350333</td>\n",
              "      <td>0.068599</td>\n",
              "      <td>0.826269</td>\n",
              "      <td>1.259039</td>\n",
              "      <td>4.504062</td>\n",
              "    </tr>\n",
              "  </tbody>\n",
              "</table>\n",
              "</div>"
            ],
            "text/plain": [
              "                  count      mean       std       min       25%       50%  \\\n",
              "Metric                                                                      \n",
              "Maximum Drawdown   24.0 -0.043665  0.022772 -0.084287 -0.063802 -0.036709   \n",
              "Sharpe Ratio       24.0  0.710368  0.707917 -0.527391  0.150170  0.922185   \n",
              "Sortino Ratio      24.0  0.958060  1.295451 -0.350333  0.068599  0.826269   \n",
              "\n",
              "                       75%       max  \n",
              "Metric                                \n",
              "Maximum Drawdown -0.024007 -0.009874  \n",
              "Sharpe Ratio      1.109274  1.775475  \n",
              "Sortino Ratio     1.259039  4.504062  "
            ]
          },
          "execution_count": 90,
          "metadata": {},
          "output_type": "execute_result"
        }
      ],
      "source": [
        "plot_performance_distribution(outcome_df)"
      ]
    },
    {
      "cell_type": "code",
      "execution_count": 91,
      "metadata": {},
      "outputs": [],
      "source": []
    },
    {
      "cell_type": "markdown",
      "metadata": {},
      "source": [
        "### HDBSCAN_COINTEGRATION"
      ]
    },
    {
      "cell_type": "code",
      "execution_count": 94,
      "metadata": {},
      "outputs": [
        {
          "name": "stderr",
          "output_type": "stream",
          "text": [
            "/opt/anaconda3/lib/python3.11/site-packages/keras/src/layers/rnn/rnn.py:204: UserWarning: Do not pass an `input_shape`/`input_dim` argument to a layer. When using Sequential models, prefer using an `Input(shape)` object as the first layer in the model instead.\n",
            "  super().__init__(**kwargs)\n"
          ]
        },
        {
          "name": "stdout",
          "output_type": "stream",
          "text": [
            "\u001b[1m6/6\u001b[0m \u001b[32m━━━━━━━━━━━━━━━━━━━━\u001b[0m\u001b[37m\u001b[0m \u001b[1m0s\u001b[0m 18ms/step\n"
          ]
        },
        {
          "name": "stderr",
          "output_type": "stream",
          "text": [
            "/opt/anaconda3/lib/python3.11/site-packages/keras/src/layers/rnn/rnn.py:204: UserWarning: Do not pass an `input_shape`/`input_dim` argument to a layer. When using Sequential models, prefer using an `Input(shape)` object as the first layer in the model instead.\n",
            "  super().__init__(**kwargs)\n"
          ]
        },
        {
          "name": "stdout",
          "output_type": "stream",
          "text": [
            "\u001b[1m6/6\u001b[0m \u001b[32m━━━━━━━━━━━━━━━━━━━━\u001b[0m\u001b[37m\u001b[0m \u001b[1m0s\u001b[0m 18ms/step\n"
          ]
        },
        {
          "name": "stderr",
          "output_type": "stream",
          "text": [
            "/opt/anaconda3/lib/python3.11/site-packages/keras/src/layers/rnn/rnn.py:204: UserWarning: Do not pass an `input_shape`/`input_dim` argument to a layer. When using Sequential models, prefer using an `Input(shape)` object as the first layer in the model instead.\n",
            "  super().__init__(**kwargs)\n"
          ]
        },
        {
          "name": "stdout",
          "output_type": "stream",
          "text": [
            "\u001b[1m6/6\u001b[0m \u001b[32m━━━━━━━━━━━━━━━━━━━━\u001b[0m\u001b[37m\u001b[0m \u001b[1m0s\u001b[0m 17ms/step\n"
          ]
        },
        {
          "name": "stderr",
          "output_type": "stream",
          "text": [
            "/opt/anaconda3/lib/python3.11/site-packages/keras/src/layers/rnn/rnn.py:204: UserWarning: Do not pass an `input_shape`/`input_dim` argument to a layer. When using Sequential models, prefer using an `Input(shape)` object as the first layer in the model instead.\n",
            "  super().__init__(**kwargs)\n"
          ]
        },
        {
          "name": "stdout",
          "output_type": "stream",
          "text": [
            "\u001b[1m6/6\u001b[0m \u001b[32m━━━━━━━━━━━━━━━━━━━━\u001b[0m\u001b[37m\u001b[0m \u001b[1m0s\u001b[0m 17ms/step\n"
          ]
        },
        {
          "name": "stderr",
          "output_type": "stream",
          "text": [
            "/opt/anaconda3/lib/python3.11/site-packages/keras/src/layers/rnn/rnn.py:204: UserWarning: Do not pass an `input_shape`/`input_dim` argument to a layer. When using Sequential models, prefer using an `Input(shape)` object as the first layer in the model instead.\n",
            "  super().__init__(**kwargs)\n"
          ]
        },
        {
          "name": "stdout",
          "output_type": "stream",
          "text": [
            "\u001b[1m6/6\u001b[0m \u001b[32m━━━━━━━━━━━━━━━━━━━━\u001b[0m\u001b[37m\u001b[0m \u001b[1m0s\u001b[0m 17ms/step\n"
          ]
        },
        {
          "name": "stderr",
          "output_type": "stream",
          "text": [
            "/opt/anaconda3/lib/python3.11/site-packages/keras/src/layers/rnn/rnn.py:204: UserWarning: Do not pass an `input_shape`/`input_dim` argument to a layer. When using Sequential models, prefer using an `Input(shape)` object as the first layer in the model instead.\n",
            "  super().__init__(**kwargs)\n"
          ]
        },
        {
          "name": "stdout",
          "output_type": "stream",
          "text": [
            "\u001b[1m6/6\u001b[0m \u001b[32m━━━━━━━━━━━━━━━━━━━━\u001b[0m\u001b[37m\u001b[0m \u001b[1m0s\u001b[0m 17ms/step\n"
          ]
        },
        {
          "name": "stderr",
          "output_type": "stream",
          "text": [
            "/opt/anaconda3/lib/python3.11/site-packages/keras/src/layers/rnn/rnn.py:204: UserWarning: Do not pass an `input_shape`/`input_dim` argument to a layer. When using Sequential models, prefer using an `Input(shape)` object as the first layer in the model instead.\n",
            "  super().__init__(**kwargs)\n"
          ]
        },
        {
          "name": "stdout",
          "output_type": "stream",
          "text": [
            "\u001b[1m6/6\u001b[0m \u001b[32m━━━━━━━━━━━━━━━━━━━━\u001b[0m\u001b[37m\u001b[0m \u001b[1m0s\u001b[0m 17ms/step\n"
          ]
        },
        {
          "name": "stderr",
          "output_type": "stream",
          "text": [
            "/opt/anaconda3/lib/python3.11/site-packages/keras/src/layers/rnn/rnn.py:204: UserWarning: Do not pass an `input_shape`/`input_dim` argument to a layer. When using Sequential models, prefer using an `Input(shape)` object as the first layer in the model instead.\n",
            "  super().__init__(**kwargs)\n"
          ]
        },
        {
          "name": "stdout",
          "output_type": "stream",
          "text": [
            "\u001b[1m6/6\u001b[0m \u001b[32m━━━━━━━━━━━━━━━━━━━━\u001b[0m\u001b[37m\u001b[0m \u001b[1m0s\u001b[0m 17ms/step\n"
          ]
        },
        {
          "name": "stderr",
          "output_type": "stream",
          "text": [
            "/opt/anaconda3/lib/python3.11/site-packages/keras/src/layers/rnn/rnn.py:204: UserWarning: Do not pass an `input_shape`/`input_dim` argument to a layer. When using Sequential models, prefer using an `Input(shape)` object as the first layer in the model instead.\n",
            "  super().__init__(**kwargs)\n"
          ]
        },
        {
          "name": "stdout",
          "output_type": "stream",
          "text": [
            "\u001b[1m6/6\u001b[0m \u001b[32m━━━━━━━━━━━━━━━━━━━━\u001b[0m\u001b[37m\u001b[0m \u001b[1m0s\u001b[0m 18ms/step\n"
          ]
        },
        {
          "name": "stderr",
          "output_type": "stream",
          "text": [
            "/opt/anaconda3/lib/python3.11/site-packages/keras/src/layers/rnn/rnn.py:204: UserWarning: Do not pass an `input_shape`/`input_dim` argument to a layer. When using Sequential models, prefer using an `Input(shape)` object as the first layer in the model instead.\n",
            "  super().__init__(**kwargs)\n"
          ]
        },
        {
          "name": "stdout",
          "output_type": "stream",
          "text": [
            "\u001b[1m6/6\u001b[0m \u001b[32m━━━━━━━━━━━━━━━━━━━━\u001b[0m\u001b[37m\u001b[0m \u001b[1m0s\u001b[0m 29ms/step\n"
          ]
        },
        {
          "name": "stderr",
          "output_type": "stream",
          "text": [
            "/opt/anaconda3/lib/python3.11/site-packages/keras/src/layers/rnn/rnn.py:204: UserWarning: Do not pass an `input_shape`/`input_dim` argument to a layer. When using Sequential models, prefer using an `Input(shape)` object as the first layer in the model instead.\n",
            "  super().__init__(**kwargs)\n"
          ]
        },
        {
          "name": "stdout",
          "output_type": "stream",
          "text": [
            "\u001b[1m6/6\u001b[0m \u001b[32m━━━━━━━━━━━━━━━━━━━━\u001b[0m\u001b[37m\u001b[0m \u001b[1m0s\u001b[0m 17ms/step\n"
          ]
        },
        {
          "name": "stderr",
          "output_type": "stream",
          "text": [
            "/opt/anaconda3/lib/python3.11/site-packages/keras/src/layers/rnn/rnn.py:204: UserWarning: Do not pass an `input_shape`/`input_dim` argument to a layer. When using Sequential models, prefer using an `Input(shape)` object as the first layer in the model instead.\n",
            "  super().__init__(**kwargs)\n"
          ]
        },
        {
          "name": "stdout",
          "output_type": "stream",
          "text": [
            "\u001b[1m6/6\u001b[0m \u001b[32m━━━━━━━━━━━━━━━━━━━━\u001b[0m\u001b[37m\u001b[0m \u001b[1m0s\u001b[0m 17ms/step\n"
          ]
        },
        {
          "name": "stderr",
          "output_type": "stream",
          "text": [
            "/opt/anaconda3/lib/python3.11/site-packages/keras/src/layers/rnn/rnn.py:204: UserWarning: Do not pass an `input_shape`/`input_dim` argument to a layer. When using Sequential models, prefer using an `Input(shape)` object as the first layer in the model instead.\n",
            "  super().__init__(**kwargs)\n"
          ]
        },
        {
          "name": "stdout",
          "output_type": "stream",
          "text": [
            "\u001b[1m6/6\u001b[0m \u001b[32m━━━━━━━━━━━━━━━━━━━━\u001b[0m\u001b[37m\u001b[0m \u001b[1m0s\u001b[0m 18ms/step\n"
          ]
        },
        {
          "name": "stderr",
          "output_type": "stream",
          "text": [
            "/opt/anaconda3/lib/python3.11/site-packages/keras/src/layers/rnn/rnn.py:204: UserWarning: Do not pass an `input_shape`/`input_dim` argument to a layer. When using Sequential models, prefer using an `Input(shape)` object as the first layer in the model instead.\n",
            "  super().__init__(**kwargs)\n"
          ]
        },
        {
          "name": "stdout",
          "output_type": "stream",
          "text": [
            "\u001b[1m6/6\u001b[0m \u001b[32m━━━━━━━━━━━━━━━━━━━━\u001b[0m\u001b[37m\u001b[0m \u001b[1m0s\u001b[0m 19ms/step\n"
          ]
        },
        {
          "name": "stderr",
          "output_type": "stream",
          "text": [
            "/opt/anaconda3/lib/python3.11/site-packages/keras/src/layers/rnn/rnn.py:204: UserWarning: Do not pass an `input_shape`/`input_dim` argument to a layer. When using Sequential models, prefer using an `Input(shape)` object as the first layer in the model instead.\n",
            "  super().__init__(**kwargs)\n"
          ]
        },
        {
          "name": "stdout",
          "output_type": "stream",
          "text": [
            "\u001b[1m6/6\u001b[0m \u001b[32m━━━━━━━━━━━━━━━━━━━━\u001b[0m\u001b[37m\u001b[0m \u001b[1m0s\u001b[0m 18ms/step\n"
          ]
        },
        {
          "name": "stderr",
          "output_type": "stream",
          "text": [
            "/opt/anaconda3/lib/python3.11/site-packages/keras/src/layers/rnn/rnn.py:204: UserWarning: Do not pass an `input_shape`/`input_dim` argument to a layer. When using Sequential models, prefer using an `Input(shape)` object as the first layer in the model instead.\n",
            "  super().__init__(**kwargs)\n"
          ]
        },
        {
          "name": "stdout",
          "output_type": "stream",
          "text": [
            "\u001b[1m6/6\u001b[0m \u001b[32m━━━━━━━━━━━━━━━━━━━━\u001b[0m\u001b[37m\u001b[0m \u001b[1m0s\u001b[0m 18ms/step\n"
          ]
        },
        {
          "name": "stderr",
          "output_type": "stream",
          "text": [
            "/opt/anaconda3/lib/python3.11/site-packages/keras/src/layers/rnn/rnn.py:204: UserWarning: Do not pass an `input_shape`/`input_dim` argument to a layer. When using Sequential models, prefer using an `Input(shape)` object as the first layer in the model instead.\n",
            "  super().__init__(**kwargs)\n"
          ]
        },
        {
          "name": "stdout",
          "output_type": "stream",
          "text": [
            "\u001b[1m6/6\u001b[0m \u001b[32m━━━━━━━━━━━━━━━━━━━━\u001b[0m\u001b[37m\u001b[0m \u001b[1m0s\u001b[0m 19ms/step\n"
          ]
        },
        {
          "name": "stderr",
          "output_type": "stream",
          "text": [
            "/opt/anaconda3/lib/python3.11/site-packages/keras/src/layers/rnn/rnn.py:204: UserWarning: Do not pass an `input_shape`/`input_dim` argument to a layer. When using Sequential models, prefer using an `Input(shape)` object as the first layer in the model instead.\n",
            "  super().__init__(**kwargs)\n"
          ]
        },
        {
          "name": "stdout",
          "output_type": "stream",
          "text": [
            "\u001b[1m6/6\u001b[0m \u001b[32m━━━━━━━━━━━━━━━━━━━━\u001b[0m\u001b[37m\u001b[0m \u001b[1m0s\u001b[0m 18ms/step\n"
          ]
        },
        {
          "name": "stderr",
          "output_type": "stream",
          "text": [
            "/opt/anaconda3/lib/python3.11/site-packages/keras/src/layers/rnn/rnn.py:204: UserWarning: Do not pass an `input_shape`/`input_dim` argument to a layer. When using Sequential models, prefer using an `Input(shape)` object as the first layer in the model instead.\n",
            "  super().__init__(**kwargs)\n"
          ]
        },
        {
          "name": "stdout",
          "output_type": "stream",
          "text": [
            "\u001b[1m6/6\u001b[0m \u001b[32m━━━━━━━━━━━━━━━━━━━━\u001b[0m\u001b[37m\u001b[0m \u001b[1m0s\u001b[0m 20ms/step\n"
          ]
        },
        {
          "name": "stderr",
          "output_type": "stream",
          "text": [
            "/opt/anaconda3/lib/python3.11/site-packages/keras/src/layers/rnn/rnn.py:204: UserWarning: Do not pass an `input_shape`/`input_dim` argument to a layer. When using Sequential models, prefer using an `Input(shape)` object as the first layer in the model instead.\n",
            "  super().__init__(**kwargs)\n"
          ]
        },
        {
          "name": "stdout",
          "output_type": "stream",
          "text": [
            "\u001b[1m6/6\u001b[0m \u001b[32m━━━━━━━━━━━━━━━━━━━━\u001b[0m\u001b[37m\u001b[0m \u001b[1m0s\u001b[0m 27ms/step\n"
          ]
        },
        {
          "name": "stderr",
          "output_type": "stream",
          "text": [
            "/opt/anaconda3/lib/python3.11/site-packages/keras/src/layers/rnn/rnn.py:204: UserWarning: Do not pass an `input_shape`/`input_dim` argument to a layer. When using Sequential models, prefer using an `Input(shape)` object as the first layer in the model instead.\n",
            "  super().__init__(**kwargs)\n"
          ]
        },
        {
          "name": "stdout",
          "output_type": "stream",
          "text": [
            "\u001b[1m6/6\u001b[0m \u001b[32m━━━━━━━━━━━━━━━━━━━━\u001b[0m\u001b[37m\u001b[0m \u001b[1m0s\u001b[0m 23ms/step\n"
          ]
        },
        {
          "name": "stderr",
          "output_type": "stream",
          "text": [
            "/opt/anaconda3/lib/python3.11/site-packages/keras/src/layers/rnn/rnn.py:204: UserWarning: Do not pass an `input_shape`/`input_dim` argument to a layer. When using Sequential models, prefer using an `Input(shape)` object as the first layer in the model instead.\n",
            "  super().__init__(**kwargs)\n"
          ]
        },
        {
          "name": "stdout",
          "output_type": "stream",
          "text": [
            "\u001b[1m6/6\u001b[0m \u001b[32m━━━━━━━━━━━━━━━━━━━━\u001b[0m\u001b[37m\u001b[0m \u001b[1m0s\u001b[0m 18ms/step\n"
          ]
        },
        {
          "name": "stderr",
          "output_type": "stream",
          "text": [
            "/opt/anaconda3/lib/python3.11/site-packages/keras/src/layers/rnn/rnn.py:204: UserWarning: Do not pass an `input_shape`/`input_dim` argument to a layer. When using Sequential models, prefer using an `Input(shape)` object as the first layer in the model instead.\n",
            "  super().__init__(**kwargs)\n"
          ]
        },
        {
          "name": "stdout",
          "output_type": "stream",
          "text": [
            "\u001b[1m6/6\u001b[0m \u001b[32m━━━━━━━━━━━━━━━━━━━━\u001b[0m\u001b[37m\u001b[0m \u001b[1m0s\u001b[0m 18ms/step\n"
          ]
        },
        {
          "name": "stderr",
          "output_type": "stream",
          "text": [
            "/opt/anaconda3/lib/python3.11/site-packages/keras/src/layers/rnn/rnn.py:204: UserWarning: Do not pass an `input_shape`/`input_dim` argument to a layer. When using Sequential models, prefer using an `Input(shape)` object as the first layer in the model instead.\n",
            "  super().__init__(**kwargs)\n"
          ]
        },
        {
          "name": "stdout",
          "output_type": "stream",
          "text": [
            "\u001b[1m6/6\u001b[0m \u001b[32m━━━━━━━━━━━━━━━━━━━━\u001b[0m\u001b[37m\u001b[0m \u001b[1m0s\u001b[0m 17ms/step\n"
          ]
        },
        {
          "name": "stderr",
          "output_type": "stream",
          "text": [
            "/opt/anaconda3/lib/python3.11/site-packages/keras/src/layers/rnn/rnn.py:204: UserWarning: Do not pass an `input_shape`/`input_dim` argument to a layer. When using Sequential models, prefer using an `Input(shape)` object as the first layer in the model instead.\n",
            "  super().__init__(**kwargs)\n"
          ]
        },
        {
          "name": "stdout",
          "output_type": "stream",
          "text": [
            "\u001b[1m6/6\u001b[0m \u001b[32m━━━━━━━━━━━━━━━━━━━━\u001b[0m\u001b[37m\u001b[0m \u001b[1m0s\u001b[0m 18ms/step\n"
          ]
        },
        {
          "name": "stderr",
          "output_type": "stream",
          "text": [
            "/opt/anaconda3/lib/python3.11/site-packages/keras/src/layers/rnn/rnn.py:204: UserWarning: Do not pass an `input_shape`/`input_dim` argument to a layer. When using Sequential models, prefer using an `Input(shape)` object as the first layer in the model instead.\n",
            "  super().__init__(**kwargs)\n"
          ]
        },
        {
          "name": "stdout",
          "output_type": "stream",
          "text": [
            "\u001b[1m6/6\u001b[0m \u001b[32m━━━━━━━━━━━━━━━━━━━━\u001b[0m\u001b[37m\u001b[0m \u001b[1m0s\u001b[0m 18ms/step\n"
          ]
        },
        {
          "name": "stderr",
          "output_type": "stream",
          "text": [
            "/opt/anaconda3/lib/python3.11/site-packages/keras/src/layers/rnn/rnn.py:204: UserWarning: Do not pass an `input_shape`/`input_dim` argument to a layer. When using Sequential models, prefer using an `Input(shape)` object as the first layer in the model instead.\n",
            "  super().__init__(**kwargs)\n"
          ]
        },
        {
          "name": "stdout",
          "output_type": "stream",
          "text": [
            "\u001b[1m6/6\u001b[0m \u001b[32m━━━━━━━━━━━━━━━━━━━━\u001b[0m\u001b[37m\u001b[0m \u001b[1m0s\u001b[0m 19ms/step\n"
          ]
        },
        {
          "name": "stderr",
          "output_type": "stream",
          "text": [
            "/opt/anaconda3/lib/python3.11/site-packages/keras/src/layers/rnn/rnn.py:204: UserWarning: Do not pass an `input_shape`/`input_dim` argument to a layer. When using Sequential models, prefer using an `Input(shape)` object as the first layer in the model instead.\n",
            "  super().__init__(**kwargs)\n"
          ]
        },
        {
          "name": "stdout",
          "output_type": "stream",
          "text": [
            "\u001b[1m6/6\u001b[0m \u001b[32m━━━━━━━━━━━━━━━━━━━━\u001b[0m\u001b[37m\u001b[0m \u001b[1m0s\u001b[0m 19ms/step\n"
          ]
        },
        {
          "name": "stderr",
          "output_type": "stream",
          "text": [
            "/opt/anaconda3/lib/python3.11/site-packages/keras/src/layers/rnn/rnn.py:204: UserWarning: Do not pass an `input_shape`/`input_dim` argument to a layer. When using Sequential models, prefer using an `Input(shape)` object as the first layer in the model instead.\n",
            "  super().__init__(**kwargs)\n"
          ]
        },
        {
          "name": "stdout",
          "output_type": "stream",
          "text": [
            "\u001b[1m6/6\u001b[0m \u001b[32m━━━━━━━━━━━━━━━━━━━━\u001b[0m\u001b[37m\u001b[0m \u001b[1m0s\u001b[0m 18ms/step\n"
          ]
        },
        {
          "name": "stderr",
          "output_type": "stream",
          "text": [
            "/opt/anaconda3/lib/python3.11/site-packages/keras/src/layers/rnn/rnn.py:204: UserWarning: Do not pass an `input_shape`/`input_dim` argument to a layer. When using Sequential models, prefer using an `Input(shape)` object as the first layer in the model instead.\n",
            "  super().__init__(**kwargs)\n"
          ]
        },
        {
          "name": "stdout",
          "output_type": "stream",
          "text": [
            "\u001b[1m6/6\u001b[0m \u001b[32m━━━━━━━━━━━━━━━━━━━━\u001b[0m\u001b[37m\u001b[0m \u001b[1m0s\u001b[0m 18ms/step\n"
          ]
        },
        {
          "name": "stderr",
          "output_type": "stream",
          "text": [
            "/opt/anaconda3/lib/python3.11/site-packages/keras/src/layers/rnn/rnn.py:204: UserWarning: Do not pass an `input_shape`/`input_dim` argument to a layer. When using Sequential models, prefer using an `Input(shape)` object as the first layer in the model instead.\n",
            "  super().__init__(**kwargs)\n"
          ]
        },
        {
          "name": "stdout",
          "output_type": "stream",
          "text": [
            "\u001b[1m6/6\u001b[0m \u001b[32m━━━━━━━━━━━━━━━━━━━━\u001b[0m\u001b[37m\u001b[0m \u001b[1m0s\u001b[0m 23ms/step\n"
          ]
        },
        {
          "name": "stderr",
          "output_type": "stream",
          "text": [
            "/opt/anaconda3/lib/python3.11/site-packages/keras/src/layers/rnn/rnn.py:204: UserWarning: Do not pass an `input_shape`/`input_dim` argument to a layer. When using Sequential models, prefer using an `Input(shape)` object as the first layer in the model instead.\n",
            "  super().__init__(**kwargs)\n"
          ]
        },
        {
          "name": "stdout",
          "output_type": "stream",
          "text": [
            "\u001b[1m6/6\u001b[0m \u001b[32m━━━━━━━━━━━━━━━━━━━━\u001b[0m\u001b[37m\u001b[0m \u001b[1m0s\u001b[0m 18ms/step\n"
          ]
        },
        {
          "name": "stderr",
          "output_type": "stream",
          "text": [
            "/opt/anaconda3/lib/python3.11/site-packages/keras/src/layers/rnn/rnn.py:204: UserWarning: Do not pass an `input_shape`/`input_dim` argument to a layer. When using Sequential models, prefer using an `Input(shape)` object as the first layer in the model instead.\n",
            "  super().__init__(**kwargs)\n"
          ]
        },
        {
          "name": "stdout",
          "output_type": "stream",
          "text": [
            "\u001b[1m6/6\u001b[0m \u001b[32m━━━━━━━━━━━━━━━━━━━━\u001b[0m\u001b[37m\u001b[0m \u001b[1m0s\u001b[0m 18ms/step\n"
          ]
        }
      ],
      "source": [
        "outcome_df_HCoin = predicted_value_model(price_test,sample_pair_HDBSCAN_COINTEGRATION)"
      ]
    },
    {
      "cell_type": "code",
      "execution_count": 95,
      "metadata": {},
      "outputs": [
        {
          "data": {
            "image/png": "[encoded data removed]",
            "text/plain": [
              "<Figure size 1000x600 with 1 Axes>"
            ]
          },
          "metadata": {},
          "output_type": "display_data"
        },
        {
          "data": {
            "text/html": [
              "<div>\n",
              "<style scoped>\n",
              "    .dataframe tbody tr th:only-of-type {\n",
              "        vertical-align: middle;\n",
              "    }\n",
              "\n",
              "    .dataframe tbody tr th {\n",
              "        vertical-align: top;\n",
              "    }\n",
              "\n",
              "    .dataframe thead th {\n",
              "        text-align: right;\n",
              "    }\n",
              "</style>\n",
              "<table border=\"1\" class=\"dataframe\">\n",
              "  <thead>\n",
              "    <tr style=\"text-align: right;\">\n",
              "      <th></th>\n",
              "      <th>count</th>\n",
              "      <th>mean</th>\n",
              "      <th>std</th>\n",
              "      <th>min</th>\n",
              "      <th>25%</th>\n",
              "      <th>50%</th>\n",
              "      <th>75%</th>\n",
              "      <th>max</th>\n",
              "    </tr>\n",
              "    <tr>\n",
              "      <th>Metric</th>\n",
              "      <th></th>\n",
              "      <th></th>\n",
              "      <th></th>\n",
              "      <th></th>\n",
              "      <th></th>\n",
              "      <th></th>\n",
              "      <th></th>\n",
              "      <th></th>\n",
              "    </tr>\n",
              "  </thead>\n",
              "  <tbody>\n",
              "    <tr>\n",
              "      <th>Maximum Drawdown</th>\n",
              "      <td>11.0</td>\n",
              "      <td>-0.059697</td>\n",
              "      <td>0.025885</td>\n",
              "      <td>-0.105988</td>\n",
              "      <td>-0.071935</td>\n",
              "      <td>-0.060772</td>\n",
              "      <td>-0.048617</td>\n",
              "      <td>-0.016466</td>\n",
              "    </tr>\n",
              "    <tr>\n",
              "      <th>Sharpe Ratio</th>\n",
              "      <td>11.0</td>\n",
              "      <td>0.243747</td>\n",
              "      <td>0.948500</td>\n",
              "      <td>-1.292568</td>\n",
              "      <td>-0.394767</td>\n",
              "      <td>0.135400</td>\n",
              "      <td>0.905828</td>\n",
              "      <td>1.845555</td>\n",
              "    </tr>\n",
              "    <tr>\n",
              "      <th>Sortino Ratio</th>\n",
              "      <td>11.0</td>\n",
              "      <td>0.277836</td>\n",
              "      <td>0.949478</td>\n",
              "      <td>-0.952622</td>\n",
              "      <td>-0.270689</td>\n",
              "      <td>0.066705</td>\n",
              "      <td>0.783498</td>\n",
              "      <td>2.188940</td>\n",
              "    </tr>\n",
              "  </tbody>\n",
              "</table>\n",
              "</div>"
            ],
            "text/plain": [
              "                  count      mean       std       min       25%       50%  \\\n",
              "Metric                                                                      \n",
              "Maximum Drawdown   11.0 -0.059697  0.025885 -0.105988 -0.071935 -0.060772   \n",
              "Sharpe Ratio       11.0  0.243747  0.948500 -1.292568 -0.394767  0.135400   \n",
              "Sortino Ratio      11.0  0.277836  0.949478 -0.952622 -0.270689  0.066705   \n",
              "\n",
              "                       75%       max  \n",
              "Metric                                \n",
              "Maximum Drawdown -0.048617 -0.016466  \n",
              "Sharpe Ratio      0.905828  1.845555  \n",
              "Sortino Ratio     0.783498  2.188940  "
            ]
          },
          "execution_count": 95,
          "metadata": {},
          "output_type": "execute_result"
        }
      ],
      "source": [
        "outcome_df_HCoin\n",
        "plot_performance_distribution(outcome_df_HCoin)"
      ]
    },
    {
      "cell_type": "markdown",
      "metadata": {},
      "source": [
        "### DBSCAN_Corr"
      ]
    },
    {
      "cell_type": "code",
      "execution_count": 96,
      "metadata": {},
      "outputs": [
        {
          "name": "stderr",
          "output_type": "stream",
          "text": [
            "/opt/anaconda3/lib/python3.11/site-packages/keras/src/layers/rnn/rnn.py:204: UserWarning: Do not pass an `input_shape`/`input_dim` argument to a layer. When using Sequential models, prefer using an `Input(shape)` object as the first layer in the model instead.\n",
            "  super().__init__(**kwargs)\n"
          ]
        },
        {
          "name": "stdout",
          "output_type": "stream",
          "text": [
            "\u001b[1m6/6\u001b[0m \u001b[32m━━━━━━━━━━━━━━━━━━━━\u001b[0m\u001b[37m\u001b[0m \u001b[1m0s\u001b[0m 18ms/step\n"
          ]
        },
        {
          "name": "stderr",
          "output_type": "stream",
          "text": [
            "/opt/anaconda3/lib/python3.11/site-packages/keras/src/layers/rnn/rnn.py:204: UserWarning: Do not pass an `input_shape`/`input_dim` argument to a layer. When using Sequential models, prefer using an `Input(shape)` object as the first layer in the model instead.\n",
            "  super().__init__(**kwargs)\n"
          ]
        },
        {
          "name": "stdout",
          "output_type": "stream",
          "text": [
            "\u001b[1m6/6\u001b[0m \u001b[32m━━━━━━━━━━━━━━━━━━━━\u001b[0m\u001b[37m\u001b[0m \u001b[1m0s\u001b[0m 20ms/step\n"
          ]
        },
        {
          "name": "stderr",
          "output_type": "stream",
          "text": [
            "/opt/anaconda3/lib/python3.11/site-packages/keras/src/layers/rnn/rnn.py:204: UserWarning: Do not pass an `input_shape`/`input_dim` argument to a layer. When using Sequential models, prefer using an `Input(shape)` object as the first layer in the model instead.\n",
            "  super().__init__(**kwargs)\n"
          ]
        },
        {
          "name": "stdout",
          "output_type": "stream",
          "text": [
            "\u001b[1m6/6\u001b[0m \u001b[32m━━━━━━━━━━━━━━━━━━━━\u001b[0m\u001b[37m\u001b[0m \u001b[1m0s\u001b[0m 24ms/step\n"
          ]
        },
        {
          "name": "stderr",
          "output_type": "stream",
          "text": [
            "/opt/anaconda3/lib/python3.11/site-packages/keras/src/layers/rnn/rnn.py:204: UserWarning: Do not pass an `input_shape`/`input_dim` argument to a layer. When using Sequential models, prefer using an `Input(shape)` object as the first layer in the model instead.\n",
            "  super().__init__(**kwargs)\n"
          ]
        },
        {
          "name": "stdout",
          "output_type": "stream",
          "text": [
            "\u001b[1m6/6\u001b[0m \u001b[32m━━━━━━━━━━━━━━━━━━━━\u001b[0m\u001b[37m\u001b[0m \u001b[1m0s\u001b[0m 18ms/step\n"
          ]
        },
        {
          "name": "stderr",
          "output_type": "stream",
          "text": [
            "/opt/anaconda3/lib/python3.11/site-packages/keras/src/layers/rnn/rnn.py:204: UserWarning: Do not pass an `input_shape`/`input_dim` argument to a layer. When using Sequential models, prefer using an `Input(shape)` object as the first layer in the model instead.\n",
            "  super().__init__(**kwargs)\n"
          ]
        },
        {
          "name": "stdout",
          "output_type": "stream",
          "text": [
            "\u001b[1m6/6\u001b[0m \u001b[32m━━━━━━━━━━━━━━━━━━━━\u001b[0m\u001b[37m\u001b[0m \u001b[1m0s\u001b[0m 18ms/step\n"
          ]
        },
        {
          "name": "stderr",
          "output_type": "stream",
          "text": [
            "/opt/anaconda3/lib/python3.11/site-packages/keras/src/layers/rnn/rnn.py:204: UserWarning: Do not pass an `input_shape`/`input_dim` argument to a layer. When using Sequential models, prefer using an `Input(shape)` object as the first layer in the model instead.\n",
            "  super().__init__(**kwargs)\n"
          ]
        },
        {
          "name": "stdout",
          "output_type": "stream",
          "text": [
            "\u001b[1m6/6\u001b[0m \u001b[32m━━━━━━━━━━━━━━━━━━━━\u001b[0m\u001b[37m\u001b[0m \u001b[1m0s\u001b[0m 18ms/step\n"
          ]
        },
        {
          "name": "stderr",
          "output_type": "stream",
          "text": [
            "/opt/anaconda3/lib/python3.11/site-packages/keras/src/layers/rnn/rnn.py:204: UserWarning: Do not pass an `input_shape`/`input_dim` argument to a layer. When using Sequential models, prefer using an `Input(shape)` object as the first layer in the model instead.\n",
            "  super().__init__(**kwargs)\n"
          ]
        },
        {
          "name": "stdout",
          "output_type": "stream",
          "text": [
            "\u001b[1m6/6\u001b[0m \u001b[32m━━━━━━━━━━━━━━━━━━━━\u001b[0m\u001b[37m\u001b[0m \u001b[1m0s\u001b[0m 17ms/step\n"
          ]
        },
        {
          "name": "stderr",
          "output_type": "stream",
          "text": [
            "/opt/anaconda3/lib/python3.11/site-packages/keras/src/layers/rnn/rnn.py:204: UserWarning: Do not pass an `input_shape`/`input_dim` argument to a layer. When using Sequential models, prefer using an `Input(shape)` object as the first layer in the model instead.\n",
            "  super().__init__(**kwargs)\n"
          ]
        },
        {
          "name": "stdout",
          "output_type": "stream",
          "text": [
            "\u001b[1m6/6\u001b[0m \u001b[32m━━━━━━━━━━━━━━━━━━━━\u001b[0m\u001b[37m\u001b[0m \u001b[1m0s\u001b[0m 17ms/step\n"
          ]
        },
        {
          "name": "stderr",
          "output_type": "stream",
          "text": [
            "/opt/anaconda3/lib/python3.11/site-packages/keras/src/layers/rnn/rnn.py:204: UserWarning: Do not pass an `input_shape`/`input_dim` argument to a layer. When using Sequential models, prefer using an `Input(shape)` object as the first layer in the model instead.\n",
            "  super().__init__(**kwargs)\n"
          ]
        },
        {
          "name": "stdout",
          "output_type": "stream",
          "text": [
            "\u001b[1m6/6\u001b[0m \u001b[32m━━━━━━━━━━━━━━━━━━━━\u001b[0m\u001b[37m\u001b[0m \u001b[1m0s\u001b[0m 17ms/step\n"
          ]
        },
        {
          "name": "stderr",
          "output_type": "stream",
          "text": [
            "/opt/anaconda3/lib/python3.11/site-packages/keras/src/layers/rnn/rnn.py:204: UserWarning: Do not pass an `input_shape`/`input_dim` argument to a layer. When using Sequential models, prefer using an `Input(shape)` object as the first layer in the model instead.\n",
            "  super().__init__(**kwargs)\n"
          ]
        },
        {
          "name": "stdout",
          "output_type": "stream",
          "text": [
            "\u001b[1m6/6\u001b[0m \u001b[32m━━━━━━━━━━━━━━━━━━━━\u001b[0m\u001b[37m\u001b[0m \u001b[1m0s\u001b[0m 17ms/step\n"
          ]
        },
        {
          "name": "stderr",
          "output_type": "stream",
          "text": [
            "/opt/anaconda3/lib/python3.11/site-packages/keras/src/layers/rnn/rnn.py:204: UserWarning: Do not pass an `input_shape`/`input_dim` argument to a layer. When using Sequential models, prefer using an `Input(shape)` object as the first layer in the model instead.\n",
            "  super().__init__(**kwargs)\n"
          ]
        },
        {
          "name": "stdout",
          "output_type": "stream",
          "text": [
            "\u001b[1m6/6\u001b[0m \u001b[32m━━━━━━━━━━━━━━━━━━━━\u001b[0m\u001b[37m\u001b[0m \u001b[1m0s\u001b[0m 18ms/step\n"
          ]
        },
        {
          "name": "stderr",
          "output_type": "stream",
          "text": [
            "/opt/anaconda3/lib/python3.11/site-packages/keras/src/layers/rnn/rnn.py:204: UserWarning: Do not pass an `input_shape`/`input_dim` argument to a layer. When using Sequential models, prefer using an `Input(shape)` object as the first layer in the model instead.\n",
            "  super().__init__(**kwargs)\n"
          ]
        },
        {
          "name": "stdout",
          "output_type": "stream",
          "text": [
            "\u001b[1m6/6\u001b[0m \u001b[32m━━━━━━━━━━━━━━━━━━━━\u001b[0m\u001b[37m\u001b[0m \u001b[1m0s\u001b[0m 17ms/step\n"
          ]
        },
        {
          "name": "stderr",
          "output_type": "stream",
          "text": [
            "/opt/anaconda3/lib/python3.11/site-packages/keras/src/layers/rnn/rnn.py:204: UserWarning: Do not pass an `input_shape`/`input_dim` argument to a layer. When using Sequential models, prefer using an `Input(shape)` object as the first layer in the model instead.\n",
            "  super().__init__(**kwargs)\n"
          ]
        },
        {
          "name": "stdout",
          "output_type": "stream",
          "text": [
            "\u001b[1m6/6\u001b[0m \u001b[32m━━━━━━━━━━━━━━━━━━━━\u001b[0m\u001b[37m\u001b[0m \u001b[1m0s\u001b[0m 18ms/step\n"
          ]
        },
        {
          "name": "stderr",
          "output_type": "stream",
          "text": [
            "/opt/anaconda3/lib/python3.11/site-packages/keras/src/layers/rnn/rnn.py:204: UserWarning: Do not pass an `input_shape`/`input_dim` argument to a layer. When using Sequential models, prefer using an `Input(shape)` object as the first layer in the model instead.\n",
            "  super().__init__(**kwargs)\n"
          ]
        },
        {
          "name": "stdout",
          "output_type": "stream",
          "text": [
            "\u001b[1m6/6\u001b[0m \u001b[32m━━━━━━━━━━━━━━━━━━━━\u001b[0m\u001b[37m\u001b[0m \u001b[1m0s\u001b[0m 18ms/step\n"
          ]
        },
        {
          "name": "stderr",
          "output_type": "stream",
          "text": [
            "/opt/anaconda3/lib/python3.11/site-packages/keras/src/layers/rnn/rnn.py:204: UserWarning: Do not pass an `input_shape`/`input_dim` argument to a layer. When using Sequential models, prefer using an `Input(shape)` object as the first layer in the model instead.\n",
            "  super().__init__(**kwargs)\n"
          ]
        },
        {
          "name": "stdout",
          "output_type": "stream",
          "text": [
            "\u001b[1m6/6\u001b[0m \u001b[32m━━━━━━━━━━━━━━━━━━━━\u001b[0m\u001b[37m\u001b[0m \u001b[1m0s\u001b[0m 17ms/step\n"
          ]
        },
        {
          "name": "stderr",
          "output_type": "stream",
          "text": [
            "/opt/anaconda3/lib/python3.11/site-packages/keras/src/layers/rnn/rnn.py:204: UserWarning: Do not pass an `input_shape`/`input_dim` argument to a layer. When using Sequential models, prefer using an `Input(shape)` object as the first layer in the model instead.\n",
            "  super().__init__(**kwargs)\n"
          ]
        },
        {
          "name": "stdout",
          "output_type": "stream",
          "text": [
            "\u001b[1m6/6\u001b[0m \u001b[32m━━━━━━━━━━━━━━━━━━━━\u001b[0m\u001b[37m\u001b[0m \u001b[1m0s\u001b[0m 18ms/step\n"
          ]
        },
        {
          "name": "stderr",
          "output_type": "stream",
          "text": [
            "/opt/anaconda3/lib/python3.11/site-packages/keras/src/layers/rnn/rnn.py:204: UserWarning: Do not pass an `input_shape`/`input_dim` argument to a layer. When using Sequential models, prefer using an `Input(shape)` object as the first layer in the model instead.\n",
            "  super().__init__(**kwargs)\n"
          ]
        },
        {
          "name": "stdout",
          "output_type": "stream",
          "text": [
            "\u001b[1m6/6\u001b[0m \u001b[32m━━━━━━━━━━━━━━━━━━━━\u001b[0m\u001b[37m\u001b[0m \u001b[1m0s\u001b[0m 20ms/step\n"
          ]
        },
        {
          "name": "stderr",
          "output_type": "stream",
          "text": [
            "/opt/anaconda3/lib/python3.11/site-packages/keras/src/layers/rnn/rnn.py:204: UserWarning: Do not pass an `input_shape`/`input_dim` argument to a layer. When using Sequential models, prefer using an `Input(shape)` object as the first layer in the model instead.\n",
            "  super().__init__(**kwargs)\n"
          ]
        },
        {
          "name": "stdout",
          "output_type": "stream",
          "text": [
            "\u001b[1m6/6\u001b[0m \u001b[32m━━━━━━━━━━━━━━━━━━━━\u001b[0m\u001b[37m\u001b[0m \u001b[1m0s\u001b[0m 18ms/step\n"
          ]
        },
        {
          "name": "stderr",
          "output_type": "stream",
          "text": [
            "/opt/anaconda3/lib/python3.11/site-packages/keras/src/layers/rnn/rnn.py:204: UserWarning: Do not pass an `input_shape`/`input_dim` argument to a layer. When using Sequential models, prefer using an `Input(shape)` object as the first layer in the model instead.\n",
            "  super().__init__(**kwargs)\n"
          ]
        },
        {
          "name": "stdout",
          "output_type": "stream",
          "text": [
            "\u001b[1m6/6\u001b[0m \u001b[32m━━━━━━━━━━━━━━━━━━━━\u001b[0m\u001b[37m\u001b[0m \u001b[1m0s\u001b[0m 18ms/step\n"
          ]
        },
        {
          "name": "stderr",
          "output_type": "stream",
          "text": [
            "/opt/anaconda3/lib/python3.11/site-packages/keras/src/layers/rnn/rnn.py:204: UserWarning: Do not pass an `input_shape`/`input_dim` argument to a layer. When using Sequential models, prefer using an `Input(shape)` object as the first layer in the model instead.\n",
            "  super().__init__(**kwargs)\n"
          ]
        },
        {
          "name": "stdout",
          "output_type": "stream",
          "text": [
            "\u001b[1m6/6\u001b[0m \u001b[32m━━━━━━━━━━━━━━━━━━━━\u001b[0m\u001b[37m\u001b[0m \u001b[1m0s\u001b[0m 18ms/step\n"
          ]
        },
        {
          "name": "stderr",
          "output_type": "stream",
          "text": [
            "/opt/anaconda3/lib/python3.11/site-packages/keras/src/layers/rnn/rnn.py:204: UserWarning: Do not pass an `input_shape`/`input_dim` argument to a layer. When using Sequential models, prefer using an `Input(shape)` object as the first layer in the model instead.\n",
            "  super().__init__(**kwargs)\n"
          ]
        },
        {
          "name": "stdout",
          "output_type": "stream",
          "text": [
            "\u001b[1m6/6\u001b[0m \u001b[32m━━━━━━━━━━━━━━━━━━━━\u001b[0m\u001b[37m\u001b[0m \u001b[1m0s\u001b[0m 18ms/step\n"
          ]
        },
        {
          "name": "stderr",
          "output_type": "stream",
          "text": [
            "/opt/anaconda3/lib/python3.11/site-packages/keras/src/layers/rnn/rnn.py:204: UserWarning: Do not pass an `input_shape`/`input_dim` argument to a layer. When using Sequential models, prefer using an `Input(shape)` object as the first layer in the model instead.\n",
            "  super().__init__(**kwargs)\n"
          ]
        },
        {
          "name": "stdout",
          "output_type": "stream",
          "text": [
            "\u001b[1m6/6\u001b[0m \u001b[32m━━━━━━━━━━━━━━━━━━━━\u001b[0m\u001b[37m\u001b[0m \u001b[1m0s\u001b[0m 17ms/step\n"
          ]
        },
        {
          "name": "stderr",
          "output_type": "stream",
          "text": [
            "/opt/anaconda3/lib/python3.11/site-packages/keras/src/layers/rnn/rnn.py:204: UserWarning: Do not pass an `input_shape`/`input_dim` argument to a layer. When using Sequential models, prefer using an `Input(shape)` object as the first layer in the model instead.\n",
            "  super().__init__(**kwargs)\n"
          ]
        },
        {
          "name": "stdout",
          "output_type": "stream",
          "text": [
            "\u001b[1m6/6\u001b[0m \u001b[32m━━━━━━━━━━━━━━━━━━━━\u001b[0m\u001b[37m\u001b[0m \u001b[1m0s\u001b[0m 18ms/step\n"
          ]
        },
        {
          "name": "stderr",
          "output_type": "stream",
          "text": [
            "/opt/anaconda3/lib/python3.11/site-packages/keras/src/layers/rnn/rnn.py:204: UserWarning: Do not pass an `input_shape`/`input_dim` argument to a layer. When using Sequential models, prefer using an `Input(shape)` object as the first layer in the model instead.\n",
            "  super().__init__(**kwargs)\n"
          ]
        },
        {
          "name": "stdout",
          "output_type": "stream",
          "text": [
            "\u001b[1m6/6\u001b[0m \u001b[32m━━━━━━━━━━━━━━━━━━━━\u001b[0m\u001b[37m\u001b[0m \u001b[1m0s\u001b[0m 30ms/step\n"
          ]
        },
        {
          "name": "stderr",
          "output_type": "stream",
          "text": [
            "/opt/anaconda3/lib/python3.11/site-packages/keras/src/layers/rnn/rnn.py:204: UserWarning: Do not pass an `input_shape`/`input_dim` argument to a layer. When using Sequential models, prefer using an `Input(shape)` object as the first layer in the model instead.\n",
            "  super().__init__(**kwargs)\n"
          ]
        },
        {
          "name": "stdout",
          "output_type": "stream",
          "text": [
            "\u001b[1m6/6\u001b[0m \u001b[32m━━━━━━━━━━━━━━━━━━━━\u001b[0m\u001b[37m\u001b[0m \u001b[1m0s\u001b[0m 17ms/step\n"
          ]
        },
        {
          "name": "stderr",
          "output_type": "stream",
          "text": [
            "/opt/anaconda3/lib/python3.11/site-packages/keras/src/layers/rnn/rnn.py:204: UserWarning: Do not pass an `input_shape`/`input_dim` argument to a layer. When using Sequential models, prefer using an `Input(shape)` object as the first layer in the model instead.\n",
            "  super().__init__(**kwargs)\n"
          ]
        },
        {
          "name": "stdout",
          "output_type": "stream",
          "text": [
            "\u001b[1m6/6\u001b[0m \u001b[32m━━━━━━━━━━━━━━━━━━━━\u001b[0m\u001b[37m\u001b[0m \u001b[1m0s\u001b[0m 17ms/step\n"
          ]
        },
        {
          "name": "stderr",
          "output_type": "stream",
          "text": [
            "/opt/anaconda3/lib/python3.11/site-packages/keras/src/layers/rnn/rnn.py:204: UserWarning: Do not pass an `input_shape`/`input_dim` argument to a layer. When using Sequential models, prefer using an `Input(shape)` object as the first layer in the model instead.\n",
            "  super().__init__(**kwargs)\n"
          ]
        },
        {
          "name": "stdout",
          "output_type": "stream",
          "text": [
            "\u001b[1m6/6\u001b[0m \u001b[32m━━━━━━━━━━━━━━━━━━━━\u001b[0m\u001b[37m\u001b[0m \u001b[1m0s\u001b[0m 18ms/step\n"
          ]
        },
        {
          "name": "stderr",
          "output_type": "stream",
          "text": [
            "/opt/anaconda3/lib/python3.11/site-packages/keras/src/layers/rnn/rnn.py:204: UserWarning: Do not pass an `input_shape`/`input_dim` argument to a layer. When using Sequential models, prefer using an `Input(shape)` object as the first layer in the model instead.\n",
            "  super().__init__(**kwargs)\n"
          ]
        },
        {
          "name": "stdout",
          "output_type": "stream",
          "text": [
            "\u001b[1m6/6\u001b[0m \u001b[32m━━━━━━━━━━━━━━━━━━━━\u001b[0m\u001b[37m\u001b[0m \u001b[1m0s\u001b[0m 18ms/step\n"
          ]
        },
        {
          "name": "stderr",
          "output_type": "stream",
          "text": [
            "/opt/anaconda3/lib/python3.11/site-packages/keras/src/layers/rnn/rnn.py:204: UserWarning: Do not pass an `input_shape`/`input_dim` argument to a layer. When using Sequential models, prefer using an `Input(shape)` object as the first layer in the model instead.\n",
            "  super().__init__(**kwargs)\n"
          ]
        },
        {
          "name": "stdout",
          "output_type": "stream",
          "text": [
            "\u001b[1m6/6\u001b[0m \u001b[32m━━━━━━━━━━━━━━━━━━━━\u001b[0m\u001b[37m\u001b[0m \u001b[1m0s\u001b[0m 18ms/step\n"
          ]
        },
        {
          "name": "stderr",
          "output_type": "stream",
          "text": [
            "/opt/anaconda3/lib/python3.11/site-packages/keras/src/layers/rnn/rnn.py:204: UserWarning: Do not pass an `input_shape`/`input_dim` argument to a layer. When using Sequential models, prefer using an `Input(shape)` object as the first layer in the model instead.\n",
            "  super().__init__(**kwargs)\n"
          ]
        },
        {
          "name": "stdout",
          "output_type": "stream",
          "text": [
            "\u001b[1m6/6\u001b[0m \u001b[32m━━━━━━━━━━━━━━━━━━━━\u001b[0m\u001b[37m\u001b[0m \u001b[1m0s\u001b[0m 18ms/step\n"
          ]
        },
        {
          "name": "stderr",
          "output_type": "stream",
          "text": [
            "/opt/anaconda3/lib/python3.11/site-packages/keras/src/layers/rnn/rnn.py:204: UserWarning: Do not pass an `input_shape`/`input_dim` argument to a layer. When using Sequential models, prefer using an `Input(shape)` object as the first layer in the model instead.\n",
            "  super().__init__(**kwargs)\n"
          ]
        },
        {
          "name": "stdout",
          "output_type": "stream",
          "text": [
            "\u001b[1m6/6\u001b[0m \u001b[32m━━━━━━━━━━━━━━━━━━━━\u001b[0m\u001b[37m\u001b[0m \u001b[1m0s\u001b[0m 18ms/step\n"
          ]
        },
        {
          "name": "stderr",
          "output_type": "stream",
          "text": [
            "/opt/anaconda3/lib/python3.11/site-packages/keras/src/layers/rnn/rnn.py:204: UserWarning: Do not pass an `input_shape`/`input_dim` argument to a layer. When using Sequential models, prefer using an `Input(shape)` object as the first layer in the model instead.\n",
            "  super().__init__(**kwargs)\n"
          ]
        },
        {
          "name": "stdout",
          "output_type": "stream",
          "text": [
            "\u001b[1m6/6\u001b[0m \u001b[32m━━━━━━━━━━━━━━━━━━━━\u001b[0m\u001b[37m\u001b[0m \u001b[1m0s\u001b[0m 17ms/step\n"
          ]
        },
        {
          "name": "stderr",
          "output_type": "stream",
          "text": [
            "/opt/anaconda3/lib/python3.11/site-packages/keras/src/layers/rnn/rnn.py:204: UserWarning: Do not pass an `input_shape`/`input_dim` argument to a layer. When using Sequential models, prefer using an `Input(shape)` object as the first layer in the model instead.\n",
            "  super().__init__(**kwargs)\n"
          ]
        },
        {
          "name": "stdout",
          "output_type": "stream",
          "text": [
            "\u001b[1m6/6\u001b[0m \u001b[32m━━━━━━━━━━━━━━━━━━━━\u001b[0m\u001b[37m\u001b[0m \u001b[1m0s\u001b[0m 17ms/step\n"
          ]
        },
        {
          "name": "stderr",
          "output_type": "stream",
          "text": [
            "/opt/anaconda3/lib/python3.11/site-packages/keras/src/layers/rnn/rnn.py:204: UserWarning: Do not pass an `input_shape`/`input_dim` argument to a layer. When using Sequential models, prefer using an `Input(shape)` object as the first layer in the model instead.\n",
            "  super().__init__(**kwargs)\n"
          ]
        },
        {
          "name": "stdout",
          "output_type": "stream",
          "text": [
            "\u001b[1m6/6\u001b[0m \u001b[32m━━━━━━━━━━━━━━━━━━━━\u001b[0m\u001b[37m\u001b[0m \u001b[1m0s\u001b[0m 18ms/step\n"
          ]
        },
        {
          "name": "stderr",
          "output_type": "stream",
          "text": [
            "/opt/anaconda3/lib/python3.11/site-packages/keras/src/layers/rnn/rnn.py:204: UserWarning: Do not pass an `input_shape`/`input_dim` argument to a layer. When using Sequential models, prefer using an `Input(shape)` object as the first layer in the model instead.\n",
            "  super().__init__(**kwargs)\n"
          ]
        },
        {
          "name": "stdout",
          "output_type": "stream",
          "text": [
            "\u001b[1m6/6\u001b[0m \u001b[32m━━━━━━━━━━━━━━━━━━━━\u001b[0m\u001b[37m\u001b[0m \u001b[1m0s\u001b[0m 22ms/step\n"
          ]
        },
        {
          "name": "stderr",
          "output_type": "stream",
          "text": [
            "/opt/anaconda3/lib/python3.11/site-packages/keras/src/layers/rnn/rnn.py:204: UserWarning: Do not pass an `input_shape`/`input_dim` argument to a layer. When using Sequential models, prefer using an `Input(shape)` object as the first layer in the model instead.\n",
            "  super().__init__(**kwargs)\n"
          ]
        },
        {
          "name": "stdout",
          "output_type": "stream",
          "text": [
            "\u001b[1m6/6\u001b[0m \u001b[32m━━━━━━━━━━━━━━━━━━━━\u001b[0m\u001b[37m\u001b[0m \u001b[1m0s\u001b[0m 18ms/step\n"
          ]
        },
        {
          "name": "stderr",
          "output_type": "stream",
          "text": [
            "/opt/anaconda3/lib/python3.11/site-packages/keras/src/layers/rnn/rnn.py:204: UserWarning: Do not pass an `input_shape`/`input_dim` argument to a layer. When using Sequential models, prefer using an `Input(shape)` object as the first layer in the model instead.\n",
            "  super().__init__(**kwargs)\n"
          ]
        },
        {
          "name": "stdout",
          "output_type": "stream",
          "text": [
            "\u001b[1m6/6\u001b[0m \u001b[32m━━━━━━━━━━━━━━━━━━━━\u001b[0m\u001b[37m\u001b[0m \u001b[1m0s\u001b[0m 18ms/step\n"
          ]
        },
        {
          "name": "stderr",
          "output_type": "stream",
          "text": [
            "/opt/anaconda3/lib/python3.11/site-packages/keras/src/layers/rnn/rnn.py:204: UserWarning: Do not pass an `input_shape`/`input_dim` argument to a layer. When using Sequential models, prefer using an `Input(shape)` object as the first layer in the model instead.\n",
            "  super().__init__(**kwargs)\n"
          ]
        },
        {
          "name": "stdout",
          "output_type": "stream",
          "text": [
            "\u001b[1m6/6\u001b[0m \u001b[32m━━━━━━━━━━━━━━━━━━━━\u001b[0m\u001b[37m\u001b[0m \u001b[1m0s\u001b[0m 17ms/step\n"
          ]
        },
        {
          "name": "stderr",
          "output_type": "stream",
          "text": [
            "/opt/anaconda3/lib/python3.11/site-packages/keras/src/layers/rnn/rnn.py:204: UserWarning: Do not pass an `input_shape`/`input_dim` argument to a layer. When using Sequential models, prefer using an `Input(shape)` object as the first layer in the model instead.\n",
            "  super().__init__(**kwargs)\n"
          ]
        },
        {
          "name": "stdout",
          "output_type": "stream",
          "text": [
            "\u001b[1m6/6\u001b[0m \u001b[32m━━━━━━━━━━━━━━━━━━━━\u001b[0m\u001b[37m\u001b[0m \u001b[1m0s\u001b[0m 18ms/step\n"
          ]
        },
        {
          "name": "stderr",
          "output_type": "stream",
          "text": [
            "/opt/anaconda3/lib/python3.11/site-packages/keras/src/layers/rnn/rnn.py:204: UserWarning: Do not pass an `input_shape`/`input_dim` argument to a layer. When using Sequential models, prefer using an `Input(shape)` object as the first layer in the model instead.\n",
            "  super().__init__(**kwargs)\n"
          ]
        },
        {
          "name": "stdout",
          "output_type": "stream",
          "text": [
            "\u001b[1m6/6\u001b[0m \u001b[32m━━━━━━━━━━━━━━━━━━━━\u001b[0m\u001b[37m\u001b[0m \u001b[1m0s\u001b[0m 18ms/step\n"
          ]
        },
        {
          "name": "stderr",
          "output_type": "stream",
          "text": [
            "/opt/anaconda3/lib/python3.11/site-packages/keras/src/layers/rnn/rnn.py:204: UserWarning: Do not pass an `input_shape`/`input_dim` argument to a layer. When using Sequential models, prefer using an `Input(shape)` object as the first layer in the model instead.\n",
            "  super().__init__(**kwargs)\n"
          ]
        },
        {
          "name": "stdout",
          "output_type": "stream",
          "text": [
            "\u001b[1m6/6\u001b[0m \u001b[32m━━━━━━━━━━━━━━━━━━━━\u001b[0m\u001b[37m\u001b[0m \u001b[1m0s\u001b[0m 18ms/step\n"
          ]
        },
        {
          "name": "stderr",
          "output_type": "stream",
          "text": [
            "/opt/anaconda3/lib/python3.11/site-packages/keras/src/layers/rnn/rnn.py:204: UserWarning: Do not pass an `input_shape`/`input_dim` argument to a layer. When using Sequential models, prefer using an `Input(shape)` object as the first layer in the model instead.\n",
            "  super().__init__(**kwargs)\n"
          ]
        },
        {
          "name": "stdout",
          "output_type": "stream",
          "text": [
            "\u001b[1m6/6\u001b[0m \u001b[32m━━━━━━━━━━━━━━━━━━━━\u001b[0m\u001b[37m\u001b[0m \u001b[1m0s\u001b[0m 17ms/step\n"
          ]
        },
        {
          "name": "stderr",
          "output_type": "stream",
          "text": [
            "/opt/anaconda3/lib/python3.11/site-packages/keras/src/layers/rnn/rnn.py:204: UserWarning: Do not pass an `input_shape`/`input_dim` argument to a layer. When using Sequential models, prefer using an `Input(shape)` object as the first layer in the model instead.\n",
            "  super().__init__(**kwargs)\n"
          ]
        },
        {
          "name": "stdout",
          "output_type": "stream",
          "text": [
            "\u001b[1m6/6\u001b[0m \u001b[32m━━━━━━━━━━━━━━━━━━━━\u001b[0m\u001b[37m\u001b[0m \u001b[1m0s\u001b[0m 17ms/step\n"
          ]
        },
        {
          "name": "stderr",
          "output_type": "stream",
          "text": [
            "/opt/anaconda3/lib/python3.11/site-packages/keras/src/layers/rnn/rnn.py:204: UserWarning: Do not pass an `input_shape`/`input_dim` argument to a layer. When using Sequential models, prefer using an `Input(shape)` object as the first layer in the model instead.\n",
            "  super().__init__(**kwargs)\n"
          ]
        },
        {
          "name": "stdout",
          "output_type": "stream",
          "text": [
            "\u001b[1m6/6\u001b[0m \u001b[32m━━━━━━━━━━━━━━━━━━━━\u001b[0m\u001b[37m\u001b[0m \u001b[1m0s\u001b[0m 17ms/step\n"
          ]
        },
        {
          "name": "stderr",
          "output_type": "stream",
          "text": [
            "/opt/anaconda3/lib/python3.11/site-packages/keras/src/layers/rnn/rnn.py:204: UserWarning: Do not pass an `input_shape`/`input_dim` argument to a layer. When using Sequential models, prefer using an `Input(shape)` object as the first layer in the model instead.\n",
            "  super().__init__(**kwargs)\n"
          ]
        },
        {
          "name": "stdout",
          "output_type": "stream",
          "text": [
            "\u001b[1m6/6\u001b[0m \u001b[32m━━━━━━━━━━━━━━━━━━━━\u001b[0m\u001b[37m\u001b[0m \u001b[1m0s\u001b[0m 17ms/step\n"
          ]
        },
        {
          "name": "stderr",
          "output_type": "stream",
          "text": [
            "/opt/anaconda3/lib/python3.11/site-packages/keras/src/layers/rnn/rnn.py:204: UserWarning: Do not pass an `input_shape`/`input_dim` argument to a layer. When using Sequential models, prefer using an `Input(shape)` object as the first layer in the model instead.\n",
            "  super().__init__(**kwargs)\n"
          ]
        },
        {
          "name": "stdout",
          "output_type": "stream",
          "text": [
            "\u001b[1m6/6\u001b[0m \u001b[32m━━━━━━━━━━━━━━━━━━━━\u001b[0m\u001b[37m\u001b[0m \u001b[1m0s\u001b[0m 17ms/step\n"
          ]
        },
        {
          "name": "stderr",
          "output_type": "stream",
          "text": [
            "/opt/anaconda3/lib/python3.11/site-packages/keras/src/layers/rnn/rnn.py:204: UserWarning: Do not pass an `input_shape`/`input_dim` argument to a layer. When using Sequential models, prefer using an `Input(shape)` object as the first layer in the model instead.\n",
            "  super().__init__(**kwargs)\n"
          ]
        },
        {
          "name": "stdout",
          "output_type": "stream",
          "text": [
            "\u001b[1m6/6\u001b[0m \u001b[32m━━━━━━━━━━━━━━━━━━━━\u001b[0m\u001b[37m\u001b[0m \u001b[1m0s\u001b[0m 19ms/step\n"
          ]
        },
        {
          "name": "stderr",
          "output_type": "stream",
          "text": [
            "/opt/anaconda3/lib/python3.11/site-packages/keras/src/layers/rnn/rnn.py:204: UserWarning: Do not pass an `input_shape`/`input_dim` argument to a layer. When using Sequential models, prefer using an `Input(shape)` object as the first layer in the model instead.\n",
            "  super().__init__(**kwargs)\n"
          ]
        },
        {
          "name": "stdout",
          "output_type": "stream",
          "text": [
            "\u001b[1m6/6\u001b[0m \u001b[32m━━━━━━━━━━━━━━━━━━━━\u001b[0m\u001b[37m\u001b[0m \u001b[1m0s\u001b[0m 18ms/step\n"
          ]
        },
        {
          "name": "stderr",
          "output_type": "stream",
          "text": [
            "/opt/anaconda3/lib/python3.11/site-packages/keras/src/layers/rnn/rnn.py:204: UserWarning: Do not pass an `input_shape`/`input_dim` argument to a layer. When using Sequential models, prefer using an `Input(shape)` object as the first layer in the model instead.\n",
            "  super().__init__(**kwargs)\n"
          ]
        },
        {
          "name": "stdout",
          "output_type": "stream",
          "text": [
            "\u001b[1m6/6\u001b[0m \u001b[32m━━━━━━━━━━━━━━━━━━━━\u001b[0m\u001b[37m\u001b[0m \u001b[1m0s\u001b[0m 18ms/step\n"
          ]
        },
        {
          "name": "stderr",
          "output_type": "stream",
          "text": [
            "/opt/anaconda3/lib/python3.11/site-packages/keras/src/layers/rnn/rnn.py:204: UserWarning: Do not pass an `input_shape`/`input_dim` argument to a layer. When using Sequential models, prefer using an `Input(shape)` object as the first layer in the model instead.\n",
            "  super().__init__(**kwargs)\n"
          ]
        },
        {
          "name": "stdout",
          "output_type": "stream",
          "text": [
            "\u001b[1m6/6\u001b[0m \u001b[32m━━━━━━━━━━━━━━━━━━━━\u001b[0m\u001b[37m\u001b[0m \u001b[1m0s\u001b[0m 18ms/step\n"
          ]
        },
        {
          "name": "stderr",
          "output_type": "stream",
          "text": [
            "/opt/anaconda3/lib/python3.11/site-packages/keras/src/layers/rnn/rnn.py:204: UserWarning: Do not pass an `input_shape`/`input_dim` argument to a layer. When using Sequential models, prefer using an `Input(shape)` object as the first layer in the model instead.\n",
            "  super().__init__(**kwargs)\n"
          ]
        },
        {
          "name": "stdout",
          "output_type": "stream",
          "text": [
            "\u001b[1m6/6\u001b[0m \u001b[32m━━━━━━━━━━━━━━━━━━━━\u001b[0m\u001b[37m\u001b[0m \u001b[1m0s\u001b[0m 18ms/step\n"
          ]
        },
        {
          "name": "stderr",
          "output_type": "stream",
          "text": [
            "/opt/anaconda3/lib/python3.11/site-packages/keras/src/layers/rnn/rnn.py:204: UserWarning: Do not pass an `input_shape`/`input_dim` argument to a layer. When using Sequential models, prefer using an `Input(shape)` object as the first layer in the model instead.\n",
            "  super().__init__(**kwargs)\n"
          ]
        },
        {
          "name": "stdout",
          "output_type": "stream",
          "text": [
            "\u001b[1m6/6\u001b[0m \u001b[32m━━━━━━━━━━━━━━━━━━━━\u001b[0m\u001b[37m\u001b[0m \u001b[1m0s\u001b[0m 19ms/step\n"
          ]
        },
        {
          "name": "stderr",
          "output_type": "stream",
          "text": [
            "/opt/anaconda3/lib/python3.11/site-packages/keras/src/layers/rnn/rnn.py:204: UserWarning: Do not pass an `input_shape`/`input_dim` argument to a layer. When using Sequential models, prefer using an `Input(shape)` object as the first layer in the model instead.\n",
            "  super().__init__(**kwargs)\n"
          ]
        },
        {
          "name": "stdout",
          "output_type": "stream",
          "text": [
            "\u001b[1m6/6\u001b[0m \u001b[32m━━━━━━━━━━━━━━━━━━━━\u001b[0m\u001b[37m\u001b[0m \u001b[1m0s\u001b[0m 19ms/step\n"
          ]
        },
        {
          "name": "stderr",
          "output_type": "stream",
          "text": [
            "/opt/anaconda3/lib/python3.11/site-packages/keras/src/layers/rnn/rnn.py:204: UserWarning: Do not pass an `input_shape`/`input_dim` argument to a layer. When using Sequential models, prefer using an `Input(shape)` object as the first layer in the model instead.\n",
            "  super().__init__(**kwargs)\n"
          ]
        },
        {
          "name": "stdout",
          "output_type": "stream",
          "text": [
            "\u001b[1m6/6\u001b[0m \u001b[32m━━━━━━━━━━━━━━━━━━━━\u001b[0m\u001b[37m\u001b[0m \u001b[1m0s\u001b[0m 18ms/step\n"
          ]
        },
        {
          "name": "stderr",
          "output_type": "stream",
          "text": [
            "/opt/anaconda3/lib/python3.11/site-packages/keras/src/layers/rnn/rnn.py:204: UserWarning: Do not pass an `input_shape`/`input_dim` argument to a layer. When using Sequential models, prefer using an `Input(shape)` object as the first layer in the model instead.\n",
            "  super().__init__(**kwargs)\n"
          ]
        },
        {
          "name": "stdout",
          "output_type": "stream",
          "text": [
            "\u001b[1m6/6\u001b[0m \u001b[32m━━━━━━━━━━━━━━━━━━━━\u001b[0m\u001b[37m\u001b[0m \u001b[1m0s\u001b[0m 17ms/step\n"
          ]
        },
        {
          "name": "stderr",
          "output_type": "stream",
          "text": [
            "/opt/anaconda3/lib/python3.11/site-packages/keras/src/layers/rnn/rnn.py:204: UserWarning: Do not pass an `input_shape`/`input_dim` argument to a layer. When using Sequential models, prefer using an `Input(shape)` object as the first layer in the model instead.\n",
            "  super().__init__(**kwargs)\n"
          ]
        },
        {
          "name": "stdout",
          "output_type": "stream",
          "text": [
            "\u001b[1m6/6\u001b[0m \u001b[32m━━━━━━━━━━━━━━━━━━━━\u001b[0m\u001b[37m\u001b[0m \u001b[1m0s\u001b[0m 19ms/step\n"
          ]
        },
        {
          "name": "stderr",
          "output_type": "stream",
          "text": [
            "/opt/anaconda3/lib/python3.11/site-packages/keras/src/layers/rnn/rnn.py:204: UserWarning: Do not pass an `input_shape`/`input_dim` argument to a layer. When using Sequential models, prefer using an `Input(shape)` object as the first layer in the model instead.\n",
            "  super().__init__(**kwargs)\n"
          ]
        },
        {
          "name": "stdout",
          "output_type": "stream",
          "text": [
            "\u001b[1m6/6\u001b[0m \u001b[32m━━━━━━━━━━━━━━━━━━━━\u001b[0m\u001b[37m\u001b[0m \u001b[1m0s\u001b[0m 19ms/step\n"
          ]
        },
        {
          "name": "stderr",
          "output_type": "stream",
          "text": [
            "/opt/anaconda3/lib/python3.11/site-packages/keras/src/layers/rnn/rnn.py:204: UserWarning: Do not pass an `input_shape`/`input_dim` argument to a layer. When using Sequential models, prefer using an `Input(shape)` object as the first layer in the model instead.\n",
            "  super().__init__(**kwargs)\n"
          ]
        },
        {
          "name": "stdout",
          "output_type": "stream",
          "text": [
            "\u001b[1m6/6\u001b[0m \u001b[32m━━━━━━━━━━━━━━━━━━━━\u001b[0m\u001b[37m\u001b[0m \u001b[1m0s\u001b[0m 19ms/step\n"
          ]
        },
        {
          "name": "stderr",
          "output_type": "stream",
          "text": [
            "/opt/anaconda3/lib/python3.11/site-packages/keras/src/layers/rnn/rnn.py:204: UserWarning: Do not pass an `input_shape`/`input_dim` argument to a layer. When using Sequential models, prefer using an `Input(shape)` object as the first layer in the model instead.\n",
            "  super().__init__(**kwargs)\n"
          ]
        },
        {
          "name": "stdout",
          "output_type": "stream",
          "text": [
            "\u001b[1m6/6\u001b[0m \u001b[32m━━━━━━━━━━━━━━━━━━━━\u001b[0m\u001b[37m\u001b[0m \u001b[1m0s\u001b[0m 18ms/step\n"
          ]
        },
        {
          "name": "stderr",
          "output_type": "stream",
          "text": [
            "/opt/anaconda3/lib/python3.11/site-packages/keras/src/layers/rnn/rnn.py:204: UserWarning: Do not pass an `input_shape`/`input_dim` argument to a layer. When using Sequential models, prefer using an `Input(shape)` object as the first layer in the model instead.\n",
            "  super().__init__(**kwargs)\n"
          ]
        },
        {
          "name": "stdout",
          "output_type": "stream",
          "text": [
            "\u001b[1m6/6\u001b[0m \u001b[32m━━━━━━━━━━━━━━━━━━━━\u001b[0m\u001b[37m\u001b[0m \u001b[1m0s\u001b[0m 18ms/step\n"
          ]
        },
        {
          "name": "stderr",
          "output_type": "stream",
          "text": [
            "/opt/anaconda3/lib/python3.11/site-packages/keras/src/layers/rnn/rnn.py:204: UserWarning: Do not pass an `input_shape`/`input_dim` argument to a layer. When using Sequential models, prefer using an `Input(shape)` object as the first layer in the model instead.\n",
            "  super().__init__(**kwargs)\n"
          ]
        },
        {
          "name": "stdout",
          "output_type": "stream",
          "text": [
            "\u001b[1m6/6\u001b[0m \u001b[32m━━━━━━━━━━━━━━━━━━━━\u001b[0m\u001b[37m\u001b[0m \u001b[1m0s\u001b[0m 18ms/step\n"
          ]
        },
        {
          "name": "stderr",
          "output_type": "stream",
          "text": [
            "/opt/anaconda3/lib/python3.11/site-packages/keras/src/layers/rnn/rnn.py:204: UserWarning: Do not pass an `input_shape`/`input_dim` argument to a layer. When using Sequential models, prefer using an `Input(shape)` object as the first layer in the model instead.\n",
            "  super().__init__(**kwargs)\n"
          ]
        },
        {
          "name": "stdout",
          "output_type": "stream",
          "text": [
            "\u001b[1m6/6\u001b[0m \u001b[32m━━━━━━━━━━━━━━━━━━━━\u001b[0m\u001b[37m\u001b[0m \u001b[1m0s\u001b[0m 19ms/step\n"
          ]
        },
        {
          "name": "stderr",
          "output_type": "stream",
          "text": [
            "/opt/anaconda3/lib/python3.11/site-packages/keras/src/layers/rnn/rnn.py:204: UserWarning: Do not pass an `input_shape`/`input_dim` argument to a layer. When using Sequential models, prefer using an `Input(shape)` object as the first layer in the model instead.\n",
            "  super().__init__(**kwargs)\n"
          ]
        },
        {
          "name": "stdout",
          "output_type": "stream",
          "text": [
            "\u001b[1m6/6\u001b[0m \u001b[32m━━━━━━━━━━━━━━━━━━━━\u001b[0m\u001b[37m\u001b[0m \u001b[1m0s\u001b[0m 18ms/step\n"
          ]
        },
        {
          "name": "stderr",
          "output_type": "stream",
          "text": [
            "/opt/anaconda3/lib/python3.11/site-packages/keras/src/layers/rnn/rnn.py:204: UserWarning: Do not pass an `input_shape`/`input_dim` argument to a layer. When using Sequential models, prefer using an `Input(shape)` object as the first layer in the model instead.\n",
            "  super().__init__(**kwargs)\n"
          ]
        },
        {
          "name": "stdout",
          "output_type": "stream",
          "text": [
            "\u001b[1m6/6\u001b[0m \u001b[32m━━━━━━━━━━━━━━━━━━━━\u001b[0m\u001b[37m\u001b[0m \u001b[1m0s\u001b[0m 18ms/step\n"
          ]
        },
        {
          "name": "stderr",
          "output_type": "stream",
          "text": [
            "/opt/anaconda3/lib/python3.11/site-packages/keras/src/layers/rnn/rnn.py:204: UserWarning: Do not pass an `input_shape`/`input_dim` argument to a layer. When using Sequential models, prefer using an `Input(shape)` object as the first layer in the model instead.\n",
            "  super().__init__(**kwargs)\n"
          ]
        },
        {
          "name": "stdout",
          "output_type": "stream",
          "text": [
            "\u001b[1m6/6\u001b[0m \u001b[32m━━━━━━━━━━━━━━━━━━━━\u001b[0m\u001b[37m\u001b[0m \u001b[1m0s\u001b[0m 18ms/step\n"
          ]
        },
        {
          "name": "stderr",
          "output_type": "stream",
          "text": [
            "/opt/anaconda3/lib/python3.11/site-packages/keras/src/layers/rnn/rnn.py:204: UserWarning: Do not pass an `input_shape`/`input_dim` argument to a layer. When using Sequential models, prefer using an `Input(shape)` object as the first layer in the model instead.\n",
            "  super().__init__(**kwargs)\n"
          ]
        },
        {
          "name": "stdout",
          "output_type": "stream",
          "text": [
            "\u001b[1m6/6\u001b[0m \u001b[32m━━━━━━━━━━━━━━━━━━━━\u001b[0m\u001b[37m\u001b[0m \u001b[1m0s\u001b[0m 18ms/step\n"
          ]
        },
        {
          "name": "stderr",
          "output_type": "stream",
          "text": [
            "/opt/anaconda3/lib/python3.11/site-packages/keras/src/layers/rnn/rnn.py:204: UserWarning: Do not pass an `input_shape`/`input_dim` argument to a layer. When using Sequential models, prefer using an `Input(shape)` object as the first layer in the model instead.\n",
            "  super().__init__(**kwargs)\n"
          ]
        },
        {
          "name": "stdout",
          "output_type": "stream",
          "text": [
            "\u001b[1m6/6\u001b[0m \u001b[32m━━━━━━━━━━━━━━━━━━━━\u001b[0m\u001b[37m\u001b[0m \u001b[1m0s\u001b[0m 18ms/step\n"
          ]
        },
        {
          "name": "stderr",
          "output_type": "stream",
          "text": [
            "/opt/anaconda3/lib/python3.11/site-packages/keras/src/layers/rnn/rnn.py:204: UserWarning: Do not pass an `input_shape`/`input_dim` argument to a layer. When using Sequential models, prefer using an `Input(shape)` object as the first layer in the model instead.\n",
            "  super().__init__(**kwargs)\n"
          ]
        },
        {
          "name": "stdout",
          "output_type": "stream",
          "text": [
            "\u001b[1m6/6\u001b[0m \u001b[32m━━━━━━━━━━━━━━━━━━━━\u001b[0m\u001b[37m\u001b[0m \u001b[1m0s\u001b[0m 23ms/step\n"
          ]
        },
        {
          "name": "stderr",
          "output_type": "stream",
          "text": [
            "/opt/anaconda3/lib/python3.11/site-packages/keras/src/layers/rnn/rnn.py:204: UserWarning: Do not pass an `input_shape`/`input_dim` argument to a layer. When using Sequential models, prefer using an `Input(shape)` object as the first layer in the model instead.\n",
            "  super().__init__(**kwargs)\n"
          ]
        },
        {
          "name": "stdout",
          "output_type": "stream",
          "text": [
            "\u001b[1m6/6\u001b[0m \u001b[32m━━━━━━━━━━━━━━━━━━━━\u001b[0m\u001b[37m\u001b[0m \u001b[1m0s\u001b[0m 18ms/step\n"
          ]
        },
        {
          "name": "stderr",
          "output_type": "stream",
          "text": [
            "/opt/anaconda3/lib/python3.11/site-packages/keras/src/layers/rnn/rnn.py:204: UserWarning: Do not pass an `input_shape`/`input_dim` argument to a layer. When using Sequential models, prefer using an `Input(shape)` object as the first layer in the model instead.\n",
            "  super().__init__(**kwargs)\n"
          ]
        },
        {
          "name": "stdout",
          "output_type": "stream",
          "text": [
            "\u001b[1m6/6\u001b[0m \u001b[32m━━━━━━━━━━━━━━━━━━━━\u001b[0m\u001b[37m\u001b[0m \u001b[1m0s\u001b[0m 25ms/step\n"
          ]
        },
        {
          "name": "stderr",
          "output_type": "stream",
          "text": [
            "/opt/anaconda3/lib/python3.11/site-packages/keras/src/layers/rnn/rnn.py:204: UserWarning: Do not pass an `input_shape`/`input_dim` argument to a layer. When using Sequential models, prefer using an `Input(shape)` object as the first layer in the model instead.\n",
            "  super().__init__(**kwargs)\n"
          ]
        },
        {
          "name": "stdout",
          "output_type": "stream",
          "text": [
            "\u001b[1m6/6\u001b[0m \u001b[32m━━━━━━━━━━━━━━━━━━━━\u001b[0m\u001b[37m\u001b[0m \u001b[1m0s\u001b[0m 18ms/step\n"
          ]
        },
        {
          "name": "stderr",
          "output_type": "stream",
          "text": [
            "/opt/anaconda3/lib/python3.11/site-packages/keras/src/layers/rnn/rnn.py:204: UserWarning: Do not pass an `input_shape`/`input_dim` argument to a layer. When using Sequential models, prefer using an `Input(shape)` object as the first layer in the model instead.\n",
            "  super().__init__(**kwargs)\n"
          ]
        },
        {
          "name": "stdout",
          "output_type": "stream",
          "text": [
            "\u001b[1m6/6\u001b[0m \u001b[32m━━━━━━━━━━━━━━━━━━━━\u001b[0m\u001b[37m\u001b[0m \u001b[1m0s\u001b[0m 18ms/step\n"
          ]
        },
        {
          "name": "stderr",
          "output_type": "stream",
          "text": [
            "/opt/anaconda3/lib/python3.11/site-packages/keras/src/layers/rnn/rnn.py:204: UserWarning: Do not pass an `input_shape`/`input_dim` argument to a layer. When using Sequential models, prefer using an `Input(shape)` object as the first layer in the model instead.\n",
            "  super().__init__(**kwargs)\n"
          ]
        },
        {
          "name": "stdout",
          "output_type": "stream",
          "text": [
            "\u001b[1m6/6\u001b[0m \u001b[32m━━━━━━━━━━━━━━━━━━━━\u001b[0m\u001b[37m\u001b[0m \u001b[1m0s\u001b[0m 18ms/step\n"
          ]
        },
        {
          "name": "stderr",
          "output_type": "stream",
          "text": [
            "/opt/anaconda3/lib/python3.11/site-packages/keras/src/layers/rnn/rnn.py:204: UserWarning: Do not pass an `input_shape`/`input_dim` argument to a layer. When using Sequential models, prefer using an `Input(shape)` object as the first layer in the model instead.\n",
            "  super().__init__(**kwargs)\n"
          ]
        },
        {
          "name": "stdout",
          "output_type": "stream",
          "text": [
            "\u001b[1m6/6\u001b[0m \u001b[32m━━━━━━━━━━━━━━━━━━━━\u001b[0m\u001b[37m\u001b[0m \u001b[1m0s\u001b[0m 18ms/step\n"
          ]
        },
        {
          "name": "stderr",
          "output_type": "stream",
          "text": [
            "/opt/anaconda3/lib/python3.11/site-packages/keras/src/layers/rnn/rnn.py:204: UserWarning: Do not pass an `input_shape`/`input_dim` argument to a layer. When using Sequential models, prefer using an `Input(shape)` object as the first layer in the model instead.\n",
            "  super().__init__(**kwargs)\n"
          ]
        },
        {
          "name": "stdout",
          "output_type": "stream",
          "text": [
            "\u001b[1m6/6\u001b[0m \u001b[32m━━━━━━━━━━━━━━━━━━━━\u001b[0m\u001b[37m\u001b[0m \u001b[1m0s\u001b[0m 18ms/step\n"
          ]
        },
        {
          "name": "stderr",
          "output_type": "stream",
          "text": [
            "/opt/anaconda3/lib/python3.11/site-packages/keras/src/layers/rnn/rnn.py:204: UserWarning: Do not pass an `input_shape`/`input_dim` argument to a layer. When using Sequential models, prefer using an `Input(shape)` object as the first layer in the model instead.\n",
            "  super().__init__(**kwargs)\n"
          ]
        },
        {
          "name": "stdout",
          "output_type": "stream",
          "text": [
            "\u001b[1m6/6\u001b[0m \u001b[32m━━━━━━━━━━━━━━━━━━━━\u001b[0m\u001b[37m\u001b[0m \u001b[1m0s\u001b[0m 18ms/step\n"
          ]
        },
        {
          "name": "stderr",
          "output_type": "stream",
          "text": [
            "/opt/anaconda3/lib/python3.11/site-packages/keras/src/layers/rnn/rnn.py:204: UserWarning: Do not pass an `input_shape`/`input_dim` argument to a layer. When using Sequential models, prefer using an `Input(shape)` object as the first layer in the model instead.\n",
            "  super().__init__(**kwargs)\n"
          ]
        },
        {
          "name": "stdout",
          "output_type": "stream",
          "text": [
            "\u001b[1m6/6\u001b[0m \u001b[32m━━━━━━━━━━━━━━━━━━━━\u001b[0m\u001b[37m\u001b[0m \u001b[1m0s\u001b[0m 18ms/step\n"
          ]
        },
        {
          "name": "stderr",
          "output_type": "stream",
          "text": [
            "/opt/anaconda3/lib/python3.11/site-packages/keras/src/layers/rnn/rnn.py:204: UserWarning: Do not pass an `input_shape`/`input_dim` argument to a layer. When using Sequential models, prefer using an `Input(shape)` object as the first layer in the model instead.\n",
            "  super().__init__(**kwargs)\n"
          ]
        },
        {
          "name": "stdout",
          "output_type": "stream",
          "text": [
            "\u001b[1m6/6\u001b[0m \u001b[32m━━━━━━━━━━━━━━━━━━━━\u001b[0m\u001b[37m\u001b[0m \u001b[1m0s\u001b[0m 18ms/step\n"
          ]
        },
        {
          "name": "stderr",
          "output_type": "stream",
          "text": [
            "/opt/anaconda3/lib/python3.11/site-packages/keras/src/layers/rnn/rnn.py:204: UserWarning: Do not pass an `input_shape`/`input_dim` argument to a layer. When using Sequential models, prefer using an `Input(shape)` object as the first layer in the model instead.\n",
            "  super().__init__(**kwargs)\n"
          ]
        },
        {
          "name": "stdout",
          "output_type": "stream",
          "text": [
            "\u001b[1m6/6\u001b[0m \u001b[32m━━━━━━━━━━━━━━━━━━━━\u001b[0m\u001b[37m\u001b[0m \u001b[1m0s\u001b[0m 20ms/step\n"
          ]
        },
        {
          "name": "stderr",
          "output_type": "stream",
          "text": [
            "/opt/anaconda3/lib/python3.11/site-packages/keras/src/layers/rnn/rnn.py:204: UserWarning: Do not pass an `input_shape`/`input_dim` argument to a layer. When using Sequential models, prefer using an `Input(shape)` object as the first layer in the model instead.\n",
            "  super().__init__(**kwargs)\n"
          ]
        },
        {
          "name": "stdout",
          "output_type": "stream",
          "text": [
            "\u001b[1m6/6\u001b[0m \u001b[32m━━━━━━━━━━━━━━━━━━━━\u001b[0m\u001b[37m\u001b[0m \u001b[1m0s\u001b[0m 18ms/step\n"
          ]
        },
        {
          "name": "stderr",
          "output_type": "stream",
          "text": [
            "/opt/anaconda3/lib/python3.11/site-packages/keras/src/layers/rnn/rnn.py:204: UserWarning: Do not pass an `input_shape`/`input_dim` argument to a layer. When using Sequential models, prefer using an `Input(shape)` object as the first layer in the model instead.\n",
            "  super().__init__(**kwargs)\n"
          ]
        },
        {
          "name": "stdout",
          "output_type": "stream",
          "text": [
            "\u001b[1m6/6\u001b[0m \u001b[32m━━━━━━━━━━━━━━━━━━━━\u001b[0m\u001b[37m\u001b[0m \u001b[1m0s\u001b[0m 18ms/step\n"
          ]
        },
        {
          "name": "stderr",
          "output_type": "stream",
          "text": [
            "/opt/anaconda3/lib/python3.11/site-packages/keras/src/layers/rnn/rnn.py:204: UserWarning: Do not pass an `input_shape`/`input_dim` argument to a layer. When using Sequential models, prefer using an `Input(shape)` object as the first layer in the model instead.\n",
            "  super().__init__(**kwargs)\n"
          ]
        },
        {
          "name": "stdout",
          "output_type": "stream",
          "text": [
            "\u001b[1m6/6\u001b[0m \u001b[32m━━━━━━━━━━━━━━━━━━━━\u001b[0m\u001b[37m\u001b[0m \u001b[1m0s\u001b[0m 21ms/step\n"
          ]
        },
        {
          "name": "stderr",
          "output_type": "stream",
          "text": [
            "/opt/anaconda3/lib/python3.11/site-packages/keras/src/layers/rnn/rnn.py:204: UserWarning: Do not pass an `input_shape`/`input_dim` argument to a layer. When using Sequential models, prefer using an `Input(shape)` object as the first layer in the model instead.\n",
            "  super().__init__(**kwargs)\n"
          ]
        },
        {
          "name": "stdout",
          "output_type": "stream",
          "text": [
            "\u001b[1m6/6\u001b[0m \u001b[32m━━━━━━━━━━━━━━━━━━━━\u001b[0m\u001b[37m\u001b[0m \u001b[1m0s\u001b[0m 18ms/step\n"
          ]
        },
        {
          "name": "stderr",
          "output_type": "stream",
          "text": [
            "/opt/anaconda3/lib/python3.11/site-packages/keras/src/layers/rnn/rnn.py:204: UserWarning: Do not pass an `input_shape`/`input_dim` argument to a layer. When using Sequential models, prefer using an `Input(shape)` object as the first layer in the model instead.\n",
            "  super().__init__(**kwargs)\n"
          ]
        },
        {
          "name": "stdout",
          "output_type": "stream",
          "text": [
            "\u001b[1m6/6\u001b[0m \u001b[32m━━━━━━━━━━━━━━━━━━━━\u001b[0m\u001b[37m\u001b[0m \u001b[1m0s\u001b[0m 18ms/step\n"
          ]
        },
        {
          "name": "stderr",
          "output_type": "stream",
          "text": [
            "/opt/anaconda3/lib/python3.11/site-packages/keras/src/layers/rnn/rnn.py:204: UserWarning: Do not pass an `input_shape`/`input_dim` argument to a layer. When using Sequential models, prefer using an `Input(shape)` object as the first layer in the model instead.\n",
            "  super().__init__(**kwargs)\n"
          ]
        },
        {
          "name": "stdout",
          "output_type": "stream",
          "text": [
            "\u001b[1m6/6\u001b[0m \u001b[32m━━━━━━━━━━━━━━━━━━━━\u001b[0m\u001b[37m\u001b[0m \u001b[1m0s\u001b[0m 18ms/step\n"
          ]
        },
        {
          "name": "stderr",
          "output_type": "stream",
          "text": [
            "/opt/anaconda3/lib/python3.11/site-packages/keras/src/layers/rnn/rnn.py:204: UserWarning: Do not pass an `input_shape`/`input_dim` argument to a layer. When using Sequential models, prefer using an `Input(shape)` object as the first layer in the model instead.\n",
            "  super().__init__(**kwargs)\n"
          ]
        },
        {
          "name": "stdout",
          "output_type": "stream",
          "text": [
            "\u001b[1m6/6\u001b[0m \u001b[32m━━━━━━━━━━━━━━━━━━━━\u001b[0m\u001b[37m\u001b[0m \u001b[1m0s\u001b[0m 19ms/step\n"
          ]
        },
        {
          "name": "stderr",
          "output_type": "stream",
          "text": [
            "/opt/anaconda3/lib/python3.11/site-packages/keras/src/layers/rnn/rnn.py:204: UserWarning: Do not pass an `input_shape`/`input_dim` argument to a layer. When using Sequential models, prefer using an `Input(shape)` object as the first layer in the model instead.\n",
            "  super().__init__(**kwargs)\n"
          ]
        },
        {
          "name": "stdout",
          "output_type": "stream",
          "text": [
            "\u001b[1m6/6\u001b[0m \u001b[32m━━━━━━━━━━━━━━━━━━━━\u001b[0m\u001b[37m\u001b[0m \u001b[1m0s\u001b[0m 19ms/step\n"
          ]
        },
        {
          "name": "stderr",
          "output_type": "stream",
          "text": [
            "/opt/anaconda3/lib/python3.11/site-packages/keras/src/layers/rnn/rnn.py:204: UserWarning: Do not pass an `input_shape`/`input_dim` argument to a layer. When using Sequential models, prefer using an `Input(shape)` object as the first layer in the model instead.\n",
            "  super().__init__(**kwargs)\n"
          ]
        },
        {
          "name": "stdout",
          "output_type": "stream",
          "text": [
            "\u001b[1m6/6\u001b[0m \u001b[32m━━━━━━━━━━━━━━━━━━━━\u001b[0m\u001b[37m\u001b[0m \u001b[1m0s\u001b[0m 19ms/step\n"
          ]
        },
        {
          "name": "stderr",
          "output_type": "stream",
          "text": [
            "/opt/anaconda3/lib/python3.11/site-packages/keras/src/layers/rnn/rnn.py:204: UserWarning: Do not pass an `input_shape`/`input_dim` argument to a layer. When using Sequential models, prefer using an `Input(shape)` object as the first layer in the model instead.\n",
            "  super().__init__(**kwargs)\n"
          ]
        },
        {
          "name": "stdout",
          "output_type": "stream",
          "text": [
            "\u001b[1m6/6\u001b[0m \u001b[32m━━━━━━━━━━━━━━━━━━━━\u001b[0m\u001b[37m\u001b[0m \u001b[1m0s\u001b[0m 19ms/step\n"
          ]
        },
        {
          "name": "stderr",
          "output_type": "stream",
          "text": [
            "/opt/anaconda3/lib/python3.11/site-packages/keras/src/layers/rnn/rnn.py:204: UserWarning: Do not pass an `input_shape`/`input_dim` argument to a layer. When using Sequential models, prefer using an `Input(shape)` object as the first layer in the model instead.\n",
            "  super().__init__(**kwargs)\n"
          ]
        },
        {
          "name": "stdout",
          "output_type": "stream",
          "text": [
            "\u001b[1m6/6\u001b[0m \u001b[32m━━━━━━━━━━━━━━━━━━━━\u001b[0m\u001b[37m\u001b[0m \u001b[1m0s\u001b[0m 19ms/step\n"
          ]
        },
        {
          "name": "stderr",
          "output_type": "stream",
          "text": [
            "/opt/anaconda3/lib/python3.11/site-packages/keras/src/layers/rnn/rnn.py:204: UserWarning: Do not pass an `input_shape`/`input_dim` argument to a layer. When using Sequential models, prefer using an `Input(shape)` object as the first layer in the model instead.\n",
            "  super().__init__(**kwargs)\n"
          ]
        },
        {
          "name": "stdout",
          "output_type": "stream",
          "text": [
            "\u001b[1m6/6\u001b[0m \u001b[32m━━━━━━━━━━━━━━━━━━━━\u001b[0m\u001b[37m\u001b[0m \u001b[1m0s\u001b[0m 19ms/step\n"
          ]
        },
        {
          "name": "stderr",
          "output_type": "stream",
          "text": [
            "/opt/anaconda3/lib/python3.11/site-packages/keras/src/layers/rnn/rnn.py:204: UserWarning: Do not pass an `input_shape`/`input_dim` argument to a layer. When using Sequential models, prefer using an `Input(shape)` object as the first layer in the model instead.\n",
            "  super().__init__(**kwargs)\n"
          ]
        },
        {
          "name": "stdout",
          "output_type": "stream",
          "text": [
            "\u001b[1m6/6\u001b[0m \u001b[32m━━━━━━━━━━━━━━━━━━━━\u001b[0m\u001b[37m\u001b[0m \u001b[1m0s\u001b[0m 19ms/step\n"
          ]
        },
        {
          "name": "stderr",
          "output_type": "stream",
          "text": [
            "/opt/anaconda3/lib/python3.11/site-packages/keras/src/layers/rnn/rnn.py:204: UserWarning: Do not pass an `input_shape`/`input_dim` argument to a layer. When using Sequential models, prefer using an `Input(shape)` object as the first layer in the model instead.\n",
            "  super().__init__(**kwargs)\n"
          ]
        },
        {
          "name": "stdout",
          "output_type": "stream",
          "text": [
            "\u001b[1m6/6\u001b[0m \u001b[32m━━━━━━━━━━━━━━━━━━━━\u001b[0m\u001b[37m\u001b[0m \u001b[1m0s\u001b[0m 18ms/step\n"
          ]
        },
        {
          "name": "stderr",
          "output_type": "stream",
          "text": [
            "/opt/anaconda3/lib/python3.11/site-packages/keras/src/layers/rnn/rnn.py:204: UserWarning: Do not pass an `input_shape`/`input_dim` argument to a layer. When using Sequential models, prefer using an `Input(shape)` object as the first layer in the model instead.\n",
            "  super().__init__(**kwargs)\n"
          ]
        },
        {
          "name": "stdout",
          "output_type": "stream",
          "text": [
            "\u001b[1m6/6\u001b[0m \u001b[32m━━━━━━━━━━━━━━━━━━━━\u001b[0m\u001b[37m\u001b[0m \u001b[1m0s\u001b[0m 19ms/step\n"
          ]
        },
        {
          "name": "stderr",
          "output_type": "stream",
          "text": [
            "/opt/anaconda3/lib/python3.11/site-packages/keras/src/layers/rnn/rnn.py:204: UserWarning: Do not pass an `input_shape`/`input_dim` argument to a layer. When using Sequential models, prefer using an `Input(shape)` object as the first layer in the model instead.\n",
            "  super().__init__(**kwargs)\n"
          ]
        },
        {
          "name": "stdout",
          "output_type": "stream",
          "text": [
            "\u001b[1m6/6\u001b[0m \u001b[32m━━━━━━━━━━━━━━━━━━━━\u001b[0m\u001b[37m\u001b[0m \u001b[1m0s\u001b[0m 18ms/step\n"
          ]
        },
        {
          "name": "stderr",
          "output_type": "stream",
          "text": [
            "/opt/anaconda3/lib/python3.11/site-packages/keras/src/layers/rnn/rnn.py:204: UserWarning: Do not pass an `input_shape`/`input_dim` argument to a layer. When using Sequential models, prefer using an `Input(shape)` object as the first layer in the model instead.\n",
            "  super().__init__(**kwargs)\n"
          ]
        },
        {
          "name": "stdout",
          "output_type": "stream",
          "text": [
            "\u001b[1m6/6\u001b[0m \u001b[32m━━━━━━━━━━━━━━━━━━━━\u001b[0m\u001b[37m\u001b[0m \u001b[1m0s\u001b[0m 18ms/step\n"
          ]
        },
        {
          "name": "stderr",
          "output_type": "stream",
          "text": [
            "/opt/anaconda3/lib/python3.11/site-packages/keras/src/layers/rnn/rnn.py:204: UserWarning: Do not pass an `input_shape`/`input_dim` argument to a layer. When using Sequential models, prefer using an `Input(shape)` object as the first layer in the model instead.\n",
            "  super().__init__(**kwargs)\n"
          ]
        },
        {
          "name": "stdout",
          "output_type": "stream",
          "text": [
            "\u001b[1m6/6\u001b[0m \u001b[32m━━━━━━━━━━━━━━━━━━━━\u001b[0m\u001b[37m\u001b[0m \u001b[1m0s\u001b[0m 20ms/step\n"
          ]
        },
        {
          "name": "stderr",
          "output_type": "stream",
          "text": [
            "/opt/anaconda3/lib/python3.11/site-packages/keras/src/layers/rnn/rnn.py:204: UserWarning: Do not pass an `input_shape`/`input_dim` argument to a layer. When using Sequential models, prefer using an `Input(shape)` object as the first layer in the model instead.\n",
            "  super().__init__(**kwargs)\n"
          ]
        },
        {
          "name": "stdout",
          "output_type": "stream",
          "text": [
            "\u001b[1m6/6\u001b[0m \u001b[32m━━━━━━━━━━━━━━━━━━━━\u001b[0m\u001b[37m\u001b[0m \u001b[1m0s\u001b[0m 18ms/step\n"
          ]
        },
        {
          "name": "stderr",
          "output_type": "stream",
          "text": [
            "/opt/anaconda3/lib/python3.11/site-packages/keras/src/layers/rnn/rnn.py:204: UserWarning: Do not pass an `input_shape`/`input_dim` argument to a layer. When using Sequential models, prefer using an `Input(shape)` object as the first layer in the model instead.\n",
            "  super().__init__(**kwargs)\n"
          ]
        },
        {
          "name": "stdout",
          "output_type": "stream",
          "text": [
            "\u001b[1m6/6\u001b[0m \u001b[32m━━━━━━━━━━━━━━━━━━━━\u001b[0m\u001b[37m\u001b[0m \u001b[1m0s\u001b[0m 22ms/step\n"
          ]
        },
        {
          "name": "stderr",
          "output_type": "stream",
          "text": [
            "/opt/anaconda3/lib/python3.11/site-packages/keras/src/layers/rnn/rnn.py:204: UserWarning: Do not pass an `input_shape`/`input_dim` argument to a layer. When using Sequential models, prefer using an `Input(shape)` object as the first layer in the model instead.\n",
            "  super().__init__(**kwargs)\n"
          ]
        },
        {
          "name": "stdout",
          "output_type": "stream",
          "text": [
            "\u001b[1m6/6\u001b[0m \u001b[32m━━━━━━━━━━━━━━━━━━━━\u001b[0m\u001b[37m\u001b[0m \u001b[1m0s\u001b[0m 19ms/step\n"
          ]
        },
        {
          "name": "stderr",
          "output_type": "stream",
          "text": [
            "/opt/anaconda3/lib/python3.11/site-packages/keras/src/layers/rnn/rnn.py:204: UserWarning: Do not pass an `input_shape`/`input_dim` argument to a layer. When using Sequential models, prefer using an `Input(shape)` object as the first layer in the model instead.\n",
            "  super().__init__(**kwargs)\n"
          ]
        },
        {
          "name": "stdout",
          "output_type": "stream",
          "text": [
            "\u001b[1m6/6\u001b[0m \u001b[32m━━━━━━━━━━━━━━━━━━━━\u001b[0m\u001b[37m\u001b[0m \u001b[1m0s\u001b[0m 18ms/step\n"
          ]
        },
        {
          "name": "stderr",
          "output_type": "stream",
          "text": [
            "/opt/anaconda3/lib/python3.11/site-packages/keras/src/layers/rnn/rnn.py:204: UserWarning: Do not pass an `input_shape`/`input_dim` argument to a layer. When using Sequential models, prefer using an `Input(shape)` object as the first layer in the model instead.\n",
            "  super().__init__(**kwargs)\n"
          ]
        },
        {
          "name": "stdout",
          "output_type": "stream",
          "text": [
            "\u001b[1m6/6\u001b[0m \u001b[32m━━━━━━━━━━━━━━━━━━━━\u001b[0m\u001b[37m\u001b[0m \u001b[1m0s\u001b[0m 18ms/step\n"
          ]
        },
        {
          "name": "stderr",
          "output_type": "stream",
          "text": [
            "/opt/anaconda3/lib/python3.11/site-packages/keras/src/layers/rnn/rnn.py:204: UserWarning: Do not pass an `input_shape`/`input_dim` argument to a layer. When using Sequential models, prefer using an `Input(shape)` object as the first layer in the model instead.\n",
            "  super().__init__(**kwargs)\n"
          ]
        },
        {
          "name": "stdout",
          "output_type": "stream",
          "text": [
            "\u001b[1m6/6\u001b[0m \u001b[32m━━━━━━━━━━━━━━━━━━━━\u001b[0m\u001b[37m\u001b[0m \u001b[1m0s\u001b[0m 71ms/step\n"
          ]
        },
        {
          "name": "stderr",
          "output_type": "stream",
          "text": [
            "/opt/anaconda3/lib/python3.11/site-packages/keras/src/layers/rnn/rnn.py:204: UserWarning: Do not pass an `input_shape`/`input_dim` argument to a layer. When using Sequential models, prefer using an `Input(shape)` object as the first layer in the model instead.\n",
            "  super().__init__(**kwargs)\n"
          ]
        },
        {
          "name": "stdout",
          "output_type": "stream",
          "text": [
            "\u001b[1m6/6\u001b[0m \u001b[32m━━━━━━━━━━━━━━━━━━━━\u001b[0m\u001b[37m\u001b[0m \u001b[1m0s\u001b[0m 20ms/step\n"
          ]
        },
        {
          "name": "stderr",
          "output_type": "stream",
          "text": [
            "/opt/anaconda3/lib/python3.11/site-packages/keras/src/layers/rnn/rnn.py:204: UserWarning: Do not pass an `input_shape`/`input_dim` argument to a layer. When using Sequential models, prefer using an `Input(shape)` object as the first layer in the model instead.\n",
            "  super().__init__(**kwargs)\n"
          ]
        },
        {
          "name": "stdout",
          "output_type": "stream",
          "text": [
            "\u001b[1m6/6\u001b[0m \u001b[32m━━━━━━━━━━━━━━━━━━━━\u001b[0m\u001b[37m\u001b[0m \u001b[1m0s\u001b[0m 18ms/step\n"
          ]
        },
        {
          "name": "stderr",
          "output_type": "stream",
          "text": [
            "/opt/anaconda3/lib/python3.11/site-packages/keras/src/layers/rnn/rnn.py:204: UserWarning: Do not pass an `input_shape`/`input_dim` argument to a layer. When using Sequential models, prefer using an `Input(shape)` object as the first layer in the model instead.\n",
            "  super().__init__(**kwargs)\n"
          ]
        },
        {
          "name": "stdout",
          "output_type": "stream",
          "text": [
            "\u001b[1m6/6\u001b[0m \u001b[32m━━━━━━━━━━━━━━━━━━━━\u001b[0m\u001b[37m\u001b[0m \u001b[1m0s\u001b[0m 18ms/step\n"
          ]
        },
        {
          "name": "stderr",
          "output_type": "stream",
          "text": [
            "/opt/anaconda3/lib/python3.11/site-packages/keras/src/layers/rnn/rnn.py:204: UserWarning: Do not pass an `input_shape`/`input_dim` argument to a layer. When using Sequential models, prefer using an `Input(shape)` object as the first layer in the model instead.\n",
            "  super().__init__(**kwargs)\n"
          ]
        },
        {
          "name": "stdout",
          "output_type": "stream",
          "text": [
            "\u001b[1m6/6\u001b[0m \u001b[32m━━━━━━━━━━━━━━━━━━━━\u001b[0m\u001b[37m\u001b[0m \u001b[1m0s\u001b[0m 23ms/step\n"
          ]
        },
        {
          "name": "stderr",
          "output_type": "stream",
          "text": [
            "/opt/anaconda3/lib/python3.11/site-packages/keras/src/layers/rnn/rnn.py:204: UserWarning: Do not pass an `input_shape`/`input_dim` argument to a layer. When using Sequential models, prefer using an `Input(shape)` object as the first layer in the model instead.\n",
            "  super().__init__(**kwargs)\n"
          ]
        },
        {
          "name": "stdout",
          "output_type": "stream",
          "text": [
            "\u001b[1m6/6\u001b[0m \u001b[32m━━━━━━━━━━━━━━━━━━━━\u001b[0m\u001b[37m\u001b[0m \u001b[1m0s\u001b[0m 20ms/step\n"
          ]
        },
        {
          "name": "stderr",
          "output_type": "stream",
          "text": [
            "/opt/anaconda3/lib/python3.11/site-packages/keras/src/layers/rnn/rnn.py:204: UserWarning: Do not pass an `input_shape`/`input_dim` argument to a layer. When using Sequential models, prefer using an `Input(shape)` object as the first layer in the model instead.\n",
            "  super().__init__(**kwargs)\n"
          ]
        },
        {
          "name": "stdout",
          "output_type": "stream",
          "text": [
            "\u001b[1m6/6\u001b[0m \u001b[32m━━━━━━━━━━━━━━━━━━━━\u001b[0m\u001b[37m\u001b[0m \u001b[1m0s\u001b[0m 24ms/step\n"
          ]
        },
        {
          "name": "stderr",
          "output_type": "stream",
          "text": [
            "/opt/anaconda3/lib/python3.11/site-packages/keras/src/layers/rnn/rnn.py:204: UserWarning: Do not pass an `input_shape`/`input_dim` argument to a layer. When using Sequential models, prefer using an `Input(shape)` object as the first layer in the model instead.\n",
            "  super().__init__(**kwargs)\n"
          ]
        },
        {
          "name": "stdout",
          "output_type": "stream",
          "text": [
            "\u001b[1m6/6\u001b[0m \u001b[32m━━━━━━━━━━━━━━━━━━━━\u001b[0m\u001b[37m\u001b[0m \u001b[1m0s\u001b[0m 19ms/step\n"
          ]
        },
        {
          "name": "stderr",
          "output_type": "stream",
          "text": [
            "/opt/anaconda3/lib/python3.11/site-packages/keras/src/layers/rnn/rnn.py:204: UserWarning: Do not pass an `input_shape`/`input_dim` argument to a layer. When using Sequential models, prefer using an `Input(shape)` object as the first layer in the model instead.\n",
            "  super().__init__(**kwargs)\n"
          ]
        },
        {
          "name": "stdout",
          "output_type": "stream",
          "text": [
            "\u001b[1m6/6\u001b[0m \u001b[32m━━━━━━━━━━━━━━━━━━━━\u001b[0m\u001b[37m\u001b[0m \u001b[1m0s\u001b[0m 25ms/step\n"
          ]
        },
        {
          "name": "stderr",
          "output_type": "stream",
          "text": [
            "/opt/anaconda3/lib/python3.11/site-packages/keras/src/layers/rnn/rnn.py:204: UserWarning: Do not pass an `input_shape`/`input_dim` argument to a layer. When using Sequential models, prefer using an `Input(shape)` object as the first layer in the model instead.\n",
            "  super().__init__(**kwargs)\n"
          ]
        },
        {
          "name": "stdout",
          "output_type": "stream",
          "text": [
            "\u001b[1m6/6\u001b[0m \u001b[32m━━━━━━━━━━━━━━━━━━━━\u001b[0m\u001b[37m\u001b[0m \u001b[1m0s\u001b[0m 22ms/step\n"
          ]
        },
        {
          "name": "stderr",
          "output_type": "stream",
          "text": [
            "/opt/anaconda3/lib/python3.11/site-packages/keras/src/layers/rnn/rnn.py:204: UserWarning: Do not pass an `input_shape`/`input_dim` argument to a layer. When using Sequential models, prefer using an `Input(shape)` object as the first layer in the model instead.\n",
            "  super().__init__(**kwargs)\n"
          ]
        },
        {
          "name": "stdout",
          "output_type": "stream",
          "text": [
            "\u001b[1m6/6\u001b[0m \u001b[32m━━━━━━━━━━━━━━━━━━━━\u001b[0m\u001b[37m\u001b[0m \u001b[1m0s\u001b[0m 31ms/step\n"
          ]
        },
        {
          "name": "stderr",
          "output_type": "stream",
          "text": [
            "/opt/anaconda3/lib/python3.11/site-packages/keras/src/layers/rnn/rnn.py:204: UserWarning: Do not pass an `input_shape`/`input_dim` argument to a layer. When using Sequential models, prefer using an `Input(shape)` object as the first layer in the model instead.\n",
            "  super().__init__(**kwargs)\n"
          ]
        },
        {
          "name": "stdout",
          "output_type": "stream",
          "text": [
            "\u001b[1m6/6\u001b[0m \u001b[32m━━━━━━━━━━━━━━━━━━━━\u001b[0m\u001b[37m\u001b[0m \u001b[1m0s\u001b[0m 19ms/step\n"
          ]
        },
        {
          "name": "stderr",
          "output_type": "stream",
          "text": [
            "/opt/anaconda3/lib/python3.11/site-packages/keras/src/layers/rnn/rnn.py:204: UserWarning: Do not pass an `input_shape`/`input_dim` argument to a layer. When using Sequential models, prefer using an `Input(shape)` object as the first layer in the model instead.\n",
            "  super().__init__(**kwargs)\n"
          ]
        },
        {
          "name": "stdout",
          "output_type": "stream",
          "text": [
            "\u001b[1m6/6\u001b[0m \u001b[32m━━━━━━━━━━━━━━━━━━━━\u001b[0m\u001b[37m\u001b[0m \u001b[1m0s\u001b[0m 18ms/step\n"
          ]
        },
        {
          "name": "stderr",
          "output_type": "stream",
          "text": [
            "/opt/anaconda3/lib/python3.11/site-packages/keras/src/layers/rnn/rnn.py:204: UserWarning: Do not pass an `input_shape`/`input_dim` argument to a layer. When using Sequential models, prefer using an `Input(shape)` object as the first layer in the model instead.\n",
            "  super().__init__(**kwargs)\n"
          ]
        },
        {
          "name": "stdout",
          "output_type": "stream",
          "text": [
            "\u001b[1m6/6\u001b[0m \u001b[32m━━━━━━━━━━━━━━━━━━━━\u001b[0m\u001b[37m\u001b[0m \u001b[1m0s\u001b[0m 19ms/step\n"
          ]
        },
        {
          "name": "stderr",
          "output_type": "stream",
          "text": [
            "/opt/anaconda3/lib/python3.11/site-packages/keras/src/layers/rnn/rnn.py:204: UserWarning: Do not pass an `input_shape`/`input_dim` argument to a layer. When using Sequential models, prefer using an `Input(shape)` object as the first layer in the model instead.\n",
            "  super().__init__(**kwargs)\n"
          ]
        },
        {
          "name": "stdout",
          "output_type": "stream",
          "text": [
            "\u001b[1m6/6\u001b[0m \u001b[32m━━━━━━━━━━━━━━━━━━━━\u001b[0m\u001b[37m\u001b[0m \u001b[1m0s\u001b[0m 19ms/step\n"
          ]
        },
        {
          "name": "stderr",
          "output_type": "stream",
          "text": [
            "/opt/anaconda3/lib/python3.11/site-packages/keras/src/layers/rnn/rnn.py:204: UserWarning: Do not pass an `input_shape`/`input_dim` argument to a layer. When using Sequential models, prefer using an `Input(shape)` object as the first layer in the model instead.\n",
            "  super().__init__(**kwargs)\n"
          ]
        },
        {
          "name": "stdout",
          "output_type": "stream",
          "text": [
            "\u001b[1m6/6\u001b[0m \u001b[32m━━━━━━━━━━━━━━━━━━━━\u001b[0m\u001b[37m\u001b[0m \u001b[1m0s\u001b[0m 18ms/step\n"
          ]
        },
        {
          "name": "stderr",
          "output_type": "stream",
          "text": [
            "/opt/anaconda3/lib/python3.11/site-packages/keras/src/layers/rnn/rnn.py:204: UserWarning: Do not pass an `input_shape`/`input_dim` argument to a layer. When using Sequential models, prefer using an `Input(shape)` object as the first layer in the model instead.\n",
            "  super().__init__(**kwargs)\n"
          ]
        },
        {
          "name": "stdout",
          "output_type": "stream",
          "text": [
            "\u001b[1m6/6\u001b[0m \u001b[32m━━━━━━━━━━━━━━━━━━━━\u001b[0m\u001b[37m\u001b[0m \u001b[1m0s\u001b[0m 19ms/step\n"
          ]
        },
        {
          "name": "stderr",
          "output_type": "stream",
          "text": [
            "/opt/anaconda3/lib/python3.11/site-packages/keras/src/layers/rnn/rnn.py:204: UserWarning: Do not pass an `input_shape`/`input_dim` argument to a layer. When using Sequential models, prefer using an `Input(shape)` object as the first layer in the model instead.\n",
            "  super().__init__(**kwargs)\n"
          ]
        },
        {
          "name": "stdout",
          "output_type": "stream",
          "text": [
            "\u001b[1m6/6\u001b[0m \u001b[32m━━━━━━━━━━━━━━━━━━━━\u001b[0m\u001b[37m\u001b[0m \u001b[1m0s\u001b[0m 18ms/step\n"
          ]
        },
        {
          "name": "stderr",
          "output_type": "stream",
          "text": [
            "/opt/anaconda3/lib/python3.11/site-packages/keras/src/layers/rnn/rnn.py:204: UserWarning: Do not pass an `input_shape`/`input_dim` argument to a layer. When using Sequential models, prefer using an `Input(shape)` object as the first layer in the model instead.\n",
            "  super().__init__(**kwargs)\n"
          ]
        },
        {
          "name": "stdout",
          "output_type": "stream",
          "text": [
            "\u001b[1m6/6\u001b[0m \u001b[32m━━━━━━━━━━━━━━━━━━━━\u001b[0m\u001b[37m\u001b[0m \u001b[1m0s\u001b[0m 18ms/step\n"
          ]
        },
        {
          "name": "stderr",
          "output_type": "stream",
          "text": [
            "/opt/anaconda3/lib/python3.11/site-packages/keras/src/layers/rnn/rnn.py:204: UserWarning: Do not pass an `input_shape`/`input_dim` argument to a layer. When using Sequential models, prefer using an `Input(shape)` object as the first layer in the model instead.\n",
            "  super().__init__(**kwargs)\n"
          ]
        },
        {
          "name": "stdout",
          "output_type": "stream",
          "text": [
            "\u001b[1m6/6\u001b[0m \u001b[32m━━━━━━━━━━━━━━━━━━━━\u001b[0m\u001b[37m\u001b[0m \u001b[1m0s\u001b[0m 18ms/step\n"
          ]
        },
        {
          "name": "stderr",
          "output_type": "stream",
          "text": [
            "/opt/anaconda3/lib/python3.11/site-packages/keras/src/layers/rnn/rnn.py:204: UserWarning: Do not pass an `input_shape`/`input_dim` argument to a layer. When using Sequential models, prefer using an `Input(shape)` object as the first layer in the model instead.\n",
            "  super().__init__(**kwargs)\n"
          ]
        },
        {
          "name": "stdout",
          "output_type": "stream",
          "text": [
            "\u001b[1m6/6\u001b[0m \u001b[32m━━━━━━━━━━━━━━━━━━━━\u001b[0m\u001b[37m\u001b[0m \u001b[1m0s\u001b[0m 21ms/step\n"
          ]
        },
        {
          "name": "stderr",
          "output_type": "stream",
          "text": [
            "/opt/anaconda3/lib/python3.11/site-packages/keras/src/layers/rnn/rnn.py:204: UserWarning: Do not pass an `input_shape`/`input_dim` argument to a layer. When using Sequential models, prefer using an `Input(shape)` object as the first layer in the model instead.\n",
            "  super().__init__(**kwargs)\n"
          ]
        },
        {
          "name": "stdout",
          "output_type": "stream",
          "text": [
            "\u001b[1m6/6\u001b[0m \u001b[32m━━━━━━━━━━━━━━━━━━━━\u001b[0m\u001b[37m\u001b[0m \u001b[1m0s\u001b[0m 22ms/step\n"
          ]
        },
        {
          "name": "stderr",
          "output_type": "stream",
          "text": [
            "/opt/anaconda3/lib/python3.11/site-packages/keras/src/layers/rnn/rnn.py:204: UserWarning: Do not pass an `input_shape`/`input_dim` argument to a layer. When using Sequential models, prefer using an `Input(shape)` object as the first layer in the model instead.\n",
            "  super().__init__(**kwargs)\n"
          ]
        },
        {
          "name": "stdout",
          "output_type": "stream",
          "text": [
            "\u001b[1m6/6\u001b[0m \u001b[32m━━━━━━━━━━━━━━━━━━━━\u001b[0m\u001b[37m\u001b[0m \u001b[1m0s\u001b[0m 40ms/step\n"
          ]
        },
        {
          "name": "stderr",
          "output_type": "stream",
          "text": [
            "/opt/anaconda3/lib/python3.11/site-packages/keras/src/layers/rnn/rnn.py:204: UserWarning: Do not pass an `input_shape`/`input_dim` argument to a layer. When using Sequential models, prefer using an `Input(shape)` object as the first layer in the model instead.\n",
            "  super().__init__(**kwargs)\n"
          ]
        },
        {
          "name": "stdout",
          "output_type": "stream",
          "text": [
            "\u001b[1m6/6\u001b[0m \u001b[32m━━━━━━━━━━━━━━━━━━━━\u001b[0m\u001b[37m\u001b[0m \u001b[1m0s\u001b[0m 18ms/step\n"
          ]
        },
        {
          "name": "stderr",
          "output_type": "stream",
          "text": [
            "/opt/anaconda3/lib/python3.11/site-packages/keras/src/layers/rnn/rnn.py:204: UserWarning: Do not pass an `input_shape`/`input_dim` argument to a layer. When using Sequential models, prefer using an `Input(shape)` object as the first layer in the model instead.\n",
            "  super().__init__(**kwargs)\n"
          ]
        },
        {
          "name": "stdout",
          "output_type": "stream",
          "text": [
            "\u001b[1m6/6\u001b[0m \u001b[32m━━━━━━━━━━━━━━━━━━━━\u001b[0m\u001b[37m\u001b[0m \u001b[1m0s\u001b[0m 18ms/step\n"
          ]
        },
        {
          "name": "stderr",
          "output_type": "stream",
          "text": [
            "/opt/anaconda3/lib/python3.11/site-packages/keras/src/layers/rnn/rnn.py:204: UserWarning: Do not pass an `input_shape`/`input_dim` argument to a layer. When using Sequential models, prefer using an `Input(shape)` object as the first layer in the model instead.\n",
            "  super().__init__(**kwargs)\n"
          ]
        },
        {
          "name": "stdout",
          "output_type": "stream",
          "text": [
            "\u001b[1m6/6\u001b[0m \u001b[32m━━━━━━━━━━━━━━━━━━━━\u001b[0m\u001b[37m\u001b[0m \u001b[1m0s\u001b[0m 19ms/step\n"
          ]
        },
        {
          "name": "stderr",
          "output_type": "stream",
          "text": [
            "/opt/anaconda3/lib/python3.11/site-packages/keras/src/layers/rnn/rnn.py:204: UserWarning: Do not pass an `input_shape`/`input_dim` argument to a layer. When using Sequential models, prefer using an `Input(shape)` object as the first layer in the model instead.\n",
            "  super().__init__(**kwargs)\n"
          ]
        },
        {
          "name": "stdout",
          "output_type": "stream",
          "text": [
            "\u001b[1m6/6\u001b[0m \u001b[32m━━━━━━━━━━━━━━━━━━━━\u001b[0m\u001b[37m\u001b[0m \u001b[1m0s\u001b[0m 20ms/step\n"
          ]
        },
        {
          "name": "stderr",
          "output_type": "stream",
          "text": [
            "/opt/anaconda3/lib/python3.11/site-packages/keras/src/layers/rnn/rnn.py:204: UserWarning: Do not pass an `input_shape`/`input_dim` argument to a layer. When using Sequential models, prefer using an `Input(shape)` object as the first layer in the model instead.\n",
            "  super().__init__(**kwargs)\n"
          ]
        },
        {
          "name": "stdout",
          "output_type": "stream",
          "text": [
            "\u001b[1m6/6\u001b[0m \u001b[32m━━━━━━━━━━━━━━━━━━━━\u001b[0m\u001b[37m\u001b[0m \u001b[1m0s\u001b[0m 19ms/step\n"
          ]
        },
        {
          "name": "stderr",
          "output_type": "stream",
          "text": [
            "/opt/anaconda3/lib/python3.11/site-packages/keras/src/layers/rnn/rnn.py:204: UserWarning: Do not pass an `input_shape`/`input_dim` argument to a layer. When using Sequential models, prefer using an `Input(shape)` object as the first layer in the model instead.\n",
            "  super().__init__(**kwargs)\n"
          ]
        },
        {
          "name": "stdout",
          "output_type": "stream",
          "text": [
            "\u001b[1m6/6\u001b[0m \u001b[32m━━━━━━━━━━━━━━━━━━━━\u001b[0m\u001b[37m\u001b[0m \u001b[1m0s\u001b[0m 20ms/step\n"
          ]
        },
        {
          "name": "stderr",
          "output_type": "stream",
          "text": [
            "/opt/anaconda3/lib/python3.11/site-packages/keras/src/layers/rnn/rnn.py:204: UserWarning: Do not pass an `input_shape`/`input_dim` argument to a layer. When using Sequential models, prefer using an `Input(shape)` object as the first layer in the model instead.\n",
            "  super().__init__(**kwargs)\n"
          ]
        },
        {
          "name": "stdout",
          "output_type": "stream",
          "text": [
            "\u001b[1m6/6\u001b[0m \u001b[32m━━━━━━━━━━━━━━━━━━━━\u001b[0m\u001b[37m\u001b[0m \u001b[1m0s\u001b[0m 19ms/step\n"
          ]
        },
        {
          "name": "stderr",
          "output_type": "stream",
          "text": [
            "/opt/anaconda3/lib/python3.11/site-packages/keras/src/layers/rnn/rnn.py:204: UserWarning: Do not pass an `input_shape`/`input_dim` argument to a layer. When using Sequential models, prefer using an `Input(shape)` object as the first layer in the model instead.\n",
            "  super().__init__(**kwargs)\n"
          ]
        },
        {
          "name": "stdout",
          "output_type": "stream",
          "text": [
            "\u001b[1m6/6\u001b[0m \u001b[32m━━━━━━━━━━━━━━━━━━━━\u001b[0m\u001b[37m\u001b[0m \u001b[1m0s\u001b[0m 19ms/step\n"
          ]
        },
        {
          "name": "stderr",
          "output_type": "stream",
          "text": [
            "/opt/anaconda3/lib/python3.11/site-packages/keras/src/layers/rnn/rnn.py:204: UserWarning: Do not pass an `input_shape`/`input_dim` argument to a layer. When using Sequential models, prefer using an `Input(shape)` object as the first layer in the model instead.\n",
            "  super().__init__(**kwargs)\n"
          ]
        },
        {
          "name": "stdout",
          "output_type": "stream",
          "text": [
            "\u001b[1m6/6\u001b[0m \u001b[32m━━━━━━━━━━━━━━━━━━━━\u001b[0m\u001b[37m\u001b[0m \u001b[1m0s\u001b[0m 22ms/step\n"
          ]
        },
        {
          "name": "stderr",
          "output_type": "stream",
          "text": [
            "/opt/anaconda3/lib/python3.11/site-packages/keras/src/layers/rnn/rnn.py:204: UserWarning: Do not pass an `input_shape`/`input_dim` argument to a layer. When using Sequential models, prefer using an `Input(shape)` object as the first layer in the model instead.\n",
            "  super().__init__(**kwargs)\n"
          ]
        },
        {
          "name": "stdout",
          "output_type": "stream",
          "text": [
            "\u001b[1m6/6\u001b[0m \u001b[32m━━━━━━━━━━━━━━━━━━━━\u001b[0m\u001b[37m\u001b[0m \u001b[1m0s\u001b[0m 38ms/step\n"
          ]
        },
        {
          "name": "stderr",
          "output_type": "stream",
          "text": [
            "/opt/anaconda3/lib/python3.11/site-packages/keras/src/layers/rnn/rnn.py:204: UserWarning: Do not pass an `input_shape`/`input_dim` argument to a layer. When using Sequential models, prefer using an `Input(shape)` object as the first layer in the model instead.\n",
            "  super().__init__(**kwargs)\n"
          ]
        },
        {
          "name": "stdout",
          "output_type": "stream",
          "text": [
            "\u001b[1m6/6\u001b[0m \u001b[32m━━━━━━━━━━━━━━━━━━━━\u001b[0m\u001b[37m\u001b[0m \u001b[1m1s\u001b[0m 63ms/step\n"
          ]
        },
        {
          "name": "stderr",
          "output_type": "stream",
          "text": [
            "/opt/anaconda3/lib/python3.11/site-packages/keras/src/layers/rnn/rnn.py:204: UserWarning: Do not pass an `input_shape`/`input_dim` argument to a layer. When using Sequential models, prefer using an `Input(shape)` object as the first layer in the model instead.\n",
            "  super().__init__(**kwargs)\n"
          ]
        },
        {
          "name": "stdout",
          "output_type": "stream",
          "text": [
            "\u001b[1m6/6\u001b[0m \u001b[32m━━━━━━━━━━━━━━━━━━━━\u001b[0m\u001b[37m\u001b[0m \u001b[1m0s\u001b[0m 31ms/step\n"
          ]
        },
        {
          "name": "stderr",
          "output_type": "stream",
          "text": [
            "/opt/anaconda3/lib/python3.11/site-packages/keras/src/layers/rnn/rnn.py:204: UserWarning: Do not pass an `input_shape`/`input_dim` argument to a layer. When using Sequential models, prefer using an `Input(shape)` object as the first layer in the model instead.\n",
            "  super().__init__(**kwargs)\n"
          ]
        },
        {
          "name": "stdout",
          "output_type": "stream",
          "text": [
            "\u001b[1m6/6\u001b[0m \u001b[32m━━━━━━━━━━━━━━━━━━━━\u001b[0m\u001b[37m\u001b[0m \u001b[1m0s\u001b[0m 20ms/step\n"
          ]
        },
        {
          "name": "stderr",
          "output_type": "stream",
          "text": [
            "/opt/anaconda3/lib/python3.11/site-packages/keras/src/layers/rnn/rnn.py:204: UserWarning: Do not pass an `input_shape`/`input_dim` argument to a layer. When using Sequential models, prefer using an `Input(shape)` object as the first layer in the model instead.\n",
            "  super().__init__(**kwargs)\n"
          ]
        },
        {
          "name": "stdout",
          "output_type": "stream",
          "text": [
            "\u001b[1m6/6\u001b[0m \u001b[32m━━━━━━━━━━━━━━━━━━━━\u001b[0m\u001b[37m\u001b[0m \u001b[1m0s\u001b[0m 49ms/step\n"
          ]
        },
        {
          "name": "stderr",
          "output_type": "stream",
          "text": [
            "/opt/anaconda3/lib/python3.11/site-packages/keras/src/layers/rnn/rnn.py:204: UserWarning: Do not pass an `input_shape`/`input_dim` argument to a layer. When using Sequential models, prefer using an `Input(shape)` object as the first layer in the model instead.\n",
            "  super().__init__(**kwargs)\n"
          ]
        },
        {
          "name": "stdout",
          "output_type": "stream",
          "text": [
            "\u001b[1m6/6\u001b[0m \u001b[32m━━━━━━━━━━━━━━━━━━━━\u001b[0m\u001b[37m\u001b[0m \u001b[1m0s\u001b[0m 21ms/step\n"
          ]
        },
        {
          "name": "stderr",
          "output_type": "stream",
          "text": [
            "/opt/anaconda3/lib/python3.11/site-packages/keras/src/layers/rnn/rnn.py:204: UserWarning: Do not pass an `input_shape`/`input_dim` argument to a layer. When using Sequential models, prefer using an `Input(shape)` object as the first layer in the model instead.\n",
            "  super().__init__(**kwargs)\n"
          ]
        },
        {
          "name": "stdout",
          "output_type": "stream",
          "text": [
            "\u001b[1m6/6\u001b[0m \u001b[32m━━━━━━━━━━━━━━━━━━━━\u001b[0m\u001b[37m\u001b[0m \u001b[1m1s\u001b[0m 42ms/step\n"
          ]
        },
        {
          "name": "stderr",
          "output_type": "stream",
          "text": [
            "/opt/anaconda3/lib/python3.11/site-packages/keras/src/layers/rnn/rnn.py:204: UserWarning: Do not pass an `input_shape`/`input_dim` argument to a layer. When using Sequential models, prefer using an `Input(shape)` object as the first layer in the model instead.\n",
            "  super().__init__(**kwargs)\n"
          ]
        },
        {
          "name": "stdout",
          "output_type": "stream",
          "text": [
            "\u001b[1m6/6\u001b[0m \u001b[32m━━━━━━━━━━━━━━━━━━━━\u001b[0m\u001b[37m\u001b[0m \u001b[1m0s\u001b[0m 22ms/step\n"
          ]
        },
        {
          "name": "stderr",
          "output_type": "stream",
          "text": [
            "/opt/anaconda3/lib/python3.11/site-packages/keras/src/layers/rnn/rnn.py:204: UserWarning: Do not pass an `input_shape`/`input_dim` argument to a layer. When using Sequential models, prefer using an `Input(shape)` object as the first layer in the model instead.\n",
            "  super().__init__(**kwargs)\n"
          ]
        },
        {
          "name": "stdout",
          "output_type": "stream",
          "text": [
            "\u001b[1m6/6\u001b[0m \u001b[32m━━━━━━━━━━━━━━━━━━━━\u001b[0m\u001b[37m\u001b[0m \u001b[1m0s\u001b[0m 20ms/step\n"
          ]
        },
        {
          "name": "stderr",
          "output_type": "stream",
          "text": [
            "/opt/anaconda3/lib/python3.11/site-packages/keras/src/layers/rnn/rnn.py:204: UserWarning: Do not pass an `input_shape`/`input_dim` argument to a layer. When using Sequential models, prefer using an `Input(shape)` object as the first layer in the model instead.\n",
            "  super().__init__(**kwargs)\n"
          ]
        },
        {
          "name": "stdout",
          "output_type": "stream",
          "text": [
            "\u001b[1m6/6\u001b[0m \u001b[32m━━━━━━━━━━━━━━━━━━━━\u001b[0m\u001b[37m\u001b[0m \u001b[1m0s\u001b[0m 39ms/step\n"
          ]
        },
        {
          "name": "stderr",
          "output_type": "stream",
          "text": [
            "/opt/anaconda3/lib/python3.11/site-packages/keras/src/layers/rnn/rnn.py:204: UserWarning: Do not pass an `input_shape`/`input_dim` argument to a layer. When using Sequential models, prefer using an `Input(shape)` object as the first layer in the model instead.\n",
            "  super().__init__(**kwargs)\n"
          ]
        },
        {
          "name": "stdout",
          "output_type": "stream",
          "text": [
            "\u001b[1m6/6\u001b[0m \u001b[32m━━━━━━━━━━━━━━━━━━━━\u001b[0m\u001b[37m\u001b[0m \u001b[1m0s\u001b[0m 19ms/step\n"
          ]
        },
        {
          "name": "stderr",
          "output_type": "stream",
          "text": [
            "/opt/anaconda3/lib/python3.11/site-packages/keras/src/layers/rnn/rnn.py:204: UserWarning: Do not pass an `input_shape`/`input_dim` argument to a layer. When using Sequential models, prefer using an `Input(shape)` object as the first layer in the model instead.\n",
            "  super().__init__(**kwargs)\n"
          ]
        },
        {
          "name": "stdout",
          "output_type": "stream",
          "text": [
            "\u001b[1m6/6\u001b[0m \u001b[32m━━━━━━━━━━━━━━━━━━━━\u001b[0m\u001b[37m\u001b[0m \u001b[1m0s\u001b[0m 19ms/step\n"
          ]
        },
        {
          "name": "stderr",
          "output_type": "stream",
          "text": [
            "/opt/anaconda3/lib/python3.11/site-packages/keras/src/layers/rnn/rnn.py:204: UserWarning: Do not pass an `input_shape`/`input_dim` argument to a layer. When using Sequential models, prefer using an `Input(shape)` object as the first layer in the model instead.\n",
            "  super().__init__(**kwargs)\n"
          ]
        },
        {
          "name": "stdout",
          "output_type": "stream",
          "text": [
            "\u001b[1m6/6\u001b[0m \u001b[32m━━━━━━━━━━━━━━━━━━━━\u001b[0m\u001b[37m\u001b[0m \u001b[1m0s\u001b[0m 19ms/step\n"
          ]
        },
        {
          "name": "stderr",
          "output_type": "stream",
          "text": [
            "/opt/anaconda3/lib/python3.11/site-packages/keras/src/layers/rnn/rnn.py:204: UserWarning: Do not pass an `input_shape`/`input_dim` argument to a layer. When using Sequential models, prefer using an `Input(shape)` object as the first layer in the model instead.\n",
            "  super().__init__(**kwargs)\n"
          ]
        },
        {
          "name": "stdout",
          "output_type": "stream",
          "text": [
            "\u001b[1m6/6\u001b[0m \u001b[32m━━━━━━━━━━━━━━━━━━━━\u001b[0m\u001b[37m\u001b[0m \u001b[1m0s\u001b[0m 19ms/step\n"
          ]
        },
        {
          "name": "stderr",
          "output_type": "stream",
          "text": [
            "/opt/anaconda3/lib/python3.11/site-packages/keras/src/layers/rnn/rnn.py:204: UserWarning: Do not pass an `input_shape`/`input_dim` argument to a layer. When using Sequential models, prefer using an `Input(shape)` object as the first layer in the model instead.\n",
            "  super().__init__(**kwargs)\n"
          ]
        },
        {
          "name": "stdout",
          "output_type": "stream",
          "text": [
            "\u001b[1m6/6\u001b[0m \u001b[32m━━━━━━━━━━━━━━━━━━━━\u001b[0m\u001b[37m\u001b[0m \u001b[1m0s\u001b[0m 19ms/step\n"
          ]
        },
        {
          "name": "stderr",
          "output_type": "stream",
          "text": [
            "/opt/anaconda3/lib/python3.11/site-packages/keras/src/layers/rnn/rnn.py:204: UserWarning: Do not pass an `input_shape`/`input_dim` argument to a layer. When using Sequential models, prefer using an `Input(shape)` object as the first layer in the model instead.\n",
            "  super().__init__(**kwargs)\n"
          ]
        },
        {
          "name": "stdout",
          "output_type": "stream",
          "text": [
            "\u001b[1m6/6\u001b[0m \u001b[32m━━━━━━━━━━━━━━━━━━━━\u001b[0m\u001b[37m\u001b[0m \u001b[1m0s\u001b[0m 22ms/step\n"
          ]
        },
        {
          "name": "stderr",
          "output_type": "stream",
          "text": [
            "/opt/anaconda3/lib/python3.11/site-packages/keras/src/layers/rnn/rnn.py:204: UserWarning: Do not pass an `input_shape`/`input_dim` argument to a layer. When using Sequential models, prefer using an `Input(shape)` object as the first layer in the model instead.\n",
            "  super().__init__(**kwargs)\n"
          ]
        },
        {
          "name": "stdout",
          "output_type": "stream",
          "text": [
            "\u001b[1m6/6\u001b[0m \u001b[32m━━━━━━━━━━━━━━━━━━━━\u001b[0m\u001b[37m\u001b[0m \u001b[1m0s\u001b[0m 20ms/step\n"
          ]
        },
        {
          "name": "stderr",
          "output_type": "stream",
          "text": [
            "/opt/anaconda3/lib/python3.11/site-packages/keras/src/layers/rnn/rnn.py:204: UserWarning: Do not pass an `input_shape`/`input_dim` argument to a layer. When using Sequential models, prefer using an `Input(shape)` object as the first layer in the model instead.\n",
            "  super().__init__(**kwargs)\n"
          ]
        },
        {
          "name": "stdout",
          "output_type": "stream",
          "text": [
            "\u001b[1m6/6\u001b[0m \u001b[32m━━━━━━━━━━━━━━━━━━━━\u001b[0m\u001b[37m\u001b[0m \u001b[1m0s\u001b[0m 19ms/step\n"
          ]
        },
        {
          "name": "stderr",
          "output_type": "stream",
          "text": [
            "/opt/anaconda3/lib/python3.11/site-packages/keras/src/layers/rnn/rnn.py:204: UserWarning: Do not pass an `input_shape`/`input_dim` argument to a layer. When using Sequential models, prefer using an `Input(shape)` object as the first layer in the model instead.\n",
            "  super().__init__(**kwargs)\n"
          ]
        },
        {
          "name": "stdout",
          "output_type": "stream",
          "text": [
            "\u001b[1m6/6\u001b[0m \u001b[32m━━━━━━━━━━━━━━━━━━━━\u001b[0m\u001b[37m\u001b[0m \u001b[1m0s\u001b[0m 20ms/step\n"
          ]
        },
        {
          "name": "stderr",
          "output_type": "stream",
          "text": [
            "/opt/anaconda3/lib/python3.11/site-packages/keras/src/layers/rnn/rnn.py:204: UserWarning: Do not pass an `input_shape`/`input_dim` argument to a layer. When using Sequential models, prefer using an `Input(shape)` object as the first layer in the model instead.\n",
            "  super().__init__(**kwargs)\n"
          ]
        },
        {
          "name": "stdout",
          "output_type": "stream",
          "text": [
            "\u001b[1m6/6\u001b[0m \u001b[32m━━━━━━━━━━━━━━━━━━━━\u001b[0m\u001b[37m\u001b[0m \u001b[1m0s\u001b[0m 23ms/step\n"
          ]
        },
        {
          "name": "stderr",
          "output_type": "stream",
          "text": [
            "/opt/anaconda3/lib/python3.11/site-packages/keras/src/layers/rnn/rnn.py:204: UserWarning: Do not pass an `input_shape`/`input_dim` argument to a layer. When using Sequential models, prefer using an `Input(shape)` object as the first layer in the model instead.\n",
            "  super().__init__(**kwargs)\n"
          ]
        },
        {
          "name": "stdout",
          "output_type": "stream",
          "text": [
            "\u001b[1m6/6\u001b[0m \u001b[32m━━━━━━━━━━━━━━━━━━━━\u001b[0m\u001b[37m\u001b[0m \u001b[1m0s\u001b[0m 19ms/step\n"
          ]
        },
        {
          "name": "stderr",
          "output_type": "stream",
          "text": [
            "/opt/anaconda3/lib/python3.11/site-packages/keras/src/layers/rnn/rnn.py:204: UserWarning: Do not pass an `input_shape`/`input_dim` argument to a layer. When using Sequential models, prefer using an `Input(shape)` object as the first layer in the model instead.\n",
            "  super().__init__(**kwargs)\n"
          ]
        },
        {
          "name": "stdout",
          "output_type": "stream",
          "text": [
            "\u001b[1m6/6\u001b[0m \u001b[32m━━━━━━━━━━━━━━━━━━━━\u001b[0m\u001b[37m\u001b[0m \u001b[1m0s\u001b[0m 19ms/step\n"
          ]
        },
        {
          "name": "stderr",
          "output_type": "stream",
          "text": [
            "/opt/anaconda3/lib/python3.11/site-packages/keras/src/layers/rnn/rnn.py:204: UserWarning: Do not pass an `input_shape`/`input_dim` argument to a layer. When using Sequential models, prefer using an `Input(shape)` object as the first layer in the model instead.\n",
            "  super().__init__(**kwargs)\n"
          ]
        },
        {
          "name": "stdout",
          "output_type": "stream",
          "text": [
            "\u001b[1m6/6\u001b[0m \u001b[32m━━━━━━━━━━━━━━━━━━━━\u001b[0m\u001b[37m\u001b[0m \u001b[1m0s\u001b[0m 19ms/step\n"
          ]
        },
        {
          "name": "stderr",
          "output_type": "stream",
          "text": [
            "/opt/anaconda3/lib/python3.11/site-packages/keras/src/layers/rnn/rnn.py:204: UserWarning: Do not pass an `input_shape`/`input_dim` argument to a layer. When using Sequential models, prefer using an `Input(shape)` object as the first layer in the model instead.\n",
            "  super().__init__(**kwargs)\n"
          ]
        },
        {
          "name": "stdout",
          "output_type": "stream",
          "text": [
            "\u001b[1m6/6\u001b[0m \u001b[32m━━━━━━━━━━━━━━━━━━━━\u001b[0m\u001b[37m\u001b[0m \u001b[1m0s\u001b[0m 22ms/step\n"
          ]
        },
        {
          "name": "stderr",
          "output_type": "stream",
          "text": [
            "/opt/anaconda3/lib/python3.11/site-packages/keras/src/layers/rnn/rnn.py:204: UserWarning: Do not pass an `input_shape`/`input_dim` argument to a layer. When using Sequential models, prefer using an `Input(shape)` object as the first layer in the model instead.\n",
            "  super().__init__(**kwargs)\n"
          ]
        },
        {
          "name": "stdout",
          "output_type": "stream",
          "text": [
            "\u001b[1m6/6\u001b[0m \u001b[32m━━━━━━━━━━━━━━━━━━━━\u001b[0m\u001b[37m\u001b[0m \u001b[1m0s\u001b[0m 33ms/step\n"
          ]
        },
        {
          "name": "stderr",
          "output_type": "stream",
          "text": [
            "/opt/anaconda3/lib/python3.11/site-packages/keras/src/layers/rnn/rnn.py:204: UserWarning: Do not pass an `input_shape`/`input_dim` argument to a layer. When using Sequential models, prefer using an `Input(shape)` object as the first layer in the model instead.\n",
            "  super().__init__(**kwargs)\n"
          ]
        },
        {
          "name": "stdout",
          "output_type": "stream",
          "text": [
            "\u001b[1m6/6\u001b[0m \u001b[32m━━━━━━━━━━━━━━━━━━━━\u001b[0m\u001b[37m\u001b[0m \u001b[1m0s\u001b[0m 19ms/step\n"
          ]
        },
        {
          "name": "stderr",
          "output_type": "stream",
          "text": [
            "/opt/anaconda3/lib/python3.11/site-packages/keras/src/layers/rnn/rnn.py:204: UserWarning: Do not pass an `input_shape`/`input_dim` argument to a layer. When using Sequential models, prefer using an `Input(shape)` object as the first layer in the model instead.\n",
            "  super().__init__(**kwargs)\n"
          ]
        },
        {
          "name": "stdout",
          "output_type": "stream",
          "text": [
            "\u001b[1m6/6\u001b[0m \u001b[32m━━━━━━━━━━━━━━━━━━━━\u001b[0m\u001b[37m\u001b[0m \u001b[1m0s\u001b[0m 19ms/step\n"
          ]
        },
        {
          "name": "stderr",
          "output_type": "stream",
          "text": [
            "/opt/anaconda3/lib/python3.11/site-packages/keras/src/layers/rnn/rnn.py:204: UserWarning: Do not pass an `input_shape`/`input_dim` argument to a layer. When using Sequential models, prefer using an `Input(shape)` object as the first layer in the model instead.\n",
            "  super().__init__(**kwargs)\n"
          ]
        },
        {
          "name": "stdout",
          "output_type": "stream",
          "text": [
            "\u001b[1m6/6\u001b[0m \u001b[32m━━━━━━━━━━━━━━━━━━━━\u001b[0m\u001b[37m\u001b[0m \u001b[1m0s\u001b[0m 19ms/step\n"
          ]
        },
        {
          "name": "stderr",
          "output_type": "stream",
          "text": [
            "/opt/anaconda3/lib/python3.11/site-packages/keras/src/layers/rnn/rnn.py:204: UserWarning: Do not pass an `input_shape`/`input_dim` argument to a layer. When using Sequential models, prefer using an `Input(shape)` object as the first layer in the model instead.\n",
            "  super().__init__(**kwargs)\n"
          ]
        },
        {
          "name": "stdout",
          "output_type": "stream",
          "text": [
            "\u001b[1m6/6\u001b[0m \u001b[32m━━━━━━━━━━━━━━━━━━━━\u001b[0m\u001b[37m\u001b[0m \u001b[1m0s\u001b[0m 19ms/step\n"
          ]
        },
        {
          "name": "stderr",
          "output_type": "stream",
          "text": [
            "/opt/anaconda3/lib/python3.11/site-packages/keras/src/layers/rnn/rnn.py:204: UserWarning: Do not pass an `input_shape`/`input_dim` argument to a layer. When using Sequential models, prefer using an `Input(shape)` object as the first layer in the model instead.\n",
            "  super().__init__(**kwargs)\n"
          ]
        },
        {
          "name": "stdout",
          "output_type": "stream",
          "text": [
            "\u001b[1m6/6\u001b[0m \u001b[32m━━━━━━━━━━━━━━━━━━━━\u001b[0m\u001b[37m\u001b[0m \u001b[1m0s\u001b[0m 18ms/step\n"
          ]
        },
        {
          "name": "stderr",
          "output_type": "stream",
          "text": [
            "/opt/anaconda3/lib/python3.11/site-packages/keras/src/layers/rnn/rnn.py:204: UserWarning: Do not pass an `input_shape`/`input_dim` argument to a layer. When using Sequential models, prefer using an `Input(shape)` object as the first layer in the model instead.\n",
            "  super().__init__(**kwargs)\n"
          ]
        },
        {
          "name": "stdout",
          "output_type": "stream",
          "text": [
            "\u001b[1m6/6\u001b[0m \u001b[32m━━━━━━━━━━━━━━━━━━━━\u001b[0m\u001b[37m\u001b[0m \u001b[1m0s\u001b[0m 22ms/step\n"
          ]
        },
        {
          "name": "stderr",
          "output_type": "stream",
          "text": [
            "/opt/anaconda3/lib/python3.11/site-packages/keras/src/layers/rnn/rnn.py:204: UserWarning: Do not pass an `input_shape`/`input_dim` argument to a layer. When using Sequential models, prefer using an `Input(shape)` object as the first layer in the model instead.\n",
            "  super().__init__(**kwargs)\n"
          ]
        },
        {
          "name": "stdout",
          "output_type": "stream",
          "text": [
            "\u001b[1m6/6\u001b[0m \u001b[32m━━━━━━━━━━━━━━━━━━━━\u001b[0m\u001b[37m\u001b[0m \u001b[1m0s\u001b[0m 19ms/step\n"
          ]
        },
        {
          "name": "stderr",
          "output_type": "stream",
          "text": [
            "/opt/anaconda3/lib/python3.11/site-packages/keras/src/layers/rnn/rnn.py:204: UserWarning: Do not pass an `input_shape`/`input_dim` argument to a layer. When using Sequential models, prefer using an `Input(shape)` object as the first layer in the model instead.\n",
            "  super().__init__(**kwargs)\n"
          ]
        },
        {
          "name": "stdout",
          "output_type": "stream",
          "text": [
            "\u001b[1m6/6\u001b[0m \u001b[32m━━━━━━━━━━━━━━━━━━━━\u001b[0m\u001b[37m\u001b[0m \u001b[1m1s\u001b[0m 218ms/step\n"
          ]
        },
        {
          "name": "stderr",
          "output_type": "stream",
          "text": [
            "/opt/anaconda3/lib/python3.11/site-packages/keras/src/layers/rnn/rnn.py:204: UserWarning: Do not pass an `input_shape`/`input_dim` argument to a layer. When using Sequential models, prefer using an `Input(shape)` object as the first layer in the model instead.\n",
            "  super().__init__(**kwargs)\n"
          ]
        },
        {
          "name": "stdout",
          "output_type": "stream",
          "text": [
            "\u001b[1m6/6\u001b[0m \u001b[32m━━━━━━━━━━━━━━━━━━━━\u001b[0m\u001b[37m\u001b[0m \u001b[1m0s\u001b[0m 19ms/step\n"
          ]
        },
        {
          "name": "stderr",
          "output_type": "stream",
          "text": [
            "/opt/anaconda3/lib/python3.11/site-packages/keras/src/layers/rnn/rnn.py:204: UserWarning: Do not pass an `input_shape`/`input_dim` argument to a layer. When using Sequential models, prefer using an `Input(shape)` object as the first layer in the model instead.\n",
            "  super().__init__(**kwargs)\n"
          ]
        },
        {
          "name": "stdout",
          "output_type": "stream",
          "text": [
            "\u001b[1m6/6\u001b[0m \u001b[32m━━━━━━━━━━━━━━━━━━━━\u001b[0m\u001b[37m\u001b[0m \u001b[1m0s\u001b[0m 19ms/step\n"
          ]
        },
        {
          "name": "stderr",
          "output_type": "stream",
          "text": [
            "/opt/anaconda3/lib/python3.11/site-packages/keras/src/layers/rnn/rnn.py:204: UserWarning: Do not pass an `input_shape`/`input_dim` argument to a layer. When using Sequential models, prefer using an `Input(shape)` object as the first layer in the model instead.\n",
            "  super().__init__(**kwargs)\n"
          ]
        },
        {
          "name": "stdout",
          "output_type": "stream",
          "text": [
            "\u001b[1m6/6\u001b[0m \u001b[32m━━━━━━━━━━━━━━━━━━━━\u001b[0m\u001b[37m\u001b[0m \u001b[1m0s\u001b[0m 19ms/step\n"
          ]
        },
        {
          "name": "stderr",
          "output_type": "stream",
          "text": [
            "/opt/anaconda3/lib/python3.11/site-packages/keras/src/layers/rnn/rnn.py:204: UserWarning: Do not pass an `input_shape`/`input_dim` argument to a layer. When using Sequential models, prefer using an `Input(shape)` object as the first layer in the model instead.\n",
            "  super().__init__(**kwargs)\n"
          ]
        },
        {
          "name": "stdout",
          "output_type": "stream",
          "text": [
            "\u001b[1m6/6\u001b[0m \u001b[32m━━━━━━━━━━━━━━━━━━━━\u001b[0m\u001b[37m\u001b[0m \u001b[1m0s\u001b[0m 20ms/step\n"
          ]
        },
        {
          "name": "stderr",
          "output_type": "stream",
          "text": [
            "/opt/anaconda3/lib/python3.11/site-packages/keras/src/layers/rnn/rnn.py:204: UserWarning: Do not pass an `input_shape`/`input_dim` argument to a layer. When using Sequential models, prefer using an `Input(shape)` object as the first layer in the model instead.\n",
            "  super().__init__(**kwargs)\n"
          ]
        },
        {
          "name": "stdout",
          "output_type": "stream",
          "text": [
            "\u001b[1m6/6\u001b[0m \u001b[32m━━━━━━━━━━━━━━━━━━━━\u001b[0m\u001b[37m\u001b[0m \u001b[1m0s\u001b[0m 20ms/step\n"
          ]
        },
        {
          "name": "stderr",
          "output_type": "stream",
          "text": [
            "/opt/anaconda3/lib/python3.11/site-packages/keras/src/layers/rnn/rnn.py:204: UserWarning: Do not pass an `input_shape`/`input_dim` argument to a layer. When using Sequential models, prefer using an `Input(shape)` object as the first layer in the model instead.\n",
            "  super().__init__(**kwargs)\n"
          ]
        },
        {
          "name": "stdout",
          "output_type": "stream",
          "text": [
            "\u001b[1m6/6\u001b[0m \u001b[32m━━━━━━━━━━━━━━━━━━━━\u001b[0m\u001b[37m\u001b[0m \u001b[1m0s\u001b[0m 21ms/step\n"
          ]
        },
        {
          "name": "stderr",
          "output_type": "stream",
          "text": [
            "/opt/anaconda3/lib/python3.11/site-packages/keras/src/layers/rnn/rnn.py:204: UserWarning: Do not pass an `input_shape`/`input_dim` argument to a layer. When using Sequential models, prefer using an `Input(shape)` object as the first layer in the model instead.\n",
            "  super().__init__(**kwargs)\n"
          ]
        },
        {
          "name": "stdout",
          "output_type": "stream",
          "text": [
            "\u001b[1m6/6\u001b[0m \u001b[32m━━━━━━━━━━━━━━━━━━━━\u001b[0m\u001b[37m\u001b[0m \u001b[1m0s\u001b[0m 19ms/step\n"
          ]
        },
        {
          "name": "stderr",
          "output_type": "stream",
          "text": [
            "/opt/anaconda3/lib/python3.11/site-packages/keras/src/layers/rnn/rnn.py:204: UserWarning: Do not pass an `input_shape`/`input_dim` argument to a layer. When using Sequential models, prefer using an `Input(shape)` object as the first layer in the model instead.\n",
            "  super().__init__(**kwargs)\n"
          ]
        },
        {
          "name": "stdout",
          "output_type": "stream",
          "text": [
            "\u001b[1m6/6\u001b[0m \u001b[32m━━━━━━━━━━━━━━━━━━━━\u001b[0m\u001b[37m\u001b[0m \u001b[1m0s\u001b[0m 18ms/step\n"
          ]
        },
        {
          "name": "stderr",
          "output_type": "stream",
          "text": [
            "/opt/anaconda3/lib/python3.11/site-packages/keras/src/layers/rnn/rnn.py:204: UserWarning: Do not pass an `input_shape`/`input_dim` argument to a layer. When using Sequential models, prefer using an `Input(shape)` object as the first layer in the model instead.\n",
            "  super().__init__(**kwargs)\n"
          ]
        },
        {
          "name": "stdout",
          "output_type": "stream",
          "text": [
            "\u001b[1m6/6\u001b[0m \u001b[32m━━━━━━━━━━━━━━━━━━━━\u001b[0m\u001b[37m\u001b[0m \u001b[1m0s\u001b[0m 21ms/step\n"
          ]
        },
        {
          "name": "stderr",
          "output_type": "stream",
          "text": [
            "/opt/anaconda3/lib/python3.11/site-packages/keras/src/layers/rnn/rnn.py:204: UserWarning: Do not pass an `input_shape`/`input_dim` argument to a layer. When using Sequential models, prefer using an `Input(shape)` object as the first layer in the model instead.\n",
            "  super().__init__(**kwargs)\n"
          ]
        },
        {
          "name": "stdout",
          "output_type": "stream",
          "text": [
            "\u001b[1m6/6\u001b[0m \u001b[32m━━━━━━━━━━━━━━━━━━━━\u001b[0m\u001b[37m\u001b[0m \u001b[1m0s\u001b[0m 21ms/step\n"
          ]
        },
        {
          "name": "stderr",
          "output_type": "stream",
          "text": [
            "/opt/anaconda3/lib/python3.11/site-packages/keras/src/layers/rnn/rnn.py:204: UserWarning: Do not pass an `input_shape`/`input_dim` argument to a layer. When using Sequential models, prefer using an `Input(shape)` object as the first layer in the model instead.\n",
            "  super().__init__(**kwargs)\n"
          ]
        },
        {
          "name": "stdout",
          "output_type": "stream",
          "text": [
            "\u001b[1m6/6\u001b[0m \u001b[32m━━━━━━━━━━━━━━━━━━━━\u001b[0m\u001b[37m\u001b[0m \u001b[1m0s\u001b[0m 38ms/step\n"
          ]
        },
        {
          "name": "stderr",
          "output_type": "stream",
          "text": [
            "/opt/anaconda3/lib/python3.11/site-packages/keras/src/layers/rnn/rnn.py:204: UserWarning: Do not pass an `input_shape`/`input_dim` argument to a layer. When using Sequential models, prefer using an `Input(shape)` object as the first layer in the model instead.\n",
            "  super().__init__(**kwargs)\n"
          ]
        },
        {
          "name": "stdout",
          "output_type": "stream",
          "text": [
            "\u001b[1m6/6\u001b[0m \u001b[32m━━━━━━━━━━━━━━━━━━━━\u001b[0m\u001b[37m\u001b[0m \u001b[1m0s\u001b[0m 20ms/step\n"
          ]
        },
        {
          "name": "stderr",
          "output_type": "stream",
          "text": [
            "/opt/anaconda3/lib/python3.11/site-packages/keras/src/layers/rnn/rnn.py:204: UserWarning: Do not pass an `input_shape`/`input_dim` argument to a layer. When using Sequential models, prefer using an `Input(shape)` object as the first layer in the model instead.\n",
            "  super().__init__(**kwargs)\n"
          ]
        },
        {
          "name": "stdout",
          "output_type": "stream",
          "text": [
            "\u001b[1m6/6\u001b[0m \u001b[32m━━━━━━━━━━━━━━━━━━━━\u001b[0m\u001b[37m\u001b[0m \u001b[1m0s\u001b[0m 18ms/step\n"
          ]
        },
        {
          "name": "stderr",
          "output_type": "stream",
          "text": [
            "/opt/anaconda3/lib/python3.11/site-packages/keras/src/layers/rnn/rnn.py:204: UserWarning: Do not pass an `input_shape`/`input_dim` argument to a layer. When using Sequential models, prefer using an `Input(shape)` object as the first layer in the model instead.\n",
            "  super().__init__(**kwargs)\n"
          ]
        },
        {
          "name": "stdout",
          "output_type": "stream",
          "text": [
            "\u001b[1m6/6\u001b[0m \u001b[32m━━━━━━━━━━━━━━━━━━━━\u001b[0m\u001b[37m\u001b[0m \u001b[1m0s\u001b[0m 46ms/step\n"
          ]
        },
        {
          "name": "stderr",
          "output_type": "stream",
          "text": [
            "/opt/anaconda3/lib/python3.11/site-packages/keras/src/layers/rnn/rnn.py:204: UserWarning: Do not pass an `input_shape`/`input_dim` argument to a layer. When using Sequential models, prefer using an `Input(shape)` object as the first layer in the model instead.\n",
            "  super().__init__(**kwargs)\n"
          ]
        },
        {
          "name": "stdout",
          "output_type": "stream",
          "text": [
            "\u001b[1m6/6\u001b[0m \u001b[32m━━━━━━━━━━━━━━━━━━━━\u001b[0m\u001b[37m\u001b[0m \u001b[1m0s\u001b[0m 19ms/step\n"
          ]
        },
        {
          "name": "stderr",
          "output_type": "stream",
          "text": [
            "/opt/anaconda3/lib/python3.11/site-packages/keras/src/layers/rnn/rnn.py:204: UserWarning: Do not pass an `input_shape`/`input_dim` argument to a layer. When using Sequential models, prefer using an `Input(shape)` object as the first layer in the model instead.\n",
            "  super().__init__(**kwargs)\n"
          ]
        },
        {
          "name": "stdout",
          "output_type": "stream",
          "text": [
            "\u001b[1m6/6\u001b[0m \u001b[32m━━━━━━━━━━━━━━━━━━━━\u001b[0m\u001b[37m\u001b[0m \u001b[1m0s\u001b[0m 18ms/step\n"
          ]
        },
        {
          "name": "stderr",
          "output_type": "stream",
          "text": [
            "/opt/anaconda3/lib/python3.11/site-packages/keras/src/layers/rnn/rnn.py:204: UserWarning: Do not pass an `input_shape`/`input_dim` argument to a layer. When using Sequential models, prefer using an `Input(shape)` object as the first layer in the model instead.\n",
            "  super().__init__(**kwargs)\n"
          ]
        },
        {
          "name": "stdout",
          "output_type": "stream",
          "text": [
            "\u001b[1m6/6\u001b[0m \u001b[32m━━━━━━━━━━━━━━━━━━━━\u001b[0m\u001b[37m\u001b[0m \u001b[1m0s\u001b[0m 18ms/step\n"
          ]
        },
        {
          "name": "stderr",
          "output_type": "stream",
          "text": [
            "/opt/anaconda3/lib/python3.11/site-packages/keras/src/layers/rnn/rnn.py:204: UserWarning: Do not pass an `input_shape`/`input_dim` argument to a layer. When using Sequential models, prefer using an `Input(shape)` object as the first layer in the model instead.\n",
            "  super().__init__(**kwargs)\n"
          ]
        },
        {
          "name": "stdout",
          "output_type": "stream",
          "text": [
            "\u001b[1m6/6\u001b[0m \u001b[32m━━━━━━━━━━━━━━━━━━━━\u001b[0m\u001b[37m\u001b[0m \u001b[1m0s\u001b[0m 18ms/step\n"
          ]
        },
        {
          "name": "stderr",
          "output_type": "stream",
          "text": [
            "/opt/anaconda3/lib/python3.11/site-packages/keras/src/layers/rnn/rnn.py:204: UserWarning: Do not pass an `input_shape`/`input_dim` argument to a layer. When using Sequential models, prefer using an `Input(shape)` object as the first layer in the model instead.\n",
            "  super().__init__(**kwargs)\n"
          ]
        },
        {
          "name": "stdout",
          "output_type": "stream",
          "text": [
            "\u001b[1m6/6\u001b[0m \u001b[32m━━━━━━━━━━━━━━━━━━━━\u001b[0m\u001b[37m\u001b[0m \u001b[1m0s\u001b[0m 18ms/step\n"
          ]
        },
        {
          "name": "stderr",
          "output_type": "stream",
          "text": [
            "/opt/anaconda3/lib/python3.11/site-packages/keras/src/layers/rnn/rnn.py:204: UserWarning: Do not pass an `input_shape`/`input_dim` argument to a layer. When using Sequential models, prefer using an `Input(shape)` object as the first layer in the model instead.\n",
            "  super().__init__(**kwargs)\n"
          ]
        },
        {
          "name": "stdout",
          "output_type": "stream",
          "text": [
            "\u001b[1m6/6\u001b[0m \u001b[32m━━━━━━━━━━━━━━━━━━━━\u001b[0m\u001b[37m\u001b[0m \u001b[1m0s\u001b[0m 18ms/step\n"
          ]
        },
        {
          "name": "stderr",
          "output_type": "stream",
          "text": [
            "/opt/anaconda3/lib/python3.11/site-packages/keras/src/layers/rnn/rnn.py:204: UserWarning: Do not pass an `input_shape`/`input_dim` argument to a layer. When using Sequential models, prefer using an `Input(shape)` object as the first layer in the model instead.\n",
            "  super().__init__(**kwargs)\n"
          ]
        },
        {
          "name": "stdout",
          "output_type": "stream",
          "text": [
            "\u001b[1m6/6\u001b[0m \u001b[32m━━━━━━━━━━━━━━━━━━━━\u001b[0m\u001b[37m\u001b[0m \u001b[1m1s\u001b[0m 85ms/step\n"
          ]
        },
        {
          "name": "stderr",
          "output_type": "stream",
          "text": [
            "/opt/anaconda3/lib/python3.11/site-packages/keras/src/layers/rnn/rnn.py:204: UserWarning: Do not pass an `input_shape`/`input_dim` argument to a layer. When using Sequential models, prefer using an `Input(shape)` object as the first layer in the model instead.\n",
            "  super().__init__(**kwargs)\n"
          ]
        },
        {
          "name": "stdout",
          "output_type": "stream",
          "text": [
            "\u001b[1m6/6\u001b[0m \u001b[32m━━━━━━━━━━━━━━━━━━━━\u001b[0m\u001b[37m\u001b[0m \u001b[1m0s\u001b[0m 19ms/step\n"
          ]
        },
        {
          "name": "stderr",
          "output_type": "stream",
          "text": [
            "/opt/anaconda3/lib/python3.11/site-packages/keras/src/layers/rnn/rnn.py:204: UserWarning: Do not pass an `input_shape`/`input_dim` argument to a layer. When using Sequential models, prefer using an `Input(shape)` object as the first layer in the model instead.\n",
            "  super().__init__(**kwargs)\n"
          ]
        },
        {
          "name": "stdout",
          "output_type": "stream",
          "text": [
            "\u001b[1m6/6\u001b[0m \u001b[32m━━━━━━━━━━━━━━━━━━━━\u001b[0m\u001b[37m\u001b[0m \u001b[1m0s\u001b[0m 18ms/step\n"
          ]
        },
        {
          "name": "stderr",
          "output_type": "stream",
          "text": [
            "/opt/anaconda3/lib/python3.11/site-packages/keras/src/layers/rnn/rnn.py:204: UserWarning: Do not pass an `input_shape`/`input_dim` argument to a layer. When using Sequential models, prefer using an `Input(shape)` object as the first layer in the model instead.\n",
            "  super().__init__(**kwargs)\n"
          ]
        },
        {
          "name": "stdout",
          "output_type": "stream",
          "text": [
            "\u001b[1m6/6\u001b[0m \u001b[32m━━━━━━━━━━━━━━━━━━━━\u001b[0m\u001b[37m\u001b[0m \u001b[1m0s\u001b[0m 18ms/step\n"
          ]
        },
        {
          "name": "stderr",
          "output_type": "stream",
          "text": [
            "/opt/anaconda3/lib/python3.11/site-packages/keras/src/layers/rnn/rnn.py:204: UserWarning: Do not pass an `input_shape`/`input_dim` argument to a layer. When using Sequential models, prefer using an `Input(shape)` object as the first layer in the model instead.\n",
            "  super().__init__(**kwargs)\n"
          ]
        },
        {
          "name": "stdout",
          "output_type": "stream",
          "text": [
            "\u001b[1m6/6\u001b[0m \u001b[32m━━━━━━━━━━━━━━━━━━━━\u001b[0m\u001b[37m\u001b[0m \u001b[1m0s\u001b[0m 18ms/step\n"
          ]
        },
        {
          "name": "stderr",
          "output_type": "stream",
          "text": [
            "/opt/anaconda3/lib/python3.11/site-packages/keras/src/layers/rnn/rnn.py:204: UserWarning: Do not pass an `input_shape`/`input_dim` argument to a layer. When using Sequential models, prefer using an `Input(shape)` object as the first layer in the model instead.\n",
            "  super().__init__(**kwargs)\n"
          ]
        },
        {
          "name": "stdout",
          "output_type": "stream",
          "text": [
            "\u001b[1m6/6\u001b[0m \u001b[32m━━━━━━━━━━━━━━━━━━━━\u001b[0m\u001b[37m\u001b[0m \u001b[1m0s\u001b[0m 18ms/step\n"
          ]
        },
        {
          "name": "stderr",
          "output_type": "stream",
          "text": [
            "/opt/anaconda3/lib/python3.11/site-packages/keras/src/layers/rnn/rnn.py:204: UserWarning: Do not pass an `input_shape`/`input_dim` argument to a layer. When using Sequential models, prefer using an `Input(shape)` object as the first layer in the model instead.\n",
            "  super().__init__(**kwargs)\n"
          ]
        },
        {
          "name": "stdout",
          "output_type": "stream",
          "text": [
            "\u001b[1m6/6\u001b[0m \u001b[32m━━━━━━━━━━━━━━━━━━━━\u001b[0m\u001b[37m\u001b[0m \u001b[1m0s\u001b[0m 20ms/step\n"
          ]
        },
        {
          "name": "stderr",
          "output_type": "stream",
          "text": [
            "/opt/anaconda3/lib/python3.11/site-packages/keras/src/layers/rnn/rnn.py:204: UserWarning: Do not pass an `input_shape`/`input_dim` argument to a layer. When using Sequential models, prefer using an `Input(shape)` object as the first layer in the model instead.\n",
            "  super().__init__(**kwargs)\n"
          ]
        },
        {
          "name": "stdout",
          "output_type": "stream",
          "text": [
            "\u001b[1m6/6\u001b[0m \u001b[32m━━━━━━━━━━━━━━━━━━━━\u001b[0m\u001b[37m\u001b[0m \u001b[1m0s\u001b[0m 18ms/step\n"
          ]
        },
        {
          "name": "stderr",
          "output_type": "stream",
          "text": [
            "/opt/anaconda3/lib/python3.11/site-packages/keras/src/layers/rnn/rnn.py:204: UserWarning: Do not pass an `input_shape`/`input_dim` argument to a layer. When using Sequential models, prefer using an `Input(shape)` object as the first layer in the model instead.\n",
            "  super().__init__(**kwargs)\n"
          ]
        },
        {
          "name": "stdout",
          "output_type": "stream",
          "text": [
            "\u001b[1m6/6\u001b[0m \u001b[32m━━━━━━━━━━━━━━━━━━━━\u001b[0m\u001b[37m\u001b[0m \u001b[1m0s\u001b[0m 19ms/step\n"
          ]
        },
        {
          "name": "stderr",
          "output_type": "stream",
          "text": [
            "/opt/anaconda3/lib/python3.11/site-packages/keras/src/layers/rnn/rnn.py:204: UserWarning: Do not pass an `input_shape`/`input_dim` argument to a layer. When using Sequential models, prefer using an `Input(shape)` object as the first layer in the model instead.\n",
            "  super().__init__(**kwargs)\n"
          ]
        },
        {
          "name": "stdout",
          "output_type": "stream",
          "text": [
            "\u001b[1m6/6\u001b[0m \u001b[32m━━━━━━━━━━━━━━━━━━━━\u001b[0m\u001b[37m\u001b[0m \u001b[1m0s\u001b[0m 19ms/step\n"
          ]
        },
        {
          "name": "stderr",
          "output_type": "stream",
          "text": [
            "/opt/anaconda3/lib/python3.11/site-packages/keras/src/layers/rnn/rnn.py:204: UserWarning: Do not pass an `input_shape`/`input_dim` argument to a layer. When using Sequential models, prefer using an `Input(shape)` object as the first layer in the model instead.\n",
            "  super().__init__(**kwargs)\n"
          ]
        },
        {
          "name": "stdout",
          "output_type": "stream",
          "text": [
            "\u001b[1m6/6\u001b[0m \u001b[32m━━━━━━━━━━━━━━━━━━━━\u001b[0m\u001b[37m\u001b[0m \u001b[1m0s\u001b[0m 19ms/step\n"
          ]
        },
        {
          "data": {
            "image/png": "[encoded data removed]",
            "text/plain": [
              "<Figure size 1000x600 with 1 Axes>"
            ]
          },
          "metadata": {},
          "output_type": "display_data"
        },
        {
          "data": {
            "text/html": [
              "<div>\n",
              "<style scoped>\n",
              "    .dataframe tbody tr th:only-of-type {\n",
              "        vertical-align: middle;\n",
              "    }\n",
              "\n",
              "    .dataframe tbody tr th {\n",
              "        vertical-align: top;\n",
              "    }\n",
              "\n",
              "    .dataframe thead th {\n",
              "        text-align: right;\n",
              "    }\n",
              "</style>\n",
              "<table border=\"1\" class=\"dataframe\">\n",
              "  <thead>\n",
              "    <tr style=\"text-align: right;\">\n",
              "      <th></th>\n",
              "      <th>count</th>\n",
              "      <th>mean</th>\n",
              "      <th>std</th>\n",
              "      <th>min</th>\n",
              "      <th>25%</th>\n",
              "      <th>50%</th>\n",
              "      <th>75%</th>\n",
              "      <th>max</th>\n",
              "    </tr>\n",
              "    <tr>\n",
              "      <th>Metric</th>\n",
              "      <th></th>\n",
              "      <th></th>\n",
              "      <th></th>\n",
              "      <th></th>\n",
              "      <th></th>\n",
              "      <th></th>\n",
              "      <th></th>\n",
              "      <th></th>\n",
              "    </tr>\n",
              "  </thead>\n",
              "  <tbody>\n",
              "    <tr>\n",
              "      <th>Maximum Drawdown</th>\n",
              "      <td>66.0</td>\n",
              "      <td>-0.052707</td>\n",
              "      <td>0.029074</td>\n",
              "      <td>-0.120814</td>\n",
              "      <td>-0.076729</td>\n",
              "      <td>-0.050544</td>\n",
              "      <td>-0.028680</td>\n",
              "      <td>-0.004871</td>\n",
              "    </tr>\n",
              "    <tr>\n",
              "      <th>Sharpe Ratio</th>\n",
              "      <td>66.0</td>\n",
              "      <td>0.328800</td>\n",
              "      <td>0.816303</td>\n",
              "      <td>-1.944723</td>\n",
              "      <td>-0.295488</td>\n",
              "      <td>0.398151</td>\n",
              "      <td>0.986479</td>\n",
              "      <td>1.810104</td>\n",
              "    </tr>\n",
              "    <tr>\n",
              "      <th>Sortino Ratio</th>\n",
              "      <td>66.0</td>\n",
              "      <td>0.475277</td>\n",
              "      <td>1.043649</td>\n",
              "      <td>-1.181600</td>\n",
              "      <td>-0.228116</td>\n",
              "      <td>0.305218</td>\n",
              "      <td>0.833138</td>\n",
              "      <td>5.055405</td>\n",
              "    </tr>\n",
              "  </tbody>\n",
              "</table>\n",
              "</div>"
            ],
            "text/plain": [
              "                  count      mean       std       min       25%       50%  \\\n",
              "Metric                                                                      \n",
              "Maximum Drawdown   66.0 -0.052707  0.029074 -0.120814 -0.076729 -0.050544   \n",
              "Sharpe Ratio       66.0  0.328800  0.816303 -1.944723 -0.295488  0.398151   \n",
              "Sortino Ratio      66.0  0.475277  1.043649 -1.181600 -0.228116  0.305218   \n",
              "\n",
              "                       75%       max  \n",
              "Metric                                \n",
              "Maximum Drawdown -0.028680 -0.004871  \n",
              "Sharpe Ratio      0.986479  1.810104  \n",
              "Sortino Ratio     0.833138  5.055405  "
            ]
          },
          "execution_count": 96,
          "metadata": {},
          "output_type": "execute_result"
        }
      ],
      "source": [
        "outcome_df_DCorr = predicted_value_model(price_test,sample_pair_DBSCAN_CORR)\n",
        "plot_performance_distr ibution(outcome_df_DCorr)"
      ]
    },
    {
      "cell_type": "code",
      "execution_count": null,
      "metadata": {},
      "outputs": [],
      "source": []
    }
  ],
  "metadata": {
    "colab": {
      "provenance": []
    },
    "kernelspec": {
      "display_name": "Python 3",
      "name": "python3"
    },
    "language_info": {
      "codemirror_mode": {
        "name": "ipython",
        "version": 3
      },
      "file_extension": ".py",
      "mimetype": "text/x-python",
      "name": "python",
      "nbconvert_exporter": "python",
      "pygments_lexer": "ipython3",
      "version": "3.11.7"
    }
  },
  "nbformat": 4,
  "nbformat_minor": 0
}
